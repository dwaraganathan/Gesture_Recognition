{
  "cells": [
    {
      "cell_type": "markdown",
      "metadata": {
        "id": "E269JQgpmdjp"
      },
      "source": [
        "# Gesture Recognition\n",
        "In this group project, you are going to build a 3D Conv model that will be able to predict the 5 gestures correctly. Please import the following libraries to get started."
      ]
    },
    {
      "cell_type": "code",
      "execution_count": 1,
      "metadata": {
        "id": "PNu4CYzYmdjw"
      },
      "outputs": [],
      "source": [
        "import numpy as np\n",
        "import os\n",
        "from imageio import imread\n",
        "import datetime\n",
        "import os\n",
        "import warnings\n",
        "warnings.filterwarnings(\"ignore\")\n",
        "import abc\n",
        "from sys import getsizeof\n",
        "import cv2\n",
        "from skimage.transform import resize\n"
      ]
    },
    {
      "cell_type": "markdown",
      "metadata": {
        "id": "snbPX-KEmdjx"
      },
      "source": [
        "We set the random seed so that the results don't vary drastically."
      ]
    },
    {
      "cell_type": "code",
      "execution_count": 2,
      "metadata": {
        "id": "2O2cx8tFmdjy"
      },
      "outputs": [],
      "source": [
        "np.random.seed(30)\n",
        "import random as rn\n",
        "rn.seed(30)\n",
        "from keras import backend as K\n",
        "import tensorflow as tf\n",
        "tf.random.set_seed(30)"
      ]
    },
    {
      "cell_type": "code",
      "execution_count": 3,
      "metadata": {
        "id": "b1iMHJ5vmdjz"
      },
      "outputs": [],
      "source": [
        "import cv2\n",
        "import matplotlib.pyplot as plt\n"
      ]
    },
    {
      "cell_type": "markdown",
      "metadata": {
        "id": "cQaiDurhmdj0"
      },
      "source": [
        "In this block, you read the folder names for training and validation. You also set the `batch_size` here. Note that you set the batch size in such a way that you are able to use the GPU in full capacity. You keep increasing the batch size until the machine throws an error."
      ]
    },
    {
      "cell_type": "code",
      "execution_count": 4,
      "metadata": {
        "id": "RrN443mVmdj1"
      },
      "outputs": [],
      "source": [
        "from keras.models import Sequential, Model\n",
        "from keras.layers import Dense, GRU, Flatten, TimeDistributed, Flatten, BatchNormalization, Activation\n",
        "from keras.layers.convolutional import Conv3D, MaxPooling3D, Conv2D, MaxPooling2D\n",
        "from keras.layers.recurrent import LSTM\n",
        "from keras.callbacks import ModelCheckpoint, ReduceLROnPlateau\n",
        "from keras import optimizers\n",
        "from keras.layers import Dropout\n",
        "from keras.optimizers import adam_v2"
      ]
    },
    {
      "cell_type": "code",
      "execution_count": 5,
      "metadata": {
        "colab": {
          "base_uri": "https://localhost:8080/"
        },
        "id": "YMGq7Fe2owlw",
        "outputId": "e0a39eb2-6708-4d0d-d1a0-1499f50a2550"
      },
      "outputs": [
        {
          "output_type": "stream",
          "name": "stdout",
          "text": [
            "Mounted at /content/gdrive\n"
          ]
        }
      ],
      "source": [
        "## If you are using the data by mounting the google drive, use the following :\n",
        "from google.colab import drive\n",
        "drive.mount('/content/gdrive')"
      ]
    },
    {
      "cell_type": "code",
      "execution_count": 6,
      "metadata": {
        "id": "vPei2gBjoywF"
      },
      "outputs": [],
      "source": [
        "#unzip the dataset\n",
        "!unzip \"/content/gdrive/MyDrive/Gesture_Recognition/Project_data.zip\" > /dev/null"
      ]
    },
    {
      "cell_type": "code",
      "execution_count": 7,
      "metadata": {
        "id": "PYrBhIn1mdj2"
      },
      "outputs": [],
      "source": [
        "project_folder='Project_data/'"
      ]
    },
    {
      "cell_type": "markdown",
      "metadata": {
        "id": "JgAjFAJLmdj3"
      },
      "source": [
        "##### Plotting"
      ]
    },
    {
      "cell_type": "code",
      "execution_count": 8,
      "metadata": {
        "id": "Ywg-00DNmdj4"
      },
      "outputs": [],
      "source": [
        "def plot(history):\n",
        "    fig, axes = plt.subplots(nrows=1, ncols=2, figsize=(15,4))\n",
        "    axes[0].plot(history.history['loss'])   \n",
        "    axes[0].plot(history.history['val_loss'])\n",
        "    axes[0].legend(['loss','val_loss'])\n",
        "\n",
        "    axes[1].plot(history.history['categorical_accuracy'])   \n",
        "    axes[1].plot(history.history['val_categorical_accuracy'])\n",
        "    axes[1].legend(['categorical_accuracy','val_categorical_accuracy'])"
      ]
    },
    {
      "cell_type": "code",
      "execution_count": 8,
      "metadata": {
        "id": "VBzdhqRmmdj4"
      },
      "outputs": [],
      "source": []
    },
    {
      "cell_type": "markdown",
      "metadata": {
        "id": "dWd9AFvSmdj5"
      },
      "source": [
        "## Generator\n",
        "This is one of the most important part of the code. The overall structure of the generator has been given. In the generator, you are going to preprocess the images as you have images of 2 different dimensions as well as create a batch of video frames. You have to experiment with `img_idx`, `y`,`z` and normalization such that you get high accuracy."
      ]
    },
    {
      "cell_type": "code",
      "execution_count": 9,
      "metadata": {
        "id": "nxzKQd9Pmdj5"
      },
      "outputs": [],
      "source": [
        "class ModelBuilder(metaclass= abc.ABCMeta):\n",
        "    \n",
        "    def initialize_path(self,project_folder):\n",
        "        self.train_doc = np.random.permutation(open(project_folder + '/' + 'train.csv').readlines())\n",
        "        self.val_doc = np.random.permutation(open(project_folder + '/' + 'val.csv').readlines())\n",
        "        self.train_path = project_folder + '/' + 'train'\n",
        "        self.val_path =  project_folder + '/' + 'val'\n",
        "        self.num_train_sequences = len(self.train_doc)\n",
        "        self.num_val_sequences = len(self.val_doc)\n",
        "        \n",
        "    def initialize_image_properties(self,image_height=100,image_width=100):\n",
        "        self.image_height=image_height\n",
        "        self.image_width=image_width\n",
        "        self.channels=3\n",
        "        self.num_classes=5\n",
        "        self.total_frames=30\n",
        "          \n",
        "    def initialize_hyperparams(self,frames_to_sample=30,batch_size=20,num_epochs=20):\n",
        "        self.frames_to_sample=frames_to_sample\n",
        "        self.batch_size=batch_size\n",
        "        self.num_epochs=num_epochs\n",
        "        \n",
        "        \n",
        "    def generator(self,source_path, folder_list, augment=False):\n",
        "        img_idx = np.round(np.linspace(0,self.total_frames-1,self.frames_to_sample)).astype(int)\n",
        "        batch_size=self.batch_size\n",
        "        while True:\n",
        "            t = np.random.permutation(folder_list)\n",
        "            num_batches = len(t)//batch_size\n",
        "        \n",
        "            for batch in range(num_batches): \n",
        "                batch_data, batch_labels= self.one_batch_data(source_path,t,batch,batch_size,img_idx,augment)\n",
        "                yield batch_data, batch_labels \n",
        "\n",
        "            remaining_seq=len(t)%batch_size\n",
        "        \n",
        "            if (remaining_seq != 0):\n",
        "                batch_data, batch_labels= self.one_batch_data(source_path,t,num_batches,batch_size,img_idx,augment,remaining_seq)\n",
        "                yield batch_data, batch_labels \n",
        "    \n",
        "    \n",
        "    def one_batch_data(self,source_path,t,batch,batch_size,img_idx,augment,remaining_seq=0):\n",
        "    \n",
        "        seq_len = remaining_seq if remaining_seq else batch_size\n",
        "    \n",
        "        batch_data = np.zeros((seq_len,len(img_idx),self.image_height,self.image_width,self.channels)) \n",
        "        batch_labels = np.zeros((seq_len,self.num_classes)) \n",
        "    \n",
        "        if (augment): batch_data_aug = np.zeros((seq_len,len(img_idx),self.image_height,self.image_width,self.channels))\n",
        "\n",
        "        \n",
        "        for folder in range(seq_len): \n",
        "            imgs = os.listdir(source_path+'/'+ t[folder + (batch*batch_size)].split(';')[0]) \n",
        "            for idx,item in enumerate(img_idx): \n",
        "                image = imread(source_path+'/'+ t[folder + (batch*batch_size)].strip().split(';')[0]+'/'+imgs[item]).astype(np.float32)\n",
        "                image_resized= resize(image,(self.image_height,self.image_width,3))\n",
        "            \n",
        "\n",
        "                batch_data[folder,idx,:,:,0] = (image_resized[:,:,0])/255\n",
        "                batch_data[folder,idx,:,:,1] = (image_resized[:,:,1])/255\n",
        "                batch_data[folder,idx,:,:,2] = (image_resized[:,:,2])/255\n",
        "            \n",
        "                if (augment):\n",
        "                    shifted = cv2.warpAffine(image, \n",
        "                                             np.float32([[1, 0, np.random.randint(-30,30)],[0, 1, np.random.randint(-30,30)]]), \n",
        "                                            (image.shape[1], image.shape[0]))\n",
        "                    \n",
        "                    gray = cv2.cvtColor(shifted,cv2.COLOR_BGR2GRAY)\n",
        "\n",
        "                    x0, y0 = np.argwhere(gray > 0).min(axis=0)\n",
        "                    x1, y1 = np.argwhere(gray > 0).max(axis=0) \n",
        "                    \n",
        "                    cropped=shifted[x0:x1,y0:y1,:]\n",
        "                    \n",
        "                    image_resized=resize(cropped,(self.image_height,self.image_width,3))\n",
        "                    \n",
        "                    #shifted = cv2.warpAffine(image_resized, \n",
        "                    #                        np.float32([[1, 0, np.random.randint(-3,3)],[0, 1, np.random.randint(-3,3)]]), \n",
        "                    #                        (image_resized.shape[1], image_resized.shape[0]))\n",
        "            \n",
        "                    batch_data_aug[folder,idx,:,:,0] = (image_resized[:,:,0])/255\n",
        "                    batch_data_aug[folder,idx,:,:,1] = (image_resized[:,:,1])/255\n",
        "                    batch_data_aug[folder,idx,:,:,2] = (image_resized[:,:,2])/255\n",
        "                \n",
        "            \n",
        "            batch_labels[folder, int(t[folder + (batch*batch_size)].strip().split(';')[2])] = 1\n",
        "            \n",
        "    \n",
        "        if (augment):\n",
        "            batch_data=np.concatenate([batch_data,batch_data_aug])\n",
        "            batch_labels=np.concatenate([batch_labels,batch_labels])\n",
        "\n",
        "        \n",
        "        return(batch_data,batch_labels)\n",
        "    \n",
        "    \n",
        "    def train_model(self, model, augment_data=False):\n",
        "        train_generator = self.generator(self.train_path, self.train_doc,augment=augment_data)\n",
        "        val_generator = self.generator(self.val_path, self.val_doc)\n",
        "\n",
        "        model_name = 'model_init' + '_' + str(datetime.datetime.now()).replace(' ','').replace(':','_') + '/'\n",
        "    \n",
        "        if not os.path.exists(model_name):\n",
        "            os.mkdir(model_name)\n",
        "        \n",
        "        filepath = model_name + 'model-{epoch:05d}-{loss:.5f}-{categorical_accuracy:.5f}-{val_loss:.5f}-{val_categorical_accuracy:.5f}.h5'\n",
        "\n",
        "        checkpoint = ModelCheckpoint(filepath, monitor='val_loss', verbose=1, save_best_only=False, save_weights_only=False, mode='auto', period=1)\n",
        "        LR = ReduceLROnPlateau(monitor='val_loss', factor=0.2, verbose=1, patience=4)\n",
        "        callbacks_list = [checkpoint, LR]\n",
        "\n",
        "        if (self.num_train_sequences%self.batch_size) == 0:\n",
        "            steps_per_epoch = int(self.num_train_sequences/self.batch_size)\n",
        "        else:\n",
        "            steps_per_epoch = (self.num_train_sequences//self.batch_size) + 1\n",
        "\n",
        "        if (self.num_val_sequences%self.batch_size) == 0:\n",
        "            validation_steps = int(self.num_val_sequences/self.batch_size)\n",
        "        else:\n",
        "            validation_steps = (self.num_val_sequences//self.batch_size) + 1\n",
        "    \n",
        "        history=model.fit_generator(train_generator, steps_per_epoch=steps_per_epoch, epochs=self.num_epochs, verbose=1, \n",
        "                            callbacks=callbacks_list, validation_data=val_generator, \n",
        "                            validation_steps=validation_steps, class_weight=None, workers=1, initial_epoch=0)\n",
        "        return history\n",
        "\n",
        "        \n",
        "    @abc.abstractmethod\n",
        "    def define_model(self):\n",
        "        pass"
      ]
    },
    {
      "cell_type": "markdown",
      "metadata": {
        "id": "RXSG4d2Kmdj7"
      },
      "source": [
        "Note here that a video is represented above in the generator as (number of images, height, width, number of channels). Take this into consideration while creating the model architecture."
      ]
    },
    {
      "cell_type": "code",
      "execution_count": 9,
      "metadata": {
        "id": "Ll4cS8M2mdj8"
      },
      "outputs": [],
      "source": []
    },
    {
      "cell_type": "markdown",
      "metadata": {
        "id": "MSMbBEcDmdj8"
      },
      "source": [
        "## Model\n",
        "Here you make the model using different functionalities that Keras provides. Remember to use `Conv3D` and `MaxPooling3D` and not `Conv2D` and `Maxpooling2D` for a 3D convolution model. You would want to use `TimeDistributed` while building a Conv2D + RNN model. Also remember that the last layer is the softmax. Design the network in such a way that the model is able to give good accuracy on the least number of parameters so that it can fit in the memory of the webcam."
      ]
    },
    {
      "cell_type": "markdown",
      "metadata": {
        "id": "j_hZGeZYmdj9"
      },
      "source": [
        "## Sample Model"
      ]
    },
    {
      "cell_type": "code",
      "execution_count": 10,
      "metadata": {
        "id": "BE07MV4smdj9"
      },
      "outputs": [],
      "source": [
        "class ModelConv3D1(ModelBuilder):\n",
        "    \n",
        "    def define_model(self):\n",
        "\n",
        "        model = Sequential()\n",
        "        model.add(Conv3D(16, (3, 3, 3), padding='same',\n",
        "                 input_shape=(self.frames_to_sample,self.image_height,self.image_width,self.channels)))\n",
        "        model.add(Activation('relu'))\n",
        "        model.add(BatchNormalization())\n",
        "        model.add(MaxPooling3D(pool_size=(2, 2, 2)))\n",
        "\n",
        "        model.add(Conv3D(32, (2, 2, 2), padding='same'))\n",
        "        model.add(Activation('relu'))\n",
        "        model.add(BatchNormalization())\n",
        "        model.add(MaxPooling3D(pool_size=(2, 2, 2)))\n",
        "\n",
        "        model.add(Conv3D(64, (2, 2, 2), padding='same'))\n",
        "        model.add(Activation('relu'))\n",
        "        model.add(BatchNormalization())\n",
        "        model.add(MaxPooling3D(pool_size=(2, 2, 2)))\n",
        "\n",
        "        model.add(Conv3D(128, (2, 2, 2), padding='same'))\n",
        "        model.add(Activation('relu'))\n",
        "        model.add(BatchNormalization())\n",
        "        model.add(MaxPooling3D(pool_size=(2, 2, 2)))\n",
        "\n",
        "        model.add(Flatten())\n",
        "        model.add(Dense(128,activation='relu'))\n",
        "        model.add(BatchNormalization())\n",
        "        model.add(Dropout(0.5))\n",
        "\n",
        "        model.add(Dense(64,activation='relu'))\n",
        "        model.add(BatchNormalization())\n",
        "        model.add(Dropout(0.25))\n",
        "\n",
        "\n",
        "        model.add(Dense(self.num_classes,activation='softmax'))\n",
        "\n",
        "        optimiser = optimizers.adam_v2.Adam()\n",
        "        #optimiser = 'sgd'\n",
        "        model.compile(optimizer=optimiser, loss='categorical_crossentropy', metrics=['categorical_accuracy'])\n",
        "        return model"
      ]
    },
    {
      "cell_type": "code",
      "execution_count": 11,
      "metadata": {
        "colab": {
          "base_uri": "https://localhost:8080/"
        },
        "id": "Wq3jtblKmdj-",
        "outputId": "384077b2-0bc8-4d02-8034-b59d09046dc4"
      },
      "outputs": [
        {
          "output_type": "stream",
          "name": "stdout",
          "text": [
            "Model: \"sequential\"\n",
            "_________________________________________________________________\n",
            " Layer (type)                Output Shape              Param #   \n",
            "=================================================================\n",
            " conv3d (Conv3D)             (None, 30, 160, 160, 16)  1312      \n",
            "                                                                 \n",
            " activation (Activation)     (None, 30, 160, 160, 16)  0         \n",
            "                                                                 \n",
            " batch_normalization (BatchN  (None, 30, 160, 160, 16)  64       \n",
            " ormalization)                                                   \n",
            "                                                                 \n",
            " max_pooling3d (MaxPooling3D  (None, 15, 80, 80, 16)   0         \n",
            " )                                                               \n",
            "                                                                 \n",
            " conv3d_1 (Conv3D)           (None, 15, 80, 80, 32)    4128      \n",
            "                                                                 \n",
            " activation_1 (Activation)   (None, 15, 80, 80, 32)    0         \n",
            "                                                                 \n",
            " batch_normalization_1 (Batc  (None, 15, 80, 80, 32)   128       \n",
            " hNormalization)                                                 \n",
            "                                                                 \n",
            " max_pooling3d_1 (MaxPooling  (None, 7, 40, 40, 32)    0         \n",
            " 3D)                                                             \n",
            "                                                                 \n",
            " conv3d_2 (Conv3D)           (None, 7, 40, 40, 64)     16448     \n",
            "                                                                 \n",
            " activation_2 (Activation)   (None, 7, 40, 40, 64)     0         \n",
            "                                                                 \n",
            " batch_normalization_2 (Batc  (None, 7, 40, 40, 64)    256       \n",
            " hNormalization)                                                 \n",
            "                                                                 \n",
            " max_pooling3d_2 (MaxPooling  (None, 3, 20, 20, 64)    0         \n",
            " 3D)                                                             \n",
            "                                                                 \n",
            " conv3d_3 (Conv3D)           (None, 3, 20, 20, 128)    65664     \n",
            "                                                                 \n",
            " activation_3 (Activation)   (None, 3, 20, 20, 128)    0         \n",
            "                                                                 \n",
            " batch_normalization_3 (Batc  (None, 3, 20, 20, 128)   512       \n",
            " hNormalization)                                                 \n",
            "                                                                 \n",
            " max_pooling3d_3 (MaxPooling  (None, 1, 10, 10, 128)   0         \n",
            " 3D)                                                             \n",
            "                                                                 \n",
            " flatten (Flatten)           (None, 12800)             0         \n",
            "                                                                 \n",
            " dense (Dense)               (None, 128)               1638528   \n",
            "                                                                 \n",
            " batch_normalization_4 (Batc  (None, 128)              512       \n",
            " hNormalization)                                                 \n",
            "                                                                 \n",
            " dropout (Dropout)           (None, 128)               0         \n",
            "                                                                 \n",
            " dense_1 (Dense)             (None, 64)                8256      \n",
            "                                                                 \n",
            " batch_normalization_5 (Batc  (None, 64)               256       \n",
            " hNormalization)                                                 \n",
            "                                                                 \n",
            " dropout_1 (Dropout)         (None, 64)                0         \n",
            "                                                                 \n",
            " dense_2 (Dense)             (None, 5)                 325       \n",
            "                                                                 \n",
            "=================================================================\n",
            "Total params: 1,736,389\n",
            "Trainable params: 1,735,525\n",
            "Non-trainable params: 864\n",
            "_________________________________________________________________\n"
          ]
        }
      ],
      "source": [
        "conv_3d1=ModelConv3D1()\n",
        "conv_3d1.initialize_path(project_folder)\n",
        "conv_3d1.initialize_image_properties(image_height=160,image_width=160)\n",
        "conv_3d1.initialize_hyperparams(frames_to_sample=30,batch_size=40,num_epochs=1)\n",
        "conv_3d1_model=conv_3d1.define_model()\n",
        "conv_3d1_model.summary()"
      ]
    },
    {
      "cell_type": "markdown",
      "metadata": {
        "id": "mbuyvEH4mdj-"
      },
      "source": [
        "##### Sample Cropping### We had hit the limit on memory resources with image resolution of 160x160 with 30 frames and batch_size of 40...we get the below error\n",
        "\n",
        "ResourceExhaustedError: OOM when allocating tensor with shape[40,16,30,160,160] and type float on /job:localhost/replica:0/task:0/device:GPU:0 by allocator GPU_0_bfc"
      ]
    },
    {
      "cell_type": "markdown",
      "metadata": {
        "id": "UPvT_I1Amdj-"
      },
      "source": [
        "##### So lets trade-off between these parameters"
      ]
    },
    {
      "cell_type": "markdown",
      "metadata": {
        "id": "c06I1tSPmdj_"
      },
      "source": [
        "##### Below are the experiments to see how training time is affected by image resolution, number of images in sequence and batch size"
      ]
    },
    {
      "cell_type": "code",
      "execution_count": 12,
      "metadata": {
        "colab": {
          "base_uri": "https://localhost:8080/"
        },
        "id": "l3LknKVqmdj_",
        "outputId": "15e15b67-8c4f-4927-a4a5-413823eef8a1"
      },
      "outputs": [
        {
          "output_type": "stream",
          "name": "stderr",
          "text": [
            "WARNING:tensorflow:`period` argument is deprecated. Please use `save_freq` to specify the frequency in number of batches seen.\n"
          ]
        },
        {
          "output_type": "stream",
          "name": "stdout",
          "text": [
            "Total Params: 1736389\n",
            "Epoch 1/3\n",
            "23/23 [==============================] - ETA: 0s - loss: 1.5717 - categorical_accuracy: 0.4268\n",
            "Epoch 1: saving model to model_init_2022-09-1207_58_04.633983/model-00001-1.57169-0.42685-4.29496-0.21000.h5\n",
            "23/23 [==============================] - 129s 5s/step - loss: 1.5717 - categorical_accuracy: 0.4268 - val_loss: 4.2950 - val_categorical_accuracy: 0.2100 - lr: 0.0010\n",
            "Epoch 2/3\n",
            "23/23 [==============================] - ETA: 0s - loss: 1.0544 - categorical_accuracy: 0.5837\n",
            "Epoch 2: saving model to model_init_2022-09-1207_58_04.633983/model-00002-1.05437-0.58371-9.53160-0.21000.h5\n",
            "23/23 [==============================] - 126s 6s/step - loss: 1.0544 - categorical_accuracy: 0.5837 - val_loss: 9.5316 - val_categorical_accuracy: 0.2100 - lr: 0.0010\n",
            "Epoch 3/3\n",
            "23/23 [==============================] - ETA: 0s - loss: 0.8425 - categorical_accuracy: 0.6637\n",
            "Epoch 3: saving model to model_init_2022-09-1207_58_04.633983/model-00003-0.84250-0.66365-13.19898-0.22000.h5\n",
            "23/23 [==============================] - 122s 6s/step - loss: 0.8425 - categorical_accuracy: 0.6637 - val_loss: 13.1990 - val_categorical_accuracy: 0.2200 - lr: 0.0010\n"
          ]
        },
        {
          "output_type": "execute_result",
          "data": {
            "text/plain": [
              "<keras.callbacks.History at 0x7f13bc19f210>"
            ]
          },
          "metadata": {},
          "execution_count": 12
        }
      ],
      "source": [
        "conv_3d1=ModelConv3D1()\n",
        "conv_3d1.initialize_path(project_folder)\n",
        "conv_3d1.initialize_image_properties(image_height=160,image_width=160)\n",
        "conv_3d1.initialize_hyperparams(frames_to_sample=16,batch_size=30,num_epochs=3)\n",
        "conv_3d1_model=conv_3d1.define_model()\n",
        "print(\"Total Params:\", conv_3d1_model.count_params())\n",
        "conv_3d1.train_model(conv_3d1_model)"
      ]
    },
    {
      "cell_type": "code",
      "execution_count": 13,
      "metadata": {
        "colab": {
          "base_uri": "https://localhost:8080/"
        },
        "id": "SyVGj-NZmdkA",
        "outputId": "cb4cbea5-1c16-4f23-a187-be7ccf7ce419"
      },
      "outputs": [
        {
          "output_type": "stream",
          "name": "stderr",
          "text": [
            "WARNING:tensorflow:`period` argument is deprecated. Please use `save_freq` to specify the frequency in number of batches seen.\n"
          ]
        },
        {
          "output_type": "stream",
          "name": "stdout",
          "text": [
            "Total Params: 687813\n",
            "Epoch 1/2\n",
            "23/23 [==============================] - ETA: 0s - loss: 1.6506 - categorical_accuracy: 0.4027\n",
            "Epoch 1: saving model to model_init_2022-09-1208_04_36.824328/model-00001-1.65064-0.40271-2.06920-0.19000.h5\n",
            "23/23 [==============================] - 210s 9s/step - loss: 1.6506 - categorical_accuracy: 0.4027 - val_loss: 2.0692 - val_categorical_accuracy: 0.1900 - lr: 0.0010\n",
            "Epoch 2/2\n",
            "23/23 [==============================] - ETA: 0s - loss: 1.0366 - categorical_accuracy: 0.5973\n",
            "Epoch 2: saving model to model_init_2022-09-1208_04_36.824328/model-00002-1.03656-0.59729-2.92886-0.21000.h5\n",
            "23/23 [==============================] - 199s 9s/step - loss: 1.0366 - categorical_accuracy: 0.5973 - val_loss: 2.9289 - val_categorical_accuracy: 0.2100 - lr: 0.0010\n"
          ]
        },
        {
          "output_type": "execute_result",
          "data": {
            "text/plain": [
              "<keras.callbacks.History at 0x7f13a0fecd50>"
            ]
          },
          "metadata": {},
          "execution_count": 13
        }
      ],
      "source": [
        "conv_3d1=ModelConv3D1()\n",
        "conv_3d1.initialize_path(project_folder)\n",
        "conv_3d1.initialize_image_properties(image_height=100,image_width=100)\n",
        "conv_3d1.initialize_hyperparams(frames_to_sample=30,batch_size=30,num_epochs=2)\n",
        "conv_3d1_model=conv_3d1.define_model()\n",
        "print(\"Total Params:\", conv_3d1_model.count_params())\n",
        "conv_3d1.train_model(conv_3d1_model)"
      ]
    },
    {
      "cell_type": "code",
      "execution_count": 14,
      "metadata": {
        "colab": {
          "base_uri": "https://localhost:8080/"
        },
        "id": "N89dqUdHmdkA",
        "outputId": "449c9369-9fe3-404f-e799-a3567d374735"
      },
      "outputs": [
        {
          "output_type": "stream",
          "name": "stderr",
          "text": [
            "WARNING:tensorflow:`period` argument is deprecated. Please use `save_freq` to specify the frequency in number of batches seen.\n"
          ]
        },
        {
          "output_type": "stream",
          "name": "stdout",
          "text": [
            "Total Params: 687813\n",
            "Epoch 1/2\n",
            "11/12 [==========================>...] - ETA: 14s - loss: 1.7192 - categorical_accuracy: 0.3955\n",
            "Epoch 1: saving model to model_init_2022-09-1208_11_39.030121/model-00001-1.71760-0.39517-1.73746-0.16000.h5\n",
            "12/12 [==============================] - 204s 18s/step - loss: 1.7176 - categorical_accuracy: 0.3952 - val_loss: 1.7375 - val_categorical_accuracy: 0.1600 - lr: 0.0010\n",
            "Epoch 2/2\n",
            "11/12 [==========================>...] - ETA: 15s - loss: 1.1488 - categorical_accuracy: 0.5727\n",
            "Epoch 2: saving model to model_init_2022-09-1208_11_39.030121/model-00002-1.14529-0.57466-2.98923-0.18000.h5\n",
            "12/12 [==============================] - 205s 19s/step - loss: 1.1453 - categorical_accuracy: 0.5747 - val_loss: 2.9892 - val_categorical_accuracy: 0.1800 - lr: 0.0010\n"
          ]
        },
        {
          "output_type": "execute_result",
          "data": {
            "text/plain": [
              "<keras.callbacks.History at 0x7f13a0c67350>"
            ]
          },
          "metadata": {},
          "execution_count": 14
        }
      ],
      "source": [
        "conv_3d1=ModelConv3D1()\n",
        "conv_3d1.initialize_path(project_folder)\n",
        "conv_3d1.initialize_image_properties(image_height=100,image_width=100)\n",
        "conv_3d1.initialize_hyperparams(frames_to_sample=30,batch_size=60,num_epochs=2)\n",
        "conv_3d1_model=conv_3d1.define_model()\n",
        "print(\"Total Params:\", conv_3d1_model.count_params())\n",
        "conv_3d1.train_model(conv_3d1_model)"
      ]
    },
    {
      "cell_type": "code",
      "execution_count": 15,
      "metadata": {
        "colab": {
          "base_uri": "https://localhost:8080/"
        },
        "id": "PVIaYkx3mdkA",
        "outputId": "8fdbe74a-a4bf-4b28-d9a9-974662241754"
      },
      "outputs": [
        {
          "output_type": "stream",
          "name": "stdout",
          "text": [
            "Total Params: 687813\n"
          ]
        },
        {
          "output_type": "stream",
          "name": "stderr",
          "text": [
            "WARNING:tensorflow:`period` argument is deprecated. Please use `save_freq` to specify the frequency in number of batches seen.\n"
          ]
        },
        {
          "output_type": "stream",
          "name": "stdout",
          "text": [
            "Epoch 1/2\n",
            "12/12 [==============================] - ETA: 0s - loss: 1.7026 - categorical_accuracy: 0.3831\n",
            "Epoch 1: saving model to model_init_2022-09-1202_20_23.386268/model-00001-1.70263-0.38311-1.59389-0.29000.h5\n",
            "12/12 [==============================] - 110s 10s/step - loss: 1.7026 - categorical_accuracy: 0.3831 - val_loss: 1.5939 - val_categorical_accuracy: 0.2900 - lr: 0.0010\n",
            "Epoch 2/2\n",
            "12/12 [==============================] - ETA: 0s - loss: 1.1251 - categorical_accuracy: 0.5505\n",
            "Epoch 2: saving model to model_init_2022-09-1202_20_23.386268/model-00002-1.12506-0.55053-1.87075-0.17000.h5\n",
            "12/12 [==============================] - 101s 9s/step - loss: 1.1251 - categorical_accuracy: 0.5505 - val_loss: 1.8707 - val_categorical_accuracy: 0.1700 - lr: 0.0010\n"
          ]
        },
        {
          "output_type": "execute_result",
          "data": {
            "text/plain": [
              "<keras.callbacks.History at 0x7fd946401f90>"
            ]
          },
          "metadata": {},
          "execution_count": 15
        }
      ],
      "source": [
        "conv_3d1=ModelConv3D1()\n",
        "conv_3d1.initialize_path(project_folder)\n",
        "conv_3d1.initialize_image_properties(image_height=100,image_width=100)\n",
        "conv_3d1.initialize_hyperparams(frames_to_sample=16,batch_size=60,num_epochs=2)\n",
        "conv_3d1_model=conv_3d1.define_model()\n",
        "print(\"Total Params:\", conv_3d1_model.count_params())\n",
        "conv_3d1.train_model(conv_3d1_model)"
      ]
    },
    {
      "cell_type": "code",
      "execution_count": 16,
      "metadata": {
        "colab": {
          "base_uri": "https://localhost:8080/"
        },
        "id": "IWyXWujdmdkA",
        "outputId": "7517860c-f6b6-4b90-cdf2-49d4d573be7b"
      },
      "outputs": [
        {
          "output_type": "stream",
          "name": "stderr",
          "text": [
            "WARNING:tensorflow:`period` argument is deprecated. Please use `save_freq` to specify the frequency in number of batches seen.\n"
          ]
        },
        {
          "output_type": "stream",
          "name": "stdout",
          "text": [
            "Total Params: 687813\n",
            "Epoch 1/2\n",
            "9/9 [==============================] - ETA: 0s - loss: 1.8000 - categorical_accuracy: 0.3575 \n",
            "Epoch 1: saving model to model_init_2022-09-1202_24_03.648403/model-00001-1.80004-0.35747-1.59736-0.12000.h5\n",
            "9/9 [==============================] - 115s 14s/step - loss: 1.8000 - categorical_accuracy: 0.3575 - val_loss: 1.5974 - val_categorical_accuracy: 0.1200 - lr: 0.0010\n",
            "Epoch 2/2\n",
            "9/9 [==============================] - ETA: 0s - loss: 1.1810 - categorical_accuracy: 0.5415 \n",
            "Epoch 2: saving model to model_init_2022-09-1202_24_03.648403/model-00002-1.18098-0.54148-2.16183-0.23000.h5\n",
            "9/9 [==============================] - 125s 16s/step - loss: 1.1810 - categorical_accuracy: 0.5415 - val_loss: 2.1618 - val_categorical_accuracy: 0.2300 - lr: 0.0010\n"
          ]
        },
        {
          "output_type": "execute_result",
          "data": {
            "text/plain": [
              "<keras.callbacks.History at 0x7fd93230a8d0>"
            ]
          },
          "metadata": {},
          "execution_count": 16
        }
      ],
      "source": [
        "conv_3d1=ModelConv3D1()\n",
        "conv_3d1.initialize_path(project_folder)\n",
        "conv_3d1.initialize_image_properties(image_height=100,image_width=100)\n",
        "conv_3d1.initialize_hyperparams(frames_to_sample=16,batch_size=80,num_epochs=2)\n",
        "conv_3d1_model=conv_3d1.define_model()\n",
        "print(\"Total Params:\", conv_3d1_model.count_params())\n",
        "conv_3d1.train_model(conv_3d1_model)"
      ]
    },
    {
      "cell_type": "code",
      "execution_count": 15,
      "metadata": {
        "colab": {
          "base_uri": "https://localhost:8080/"
        },
        "id": "EEafqhMZmdkB",
        "outputId": "fb8cab7b-7a0a-4372-efc1-c0d1270e260a"
      },
      "outputs": [
        {
          "output_type": "stream",
          "name": "stderr",
          "text": [
            "WARNING:tensorflow:`period` argument is deprecated. Please use `save_freq` to specify the frequency in number of batches seen.\n"
          ]
        },
        {
          "output_type": "stream",
          "name": "stdout",
          "text": [
            "Total Params: 1736389\n",
            "Epoch 1/2\n",
            "45/45 [==============================] - ETA: 0s - loss: 1.5544 - categorical_accuracy: 0.4193\n",
            "Epoch 1: saving model to model_init_2022-09-1208_20_08.545610/model-00001-1.55438-0.41931-3.05213-0.21000.h5\n",
            "45/45 [==============================] - 236s 5s/step - loss: 1.5544 - categorical_accuracy: 0.4193 - val_loss: 3.0521 - val_categorical_accuracy: 0.2100 - lr: 0.0010\n",
            "Epoch 2/2\n",
            "45/45 [==============================] - ETA: 0s - loss: 1.0477 - categorical_accuracy: 0.6063\n",
            "Epoch 2: saving model to model_init_2022-09-1208_20_08.545610/model-00002-1.04768-0.60633-4.05375-0.22000.h5\n",
            "45/45 [==============================] - 223s 5s/step - loss: 1.0477 - categorical_accuracy: 0.6063 - val_loss: 4.0537 - val_categorical_accuracy: 0.2200 - lr: 0.0010\n"
          ]
        },
        {
          "output_type": "execute_result",
          "data": {
            "text/plain": [
              "<keras.callbacks.History at 0x7f13a0815f10>"
            ]
          },
          "metadata": {},
          "execution_count": 15
        }
      ],
      "source": [
        "conv_3d1=ModelConv3D1()\n",
        "conv_3d1.initialize_path(project_folder)\n",
        "conv_3d1.initialize_image_properties(image_height=160,image_width=160)\n",
        "conv_3d1.initialize_hyperparams(frames_to_sample=30,batch_size=15,num_epochs=2)\n",
        "conv_3d1_model=conv_3d1.define_model()\n",
        "print(\"Total Params:\", conv_3d1_model.count_params())\n",
        "conv_3d1.train_model(conv_3d1_model)"
      ]
    },
    {
      "cell_type": "code",
      "execution_count": 16,
      "metadata": {
        "colab": {
          "base_uri": "https://localhost:8080/"
        },
        "id": "WISFDvudmdkB",
        "outputId": "5707c5c1-fba2-4319-9dc1-e5a8c955d3d7"
      },
      "outputs": [
        {
          "output_type": "stream",
          "name": "stderr",
          "text": [
            "WARNING:tensorflow:`period` argument is deprecated. Please use `save_freq` to specify the frequency in number of batches seen.\n"
          ]
        },
        {
          "output_type": "stream",
          "name": "stdout",
          "text": [
            "Total Params: 1736389\n",
            "Epoch 1/2\n",
            "45/45 [==============================] - ETA: 0s - loss: 1.6809 - categorical_accuracy: 0.3771\n",
            "Epoch 1: saving model to model_init_2022-09-1208_28_37.016194/model-00001-1.68089-0.37707-11.07312-0.16000.h5\n",
            "45/45 [==============================] - 109s 2s/step - loss: 1.6809 - categorical_accuracy: 0.3771 - val_loss: 11.0731 - val_categorical_accuracy: 0.1600 - lr: 0.0010\n",
            "Epoch 2/2\n",
            "45/45 [==============================] - ETA: 0s - loss: 1.3149 - categorical_accuracy: 0.4902\n",
            "Epoch 2: saving model to model_init_2022-09-1208_28_37.016194/model-00002-1.31486-0.49020-24.23828-0.15000.h5\n",
            "45/45 [==============================] - 122s 3s/step - loss: 1.3149 - categorical_accuracy: 0.4902 - val_loss: 24.2383 - val_categorical_accuracy: 0.1500 - lr: 0.0010\n"
          ]
        },
        {
          "output_type": "execute_result",
          "data": {
            "text/plain": [
              "<keras.callbacks.History at 0x7f13a03ec850>"
            ]
          },
          "metadata": {},
          "execution_count": 16
        }
      ],
      "source": [
        "conv_3d1=ModelConv3D1()\n",
        "conv_3d1.initialize_path(project_folder)\n",
        "conv_3d1.initialize_image_properties(image_height=160,image_width=160)\n",
        "conv_3d1.initialize_hyperparams(frames_to_sample=16,batch_size=15,num_epochs=2)\n",
        "conv_3d1_model=conv_3d1.define_model()\n",
        "print(\"Total Params:\", conv_3d1_model.count_params())\n",
        "conv_3d1.train_model(conv_3d1_model)"
      ]
    },
    {
      "cell_type": "code",
      "execution_count": 17,
      "metadata": {
        "colab": {
          "base_uri": "https://localhost:8080/"
        },
        "id": "_4gsaIe1mdkB",
        "outputId": "42d201c8-3823-4443-e4b3-34757585cbd6"
      },
      "outputs": [
        {
          "output_type": "stream",
          "name": "stderr",
          "text": [
            "WARNING:tensorflow:`period` argument is deprecated. Please use `save_freq` to specify the frequency in number of batches seen.\n"
          ]
        },
        {
          "output_type": "stream",
          "name": "stdout",
          "text": [
            "Total Params: 687813\n",
            "Epoch 1/2\n",
            "45/45 [==============================] - ETA: 0s - loss: 1.5846 - categorical_accuracy: 0.3831\n",
            "Epoch 1: saving model to model_init_2022-09-1208_38_01.165164/model-00001-1.58456-0.38311-4.70422-0.16000.h5\n",
            "45/45 [==============================] - 112s 3s/step - loss: 1.5846 - categorical_accuracy: 0.3831 - val_loss: 4.7042 - val_categorical_accuracy: 0.1600 - lr: 0.0010\n",
            "Epoch 2/2\n",
            "45/45 [==============================] - ETA: 0s - loss: 1.1181 - categorical_accuracy: 0.5294\n",
            "Epoch 2: saving model to model_init_2022-09-1208_38_01.165164/model-00002-1.11812-0.52941-6.89014-0.21000.h5\n",
            "45/45 [==============================] - 111s 3s/step - loss: 1.1181 - categorical_accuracy: 0.5294 - val_loss: 6.8901 - val_categorical_accuracy: 0.2100 - lr: 0.0010\n"
          ]
        },
        {
          "output_type": "execute_result",
          "data": {
            "text/plain": [
              "<keras.callbacks.History at 0x7f138c797310>"
            ]
          },
          "metadata": {},
          "execution_count": 17
        }
      ],
      "source": [
        "conv_3d1=ModelConv3D1()\n",
        "conv_3d1.initialize_path(project_folder)\n",
        "conv_3d1.initialize_image_properties(image_height=100,image_width=100)\n",
        "conv_3d1.initialize_hyperparams(frames_to_sample=16,batch_size=15,num_epochs=2)\n",
        "conv_3d1_model=conv_3d1.define_model()\n",
        "print(\"Total Params:\", conv_3d1_model.count_params())\n",
        "conv_3d1.train_model(conv_3d1_model)"
      ]
    },
    {
      "cell_type": "code",
      "execution_count": 18,
      "metadata": {
        "colab": {
          "base_uri": "https://localhost:8080/"
        },
        "id": "NQvd1tnpmdkB",
        "outputId": "8b7a04b6-d66c-4dad-a827-63bdbf1de712"
      },
      "outputs": [
        {
          "output_type": "stream",
          "name": "stderr",
          "text": [
            "WARNING:tensorflow:`period` argument is deprecated. Please use `save_freq` to specify the frequency in number of batches seen.\n"
          ]
        },
        {
          "output_type": "stream",
          "name": "stdout",
          "text": [
            "Total Params: 687813\n",
            "Epoch 1/2\n",
            "67/67 [==============================] - ETA: 0s - loss: 1.6609 - categorical_accuracy: 0.3650\n",
            "Epoch 1: saving model to model_init_2022-09-1208_41_46.810206/model-00001-1.66087-0.36501-3.77732-0.16000.h5\n",
            "67/67 [==============================] - 95s 1s/step - loss: 1.6609 - categorical_accuracy: 0.3650 - val_loss: 3.7773 - val_categorical_accuracy: 0.1600 - lr: 0.0010\n",
            "Epoch 2/2\n",
            "67/67 [==============================] - ETA: 0s - loss: 1.2760 - categorical_accuracy: 0.5158\n",
            "Epoch 2: saving model to model_init_2022-09-1208_41_46.810206/model-00002-1.27599-0.51584-5.95861-0.24000.h5\n",
            "67/67 [==============================] - 105s 2s/step - loss: 1.2760 - categorical_accuracy: 0.5158 - val_loss: 5.9586 - val_categorical_accuracy: 0.2400 - lr: 0.0010\n"
          ]
        },
        {
          "output_type": "execute_result",
          "data": {
            "text/plain": [
              "<keras.callbacks.History at 0x7f138c446f10>"
            ]
          },
          "metadata": {},
          "execution_count": 18
        }
      ],
      "source": [
        "conv_3d1=ModelConv3D1()\n",
        "conv_3d1.initialize_path(project_folder)\n",
        "conv_3d1.initialize_image_properties(image_height=100,image_width=100)\n",
        "conv_3d1.initialize_hyperparams(frames_to_sample=16,batch_size=10,num_epochs=2)\n",
        "conv_3d1_model=conv_3d1.define_model()\n",
        "print(\"Total Params:\", conv_3d1_model.count_params())\n",
        "conv_3d1.train_model(conv_3d1_model)"
      ]
    },
    {
      "cell_type": "code",
      "execution_count": 19,
      "metadata": {
        "colab": {
          "base_uri": "https://localhost:8080/"
        },
        "id": "Pl1rGAK-mdkC",
        "outputId": "ea92fb6d-59ec-4b5a-83da-6277fdeccc01"
      },
      "outputs": [
        {
          "output_type": "stream",
          "name": "stderr",
          "text": [
            "WARNING:tensorflow:`period` argument is deprecated. Please use `save_freq` to specify the frequency in number of batches seen.\n"
          ]
        },
        {
          "output_type": "stream",
          "name": "stdout",
          "text": [
            "Total Params: 687813\n",
            "Epoch 1/2\n",
            "67/67 [==============================] - ETA: 0s - loss: 1.6573 - categorical_accuracy: 0.3922\n",
            "Epoch 1: saving model to model_init_2022-09-1208_53_49.901091/model-00001-1.65726-0.39216-3.31054-0.21000.h5\n",
            "67/67 [==============================] - 191s 3s/step - loss: 1.6573 - categorical_accuracy: 0.3922 - val_loss: 3.3105 - val_categorical_accuracy: 0.2100 - lr: 0.0010\n",
            "Epoch 2/2\n",
            "67/67 [==============================] - ETA: 0s - loss: 1.2645 - categorical_accuracy: 0.5038\n",
            "Epoch 2: saving model to model_init_2022-09-1208_53_49.901091/model-00002-1.26450-0.50377-4.32507-0.21000.h5\n",
            "67/67 [==============================] - 201s 3s/step - loss: 1.2645 - categorical_accuracy: 0.5038 - val_loss: 4.3251 - val_categorical_accuracy: 0.2100 - lr: 0.0010\n"
          ]
        },
        {
          "output_type": "execute_result",
          "data": {
            "text/plain": [
              "<keras.callbacks.History at 0x7f1283f4ed10>"
            ]
          },
          "metadata": {},
          "execution_count": 19
        }
      ],
      "source": [
        "conv_3d1=ModelConv3D1()\n",
        "conv_3d1.initialize_path(project_folder)\n",
        "conv_3d1.initialize_image_properties(image_height=100,image_width=100)\n",
        "conv_3d1.initialize_hyperparams(frames_to_sample=30,batch_size=10,num_epochs=2)\n",
        "conv_3d1_model=conv_3d1.define_model()\n",
        "print(\"Total Params:\", conv_3d1_model.count_params())\n",
        "conv_3d1.train_model(conv_3d1_model)"
      ]
    },
    {
      "cell_type": "code",
      "execution_count": 20,
      "metadata": {
        "colab": {
          "base_uri": "https://localhost:8080/"
        },
        "id": "ojgeHnKCmdkC",
        "outputId": "3fe8e498-906b-4d5f-b0fd-e36335401d56"
      },
      "outputs": [
        {
          "output_type": "stream",
          "name": "stderr",
          "text": [
            "WARNING:tensorflow:`period` argument is deprecated. Please use `save_freq` to specify the frequency in number of batches seen.\n"
          ]
        },
        {
          "output_type": "stream",
          "name": "stdout",
          "text": [
            "Total Params: 1736389\n",
            "Epoch 1/2\n",
            "67/67 [==============================] - ETA: 0s - loss: 1.5857 - categorical_accuracy: 0.4253\n",
            "Epoch 1: saving model to model_init_2022-09-1209_01_17.756762/model-00001-1.58567-0.42534-5.80210-0.18000.h5\n",
            "67/67 [==============================] - 224s 3s/step - loss: 1.5857 - categorical_accuracy: 0.4253 - val_loss: 5.8021 - val_categorical_accuracy: 0.1800 - lr: 0.0010\n",
            "Epoch 2/2\n",
            "67/67 [==============================] - ETA: 0s - loss: 1.3398 - categorical_accuracy: 0.4781\n",
            "Epoch 2: saving model to model_init_2022-09-1209_01_17.756762/model-00002-1.33978-0.47813-4.11784-0.19000.h5\n",
            "67/67 [==============================] - 237s 4s/step - loss: 1.3398 - categorical_accuracy: 0.4781 - val_loss: 4.1178 - val_categorical_accuracy: 0.1900 - lr: 0.0010\n"
          ]
        },
        {
          "output_type": "execute_result",
          "data": {
            "text/plain": [
              "<keras.callbacks.History at 0x7f1283b3d3d0>"
            ]
          },
          "metadata": {},
          "execution_count": 20
        }
      ],
      "source": [
        "conv_3d1=ModelConv3D1()\n",
        "conv_3d1.initialize_path(project_folder)\n",
        "conv_3d1.initialize_image_properties(image_height=160,image_width=160)\n",
        "conv_3d1.initialize_hyperparams(frames_to_sample=30,batch_size=10,num_epochs=2)\n",
        "conv_3d1_model=conv_3d1.define_model()\n",
        "print(\"Total Params:\", conv_3d1_model.count_params())\n",
        "conv_3d1.train_model(conv_3d1_model)"
      ]
    },
    {
      "cell_type": "code",
      "execution_count": 21,
      "metadata": {
        "colab": {
          "base_uri": "https://localhost:8080/"
        },
        "id": "dfuocTsJmdkC",
        "outputId": "b48b65c5-2d9f-4871-f365-e55936aaafe4"
      },
      "outputs": [
        {
          "output_type": "stream",
          "name": "stderr",
          "text": [
            "WARNING:tensorflow:`period` argument is deprecated. Please use `save_freq` to specify the frequency in number of batches seen.\n"
          ]
        },
        {
          "output_type": "stream",
          "name": "stdout",
          "text": [
            "Total Params: 1736389\n",
            "Epoch 1/2\n",
            "67/67 [==============================] - ETA: 0s - loss: 1.5535 - categorical_accuracy: 0.4148\n",
            "Epoch 1: saving model to model_init_2022-09-1209_09_01.976723/model-00001-1.55354-0.41478-2.30938-0.19000.h5\n",
            "67/67 [==============================] - 133s 2s/step - loss: 1.5535 - categorical_accuracy: 0.4148 - val_loss: 2.3094 - val_categorical_accuracy: 0.1900 - lr: 0.0010\n",
            "Epoch 2/2\n",
            "67/67 [==============================] - ETA: 0s - loss: 1.1884 - categorical_accuracy: 0.5234\n",
            "Epoch 2: saving model to model_init_2022-09-1209_09_01.976723/model-00002-1.18843-0.52338-3.41296-0.17000.h5\n",
            "67/67 [==============================] - 124s 2s/step - loss: 1.1884 - categorical_accuracy: 0.5234 - val_loss: 3.4130 - val_categorical_accuracy: 0.1700 - lr: 0.0010\n"
          ]
        },
        {
          "output_type": "execute_result",
          "data": {
            "text/plain": [
              "<keras.callbacks.History at 0x7f12826e0d50>"
            ]
          },
          "metadata": {},
          "execution_count": 21
        }
      ],
      "source": [
        "conv_3d1=ModelConv3D1()\n",
        "conv_3d1.initialize_path(project_folder)\n",
        "conv_3d1.initialize_image_properties(image_height=160,image_width=160)\n",
        "conv_3d1.initialize_hyperparams(frames_to_sample=16,batch_size=10,num_epochs=2)\n",
        "conv_3d1_model=conv_3d1.define_model()\n",
        "print(\"Total Params:\", conv_3d1_model.count_params())\n",
        "conv_3d1.train_model(conv_3d1_model)"
      ]
    },
    {
      "cell_type": "code",
      "execution_count": 22,
      "metadata": {
        "colab": {
          "base_uri": "https://localhost:8080/"
        },
        "id": "t_j2ETHDmdkC",
        "outputId": "0baf7a24-fe0c-4c37-b7ed-00faeb537ac6"
      },
      "outputs": [
        {
          "output_type": "stream",
          "name": "stderr",
          "text": [
            "WARNING:tensorflow:`period` argument is deprecated. Please use `save_freq` to specify the frequency in number of batches seen.\n"
          ]
        },
        {
          "output_type": "stream",
          "name": "stdout",
          "text": [
            "Total Params: 1736389\n",
            "Epoch 1/2\n",
            "17/17 [==============================] - ETA: 0s - loss: 1.5221 - categorical_accuracy: 0.4404\n",
            "Epoch 1: saving model to model_init_2022-09-1209_14_29.648702/model-00001-1.52209-0.44042-1.85238-0.30000.h5\n",
            "17/17 [==============================] - 125s 8s/step - loss: 1.5221 - categorical_accuracy: 0.4404 - val_loss: 1.8524 - val_categorical_accuracy: 0.3000 - lr: 0.0010\n",
            "Epoch 2/2\n",
            "17/17 [==============================] - ETA: 0s - loss: 0.9175 - categorical_accuracy: 0.6395\n",
            "Epoch 2: saving model to model_init_2022-09-1209_14_29.648702/model-00002-0.91751-0.63952-2.85048-0.17000.h5\n",
            "17/17 [==============================] - 121s 8s/step - loss: 0.9175 - categorical_accuracy: 0.6395 - val_loss: 2.8505 - val_categorical_accuracy: 0.1700 - lr: 0.0010\n"
          ]
        },
        {
          "output_type": "execute_result",
          "data": {
            "text/plain": [
              "<keras.callbacks.History at 0x7f128239c790>"
            ]
          },
          "metadata": {},
          "execution_count": 22
        }
      ],
      "source": [
        "conv_3d1=ModelConv3D1()\n",
        "conv_3d1.initialize_path(project_folder)\n",
        "conv_3d1.initialize_image_properties(image_height=160,image_width=160)\n",
        "conv_3d1.initialize_hyperparams(frames_to_sample=16,batch_size=40,num_epochs=2)\n",
        "conv_3d1_model=conv_3d1.define_model()\n",
        "print(\"Total Params:\", conv_3d1_model.count_params())\n",
        "conv_3d1.train_model(conv_3d1_model)"
      ]
    },
    {
      "cell_type": "markdown",
      "metadata": {
        "id": "AeziE-wOmdkC"
      },
      "source": [
        "##### As we see from the above experiments image resolution and number of frames in sequence have more impact on training time than batch_size"
      ]
    },
    {
      "cell_type": "markdown",
      "metadata": {
        "id": "HL0MCV9GmdkD"
      },
      "source": [
        "##### So experimentations are carried with batch size fixed around 15-40 and changing the resolution and number of image per sequence based on the device memory constraints . Models are designed such that their memory foot print is less than 50 MB which corresponds to 4.3 million parameters assuming the datatype size of parameters to be 12 bytes"
      ]
    },
    {
      "cell_type": "markdown",
      "metadata": {
        "id": "rvV-iu0VmdkD"
      },
      "source": [
        "# Model 1 - Base Model - No Data Augmentation Batch Size 40 and Epoch 15"
      ]
    },
    {
      "cell_type": "code",
      "execution_count": 23,
      "metadata": {
        "id": "bCWqk7Q6mdkD"
      },
      "outputs": [],
      "source": [
        "class ModelConv3D1(ModelBuilder):\n",
        "    \n",
        "    def define_model(self,filtersize=(3,3,3),dense_neurons=64,dropout=0.25):\n",
        "\n",
        "        model = Sequential()\n",
        "        model.add(Conv3D(16, filtersize, padding='same',\n",
        "                 input_shape=(self.frames_to_sample,self.image_height,self.image_width,self.channels)))\n",
        "        model.add(Activation('relu'))\n",
        "        model.add(BatchNormalization())\n",
        "        model.add(MaxPooling3D(pool_size=(2, 2, 2)))\n",
        "\n",
        "        model.add(Conv3D(32, filtersize, padding='same'))\n",
        "        model.add(Activation('relu'))\n",
        "        model.add(BatchNormalization())\n",
        "        model.add(MaxPooling3D(pool_size=(2, 2, 2)))\n",
        "\n",
        "        model.add(Conv3D(64, filtersize, padding='same'))\n",
        "        model.add(Activation('relu'))\n",
        "        model.add(BatchNormalization())\n",
        "        model.add(MaxPooling3D(pool_size=(2, 2, 2)))\n",
        "\n",
        "        model.add(Conv3D(128, filtersize, padding='same'))\n",
        "        model.add(Activation('relu'))\n",
        "        model.add(BatchNormalization())\n",
        "        model.add(MaxPooling3D(pool_size=(2, 2, 2)))\n",
        "\n",
        "        model.add(Flatten())\n",
        "        model.add(Dense(dense_neurons,activation='relu'))\n",
        "        model.add(BatchNormalization())\n",
        "        model.add(Dropout(dropout))\n",
        "\n",
        "        model.add(Dense(dense_neurons,activation='relu'))\n",
        "        model.add(BatchNormalization())\n",
        "        model.add(Dropout(dropout))\n",
        "\n",
        "\n",
        "        model.add(Dense(self.num_classes,activation='softmax'))\n",
        "\n",
        "        optimiser = optimizers.adam_v2.Adam()\n",
        "        model.compile(optimizer=optimiser, loss='categorical_crossentropy', metrics=['categorical_accuracy'])\n",
        "        return model"
      ]
    },
    {
      "cell_type": "code",
      "execution_count": 24,
      "metadata": {
        "colab": {
          "base_uri": "https://localhost:8080/"
        },
        "id": "TI0JFgk9mdkD",
        "outputId": "61b3ebf1-e078-48ea-dc51-c992d4b376b3"
      },
      "outputs": [
        {
          "output_type": "stream",
          "name": "stdout",
          "text": [
            "Model: \"sequential_12\"\n",
            "_________________________________________________________________\n",
            " Layer (type)                Output Shape              Param #   \n",
            "=================================================================\n",
            " conv3d_48 (Conv3D)          (None, 20, 160, 160, 16)  1312      \n",
            "                                                                 \n",
            " activation_48 (Activation)  (None, 20, 160, 160, 16)  0         \n",
            "                                                                 \n",
            " batch_normalization_72 (Bat  (None, 20, 160, 160, 16)  64       \n",
            " chNormalization)                                                \n",
            "                                                                 \n",
            " max_pooling3d_48 (MaxPoolin  (None, 10, 80, 80, 16)   0         \n",
            " g3D)                                                            \n",
            "                                                                 \n",
            " conv3d_49 (Conv3D)          (None, 10, 80, 80, 32)    13856     \n",
            "                                                                 \n",
            " activation_49 (Activation)  (None, 10, 80, 80, 32)    0         \n",
            "                                                                 \n",
            " batch_normalization_73 (Bat  (None, 10, 80, 80, 32)   128       \n",
            " chNormalization)                                                \n",
            "                                                                 \n",
            " max_pooling3d_49 (MaxPoolin  (None, 5, 40, 40, 32)    0         \n",
            " g3D)                                                            \n",
            "                                                                 \n",
            " conv3d_50 (Conv3D)          (None, 5, 40, 40, 64)     55360     \n",
            "                                                                 \n",
            " activation_50 (Activation)  (None, 5, 40, 40, 64)     0         \n",
            "                                                                 \n",
            " batch_normalization_74 (Bat  (None, 5, 40, 40, 64)    256       \n",
            " chNormalization)                                                \n",
            "                                                                 \n",
            " max_pooling3d_50 (MaxPoolin  (None, 2, 20, 20, 64)    0         \n",
            " g3D)                                                            \n",
            "                                                                 \n",
            " conv3d_51 (Conv3D)          (None, 2, 20, 20, 128)    221312    \n",
            "                                                                 \n",
            " activation_51 (Activation)  (None, 2, 20, 20, 128)    0         \n",
            "                                                                 \n",
            " batch_normalization_75 (Bat  (None, 2, 20, 20, 128)   512       \n",
            " chNormalization)                                                \n",
            "                                                                 \n",
            " max_pooling3d_51 (MaxPoolin  (None, 1, 10, 10, 128)   0         \n",
            " g3D)                                                            \n",
            "                                                                 \n",
            " flatten_12 (Flatten)        (None, 12800)             0         \n",
            "                                                                 \n",
            " dense_36 (Dense)            (None, 64)                819264    \n",
            "                                                                 \n",
            " batch_normalization_76 (Bat  (None, 64)               256       \n",
            " chNormalization)                                                \n",
            "                                                                 \n",
            " dropout_24 (Dropout)        (None, 64)                0         \n",
            "                                                                 \n",
            " dense_37 (Dense)            (None, 64)                4160      \n",
            "                                                                 \n",
            " batch_normalization_77 (Bat  (None, 64)               256       \n",
            " chNormalization)                                                \n",
            "                                                                 \n",
            " dropout_25 (Dropout)        (None, 64)                0         \n",
            "                                                                 \n",
            " dense_38 (Dense)            (None, 5)                 325       \n",
            "                                                                 \n",
            "=================================================================\n",
            "Total params: 1,117,061\n",
            "Trainable params: 1,116,325\n",
            "Non-trainable params: 736\n",
            "_________________________________________________________________\n"
          ]
        }
      ],
      "source": [
        "conv_3d1=ModelConv3D1()\n",
        "conv_3d1.initialize_path(project_folder)\n",
        "conv_3d1.initialize_image_properties(image_height=160,image_width=160)\n",
        "conv_3d1.initialize_hyperparams(frames_to_sample=20,batch_size=40,num_epochs=15)\n",
        "conv_3d1_model=conv_3d1.define_model()\n",
        "conv_3d1_model.summary()"
      ]
    },
    {
      "cell_type": "code",
      "execution_count": 25,
      "metadata": {
        "colab": {
          "base_uri": "https://localhost:8080/"
        },
        "id": "QJGwsaCImdkD",
        "outputId": "58e67819-cbb4-43b2-cf7f-8528d149a09a"
      },
      "outputs": [
        {
          "metadata": {
            "tags": null
          },
          "name": "stderr",
          "output_type": "stream",
          "text": [
            "WARNING:tensorflow:`period` argument is deprecated. Please use `save_freq` to specify the frequency in number of batches seen.\n"
          ]
        },
        {
          "output_type": "stream",
          "name": "stdout",
          "text": [
            "Total Params: 1117061\n",
            "Epoch 1/15\n",
            "17/17 [==============================] - ETA: 0s - loss: 1.4853 - categorical_accuracy: 0.4419\n",
            "Epoch 1: saving model to model_init_2022-09-1209_40_28.880084/model-00001-1.48528-0.44193-1.54699-0.26000.h5\n",
            "17/17 [==============================] - 167s 10s/step - loss: 1.4853 - categorical_accuracy: 0.4419 - val_loss: 1.5470 - val_categorical_accuracy: 0.2600 - lr: 0.0010\n",
            "Epoch 2/15\n",
            "17/17 [==============================] - ETA: 0s - loss: nan - categorical_accuracy: 0.2308\n",
            "Epoch 2: saving model to model_init_2022-09-1209_40_28.880084/model-00002-nan-0.23077-nan-0.19000.h5\n",
            "17/17 [==============================] - 178s 11s/step - loss: nan - categorical_accuracy: 0.2308 - val_loss: nan - val_categorical_accuracy: 0.1900 - lr: 0.0010\n",
            "Epoch 3/15\n",
            "17/17 [==============================] - ETA: 0s - loss: nan - categorical_accuracy: 0.2051\n",
            "Epoch 3: saving model to model_init_2022-09-1209_40_28.880084/model-00003-nan-0.20513-nan-0.18000.h5\n",
            "17/17 [==============================] - 170s 11s/step - loss: nan - categorical_accuracy: 0.2051 - val_loss: nan - val_categorical_accuracy: 0.1800 - lr: 0.0010\n",
            "Epoch 4/15\n",
            "17/17 [==============================] - ETA: 0s - loss: nan - categorical_accuracy: 0.2051\n",
            "Epoch 4: saving model to model_init_2022-09-1209_40_28.880084/model-00004-nan-0.20513-nan-0.18000.h5\n",
            "17/17 [==============================] - 163s 10s/step - loss: nan - categorical_accuracy: 0.2051 - val_loss: nan - val_categorical_accuracy: 0.1800 - lr: 0.0010\n",
            "Epoch 5/15\n",
            "17/17 [==============================] - ETA: 0s - loss: nan - categorical_accuracy: 0.2051\n",
            "Epoch 5: saving model to model_init_2022-09-1209_40_28.880084/model-00005-nan-0.20513-nan-0.17000.h5\n",
            "\n",
            "Epoch 5: ReduceLROnPlateau reducing learning rate to 0.00020000000949949026.\n",
            "17/17 [==============================] - 162s 10s/step - loss: nan - categorical_accuracy: 0.2051 - val_loss: nan - val_categorical_accuracy: 0.1700 - lr: 0.0010\n",
            "Epoch 6/15\n",
            "17/17 [==============================] - ETA: 0s - loss: nan - categorical_accuracy: 0.2051\n",
            "Epoch 6: saving model to model_init_2022-09-1209_40_28.880084/model-00006-nan-0.20513-nan-0.20000.h5\n",
            "17/17 [==============================] - 178s 11s/step - loss: nan - categorical_accuracy: 0.2051 - val_loss: nan - val_categorical_accuracy: 0.2000 - lr: 2.0000e-04\n",
            "Epoch 7/15\n",
            "17/17 [==============================] - ETA: 0s - loss: nan - categorical_accuracy: 0.2051\n",
            "Epoch 7: saving model to model_init_2022-09-1209_40_28.880084/model-00007-nan-0.20513-nan-0.18000.h5\n",
            "17/17 [==============================] - 161s 10s/step - loss: nan - categorical_accuracy: 0.2051 - val_loss: nan - val_categorical_accuracy: 0.1800 - lr: 2.0000e-04\n",
            "Epoch 8/15\n",
            "17/17 [==============================] - ETA: 0s - loss: nan - categorical_accuracy: 0.2051\n",
            "Epoch 8: saving model to model_init_2022-09-1209_40_28.880084/model-00008-nan-0.20513-nan-0.16000.h5\n",
            "17/17 [==============================] - 162s 10s/step - loss: nan - categorical_accuracy: 0.2051 - val_loss: nan - val_categorical_accuracy: 0.1600 - lr: 2.0000e-04\n",
            "Epoch 9/15\n",
            "17/17 [==============================] - ETA: 0s - loss: nan - categorical_accuracy: 0.2051\n",
            "Epoch 9: saving model to model_init_2022-09-1209_40_28.880084/model-00009-nan-0.20513-nan-0.21000.h5\n",
            "\n",
            "Epoch 9: ReduceLROnPlateau reducing learning rate to 4.0000001899898055e-05.\n",
            "17/17 [==============================] - 162s 10s/step - loss: nan - categorical_accuracy: 0.2051 - val_loss: nan - val_categorical_accuracy: 0.2100 - lr: 2.0000e-04\n",
            "Epoch 10/15\n",
            "17/17 [==============================] - ETA: 0s - loss: nan - categorical_accuracy: 0.2051\n",
            "Epoch 10: saving model to model_init_2022-09-1209_40_28.880084/model-00010-nan-0.20513-nan-0.18000.h5\n",
            "17/17 [==============================] - 172s 11s/step - loss: nan - categorical_accuracy: 0.2051 - val_loss: nan - val_categorical_accuracy: 0.1800 - lr: 4.0000e-05\n",
            "Epoch 11/15\n",
            "17/17 [==============================] - ETA: 0s - loss: nan - categorical_accuracy: 0.2051\n",
            "Epoch 11: saving model to model_init_2022-09-1209_40_28.880084/model-00011-nan-0.20513-nan-0.21000.h5\n",
            "17/17 [==============================] - 153s 10s/step - loss: nan - categorical_accuracy: 0.2051 - val_loss: nan - val_categorical_accuracy: 0.2100 - lr: 4.0000e-05\n",
            "Epoch 12/15\n",
            "17/17 [==============================] - ETA: 0s - loss: nan - categorical_accuracy: 0.2051\n",
            "Epoch 12: saving model to model_init_2022-09-1209_40_28.880084/model-00012-nan-0.20513-nan-0.16000.h5\n",
            "17/17 [==============================] - 174s 11s/step - loss: nan - categorical_accuracy: 0.2051 - val_loss: nan - val_categorical_accuracy: 0.1600 - lr: 4.0000e-05\n",
            "Epoch 13/15\n",
            "17/17 [==============================] - ETA: 0s - loss: nan - categorical_accuracy: 0.2051\n",
            "Epoch 13: saving model to model_init_2022-09-1209_40_28.880084/model-00013-nan-0.20513-nan-0.18000.h5\n",
            "\n",
            "Epoch 13: ReduceLROnPlateau reducing learning rate to 8.000000525498762e-06.\n",
            "17/17 [==============================] - 170s 11s/step - loss: nan - categorical_accuracy: 0.2051 - val_loss: nan - val_categorical_accuracy: 0.1800 - lr: 4.0000e-05\n",
            "Epoch 14/15\n",
            "17/17 [==============================] - ETA: 0s - loss: nan - categorical_accuracy: 0.2051\n",
            "Epoch 14: saving model to model_init_2022-09-1209_40_28.880084/model-00014-nan-0.20513-nan-0.14000.h5\n",
            "17/17 [==============================] - 177s 11s/step - loss: nan - categorical_accuracy: 0.2051 - val_loss: nan - val_categorical_accuracy: 0.1400 - lr: 8.0000e-06\n",
            "Epoch 15/15\n",
            "17/17 [==============================] - ETA: 0s - loss: nan - categorical_accuracy: 0.2051\n",
            "Epoch 15: saving model to model_init_2022-09-1209_40_28.880084/model-00015-nan-0.20513-nan-0.21000.h5\n",
            "17/17 [==============================] - 171s 11s/step - loss: nan - categorical_accuracy: 0.2051 - val_loss: nan - val_categorical_accuracy: 0.2100 - lr: 8.0000e-06\n"
          ]
        }
      ],
      "source": [
        "print(\"Total Params:\", conv_3d1_model.count_params())\n",
        "history_model1 = conv_3d1.train_model(conv_3d1_model)"
      ]
    },
    {
      "cell_type": "code",
      "execution_count": 26,
      "metadata": {
        "colab": {
          "base_uri": "https://localhost:8080/",
          "height": 269
        },
        "id": "kWRgKpuEmdkE",
        "outputId": "ce0ad02b-03bd-4666-9962-0bfd454876e1"
      },
      "outputs": [
        {
          "output_type": "display_data",
          "data": {
            "text/plain": [
              "<Figure size 1080x288 with 2 Axes>"
            ],
            "image/png": "[encoded data removed]"
          },
          "metadata": {
            "needs_background": "light"
          }
        }
      ],
      "source": [
        "plot(history_model1)"
      ]
    },
    {
      "cell_type": "markdown",
      "metadata": {
        "id": "szIpG_6pmdkE"
      },
      "source": [
        "##### Model is clearly overfitting. So we need to do data augmentation"
      ]
    },
    {
      "cell_type": "markdown",
      "metadata": {
        "id": "Ggz0LM2UmdkE"
      },
      "source": [
        "# Model 2 - Augment Data , (3,3,3) filter & 160x160 image resolution"
      ]
    },
    {
      "cell_type": "code",
      "execution_count": 27,
      "metadata": {
        "colab": {
          "base_uri": "https://localhost:8080/"
        },
        "id": "YGvnKWArmdkE",
        "outputId": "9bd66e06-ebc4-4cfb-d400-d104fb990297"
      },
      "outputs": [
        {
          "output_type": "stream",
          "name": "stdout",
          "text": [
            "Model: \"sequential_13\"\n",
            "_________________________________________________________________\n",
            " Layer (type)                Output Shape              Param #   \n",
            "=================================================================\n",
            " conv3d_52 (Conv3D)          (None, 20, 160, 160, 16)  1312      \n",
            "                                                                 \n",
            " activation_52 (Activation)  (None, 20, 160, 160, 16)  0         \n",
            "                                                                 \n",
            " batch_normalization_78 (Bat  (None, 20, 160, 160, 16)  64       \n",
            " chNormalization)                                                \n",
            "                                                                 \n",
            " max_pooling3d_52 (MaxPoolin  (None, 10, 80, 80, 16)   0         \n",
            " g3D)                                                            \n",
            "                                                                 \n",
            " conv3d_53 (Conv3D)          (None, 10, 80, 80, 32)    13856     \n",
            "                                                                 \n",
            " activation_53 (Activation)  (None, 10, 80, 80, 32)    0         \n",
            "                                                                 \n",
            " batch_normalization_79 (Bat  (None, 10, 80, 80, 32)   128       \n",
            " chNormalization)                                                \n",
            "                                                                 \n",
            " max_pooling3d_53 (MaxPoolin  (None, 5, 40, 40, 32)    0         \n",
            " g3D)                                                            \n",
            "                                                                 \n",
            " conv3d_54 (Conv3D)          (None, 5, 40, 40, 64)     55360     \n",
            "                                                                 \n",
            " activation_54 (Activation)  (None, 5, 40, 40, 64)     0         \n",
            "                                                                 \n",
            " batch_normalization_80 (Bat  (None, 5, 40, 40, 64)    256       \n",
            " chNormalization)                                                \n",
            "                                                                 \n",
            " max_pooling3d_54 (MaxPoolin  (None, 2, 20, 20, 64)    0         \n",
            " g3D)                                                            \n",
            "                                                                 \n",
            " conv3d_55 (Conv3D)          (None, 2, 20, 20, 128)    221312    \n",
            "                                                                 \n",
            " activation_55 (Activation)  (None, 2, 20, 20, 128)    0         \n",
            "                                                                 \n",
            " batch_normalization_81 (Bat  (None, 2, 20, 20, 128)   512       \n",
            " chNormalization)                                                \n",
            "                                                                 \n",
            " max_pooling3d_55 (MaxPoolin  (None, 1, 10, 10, 128)   0         \n",
            " g3D)                                                            \n",
            "                                                                 \n",
            " flatten_13 (Flatten)        (None, 12800)             0         \n",
            "                                                                 \n",
            " dense_39 (Dense)            (None, 256)               3277056   \n",
            "                                                                 \n",
            " batch_normalization_82 (Bat  (None, 256)              1024      \n",
            " chNormalization)                                                \n",
            "                                                                 \n",
            " dropout_26 (Dropout)        (None, 256)               0         \n",
            "                                                                 \n",
            " dense_40 (Dense)            (None, 256)               65792     \n",
            "                                                                 \n",
            " batch_normalization_83 (Bat  (None, 256)              1024      \n",
            " chNormalization)                                                \n",
            "                                                                 \n",
            " dropout_27 (Dropout)        (None, 256)               0         \n",
            "                                                                 \n",
            " dense_41 (Dense)            (None, 5)                 1285      \n",
            "                                                                 \n",
            "=================================================================\n",
            "Total params: 3,638,981\n",
            "Trainable params: 3,637,477\n",
            "Non-trainable params: 1,504\n",
            "_________________________________________________________________\n"
          ]
        }
      ],
      "source": [
        "conv_3d2=ModelConv3D1()\n",
        "conv_3d2.initialize_path(project_folder)\n",
        "conv_3d2.initialize_image_properties(image_height=160,image_width=160)\n",
        "conv_3d2.initialize_hyperparams(frames_to_sample=20,batch_size=20,num_epochs=25)\n",
        "conv_3d2_model=conv_3d2.define_model(dense_neurons=256,dropout=0.5)\n",
        "conv_3d2_model.summary()"
      ]
    },
    {
      "cell_type": "code",
      "execution_count": 28,
      "metadata": {
        "colab": {
          "base_uri": "https://localhost:8080/"
        },
        "id": "cKZURC91mdkE",
        "outputId": "92f2ee29-d180-4bd7-be80-3468c8573902"
      },
      "outputs": [
        {
          "metadata": {
            "tags": null
          },
          "name": "stderr",
          "output_type": "stream",
          "text": [
            "WARNING:tensorflow:`period` argument is deprecated. Please use `save_freq` to specify the frequency in number of batches seen.\n"
          ]
        },
        {
          "output_type": "stream",
          "name": "stdout",
          "text": [
            "Total Params: 3638981\n",
            "Epoch 1/25\n",
            "34/34 [==============================] - ETA: 0s - loss: 1.9449 - categorical_accuracy: 0.3839\n",
            "Epoch 1: saving model to model_init_2022-09-1210_22_36.701003/model-00001-1.94488-0.38386-2.57706-0.18000.h5\n",
            "34/34 [==============================] - 293s 9s/step - loss: 1.9449 - categorical_accuracy: 0.3839 - val_loss: 2.5771 - val_categorical_accuracy: 0.1800 - lr: 0.0010\n",
            "Epoch 2/25\n",
            "34/34 [==============================] - ETA: 0s - loss: 1.2815 - categorical_accuracy: 0.5528\n",
            "Epoch 2: saving model to model_init_2022-09-1210_22_36.701003/model-00002-1.28148-0.55279-4.60967-0.17000.h5\n",
            "34/34 [==============================] - 273s 8s/step - loss: 1.2815 - categorical_accuracy: 0.5528 - val_loss: 4.6097 - val_categorical_accuracy: 0.1700 - lr: 0.0010\n",
            "Epoch 3/25\n",
            "34/34 [==============================] - ETA: 0s - loss: 1.1862 - categorical_accuracy: 0.5973\n",
            "Epoch 3: saving model to model_init_2022-09-1210_22_36.701003/model-00003-1.18619-0.59729-3.20092-0.36000.h5\n",
            "34/34 [==============================] - 287s 9s/step - loss: 1.1862 - categorical_accuracy: 0.5973 - val_loss: 3.2009 - val_categorical_accuracy: 0.3600 - lr: 0.0010\n",
            "Epoch 4/25\n",
            "34/34 [==============================] - ETA: 0s - loss: 1.0374 - categorical_accuracy: 0.6327\n",
            "Epoch 4: saving model to model_init_2022-09-1210_22_36.701003/model-00004-1.03741-0.63273-2.97852-0.34000.h5\n",
            "34/34 [==============================] - 269s 8s/step - loss: 1.0374 - categorical_accuracy: 0.6327 - val_loss: 2.9785 - val_categorical_accuracy: 0.3400 - lr: 0.0010\n",
            "Epoch 5/25\n",
            "34/34 [==============================] - ETA: 0s - loss: 0.9958 - categorical_accuracy: 0.6373\n",
            "Epoch 5: saving model to model_init_2022-09-1210_22_36.701003/model-00005-0.99576-0.63725-2.84161-0.23000.h5\n",
            "\n",
            "Epoch 5: ReduceLROnPlateau reducing learning rate to 0.00020000000949949026.\n",
            "34/34 [==============================] - 277s 8s/step - loss: 0.9958 - categorical_accuracy: 0.6373 - val_loss: 2.8416 - val_categorical_accuracy: 0.2300 - lr: 0.0010\n",
            "Epoch 6/25\n",
            "34/34 [==============================] - ETA: 0s - loss: 0.8024 - categorical_accuracy: 0.7074\n",
            "Epoch 6: saving model to model_init_2022-09-1210_22_36.701003/model-00006-0.80240-0.70739-2.75047-0.31000.h5\n",
            "34/34 [==============================] - 282s 9s/step - loss: 0.8024 - categorical_accuracy: 0.7074 - val_loss: 2.7505 - val_categorical_accuracy: 0.3100 - lr: 2.0000e-04\n",
            "Epoch 7/25\n",
            "34/34 [==============================] - ETA: 0s - loss: 0.7043 - categorical_accuracy: 0.7225\n",
            "Epoch 7: saving model to model_init_2022-09-1210_22_36.701003/model-00007-0.70432-0.72247-3.30874-0.26000.h5\n",
            "34/34 [==============================] - 287s 9s/step - loss: 0.7043 - categorical_accuracy: 0.7225 - val_loss: 3.3087 - val_categorical_accuracy: 0.2600 - lr: 2.0000e-04\n",
            "Epoch 8/25\n",
            "34/34 [==============================] - ETA: 0s - loss: 0.6434 - categorical_accuracy: 0.7602\n",
            "Epoch 8: saving model to model_init_2022-09-1210_22_36.701003/model-00008-0.64338-0.76018-2.80762-0.31000.h5\n",
            "34/34 [==============================] - 257s 8s/step - loss: 0.6434 - categorical_accuracy: 0.7602 - val_loss: 2.8076 - val_categorical_accuracy: 0.3100 - lr: 2.0000e-04\n",
            "Epoch 9/25\n",
            "34/34 [==============================] - ETA: 0s - loss: 0.6609 - categorical_accuracy: 0.7459\n",
            "Epoch 9: saving model to model_init_2022-09-1210_22_36.701003/model-00009-0.66089-0.74585-3.54644-0.31000.h5\n",
            "\n",
            "Epoch 9: ReduceLROnPlateau reducing learning rate to 4.0000001899898055e-05.\n",
            "34/34 [==============================] - 284s 9s/step - loss: 0.6609 - categorical_accuracy: 0.7459 - val_loss: 3.5464 - val_categorical_accuracy: 0.3100 - lr: 2.0000e-04\n",
            "Epoch 10/25\n",
            "34/34 [==============================] - ETA: 0s - loss: 0.6054 - categorical_accuracy: 0.7572\n",
            "Epoch 10: saving model to model_init_2022-09-1210_22_36.701003/model-00010-0.60536-0.75716-3.08635-0.31000.h5\n",
            "34/34 [==============================] - 253s 8s/step - loss: 0.6054 - categorical_accuracy: 0.7572 - val_loss: 3.0863 - val_categorical_accuracy: 0.3100 - lr: 4.0000e-05\n",
            "Epoch 11/25\n",
            "34/34 [==============================] - ETA: 0s - loss: 0.6035 - categorical_accuracy: 0.7760\n",
            "Epoch 11: saving model to model_init_2022-09-1210_22_36.701003/model-00011-0.60352-0.77602-2.71014-0.36000.h5\n",
            "34/34 [==============================] - 276s 8s/step - loss: 0.6035 - categorical_accuracy: 0.7760 - val_loss: 2.7101 - val_categorical_accuracy: 0.3600 - lr: 4.0000e-05\n",
            "Epoch 12/25\n",
            "34/34 [==============================] - ETA: 0s - loss: 0.5674 - categorical_accuracy: 0.7836\n",
            "Epoch 12: saving model to model_init_2022-09-1210_22_36.701003/model-00012-0.56744-0.78356-2.33424-0.34000.h5\n",
            "34/34 [==============================] - 268s 8s/step - loss: 0.5674 - categorical_accuracy: 0.7836 - val_loss: 2.3342 - val_categorical_accuracy: 0.3400 - lr: 4.0000e-05\n",
            "Epoch 13/25\n",
            "34/34 [==============================] - ETA: 0s - loss: 0.5343 - categorical_accuracy: 0.7956\n",
            "Epoch 13: saving model to model_init_2022-09-1210_22_36.701003/model-00013-0.53426-0.79563-1.92630-0.40000.h5\n",
            "34/34 [==============================] - 262s 8s/step - loss: 0.5343 - categorical_accuracy: 0.7956 - val_loss: 1.9263 - val_categorical_accuracy: 0.4000 - lr: 4.0000e-05\n",
            "Epoch 14/25\n",
            "34/34 [==============================] - ETA: 0s - loss: 0.5313 - categorical_accuracy: 0.7971\n",
            "Epoch 14: saving model to model_init_2022-09-1210_22_36.701003/model-00014-0.53128-0.79713-2.22318-0.38000.h5\n",
            "34/34 [==============================] - 269s 8s/step - loss: 0.5313 - categorical_accuracy: 0.7971 - val_loss: 2.2232 - val_categorical_accuracy: 0.3800 - lr: 4.0000e-05\n",
            "Epoch 15/25\n",
            "34/34 [==============================] - ETA: 0s - loss: 0.5711 - categorical_accuracy: 0.7768\n",
            "Epoch 15: saving model to model_init_2022-09-1210_22_36.701003/model-00015-0.57107-0.77677-1.71056-0.44000.h5\n",
            "34/34 [==============================] - 266s 8s/step - loss: 0.5711 - categorical_accuracy: 0.7768 - val_loss: 1.7106 - val_categorical_accuracy: 0.4400 - lr: 4.0000e-05\n",
            "Epoch 16/25\n",
            "34/34 [==============================] - ETA: 0s - loss: 0.5626 - categorical_accuracy: 0.7858\n",
            "Epoch 16: saving model to model_init_2022-09-1210_22_36.701003/model-00016-0.56260-0.78582-1.51414-0.47000.h5\n",
            "34/34 [==============================] - 263s 8s/step - loss: 0.5626 - categorical_accuracy: 0.7858 - val_loss: 1.5141 - val_categorical_accuracy: 0.4700 - lr: 4.0000e-05\n",
            "Epoch 17/25\n",
            "34/34 [==============================] - ETA: 0s - loss: 0.5576 - categorical_accuracy: 0.7949\n",
            "Epoch 17: saving model to model_init_2022-09-1210_22_36.701003/model-00017-0.55758-0.79487-1.38518-0.52000.h5\n",
            "34/34 [==============================] - 262s 8s/step - loss: 0.5576 - categorical_accuracy: 0.7949 - val_loss: 1.3852 - val_categorical_accuracy: 0.5200 - lr: 4.0000e-05\n",
            "Epoch 18/25\n",
            "34/34 [==============================] - ETA: 0s - loss: 0.5202 - categorical_accuracy: 0.8092\n",
            "Epoch 18: saving model to model_init_2022-09-1210_22_36.701003/model-00018-0.52024-0.80920-0.83922-0.62000.h5\n",
            "34/34 [==============================] - 285s 9s/step - loss: 0.5202 - categorical_accuracy: 0.8092 - val_loss: 0.8392 - val_categorical_accuracy: 0.6200 - lr: 4.0000e-05\n",
            "Epoch 19/25\n",
            "34/34 [==============================] - ETA: 0s - loss: 0.5162 - categorical_accuracy: 0.8039\n",
            "Epoch 19: saving model to model_init_2022-09-1210_22_36.701003/model-00019-0.51616-0.80392-1.12450-0.62000.h5\n",
            "34/34 [==============================] - 269s 8s/step - loss: 0.5162 - categorical_accuracy: 0.8039 - val_loss: 1.1245 - val_categorical_accuracy: 0.6200 - lr: 4.0000e-05\n",
            "Epoch 20/25\n",
            "34/34 [==============================] - ETA: 0s - loss: 0.4947 - categorical_accuracy: 0.8145\n",
            "Epoch 20: saving model to model_init_2022-09-1210_22_36.701003/model-00020-0.49465-0.81448-0.92644-0.68000.h5\n",
            "34/34 [==============================] - 279s 8s/step - loss: 0.4947 - categorical_accuracy: 0.8145 - val_loss: 0.9264 - val_categorical_accuracy: 0.6800 - lr: 4.0000e-05\n",
            "Epoch 21/25\n",
            "34/34 [==============================] - ETA: 0s - loss: 0.5589 - categorical_accuracy: 0.7896\n",
            "Epoch 21: saving model to model_init_2022-09-1210_22_36.701003/model-00021-0.55889-0.78959-0.90247-0.69000.h5\n",
            "34/34 [==============================] - 281s 9s/step - loss: 0.5589 - categorical_accuracy: 0.7896 - val_loss: 0.9025 - val_categorical_accuracy: 0.6900 - lr: 4.0000e-05\n",
            "Epoch 22/25\n",
            "34/34 [==============================] - ETA: 0s - loss: 0.4979 - categorical_accuracy: 0.8054\n",
            "Epoch 22: saving model to model_init_2022-09-1210_22_36.701003/model-00022-0.49790-0.80543-0.82940-0.78000.h5\n",
            "34/34 [==============================] - 262s 8s/step - loss: 0.4979 - categorical_accuracy: 0.8054 - val_loss: 0.8294 - val_categorical_accuracy: 0.7800 - lr: 4.0000e-05\n",
            "Epoch 23/25\n",
            "34/34 [==============================] - ETA: 0s - loss: 0.5172 - categorical_accuracy: 0.8069\n",
            "Epoch 23: saving model to model_init_2022-09-1210_22_36.701003/model-00023-0.51720-0.80694-0.73865-0.80000.h5\n",
            "34/34 [==============================] - 262s 8s/step - loss: 0.5172 - categorical_accuracy: 0.8069 - val_loss: 0.7387 - val_categorical_accuracy: 0.8000 - lr: 4.0000e-05\n",
            "Epoch 24/25\n",
            "34/34 [==============================] - ETA: 0s - loss: 0.5173 - categorical_accuracy: 0.8024\n",
            "Epoch 24: saving model to model_init_2022-09-1210_22_36.701003/model-00024-0.51730-0.80241-0.69400-0.83000.h5\n",
            "34/34 [==============================] - 265s 8s/step - loss: 0.5173 - categorical_accuracy: 0.8024 - val_loss: 0.6940 - val_categorical_accuracy: 0.8300 - lr: 4.0000e-05\n",
            "Epoch 25/25\n",
            "34/34 [==============================] - ETA: 0s - loss: 0.4831 - categorical_accuracy: 0.8145\n",
            "Epoch 25: saving model to model_init_2022-09-1210_22_36.701003/model-00025-0.48314-0.81448-0.58114-0.82000.h5\n",
            "34/34 [==============================] - 265s 8s/step - loss: 0.4831 - categorical_accuracy: 0.8145 - val_loss: 0.5811 - val_categorical_accuracy: 0.8200 - lr: 4.0000e-05\n"
          ]
        }
      ],
      "source": [
        "print(\"Total Params:\", conv_3d2_model.count_params())\n",
        "history_model2=conv_3d2.train_model(conv_3d2_model,augment_data=True)"
      ]
    },
    {
      "cell_type": "code",
      "execution_count": 29,
      "metadata": {
        "colab": {
          "base_uri": "https://localhost:8080/",
          "height": 265
        },
        "id": "yQejDMonmdkF",
        "outputId": "70ac3992-d1d3-4541-ec72-5929fa54f91a"
      },
      "outputs": [
        {
          "output_type": "display_data",
          "data": {
            "text/plain": [
              "<Figure size 1080x288 with 2 Axes>"
            ],
            "image/png": "[encoded data removed]"
          },
          "metadata": {
            "needs_background": "light"
          }
        }
      ],
      "source": [
        "plot(history_model2)"
      ]
    },
    {
      "cell_type": "markdown",
      "metadata": {
        "id": "w_vYNhzomdkF"
      },
      "source": [
        "##### Model is not overfitting and we get a best validation accuracy of 85% and training accuracy of 91%. Next we will try to reduce the filter size and image resolution and see if get better results. Moreover since we see minor oscillations  in loss, let's try lowering the learning rate to 0.0002"
      ]
    },
    {
      "cell_type": "markdown",
      "metadata": {
        "id": "uZkfaswjmdkF"
      },
      "source": [
        "# Model 3 - Reduce filter size to (2,2,2) and image res to 120 x  120"
      ]
    },
    {
      "cell_type": "code",
      "execution_count": 30,
      "metadata": {
        "id": "rA2lVMeCmdkF"
      },
      "outputs": [],
      "source": [
        "class ModelConv3D3(ModelBuilder):\n",
        "    \n",
        "    def define_model(self,filtersize=(3,3,3),dense_neurons=64,dropout=0.25):\n",
        "\n",
        "        model = Sequential()\n",
        "        model.add(Conv3D(16, filtersize, padding='same',\n",
        "                 input_shape=(self.frames_to_sample,self.image_height,self.image_width,self.channels)))\n",
        "        model.add(Activation('relu'))\n",
        "        model.add(BatchNormalization())\n",
        "        model.add(MaxPooling3D(pool_size=(2, 2, 2)))\n",
        "\n",
        "        model.add(Conv3D(32, filtersize, padding='same'))\n",
        "        model.add(Activation('relu'))\n",
        "        model.add(BatchNormalization())\n",
        "        model.add(MaxPooling3D(pool_size=(2, 2, 2)))\n",
        "\n",
        "        model.add(Conv3D(64, filtersize, padding='same'))\n",
        "        model.add(Activation('relu'))\n",
        "        model.add(BatchNormalization())\n",
        "        model.add(MaxPooling3D(pool_size=(2, 2, 2)))\n",
        "\n",
        "        model.add(Conv3D(128, filtersize, padding='same'))\n",
        "        model.add(Activation('relu'))\n",
        "        model.add(BatchNormalization())\n",
        "        model.add(MaxPooling3D(pool_size=(2, 2, 2)))\n",
        "\n",
        "        model.add(Flatten())\n",
        "        model.add(Dense(dense_neurons,activation='relu'))\n",
        "        model.add(BatchNormalization())\n",
        "        model.add(Dropout(dropout))\n",
        "\n",
        "        model.add(Dense(dense_neurons,activation='relu'))\n",
        "        model.add(BatchNormalization())\n",
        "        model.add(Dropout(dropout))\n",
        "\n",
        "\n",
        "        model.add(Dense(self.num_classes,activation='softmax'))\n",
        "\n",
        "        optimiser = optimizers.adam_v2.Adam(lr=0.0002)\n",
        "        model.compile(optimizer=optimiser, loss='categorical_crossentropy', metrics=['categorical_accuracy'])\n",
        "        return model"
      ]
    },
    {
      "cell_type": "code",
      "execution_count": 31,
      "metadata": {
        "colab": {
          "base_uri": "https://localhost:8080/"
        },
        "id": "cOM9d32KmdkF",
        "outputId": "4aa8bff0-ce40-4731-f315-c711251932a0"
      },
      "outputs": [
        {
          "output_type": "stream",
          "name": "stdout",
          "text": [
            "Model: \"sequential_14\"\n",
            "_________________________________________________________________\n",
            " Layer (type)                Output Shape              Param #   \n",
            "=================================================================\n",
            " conv3d_56 (Conv3D)          (None, 16, 120, 120, 16)  400       \n",
            "                                                                 \n",
            " activation_56 (Activation)  (None, 16, 120, 120, 16)  0         \n",
            "                                                                 \n",
            " batch_normalization_84 (Bat  (None, 16, 120, 120, 16)  64       \n",
            " chNormalization)                                                \n",
            "                                                                 \n",
            " max_pooling3d_56 (MaxPoolin  (None, 8, 60, 60, 16)    0         \n",
            " g3D)                                                            \n",
            "                                                                 \n",
            " conv3d_57 (Conv3D)          (None, 8, 60, 60, 32)     4128      \n",
            "                                                                 \n",
            " activation_57 (Activation)  (None, 8, 60, 60, 32)     0         \n",
            "                                                                 \n",
            " batch_normalization_85 (Bat  (None, 8, 60, 60, 32)    128       \n",
            " chNormalization)                                                \n",
            "                                                                 \n",
            " max_pooling3d_57 (MaxPoolin  (None, 4, 30, 30, 32)    0         \n",
            " g3D)                                                            \n",
            "                                                                 \n",
            " conv3d_58 (Conv3D)          (None, 4, 30, 30, 64)     16448     \n",
            "                                                                 \n",
            " activation_58 (Activation)  (None, 4, 30, 30, 64)     0         \n",
            "                                                                 \n",
            " batch_normalization_86 (Bat  (None, 4, 30, 30, 64)    256       \n",
            " chNormalization)                                                \n",
            "                                                                 \n",
            " max_pooling3d_58 (MaxPoolin  (None, 2, 15, 15, 64)    0         \n",
            " g3D)                                                            \n",
            "                                                                 \n",
            " conv3d_59 (Conv3D)          (None, 2, 15, 15, 128)    65664     \n",
            "                                                                 \n",
            " activation_59 (Activation)  (None, 2, 15, 15, 128)    0         \n",
            "                                                                 \n",
            " batch_normalization_87 (Bat  (None, 2, 15, 15, 128)   512       \n",
            " chNormalization)                                                \n",
            "                                                                 \n",
            " max_pooling3d_59 (MaxPoolin  (None, 1, 7, 7, 128)     0         \n",
            " g3D)                                                            \n",
            "                                                                 \n",
            " flatten_14 (Flatten)        (None, 6272)              0         \n",
            "                                                                 \n",
            " dense_42 (Dense)            (None, 256)               1605888   \n",
            "                                                                 \n",
            " batch_normalization_88 (Bat  (None, 256)              1024      \n",
            " chNormalization)                                                \n",
            "                                                                 \n",
            " dropout_28 (Dropout)        (None, 256)               0         \n",
            "                                                                 \n",
            " dense_43 (Dense)            (None, 256)               65792     \n",
            "                                                                 \n",
            " batch_normalization_89 (Bat  (None, 256)              1024      \n",
            " chNormalization)                                                \n",
            "                                                                 \n",
            " dropout_29 (Dropout)        (None, 256)               0         \n",
            "                                                                 \n",
            " dense_44 (Dense)            (None, 5)                 1285      \n",
            "                                                                 \n",
            "=================================================================\n",
            "Total params: 1,762,613\n",
            "Trainable params: 1,761,109\n",
            "Non-trainable params: 1,504\n",
            "_________________________________________________________________\n"
          ]
        }
      ],
      "source": [
        "conv_3d3=ModelConv3D3()\n",
        "conv_3d3.initialize_path(project_folder)\n",
        "conv_3d3.initialize_image_properties(image_height=120,image_width=120)\n",
        "conv_3d3.initialize_hyperparams(frames_to_sample=16,batch_size=30,num_epochs=30)\n",
        "conv_3d3_model=conv_3d3.define_model(filtersize=(2,2,2),dense_neurons=256,dropout=0.5)\n",
        "conv_3d3_model.summary()"
      ]
    },
    {
      "cell_type": "code",
      "execution_count": 32,
      "metadata": {
        "colab": {
          "base_uri": "https://localhost:8080/"
        },
        "id": "5eAPm1MgmdkF",
        "outputId": "54a1a822-fe51-40b1-8ccf-06cb52127046"
      },
      "outputs": [
        {
          "output_type": "stream",
          "name": "stderr",
          "text": [
            "WARNING:tensorflow:`period` argument is deprecated. Please use `save_freq` to specify the frequency in number of batches seen.\n"
          ]
        },
        {
          "output_type": "stream",
          "name": "stdout",
          "text": [
            "Total Params: 1762613\n",
            "Epoch 1/30\n",
            "23/23 [==============================] - ETA: 0s - loss: 2.1505 - categorical_accuracy: 0.3258\n",
            "Epoch 1: saving model to model_init_2022-09-1212_27_12.915772/model-00001-2.15046-0.32579-1.99862-0.21000.h5\n",
            "23/23 [==============================] - 196s 9s/step - loss: 2.1505 - categorical_accuracy: 0.3258 - val_loss: 1.9986 - val_categorical_accuracy: 0.2100 - lr: 2.0000e-04\n",
            "Epoch 2/30\n",
            "23/23 [==============================] - ETA: 0s - loss: 1.4386 - categorical_accuracy: 0.5098\n",
            "Epoch 2: saving model to model_init_2022-09-1212_27_12.915772/model-00002-1.43861-0.50980-2.96019-0.22000.h5\n",
            "23/23 [==============================] - 196s 9s/step - loss: 1.4386 - categorical_accuracy: 0.5098 - val_loss: 2.9602 - val_categorical_accuracy: 0.2200 - lr: 2.0000e-04\n",
            "Epoch 3/30\n",
            "23/23 [==============================] - ETA: 0s - loss: 1.2922 - categorical_accuracy: 0.5747\n",
            "Epoch 3: saving model to model_init_2022-09-1212_27_12.915772/model-00003-1.29221-0.57466-3.57389-0.16000.h5\n",
            "23/23 [==============================] - 192s 9s/step - loss: 1.2922 - categorical_accuracy: 0.5747 - val_loss: 3.5739 - val_categorical_accuracy: 0.1600 - lr: 2.0000e-04\n",
            "Epoch 4/30\n",
            "23/23 [==============================] - ETA: 0s - loss: 1.1241 - categorical_accuracy: 0.5928\n",
            "Epoch 4: saving model to model_init_2022-09-1212_27_12.915772/model-00004-1.12405-0.59276-4.28429-0.24000.h5\n",
            "23/23 [==============================] - 190s 9s/step - loss: 1.1241 - categorical_accuracy: 0.5928 - val_loss: 4.2843 - val_categorical_accuracy: 0.2400 - lr: 2.0000e-04\n",
            "Epoch 5/30\n",
            "23/23 [==============================] - ETA: 0s - loss: 1.0245 - categorical_accuracy: 0.6418\n",
            "Epoch 5: saving model to model_init_2022-09-1212_27_12.915772/model-00005-1.02455-0.64178-5.59467-0.21000.h5\n",
            "\n",
            "Epoch 5: ReduceLROnPlateau reducing learning rate to 3.9999998989515007e-05.\n",
            "23/23 [==============================] - 199s 9s/step - loss: 1.0245 - categorical_accuracy: 0.6418 - val_loss: 5.5947 - val_categorical_accuracy: 0.2100 - lr: 2.0000e-04\n",
            "Epoch 6/30\n",
            "23/23 [==============================] - ETA: 0s - loss: 0.9172 - categorical_accuracy: 0.6674\n",
            "Epoch 6: saving model to model_init_2022-09-1212_27_12.915772/model-00006-0.91718-0.66742-6.29368-0.23000.h5\n",
            "23/23 [==============================] - 181s 8s/step - loss: 0.9172 - categorical_accuracy: 0.6674 - val_loss: 6.2937 - val_categorical_accuracy: 0.2300 - lr: 4.0000e-05\n",
            "Epoch 7/30\n",
            "23/23 [==============================] - ETA: 0s - loss: 0.9339 - categorical_accuracy: 0.6719\n",
            "Epoch 7: saving model to model_init_2022-09-1212_27_12.915772/model-00007-0.93393-0.67195-7.30747-0.18000.h5\n",
            "23/23 [==============================] - 176s 8s/step - loss: 0.9339 - categorical_accuracy: 0.6719 - val_loss: 7.3075 - val_categorical_accuracy: 0.1800 - lr: 4.0000e-05\n",
            "Epoch 8/30\n",
            "23/23 [==============================] - ETA: 0s - loss: 0.8658 - categorical_accuracy: 0.6908\n",
            "Epoch 8: saving model to model_init_2022-09-1212_27_12.915772/model-00008-0.86576-0.69080-7.33061-0.20000.h5\n",
            "23/23 [==============================] - 183s 8s/step - loss: 0.8658 - categorical_accuracy: 0.6908 - val_loss: 7.3306 - val_categorical_accuracy: 0.2000 - lr: 4.0000e-05\n",
            "Epoch 9/30\n",
            "23/23 [==============================] - ETA: 0s - loss: 0.8162 - categorical_accuracy: 0.6833\n",
            "Epoch 9: saving model to model_init_2022-09-1212_27_12.915772/model-00009-0.81615-0.68326-7.61477-0.28000.h5\n",
            "\n",
            "Epoch 9: ReduceLROnPlateau reducing learning rate to 7.999999797903002e-06.\n",
            "23/23 [==============================] - 189s 9s/step - loss: 0.8162 - categorical_accuracy: 0.6833 - val_loss: 7.6148 - val_categorical_accuracy: 0.2800 - lr: 4.0000e-05\n",
            "Epoch 10/30\n",
            "23/23 [==============================] - ETA: 0s - loss: 0.8529 - categorical_accuracy: 0.6938\n",
            "Epoch 10: saving model to model_init_2022-09-1212_27_12.915772/model-00010-0.85295-0.69382-7.34911-0.26000.h5\n",
            "23/23 [==============================] - 193s 9s/step - loss: 0.8529 - categorical_accuracy: 0.6938 - val_loss: 7.3491 - val_categorical_accuracy: 0.2600 - lr: 8.0000e-06\n",
            "Epoch 11/30\n",
            "23/23 [==============================] - ETA: 0s - loss: 0.8261 - categorical_accuracy: 0.7066\n",
            "Epoch 11: saving model to model_init_2022-09-1212_27_12.915772/model-00011-0.82614-0.70664-7.66651-0.23000.h5\n",
            "23/23 [==============================] - 190s 9s/step - loss: 0.8261 - categorical_accuracy: 0.7066 - val_loss: 7.6665 - val_categorical_accuracy: 0.2300 - lr: 8.0000e-06\n",
            "Epoch 12/30\n",
            "23/23 [==============================] - ETA: 0s - loss: 0.7935 - categorical_accuracy: 0.7089\n",
            "Epoch 12: saving model to model_init_2022-09-1212_27_12.915772/model-00012-0.79348-0.70890-8.33333-0.22000.h5\n",
            "23/23 [==============================] - 186s 8s/step - loss: 0.7935 - categorical_accuracy: 0.7089 - val_loss: 8.3333 - val_categorical_accuracy: 0.2200 - lr: 8.0000e-06\n",
            "Epoch 13/30\n",
            "23/23 [==============================] - ETA: 0s - loss: 0.7867 - categorical_accuracy: 0.7134\n",
            "Epoch 13: saving model to model_init_2022-09-1212_27_12.915772/model-00013-0.78675-0.71342-7.77448-0.22000.h5\n",
            "\n",
            "Epoch 13: ReduceLROnPlateau reducing learning rate to 1.5999999959603884e-06.\n",
            "23/23 [==============================] - 194s 9s/step - loss: 0.7867 - categorical_accuracy: 0.7134 - val_loss: 7.7745 - val_categorical_accuracy: 0.2200 - lr: 8.0000e-06\n",
            "Epoch 14/30\n",
            "23/23 [==============================] - ETA: 0s - loss: 0.7801 - categorical_accuracy: 0.7006\n",
            "Epoch 14: saving model to model_init_2022-09-1212_27_12.915772/model-00014-0.78011-0.70060-7.30446-0.24000.h5\n",
            "23/23 [==============================] - 192s 9s/step - loss: 0.7801 - categorical_accuracy: 0.7006 - val_loss: 7.3045 - val_categorical_accuracy: 0.2400 - lr: 1.6000e-06\n",
            "Epoch 15/30\n",
            "23/23 [==============================] - ETA: 0s - loss: 0.8231 - categorical_accuracy: 0.7044\n",
            "Epoch 15: saving model to model_init_2022-09-1212_27_12.915772/model-00015-0.82313-0.70437-6.54885-0.36000.h5\n",
            "23/23 [==============================] - 196s 9s/step - loss: 0.8231 - categorical_accuracy: 0.7044 - val_loss: 6.5489 - val_categorical_accuracy: 0.3600 - lr: 1.6000e-06\n",
            "Epoch 16/30\n",
            "23/23 [==============================] - ETA: 0s - loss: 0.8591 - categorical_accuracy: 0.6916\n",
            "Epoch 16: saving model to model_init_2022-09-1212_27_12.915772/model-00016-0.85908-0.69155-6.44380-0.24000.h5\n",
            "23/23 [==============================] - 186s 8s/step - loss: 0.8591 - categorical_accuracy: 0.6916 - val_loss: 6.4438 - val_categorical_accuracy: 0.2400 - lr: 1.6000e-06\n",
            "Epoch 17/30\n",
            "23/23 [==============================] - ETA: 0s - loss: 0.7676 - categorical_accuracy: 0.7066\n",
            "Epoch 17: saving model to model_init_2022-09-1212_27_12.915772/model-00017-0.76755-0.70664-5.85302-0.28000.h5\n",
            "\n",
            "Epoch 17: ReduceLROnPlateau reducing learning rate to 3.200000037395512e-07.\n",
            "23/23 [==============================] - 190s 9s/step - loss: 0.7676 - categorical_accuracy: 0.7066 - val_loss: 5.8530 - val_categorical_accuracy: 0.2800 - lr: 1.6000e-06\n",
            "Epoch 18/30\n",
            "23/23 [==============================] - ETA: 0s - loss: 0.7625 - categorical_accuracy: 0.7179\n",
            "Epoch 18: saving model to model_init_2022-09-1212_27_12.915772/model-00018-0.76249-0.71795-5.16203-0.31000.h5\n",
            "23/23 [==============================] - 188s 9s/step - loss: 0.7625 - categorical_accuracy: 0.7179 - val_loss: 5.1620 - val_categorical_accuracy: 0.3100 - lr: 3.2000e-07\n",
            "Epoch 19/30\n",
            "23/23 [==============================] - ETA: 0s - loss: 0.8044 - categorical_accuracy: 0.6983\n",
            "Epoch 19: saving model to model_init_2022-09-1212_27_12.915772/model-00019-0.80444-0.69834-4.94124-0.29000.h5\n",
            "23/23 [==============================] - 187s 9s/step - loss: 0.8044 - categorical_accuracy: 0.6983 - val_loss: 4.9412 - val_categorical_accuracy: 0.2900 - lr: 3.2000e-07\n",
            "Epoch 20/30\n",
            "23/23 [==============================] - ETA: 0s - loss: 0.8155 - categorical_accuracy: 0.6900\n",
            "Epoch 20: saving model to model_init_2022-09-1212_27_12.915772/model-00020-0.81549-0.69005-3.95402-0.32000.h5\n",
            "23/23 [==============================] - 179s 8s/step - loss: 0.8155 - categorical_accuracy: 0.6900 - val_loss: 3.9540 - val_categorical_accuracy: 0.3200 - lr: 3.2000e-07\n",
            "Epoch 21/30\n",
            "23/23 [==============================] - ETA: 0s - loss: 0.8271 - categorical_accuracy: 0.6938\n",
            "Epoch 21: saving model to model_init_2022-09-1212_27_12.915772/model-00021-0.82712-0.69382-3.43557-0.33000.h5\n",
            "\n",
            "Epoch 21: ReduceLROnPlateau reducing learning rate to 6.399999961104187e-08.\n",
            "23/23 [==============================] - 186s 8s/step - loss: 0.8271 - categorical_accuracy: 0.6938 - val_loss: 3.4356 - val_categorical_accuracy: 0.3300 - lr: 3.2000e-07\n",
            "Epoch 22/30\n",
            "23/23 [==============================] - ETA: 0s - loss: 0.8721 - categorical_accuracy: 0.6697\n",
            "Epoch 22: saving model to model_init_2022-09-1212_27_12.915772/model-00022-0.87210-0.66968-2.86775-0.31000.h5\n",
            "23/23 [==============================] - 192s 9s/step - loss: 0.8721 - categorical_accuracy: 0.6697 - val_loss: 2.8677 - val_categorical_accuracy: 0.3100 - lr: 6.4000e-08\n",
            "Epoch 23/30\n",
            "23/23 [==============================] - ETA: 0s - loss: 0.8095 - categorical_accuracy: 0.7044\n",
            "Epoch 23: saving model to model_init_2022-09-1212_27_12.915772/model-00023-0.80953-0.70437-2.58581-0.38000.h5\n",
            "23/23 [==============================] - 192s 9s/step - loss: 0.8095 - categorical_accuracy: 0.7044 - val_loss: 2.5858 - val_categorical_accuracy: 0.3800 - lr: 6.4000e-08\n",
            "Epoch 24/30\n",
            "23/23 [==============================] - ETA: 0s - loss: 0.8238 - categorical_accuracy: 0.6908\n",
            "Epoch 24: saving model to model_init_2022-09-1212_27_12.915772/model-00024-0.82376-0.69080-2.10583-0.43000.h5\n",
            "23/23 [==============================] - 184s 8s/step - loss: 0.8238 - categorical_accuracy: 0.6908 - val_loss: 2.1058 - val_categorical_accuracy: 0.4300 - lr: 6.4000e-08\n",
            "Epoch 25/30\n",
            "23/23 [==============================] - ETA: 0s - loss: 0.8257 - categorical_accuracy: 0.7179\n",
            "Epoch 25: saving model to model_init_2022-09-1212_27_12.915772/model-00025-0.82575-0.71795-1.80681-0.47000.h5\n",
            "23/23 [==============================] - 186s 8s/step - loss: 0.8257 - categorical_accuracy: 0.7179 - val_loss: 1.8068 - val_categorical_accuracy: 0.4700 - lr: 6.4000e-08\n",
            "Epoch 26/30\n",
            "23/23 [==============================] - ETA: 0s - loss: 0.7983 - categorical_accuracy: 0.7051\n",
            "Epoch 26: saving model to model_init_2022-09-1212_27_12.915772/model-00026-0.79830-0.70513-1.64638-0.51000.h5\n",
            "23/23 [==============================] - 190s 9s/step - loss: 0.7983 - categorical_accuracy: 0.7051 - val_loss: 1.6464 - val_categorical_accuracy: 0.5100 - lr: 6.4000e-08\n",
            "Epoch 27/30\n",
            "23/23 [==============================] - ETA: 0s - loss: 0.8212 - categorical_accuracy: 0.6923\n",
            "Epoch 27: saving model to model_init_2022-09-1212_27_12.915772/model-00027-0.82124-0.69231-1.38495-0.50000.h5\n",
            "23/23 [==============================] - 196s 9s/step - loss: 0.8212 - categorical_accuracy: 0.6923 - val_loss: 1.3849 - val_categorical_accuracy: 0.5000 - lr: 6.4000e-08\n",
            "Epoch 28/30\n",
            "23/23 [==============================] - ETA: 0s - loss: 0.7789 - categorical_accuracy: 0.7014\n",
            "Epoch 28: saving model to model_init_2022-09-1212_27_12.915772/model-00028-0.77895-0.70136-1.28927-0.55000.h5\n",
            "23/23 [==============================] - 191s 9s/step - loss: 0.7789 - categorical_accuracy: 0.7014 - val_loss: 1.2893 - val_categorical_accuracy: 0.5500 - lr: 6.4000e-08\n",
            "Epoch 29/30\n",
            "23/23 [==============================] - ETA: 0s - loss: 0.7910 - categorical_accuracy: 0.7044\n",
            "Epoch 29: saving model to model_init_2022-09-1212_27_12.915772/model-00029-0.79100-0.70437-1.14576-0.61000.h5\n",
            "23/23 [==============================] - 190s 9s/step - loss: 0.7910 - categorical_accuracy: 0.7044 - val_loss: 1.1458 - val_categorical_accuracy: 0.6100 - lr: 6.4000e-08\n",
            "Epoch 30/30\n",
            "23/23 [==============================] - ETA: 0s - loss: 0.8467 - categorical_accuracy: 0.6727\n",
            "Epoch 30: saving model to model_init_2022-09-1212_27_12.915772/model-00030-0.84673-0.67270-0.89480-0.74000.h5\n",
            "23/23 [==============================] - 186s 8s/step - loss: 0.8467 - categorical_accuracy: 0.6727 - val_loss: 0.8948 - val_categorical_accuracy: 0.7400 - lr: 6.4000e-08\n"
          ]
        }
      ],
      "source": [
        "print(\"Total Params:\", conv_3d3_model.count_params())\n",
        "history_model3=conv_3d3.train_model(conv_3d3_model,augment_data=True)"
      ]
    },
    {
      "cell_type": "code",
      "execution_count": 33,
      "metadata": {
        "id": "4kmiCHoBmdkG",
        "colab": {
          "base_uri": "https://localhost:8080/",
          "height": 265
        },
        "outputId": "2f078a04-858d-4bac-87de-b1ca82717cf8"
      },
      "outputs": [
        {
          "output_type": "display_data",
          "data": {
            "text/plain": [
              "<Figure size 1080x288 with 2 Axes>"
            ],
            "image/png": "[encoded data removed]"
          },
          "metadata": {
            "needs_background": "light"
          }
        }
      ],
      "source": [
        "plot(history_model3)"
      ]
    },
    {
      "cell_type": "markdown",
      "metadata": {
        "id": "curTVhO0mdkG"
      },
      "source": [
        "##### Model has a  best validation accuracy of 84% and training accuracy of 84% . Also we were able to reduce the parameter size by half the earlier model. Let's trying adding more layers"
      ]
    },
    {
      "cell_type": "markdown",
      "metadata": {
        "id": "d253GKwemdkG"
      },
      "source": [
        "# Model 4 - Adding more layers"
      ]
    },
    {
      "cell_type": "code",
      "execution_count": 34,
      "metadata": {
        "id": "g0sY4WRHmdkG"
      },
      "outputs": [],
      "source": [
        "class ModelConv3D4(ModelBuilder):\n",
        "    \n",
        "    def define_model(self,filtersize=(3,3,3),dense_neurons=64,dropout=0.25):\n",
        "\n",
        "        model = Sequential()\n",
        "        model.add(Conv3D(16, filtersize, padding='same',\n",
        "                 input_shape=(self.frames_to_sample,self.image_height,self.image_width,self.channels)))\n",
        "        model.add(Activation('relu'))\n",
        "        model.add(BatchNormalization())\n",
        "        \n",
        "        model.add(Conv3D(16, filtersize, padding='same',\n",
        "                 input_shape=(self.frames_to_sample,self.image_height,self.image_width,self.channels)))\n",
        "        model.add(Activation('relu'))\n",
        "        model.add(BatchNormalization())\n",
        "        \n",
        "        model.add(MaxPooling3D(pool_size=(2, 2, 2)))\n",
        "\n",
        "        model.add(Conv3D(32, filtersize, padding='same'))\n",
        "        model.add(Activation('relu'))\n",
        "        model.add(BatchNormalization())\n",
        "        \n",
        "        model.add(Conv3D(32, filtersize, padding='same'))\n",
        "        model.add(Activation('relu'))\n",
        "        model.add(BatchNormalization())\n",
        "        \n",
        "        model.add(MaxPooling3D(pool_size=(2, 2, 2)))\n",
        "\n",
        "        model.add(Conv3D(64, filtersize, padding='same'))\n",
        "        model.add(Activation('relu'))\n",
        "        model.add(BatchNormalization())\n",
        "        \n",
        "        model.add(Conv3D(64, filtersize, padding='same'))\n",
        "        model.add(Activation('relu'))\n",
        "        model.add(BatchNormalization())\n",
        "        \n",
        "        model.add(MaxPooling3D(pool_size=(2, 2, 2)))\n",
        "\n",
        "        model.add(Conv3D(128, filtersize, padding='same'))\n",
        "        model.add(Activation('relu'))\n",
        "        model.add(BatchNormalization())\n",
        "        \n",
        "        model.add(Conv3D(128, filtersize, padding='same'))\n",
        "        model.add(Activation('relu'))\n",
        "        model.add(BatchNormalization())\n",
        "        \n",
        "        model.add(MaxPooling3D(pool_size=(2, 2, 2)))\n",
        "        \n",
        "\n",
        "        model.add(Flatten())\n",
        "        model.add(Dense(dense_neurons,activation='relu'))\n",
        "        model.add(BatchNormalization())\n",
        "        model.add(Dropout(dropout))\n",
        "\n",
        "        model.add(Dense(dense_neurons,activation='relu'))\n",
        "        model.add(BatchNormalization())\n",
        "        model.add(Dropout(dropout))\n",
        "\n",
        "\n",
        "        model.add(Dense(self.num_classes,activation='softmax'))\n",
        "\n",
        "        optimiser = optimizers.adam_v2.Adam()\n",
        "        model.compile(optimizer=optimiser, loss='categorical_crossentropy', metrics=['categorical_accuracy'])\n",
        "        return model"
      ]
    },
    {
      "cell_type": "code",
      "execution_count": 35,
      "metadata": {
        "id": "qkJPiuBumdkG",
        "colab": {
          "base_uri": "https://localhost:8080/"
        },
        "outputId": "54fb125d-420d-4ffc-aab1-1ea9fe3d8d3d"
      },
      "outputs": [
        {
          "output_type": "stream",
          "name": "stdout",
          "text": [
            "Model: \"sequential_15\"\n",
            "_________________________________________________________________\n",
            " Layer (type)                Output Shape              Param #   \n",
            "=================================================================\n",
            " conv3d_60 (Conv3D)          (None, 16, 120, 120, 16)  1312      \n",
            "                                                                 \n",
            " activation_60 (Activation)  (None, 16, 120, 120, 16)  0         \n",
            "                                                                 \n",
            " batch_normalization_90 (Bat  (None, 16, 120, 120, 16)  64       \n",
            " chNormalization)                                                \n",
            "                                                                 \n",
            " conv3d_61 (Conv3D)          (None, 16, 120, 120, 16)  6928      \n",
            "                                                                 \n",
            " activation_61 (Activation)  (None, 16, 120, 120, 16)  0         \n",
            "                                                                 \n",
            " batch_normalization_91 (Bat  (None, 16, 120, 120, 16)  64       \n",
            " chNormalization)                                                \n",
            "                                                                 \n",
            " max_pooling3d_60 (MaxPoolin  (None, 8, 60, 60, 16)    0         \n",
            " g3D)                                                            \n",
            "                                                                 \n",
            " conv3d_62 (Conv3D)          (None, 8, 60, 60, 32)     13856     \n",
            "                                                                 \n",
            " activation_62 (Activation)  (None, 8, 60, 60, 32)     0         \n",
            "                                                                 \n",
            " batch_normalization_92 (Bat  (None, 8, 60, 60, 32)    128       \n",
            " chNormalization)                                                \n",
            "                                                                 \n",
            " conv3d_63 (Conv3D)          (None, 8, 60, 60, 32)     27680     \n",
            "                                                                 \n",
            " activation_63 (Activation)  (None, 8, 60, 60, 32)     0         \n",
            "                                                                 \n",
            " batch_normalization_93 (Bat  (None, 8, 60, 60, 32)    128       \n",
            " chNormalization)                                                \n",
            "                                                                 \n",
            " max_pooling3d_61 (MaxPoolin  (None, 4, 30, 30, 32)    0         \n",
            " g3D)                                                            \n",
            "                                                                 \n",
            " conv3d_64 (Conv3D)          (None, 4, 30, 30, 64)     55360     \n",
            "                                                                 \n",
            " activation_64 (Activation)  (None, 4, 30, 30, 64)     0         \n",
            "                                                                 \n",
            " batch_normalization_94 (Bat  (None, 4, 30, 30, 64)    256       \n",
            " chNormalization)                                                \n",
            "                                                                 \n",
            " conv3d_65 (Conv3D)          (None, 4, 30, 30, 64)     110656    \n",
            "                                                                 \n",
            " activation_65 (Activation)  (None, 4, 30, 30, 64)     0         \n",
            "                                                                 \n",
            " batch_normalization_95 (Bat  (None, 4, 30, 30, 64)    256       \n",
            " chNormalization)                                                \n",
            "                                                                 \n",
            " max_pooling3d_62 (MaxPoolin  (None, 2, 15, 15, 64)    0         \n",
            " g3D)                                                            \n",
            "                                                                 \n",
            " conv3d_66 (Conv3D)          (None, 2, 15, 15, 128)    221312    \n",
            "                                                                 \n",
            " activation_66 (Activation)  (None, 2, 15, 15, 128)    0         \n",
            "                                                                 \n",
            " batch_normalization_96 (Bat  (None, 2, 15, 15, 128)   512       \n",
            " chNormalization)                                                \n",
            "                                                                 \n",
            " conv3d_67 (Conv3D)          (None, 2, 15, 15, 128)    442496    \n",
            "                                                                 \n",
            " activation_67 (Activation)  (None, 2, 15, 15, 128)    0         \n",
            "                                                                 \n",
            " batch_normalization_97 (Bat  (None, 2, 15, 15, 128)   512       \n",
            " chNormalization)                                                \n",
            "                                                                 \n",
            " max_pooling3d_63 (MaxPoolin  (None, 1, 7, 7, 128)     0         \n",
            " g3D)                                                            \n",
            "                                                                 \n",
            " flatten_15 (Flatten)        (None, 6272)              0         \n",
            "                                                                 \n",
            " dense_45 (Dense)            (None, 256)               1605888   \n",
            "                                                                 \n",
            " batch_normalization_98 (Bat  (None, 256)              1024      \n",
            " chNormalization)                                                \n",
            "                                                                 \n",
            " dropout_30 (Dropout)        (None, 256)               0         \n",
            "                                                                 \n",
            " dense_46 (Dense)            (None, 256)               65792     \n",
            "                                                                 \n",
            " batch_normalization_99 (Bat  (None, 256)              1024      \n",
            " chNormalization)                                                \n",
            "                                                                 \n",
            " dropout_31 (Dropout)        (None, 256)               0         \n",
            "                                                                 \n",
            " dense_47 (Dense)            (None, 5)                 1285      \n",
            "                                                                 \n",
            "=================================================================\n",
            "Total params: 2,556,533\n",
            "Trainable params: 2,554,549\n",
            "Non-trainable params: 1,984\n",
            "_________________________________________________________________\n"
          ]
        }
      ],
      "source": [
        "conv_3d4=ModelConv3D4()\n",
        "conv_3d4.initialize_path(project_folder)\n",
        "conv_3d4.initialize_image_properties(image_height=120,image_width=120)\n",
        "conv_3d4.initialize_hyperparams(frames_to_sample=16,batch_size=20,num_epochs=30)\n",
        "conv_3d4_model=conv_3d4.define_model(filtersize=(3,3,3),dense_neurons=256,dropout=0.5)\n",
        "conv_3d4_model.summary()"
      ]
    },
    {
      "cell_type": "code",
      "execution_count": 36,
      "metadata": {
        "id": "E_guMpTimdkH",
        "colab": {
          "base_uri": "https://localhost:8080/"
        },
        "outputId": "5bf32262-a491-42aa-a180-d4a6ad42960e"
      },
      "outputs": [
        {
          "output_type": "stream",
          "name": "stderr",
          "text": [
            "WARNING:tensorflow:`period` argument is deprecated. Please use `save_freq` to specify the frequency in number of batches seen.\n"
          ]
        },
        {
          "output_type": "stream",
          "name": "stdout",
          "text": [
            "Total Params: 2556533\n",
            "Epoch 1/30\n",
            "34/34 [==============================] - ETA: 0s - loss: 1.9791 - categorical_accuracy: 0.3650\n",
            "Epoch 1: saving model to model_init_2022-09-1214_02_17.694256/model-00001-1.97908-0.36501-1.70875-0.36000.h5\n",
            "34/34 [==============================] - 208s 6s/step - loss: 1.9791 - categorical_accuracy: 0.3650 - val_loss: 1.7087 - val_categorical_accuracy: 0.3600 - lr: 0.0010\n",
            "Epoch 2/30\n",
            "34/34 [==============================] - ETA: 0s - loss: 1.5168 - categorical_accuracy: 0.4744\n",
            "Epoch 2: saving model to model_init_2022-09-1214_02_17.694256/model-00002-1.51678-0.47436-2.60478-0.19000.h5\n",
            "34/34 [==============================] - 196s 6s/step - loss: 1.5168 - categorical_accuracy: 0.4744 - val_loss: 2.6048 - val_categorical_accuracy: 0.1900 - lr: 0.0010\n",
            "Epoch 3/30\n",
            "34/34 [==============================] - ETA: 0s - loss: 1.3030 - categorical_accuracy: 0.5204\n",
            "Epoch 3: saving model to model_init_2022-09-1214_02_17.694256/model-00003-1.30297-0.52036-2.37085-0.36000.h5\n",
            "34/34 [==============================] - 201s 6s/step - loss: 1.3030 - categorical_accuracy: 0.5204 - val_loss: 2.3708 - val_categorical_accuracy: 0.3600 - lr: 0.0010\n",
            "Epoch 4/30\n",
            "34/34 [==============================] - ETA: 0s - loss: 1.2643 - categorical_accuracy: 0.5528\n",
            "Epoch 4: saving model to model_init_2022-09-1214_02_17.694256/model-00004-1.26431-0.55279-2.48228-0.26000.h5\n",
            "34/34 [==============================] - 188s 6s/step - loss: 1.2643 - categorical_accuracy: 0.5528 - val_loss: 2.4823 - val_categorical_accuracy: 0.2600 - lr: 0.0010\n",
            "Epoch 5/30\n",
            "34/34 [==============================] - ETA: 0s - loss: 1.1115 - categorical_accuracy: 0.5905\n",
            "Epoch 5: saving model to model_init_2022-09-1214_02_17.694256/model-00005-1.11155-0.59050-3.13006-0.33000.h5\n",
            "\n",
            "Epoch 5: ReduceLROnPlateau reducing learning rate to 0.00020000000949949026.\n",
            "34/34 [==============================] - 199s 6s/step - loss: 1.1115 - categorical_accuracy: 0.5905 - val_loss: 3.1301 - val_categorical_accuracy: 0.3300 - lr: 0.0010\n",
            "Epoch 6/30\n",
            "34/34 [==============================] - ETA: 0s - loss: 0.9671 - categorical_accuracy: 0.6418\n",
            "Epoch 6: saving model to model_init_2022-09-1214_02_17.694256/model-00006-0.96713-0.64178-2.56109-0.35000.h5\n",
            "34/34 [==============================] - 191s 6s/step - loss: 0.9671 - categorical_accuracy: 0.6418 - val_loss: 2.5611 - val_categorical_accuracy: 0.3500 - lr: 2.0000e-04\n",
            "Epoch 7/30\n",
            "34/34 [==============================] - ETA: 0s - loss: 0.8771 - categorical_accuracy: 0.6674\n",
            "Epoch 7: saving model to model_init_2022-09-1214_02_17.694256/model-00007-0.87706-0.66742-2.68300-0.32000.h5\n",
            "34/34 [==============================] - 196s 6s/step - loss: 0.8771 - categorical_accuracy: 0.6674 - val_loss: 2.6830 - val_categorical_accuracy: 0.3200 - lr: 2.0000e-04\n",
            "Epoch 8/30\n",
            "34/34 [==============================] - ETA: 0s - loss: 0.8354 - categorical_accuracy: 0.6825\n",
            "Epoch 8: saving model to model_init_2022-09-1214_02_17.694256/model-00008-0.83541-0.68250-3.10696-0.28000.h5\n",
            "34/34 [==============================] - 202s 6s/step - loss: 0.8354 - categorical_accuracy: 0.6825 - val_loss: 3.1070 - val_categorical_accuracy: 0.2800 - lr: 2.0000e-04\n",
            "Epoch 9/30\n",
            "34/34 [==============================] - ETA: 0s - loss: 0.7210 - categorical_accuracy: 0.7179\n",
            "Epoch 9: saving model to model_init_2022-09-1214_02_17.694256/model-00009-0.72104-0.71795-2.93282-0.26000.h5\n",
            "\n",
            "Epoch 9: ReduceLROnPlateau reducing learning rate to 4.0000001899898055e-05.\n",
            "34/34 [==============================] - 198s 6s/step - loss: 0.7210 - categorical_accuracy: 0.7179 - val_loss: 2.9328 - val_categorical_accuracy: 0.2600 - lr: 2.0000e-04\n",
            "Epoch 10/30\n",
            "34/34 [==============================] - ETA: 0s - loss: 0.7030 - categorical_accuracy: 0.7345\n",
            "Epoch 10: saving model to model_init_2022-09-1214_02_17.694256/model-00010-0.70303-0.73454-2.50580-0.34000.h5\n",
            "34/34 [==============================] - 197s 6s/step - loss: 0.7030 - categorical_accuracy: 0.7345 - val_loss: 2.5058 - val_categorical_accuracy: 0.3400 - lr: 4.0000e-05\n",
            "Epoch 11/30\n",
            "34/34 [==============================] - ETA: 0s - loss: 0.6797 - categorical_accuracy: 0.7436\n",
            "Epoch 11: saving model to model_init_2022-09-1214_02_17.694256/model-00011-0.67965-0.74359-2.58036-0.33000.h5\n",
            "34/34 [==============================] - 204s 6s/step - loss: 0.6797 - categorical_accuracy: 0.7436 - val_loss: 2.5804 - val_categorical_accuracy: 0.3300 - lr: 4.0000e-05\n",
            "Epoch 12/30\n",
            "34/34 [==============================] - ETA: 0s - loss: 0.6972 - categorical_accuracy: 0.7330\n",
            "Epoch 12: saving model to model_init_2022-09-1214_02_17.694256/model-00012-0.69717-0.73303-1.89029-0.49000.h5\n",
            "34/34 [==============================] - 193s 6s/step - loss: 0.6972 - categorical_accuracy: 0.7330 - val_loss: 1.8903 - val_categorical_accuracy: 0.4900 - lr: 4.0000e-05\n",
            "Epoch 13/30\n",
            "34/34 [==============================] - ETA: 0s - loss: 0.6815 - categorical_accuracy: 0.7557\n",
            "Epoch 13: saving model to model_init_2022-09-1214_02_17.694256/model-00013-0.68153-0.75566-2.18468-0.38000.h5\n",
            "\n",
            "Epoch 13: ReduceLROnPlateau reducing learning rate to 8.000000525498762e-06.\n",
            "34/34 [==============================] - 193s 6s/step - loss: 0.6815 - categorical_accuracy: 0.7557 - val_loss: 2.1847 - val_categorical_accuracy: 0.3800 - lr: 4.0000e-05\n",
            "Epoch 14/30\n",
            "34/34 [==============================] - ETA: 0s - loss: 0.6742 - categorical_accuracy: 0.7526\n",
            "Epoch 14: saving model to model_init_2022-09-1214_02_17.694256/model-00014-0.67420-0.75264-1.60380-0.53000.h5\n",
            "34/34 [==============================] - 195s 6s/step - loss: 0.6742 - categorical_accuracy: 0.7526 - val_loss: 1.6038 - val_categorical_accuracy: 0.5300 - lr: 8.0000e-06\n",
            "Epoch 15/30\n",
            "34/34 [==============================] - ETA: 0s - loss: 0.6477 - categorical_accuracy: 0.7647\n",
            "Epoch 15: saving model to model_init_2022-09-1214_02_17.694256/model-00015-0.64766-0.76471-1.47606-0.49000.h5\n",
            "34/34 [==============================] - 195s 6s/step - loss: 0.6477 - categorical_accuracy: 0.7647 - val_loss: 1.4761 - val_categorical_accuracy: 0.4900 - lr: 8.0000e-06\n",
            "Epoch 16/30\n",
            "34/34 [==============================] - ETA: 0s - loss: 0.6479 - categorical_accuracy: 0.7617\n",
            "Epoch 16: saving model to model_init_2022-09-1214_02_17.694256/model-00016-0.64787-0.76169-1.18637-0.58000.h5\n",
            "34/34 [==============================] - 191s 6s/step - loss: 0.6479 - categorical_accuracy: 0.7617 - val_loss: 1.1864 - val_categorical_accuracy: 0.5800 - lr: 8.0000e-06\n",
            "Epoch 17/30\n",
            "34/34 [==============================] - ETA: 0s - loss: 0.6005 - categorical_accuracy: 0.7738\n",
            "Epoch 17: saving model to model_init_2022-09-1214_02_17.694256/model-00017-0.60051-0.77376-1.13660-0.59000.h5\n",
            "34/34 [==============================] - 201s 6s/step - loss: 0.6005 - categorical_accuracy: 0.7738 - val_loss: 1.1366 - val_categorical_accuracy: 0.5900 - lr: 8.0000e-06\n",
            "Epoch 18/30\n",
            "34/34 [==============================] - ETA: 0s - loss: 0.6566 - categorical_accuracy: 0.7496\n",
            "Epoch 18: saving model to model_init_2022-09-1214_02_17.694256/model-00018-0.65655-0.74962-0.97157-0.61000.h5\n",
            "34/34 [==============================] - 206s 6s/step - loss: 0.6566 - categorical_accuracy: 0.7496 - val_loss: 0.9716 - val_categorical_accuracy: 0.6100 - lr: 8.0000e-06\n",
            "Epoch 19/30\n",
            "34/34 [==============================] - ETA: 0s - loss: 0.6079 - categorical_accuracy: 0.7730\n",
            "Epoch 19: saving model to model_init_2022-09-1214_02_17.694256/model-00019-0.60787-0.77300-0.79832-0.65000.h5\n",
            "34/34 [==============================] - 202s 6s/step - loss: 0.6079 - categorical_accuracy: 0.7730 - val_loss: 0.7983 - val_categorical_accuracy: 0.6500 - lr: 8.0000e-06\n",
            "Epoch 20/30\n",
            "34/34 [==============================] - ETA: 0s - loss: 0.6569 - categorical_accuracy: 0.7632\n",
            "Epoch 20: saving model to model_init_2022-09-1214_02_17.694256/model-00020-0.65689-0.76320-0.85773-0.67000.h5\n",
            "34/34 [==============================] - 193s 6s/step - loss: 0.6569 - categorical_accuracy: 0.7632 - val_loss: 0.8577 - val_categorical_accuracy: 0.6700 - lr: 8.0000e-06\n",
            "Epoch 21/30\n",
            "34/34 [==============================] - ETA: 0s - loss: 0.6771 - categorical_accuracy: 0.7459\n",
            "Epoch 21: saving model to model_init_2022-09-1214_02_17.694256/model-00021-0.67714-0.74585-0.77707-0.70000.h5\n",
            "34/34 [==============================] - 200s 6s/step - loss: 0.6771 - categorical_accuracy: 0.7459 - val_loss: 0.7771 - val_categorical_accuracy: 0.7000 - lr: 8.0000e-06\n",
            "Epoch 22/30\n",
            "34/34 [==============================] - ETA: 0s - loss: 0.6427 - categorical_accuracy: 0.7504\n",
            "Epoch 22: saving model to model_init_2022-09-1214_02_17.694256/model-00022-0.64272-0.75038-0.70490-0.76000.h5\n",
            "34/34 [==============================] - 197s 6s/step - loss: 0.6427 - categorical_accuracy: 0.7504 - val_loss: 0.7049 - val_categorical_accuracy: 0.7600 - lr: 8.0000e-06\n",
            "Epoch 23/30\n",
            "34/34 [==============================] - ETA: 0s - loss: 0.6030 - categorical_accuracy: 0.7677\n",
            "Epoch 23: saving model to model_init_2022-09-1214_02_17.694256/model-00023-0.60300-0.76772-0.72321-0.70000.h5\n",
            "34/34 [==============================] - 194s 6s/step - loss: 0.6030 - categorical_accuracy: 0.7677 - val_loss: 0.7232 - val_categorical_accuracy: 0.7000 - lr: 8.0000e-06\n",
            "Epoch 24/30\n",
            "34/34 [==============================] - ETA: 0s - loss: 0.6996 - categorical_accuracy: 0.7406\n",
            "Epoch 24: saving model to model_init_2022-09-1214_02_17.694256/model-00024-0.69956-0.74057-0.69492-0.68000.h5\n",
            "34/34 [==============================] - 189s 6s/step - loss: 0.6996 - categorical_accuracy: 0.7406 - val_loss: 0.6949 - val_categorical_accuracy: 0.6800 - lr: 8.0000e-06\n",
            "Epoch 25/30\n",
            "34/34 [==============================] - ETA: 0s - loss: 0.6446 - categorical_accuracy: 0.7504\n",
            "Epoch 25: saving model to model_init_2022-09-1214_02_17.694256/model-00025-0.64455-0.75038-0.72687-0.70000.h5\n",
            "34/34 [==============================] - 198s 6s/step - loss: 0.6446 - categorical_accuracy: 0.7504 - val_loss: 0.7269 - val_categorical_accuracy: 0.7000 - lr: 8.0000e-06\n",
            "Epoch 26/30\n",
            "34/34 [==============================] - ETA: 0s - loss: 0.6016 - categorical_accuracy: 0.7775\n",
            "Epoch 26: saving model to model_init_2022-09-1214_02_17.694256/model-00026-0.60162-0.77753-0.67427-0.71000.h5\n",
            "34/34 [==============================] - 194s 6s/step - loss: 0.6016 - categorical_accuracy: 0.7775 - val_loss: 0.6743 - val_categorical_accuracy: 0.7100 - lr: 8.0000e-06\n",
            "Epoch 27/30\n",
            "34/34 [==============================] - ETA: 0s - loss: 0.6264 - categorical_accuracy: 0.7541\n",
            "Epoch 27: saving model to model_init_2022-09-1214_02_17.694256/model-00027-0.62641-0.75415-0.77639-0.68000.h5\n",
            "34/34 [==============================] - 203s 6s/step - loss: 0.6264 - categorical_accuracy: 0.7541 - val_loss: 0.7764 - val_categorical_accuracy: 0.6800 - lr: 8.0000e-06\n",
            "Epoch 28/30\n",
            "34/34 [==============================] - ETA: 0s - loss: 0.6393 - categorical_accuracy: 0.7541\n",
            "Epoch 28: saving model to model_init_2022-09-1214_02_17.694256/model-00028-0.63930-0.75415-0.66073-0.71000.h5\n",
            "34/34 [==============================] - 186s 6s/step - loss: 0.6393 - categorical_accuracy: 0.7541 - val_loss: 0.6607 - val_categorical_accuracy: 0.7100 - lr: 8.0000e-06\n",
            "Epoch 29/30\n",
            "34/34 [==============================] - ETA: 0s - loss: 0.5911 - categorical_accuracy: 0.7715\n",
            "Epoch 29: saving model to model_init_2022-09-1214_02_17.694256/model-00029-0.59114-0.77149-0.63758-0.69000.h5\n",
            "34/34 [==============================] - 193s 6s/step - loss: 0.5911 - categorical_accuracy: 0.7715 - val_loss: 0.6376 - val_categorical_accuracy: 0.6900 - lr: 8.0000e-06\n",
            "Epoch 30/30\n",
            "34/34 [==============================] - ETA: 0s - loss: 0.5786 - categorical_accuracy: 0.7783\n",
            "Epoch 30: saving model to model_init_2022-09-1214_02_17.694256/model-00030-0.57857-0.77828-0.64010-0.75000.h5\n",
            "34/34 [==============================] - 190s 6s/step - loss: 0.5786 - categorical_accuracy: 0.7783 - val_loss: 0.6401 - val_categorical_accuracy: 0.7500 - lr: 8.0000e-06\n"
          ]
        }
      ],
      "source": [
        "print(\"Total Params:\", conv_3d4_model.count_params())\n",
        "history_model4=conv_3d4.train_model(conv_3d4_model,augment_data=True)"
      ]
    },
    {
      "cell_type": "code",
      "execution_count": 37,
      "metadata": {
        "id": "dyNk7ucLmdkH",
        "colab": {
          "base_uri": "https://localhost:8080/",
          "height": 267
        },
        "outputId": "fa7bd426-ee2d-44e4-b069-3158cdb5b171"
      },
      "outputs": [
        {
          "output_type": "display_data",
          "data": {
            "text/plain": [
              "<Figure size 1080x288 with 2 Axes>"
            ],
            "image/png": "[encoded data removed]"
          },
          "metadata": {
            "needs_background": "light"
          }
        }
      ],
      "source": [
        "plot(history_model4)"
      ]
    },
    {
      "cell_type": "code",
      "execution_count": 37,
      "metadata": {
        "id": "-kEQMBOSmdkH"
      },
      "outputs": [],
      "source": []
    },
    {
      "cell_type": "markdown",
      "metadata": {
        "id": "OAuMvPa3mdkH"
      },
      "source": [
        "# More Augmentation"
      ]
    },
    {
      "cell_type": "code",
      "execution_count": 48,
      "metadata": {
        "id": "2cWCwByWIhe6"
      },
      "outputs": [],
      "source": [
        "class ModelBuilderMoreAugmentation(metaclass= abc.ABCMeta):\n",
        "    \n",
        "    def initialize_path(self,project_folder):\n",
        "        self.train_doc = np.random.permutation(open(project_folder + '/' + 'train.csv').readlines())\n",
        "        self.val_doc = np.random.permutation(open(project_folder + '/' + 'val.csv').readlines())\n",
        "        self.train_path = project_folder + '/' + 'train'\n",
        "        self.val_path =  project_folder + '/' + 'val'\n",
        "        self.num_train_sequences = len(self.train_doc)\n",
        "        self.num_val_sequences = len(self.val_doc)\n",
        "        \n",
        "    def initialize_image_properties(self,image_height=100,image_width=100):\n",
        "        self.image_height=image_height\n",
        "        self.image_width=image_width\n",
        "        self.channels=3\n",
        "        self.num_classes=5\n",
        "        self.total_frames=30\n",
        "          \n",
        "    def initialize_hyperparams(self,frames_to_sample=30,batch_size=20,num_epochs=20):\n",
        "        self.frames_to_sample=frames_to_sample\n",
        "        self.batch_size=batch_size\n",
        "        self.num_epochs=num_epochs\n",
        "        \n",
        "        \n",
        "    def generator(self,source_path, folder_list, augment=False):\n",
        "        img_idx = np.round(np.linspace(0,self.total_frames-1,self.frames_to_sample)).astype(int)\n",
        "        batch_size=self.batch_size\n",
        "        while True:\n",
        "            t = np.random.permutation(folder_list)\n",
        "            num_batches = len(t)//batch_size\n",
        "        \n",
        "            for batch in range(num_batches): \n",
        "                batch_data, batch_labels= self.one_batch_data(source_path,t,batch,batch_size,img_idx,augment)\n",
        "                yield batch_data, batch_labels \n",
        "\n",
        "            remaining_seq=len(t)%batch_size\n",
        "        \n",
        "            if (remaining_seq != 0):\n",
        "                batch_data, batch_labels= self.one_batch_data(source_path,t,num_batches,batch_size,img_idx,augment,remaining_seq)\n",
        "                yield batch_data, batch_labels \n",
        "    \n",
        "    \n",
        "    def one_batch_data(self,source_path,t,batch,batch_size,img_idx,augment,remaining_seq=0):\n",
        "    \n",
        "        seq_len = remaining_seq if remaining_seq else batch_size\n",
        "    \n",
        "        batch_data = np.zeros((seq_len,len(img_idx),self.image_height,self.image_width,self.channels)) \n",
        "        batch_labels = np.zeros((seq_len,self.num_classes)) \n",
        "    \n",
        "        if (augment): batch_data_aug = np.zeros((seq_len,len(img_idx),self.image_height,self.image_width,self.channels))\n",
        "\n",
        "        \n",
        "        for folder in range(seq_len): \n",
        "            imgs = os.listdir(source_path+'/'+ t[folder + (batch*batch_size)].split(';')[0]) \n",
        "            for idx,item in enumerate(img_idx): \n",
        "                image = imread(source_path+'/'+ t[folder + (batch*batch_size)].strip().split(';')[0]+'/'+imgs[item]).astype(np.float32)\n",
        "                image_resized=resize(image,(self.image_height,self.image_width,3))\n",
        "            \n",
        "\n",
        "                batch_data[folder,idx,:,:,0] = (image_resized[:,:,0])/255\n",
        "                batch_data[folder,idx,:,:,1] = (image_resized[:,:,1])/255\n",
        "                batch_data[folder,idx,:,:,2] = (image_resized[:,:,2])/255\n",
        "            \n",
        "                if (augment):\n",
        "                    shifted = cv2.warpAffine(image, \n",
        "                                             np.float32([[1, 0, np.random.randint(-30,30)],[0, 1, np.random.randint(-30,30)]]), \n",
        "                                            (image.shape[1], image.shape[0]))\n",
        "                    \n",
        "                    gray = cv2.cvtColor(shifted,cv2.COLOR_BGR2GRAY)\n",
        "\n",
        "                    x0, y0 = np.argwhere(gray > 0).min(axis=0)\n",
        "                    x1, y1 = np.argwhere(gray > 0).max(axis=0) \n",
        "                    \n",
        "                    cropped=shifted[x0:x1,y0:y1,:]\n",
        "                    \n",
        "                    image_resized=resize(cropped,(self.image_height,self.image_width,3))\n",
        "                    \n",
        "                    M = cv2.getRotationMatrix2D((self.image_width//2,self.image_height//2),\n",
        "                                                np.random.randint(-10,10), 1.0)\n",
        "                    rotated = cv2.warpAffine(image_resized, M, (self.image_width, self.image_height))\n",
        "                    \n",
        "                    #shifted = cv2.warpAffine(image_resized, \n",
        "                    #                        np.float32([[1, 0, np.random.randint(-3,3)],[0, 1, np.random.randint(-3,3)]]), \n",
        "                    #                        (image_resized.shape[1], image_resized.shape[0]))\n",
        "            \n",
        "                    batch_data_aug[folder,idx,:,:,0] = (rotated[:,:,0])/255\n",
        "                    batch_data_aug[folder,idx,:,:,1] = (rotated[:,:,1])/255\n",
        "                    batch_data_aug[folder,idx,:,:,2] = (rotated[:,:,2])/255\n",
        "                \n",
        "            \n",
        "            batch_labels[folder, int(t[folder + (batch*batch_size)].strip().split(';')[2])] = 1\n",
        "            \n",
        "    \n",
        "        if (augment):\n",
        "            batch_data=np.concatenate([batch_data,batch_data_aug])\n",
        "            batch_labels=np.concatenate([batch_labels,batch_labels])\n",
        "\n",
        "        \n",
        "        return(batch_data,batch_labels)\n",
        "    \n",
        "    \n",
        "    def train_model(self, model, augment_data=False):\n",
        "        train_generator = self.generator(self.train_path, self.train_doc,augment=augment_data)\n",
        "        val_generator = self.generator(self.val_path, self.val_doc)\n",
        "\n",
        "        model_name = 'model_init' + '_' + str(datetime.datetime.now()).replace(' ','').replace(':','_') + '/'\n",
        "    \n",
        "        if not os.path.exists(model_name):\n",
        "            os.mkdir(model_name)\n",
        "        \n",
        "        filepath = model_name + 'model-{epoch:05d}-{loss:.5f}-{categorical_accuracy:.5f}-{val_loss:.5f}-{val_categorical_accuracy:.5f}.h5'\n",
        "\n",
        "        checkpoint = ModelCheckpoint(filepath, monitor='val_loss', verbose=1, save_best_only=False, save_weights_only=False, mode='auto', period=1)\n",
        "        LR = ReduceLROnPlateau(monitor='val_loss', factor=0.2, verbose=1, patience=4)\n",
        "        callbacks_list = [checkpoint, LR]\n",
        "\n",
        "        if (self.num_train_sequences%self.batch_size) == 0:\n",
        "            steps_per_epoch = int(self.num_train_sequences/self.batch_size)\n",
        "        else:\n",
        "            steps_per_epoch = (self.num_train_sequences//self.batch_size) + 1\n",
        "\n",
        "        if (self.num_val_sequences%self.batch_size) == 0:\n",
        "            validation_steps = int(self.num_val_sequences/self.batch_size)\n",
        "        else:\n",
        "            validation_steps = (self.num_val_sequences//self.batch_size) + 1\n",
        "    \n",
        "        history=model.fit_generator(train_generator, steps_per_epoch=steps_per_epoch, epochs=self.num_epochs, verbose=1, \n",
        "                            callbacks=callbacks_list, validation_data=val_generator, \n",
        "                            validation_steps=validation_steps, class_weight=None, workers=1, initial_epoch=0)\n",
        "        return history\n",
        "\n",
        "        \n",
        "    @abc.abstractmethod\n",
        "    def define_model(self):\n",
        "        pass"
      ]
    },
    {
      "cell_type": "code",
      "execution_count": 49,
      "metadata": {
        "id": "mpSq9Iq-Iqft"
      },
      "outputs": [],
      "source": [
        "# Model 10 - (3,3,3) Filter & 160x160 Image resolution - similar to Model 2"
      ]
    },
    {
      "cell_type": "code",
      "execution_count": 5,
      "metadata": {
        "id": "3lbq9xqNmdkI",
        "colab": {
          "base_uri": "https://localhost:8080/",
          "height": 235
        },
        "outputId": "55e90716-e77e-4626-c4a4-e29b2fb1b20c"
      },
      "outputs": [
        {
          "output_type": "error",
          "ename": "NameError",
          "evalue": "ignored",
          "traceback": [
            "\u001b[0;31m---------------------------------------------------------------------------\u001b[0m",
            "\u001b[0;31mNameError\u001b[0m                                 Traceback (most recent call last)",
            "\u001b[0;32m<ipython-input-5-7b1ccf7bbbfe>\u001b[0m in \u001b[0;36m<module>\u001b[0;34m\u001b[0m\n\u001b[0;32m----> 1\u001b[0;31m \u001b[0;32mclass\u001b[0m \u001b[0mModelConv3D10\u001b[0m\u001b[0;34m(\u001b[0m\u001b[0mModelBuilderMoreAugmentation\u001b[0m\u001b[0;34m)\u001b[0m\u001b[0;34m:\u001b[0m\u001b[0;34m\u001b[0m\u001b[0;34m\u001b[0m\u001b[0m\n\u001b[0m\u001b[1;32m      2\u001b[0m \u001b[0;34m\u001b[0m\u001b[0m\n\u001b[1;32m      3\u001b[0m     \u001b[0;32mdef\u001b[0m \u001b[0mdefine_model\u001b[0m\u001b[0;34m(\u001b[0m\u001b[0mself\u001b[0m\u001b[0;34m,\u001b[0m\u001b[0mfiltersize\u001b[0m\u001b[0;34m=\u001b[0m\u001b[0;34m(\u001b[0m\u001b[0;36m3\u001b[0m\u001b[0;34m,\u001b[0m\u001b[0;36m3\u001b[0m\u001b[0;34m,\u001b[0m\u001b[0;36m3\u001b[0m\u001b[0;34m)\u001b[0m\u001b[0;34m,\u001b[0m\u001b[0mdense_neurons\u001b[0m\u001b[0;34m=\u001b[0m\u001b[0;36m64\u001b[0m\u001b[0;34m,\u001b[0m\u001b[0mdropout\u001b[0m\u001b[0;34m=\u001b[0m\u001b[0;36m0.25\u001b[0m\u001b[0;34m)\u001b[0m\u001b[0;34m:\u001b[0m\u001b[0;34m\u001b[0m\u001b[0;34m\u001b[0m\u001b[0m\n\u001b[1;32m      4\u001b[0m \u001b[0;34m\u001b[0m\u001b[0m\n\u001b[1;32m      5\u001b[0m         \u001b[0mmodel\u001b[0m \u001b[0;34m=\u001b[0m \u001b[0mSequential\u001b[0m\u001b[0;34m(\u001b[0m\u001b[0;34m)\u001b[0m\u001b[0;34m\u001b[0m\u001b[0;34m\u001b[0m\u001b[0m\n",
            "\u001b[0;31mNameError\u001b[0m: name 'ModelBuilderMoreAugmentation' is not defined"
          ]
        }
      ],
      "source": [
        "class ModelConv3D10(ModelBuilderMoreAugmentation):\n",
        "    \n",
        "    def define_model(self,filtersize=(3,3,3),dense_neurons=64,dropout=0.25):\n",
        "\n",
        "        model = Sequential()\n",
        "        model.add(Conv3D(16, filtersize, padding='same',\n",
        "                 input_shape=(self.frames_to_sample,self.image_height,self.image_width,self.channels)))\n",
        "        model.add(Activation('relu'))\n",
        "        model.add(BatchNormalization())\n",
        "        model.add(MaxPooling3D(pool_size=(2, 2, 2)))\n",
        "\n",
        "        model.add(Conv3D(32, filtersize, padding='same'))\n",
        "        model.add(Activation('relu'))\n",
        "        model.add(BatchNormalization())\n",
        "        model.add(MaxPooling3D(pool_size=(2, 2, 2)))\n",
        "\n",
        "        model.add(Conv3D(64, filtersize, padding='same'))\n",
        "        model.add(Activation('relu'))\n",
        "        model.add(BatchNormalization())\n",
        "        model.add(MaxPooling3D(pool_size=(2, 2, 2)))\n",
        "\n",
        "        model.add(Conv3D(128, filtersize, padding='same'))\n",
        "        model.add(Activation('relu'))\n",
        "        model.add(BatchNormalization())\n",
        "        model.add(MaxPooling3D(pool_size=(2, 2, 2)))\n",
        "\n",
        "        model.add(Flatten())\n",
        "        model.add(Dense(dense_neurons,activation='relu'))\n",
        "        model.add(BatchNormalization())\n",
        "        model.add(Dropout(dropout))\n",
        "\n",
        "        model.add(Dense(dense_neurons,activation='relu'))\n",
        "        model.add(BatchNormalization())\n",
        "        model.add(Dropout(dropout))\n",
        "\n",
        "\n",
        "        model.add(Dense(self.num_classes,activation='softmax'))\n",
        "\n",
        "        optimiser = optimizers.adam_v2.Adam(lr=0.0002)\n",
        "        model.compile(optimizer=optimiser, loss='categorical_crossentropy', metrics=['categorical_accuracy'])\n",
        "        return model"
      ]
    },
    {
      "cell_type": "code",
      "execution_count": 51,
      "metadata": {
        "id": "hBMxhmhYmdkI",
        "colab": {
          "base_uri": "https://localhost:8080/"
        },
        "outputId": "b2995c1c-ce06-447f-c695-7ece86649fb3"
      },
      "outputs": [
        {
          "output_type": "stream",
          "name": "stdout",
          "text": [
            "Model: \"sequential_18\"\n",
            "_________________________________________________________________\n",
            " Layer (type)                Output Shape              Param #   \n",
            "=================================================================\n",
            " conv3d_76 (Conv3D)          (None, 20, 160, 160, 16)  1312      \n",
            "                                                                 \n",
            " activation_76 (Activation)  (None, 20, 160, 160, 16)  0         \n",
            "                                                                 \n",
            " batch_normalization_112 (Ba  (None, 20, 160, 160, 16)  64       \n",
            " tchNormalization)                                               \n",
            "                                                                 \n",
            " max_pooling3d_72 (MaxPoolin  (None, 10, 80, 80, 16)   0         \n",
            " g3D)                                                            \n",
            "                                                                 \n",
            " conv3d_77 (Conv3D)          (None, 10, 80, 80, 32)    13856     \n",
            "                                                                 \n",
            " activation_77 (Activation)  (None, 10, 80, 80, 32)    0         \n",
            "                                                                 \n",
            " batch_normalization_113 (Ba  (None, 10, 80, 80, 32)   128       \n",
            " tchNormalization)                                               \n",
            "                                                                 \n",
            " max_pooling3d_73 (MaxPoolin  (None, 5, 40, 40, 32)    0         \n",
            " g3D)                                                            \n",
            "                                                                 \n",
            " conv3d_78 (Conv3D)          (None, 5, 40, 40, 64)     55360     \n",
            "                                                                 \n",
            " activation_78 (Activation)  (None, 5, 40, 40, 64)     0         \n",
            "                                                                 \n",
            " batch_normalization_114 (Ba  (None, 5, 40, 40, 64)    256       \n",
            " tchNormalization)                                               \n",
            "                                                                 \n",
            " max_pooling3d_74 (MaxPoolin  (None, 2, 20, 20, 64)    0         \n",
            " g3D)                                                            \n",
            "                                                                 \n",
            " conv3d_79 (Conv3D)          (None, 2, 20, 20, 128)    221312    \n",
            "                                                                 \n",
            " activation_79 (Activation)  (None, 2, 20, 20, 128)    0         \n",
            "                                                                 \n",
            " batch_normalization_115 (Ba  (None, 2, 20, 20, 128)   512       \n",
            " tchNormalization)                                               \n",
            "                                                                 \n",
            " max_pooling3d_75 (MaxPoolin  (None, 1, 10, 10, 128)   0         \n",
            " g3D)                                                            \n",
            "                                                                 \n",
            " flatten_18 (Flatten)        (None, 12800)             0         \n",
            "                                                                 \n",
            " dense_54 (Dense)            (None, 256)               3277056   \n",
            "                                                                 \n",
            " batch_normalization_116 (Ba  (None, 256)              1024      \n",
            " tchNormalization)                                               \n",
            "                                                                 \n",
            " dropout_36 (Dropout)        (None, 256)               0         \n",
            "                                                                 \n",
            " dense_55 (Dense)            (None, 256)               65792     \n",
            "                                                                 \n",
            " batch_normalization_117 (Ba  (None, 256)              1024      \n",
            " tchNormalization)                                               \n",
            "                                                                 \n",
            " dropout_37 (Dropout)        (None, 256)               0         \n",
            "                                                                 \n",
            " dense_56 (Dense)            (None, 5)                 1285      \n",
            "                                                                 \n",
            "=================================================================\n",
            "Total params: 3,638,981\n",
            "Trainable params: 3,637,477\n",
            "Non-trainable params: 1,504\n",
            "_________________________________________________________________\n"
          ]
        }
      ],
      "source": [
        "conv_3d10=ModelConv3D10()\n",
        "conv_3d10.initialize_path(project_folder)\n",
        "conv_3d10.initialize_image_properties(image_height=160,image_width=160)\n",
        "conv_3d10.initialize_hyperparams(frames_to_sample=20,batch_size=20,num_epochs=30)\n",
        "conv_3d10_model=conv_3d10.define_model(dense_neurons=256,dropout=0.5)\n",
        "conv_3d10_model.summary()"
      ]
    },
    {
      "cell_type": "code",
      "execution_count": 52,
      "metadata": {
        "id": "RcKge4mDmdkI",
        "colab": {
          "base_uri": "https://localhost:8080/"
        },
        "outputId": "c742b361-b254-4329-84b7-e0ab714b5e9f"
      },
      "outputs": [
        {
          "output_type": "stream",
          "name": "stderr",
          "text": [
            "WARNING:tensorflow:`period` argument is deprecated. Please use `save_freq` to specify the frequency in number of batches seen.\n"
          ]
        },
        {
          "output_type": "stream",
          "name": "stdout",
          "text": [
            "Total Params: 3638981\n",
            "Epoch 1/30\n",
            "34/34 [==============================] - ETA: 0s - loss: 2.0988 - categorical_accuracy: 0.3507\n",
            "Epoch 1: saving model to model_init_2022-09-1215_46_37.656743/model-00001-2.09880-0.35068-2.44534-0.16000.h5\n",
            "34/34 [==============================] - 275s 8s/step - loss: 2.0988 - categorical_accuracy: 0.3507 - val_loss: 2.4453 - val_categorical_accuracy: 0.1600 - lr: 2.0000e-04\n",
            "Epoch 2/30\n",
            "34/34 [==============================] - ETA: 0s - loss: 1.4921 - categorical_accuracy: 0.5023\n",
            "Epoch 2: saving model to model_init_2022-09-1215_46_37.656743/model-00002-1.49205-0.50226-3.79973-0.15000.h5\n",
            "34/34 [==============================] - 279s 8s/step - loss: 1.4921 - categorical_accuracy: 0.5023 - val_loss: 3.7997 - val_categorical_accuracy: 0.1500 - lr: 2.0000e-04\n",
            "Epoch 3/30\n",
            "34/34 [==============================] - ETA: 0s - loss: 1.2095 - categorical_accuracy: 0.5724\n",
            "Epoch 3: saving model to model_init_2022-09-1215_46_37.656743/model-00003-1.20950-0.57240-5.12911-0.16000.h5\n",
            "34/34 [==============================] - 266s 8s/step - loss: 1.2095 - categorical_accuracy: 0.5724 - val_loss: 5.1291 - val_categorical_accuracy: 0.1600 - lr: 2.0000e-04\n",
            "Epoch 4/30\n",
            "34/34 [==============================] - ETA: 0s - loss: 1.0729 - categorical_accuracy: 0.6357\n",
            "Epoch 4: saving model to model_init_2022-09-1215_46_37.656743/model-00004-1.07285-0.63575-5.22323-0.25000.h5\n",
            "34/34 [==============================] - 273s 8s/step - loss: 1.0729 - categorical_accuracy: 0.6357 - val_loss: 5.2232 - val_categorical_accuracy: 0.2500 - lr: 2.0000e-04\n",
            "Epoch 5/30\n",
            "34/34 [==============================] - ETA: 0s - loss: 0.9464 - categorical_accuracy: 0.6561\n",
            "Epoch 5: saving model to model_init_2022-09-1215_46_37.656743/model-00005-0.94636-0.65611-5.77775-0.23000.h5\n",
            "\n",
            "Epoch 5: ReduceLROnPlateau reducing learning rate to 3.9999998989515007e-05.\n",
            "34/34 [==============================] - 262s 8s/step - loss: 0.9464 - categorical_accuracy: 0.6561 - val_loss: 5.7777 - val_categorical_accuracy: 0.2300 - lr: 2.0000e-04\n",
            "Epoch 6/30\n",
            "34/34 [==============================] - ETA: 0s - loss: 0.8096 - categorical_accuracy: 0.7089\n",
            "Epoch 6: saving model to model_init_2022-09-1215_46_37.656743/model-00006-0.80965-0.70890-5.61190-0.27000.h5\n",
            "34/34 [==============================] - 282s 9s/step - loss: 0.8096 - categorical_accuracy: 0.7089 - val_loss: 5.6119 - val_categorical_accuracy: 0.2700 - lr: 4.0000e-05\n",
            "Epoch 7/30\n",
            "34/34 [==============================] - ETA: 0s - loss: 0.8801 - categorical_accuracy: 0.7014\n",
            "Epoch 7: saving model to model_init_2022-09-1215_46_37.656743/model-00007-0.88007-0.70136-5.56218-0.28000.h5\n",
            "34/34 [==============================] - 278s 8s/step - loss: 0.8801 - categorical_accuracy: 0.7014 - val_loss: 5.5622 - val_categorical_accuracy: 0.2800 - lr: 4.0000e-05\n",
            "Epoch 8/30\n",
            "34/34 [==============================] - ETA: 0s - loss: 0.7563 - categorical_accuracy: 0.7255\n",
            "Epoch 8: saving model to model_init_2022-09-1215_46_37.656743/model-00008-0.75628-0.72549-5.39859-0.24000.h5\n",
            "34/34 [==============================] - 271s 8s/step - loss: 0.7563 - categorical_accuracy: 0.7255 - val_loss: 5.3986 - val_categorical_accuracy: 0.2400 - lr: 4.0000e-05\n",
            "Epoch 9/30\n",
            "34/34 [==============================] - ETA: 0s - loss: 0.7198 - categorical_accuracy: 0.7428\n",
            "Epoch 9: saving model to model_init_2022-09-1215_46_37.656743/model-00009-0.71979-0.74284-4.98640-0.26000.h5\n",
            "\n",
            "Epoch 9: ReduceLROnPlateau reducing learning rate to 7.999999797903002e-06.\n",
            "34/34 [==============================] - 267s 8s/step - loss: 0.7198 - categorical_accuracy: 0.7428 - val_loss: 4.9864 - val_categorical_accuracy: 0.2600 - lr: 4.0000e-05\n",
            "Epoch 10/30\n",
            "34/34 [==============================] - ETA: 0s - loss: 0.6932 - categorical_accuracy: 0.7534\n",
            "Epoch 10: saving model to model_init_2022-09-1215_46_37.656743/model-00010-0.69321-0.75339-4.73806-0.31000.h5\n",
            "34/34 [==============================] - 274s 8s/step - loss: 0.6932 - categorical_accuracy: 0.7534 - val_loss: 4.7381 - val_categorical_accuracy: 0.3100 - lr: 8.0000e-06\n",
            "Epoch 11/30\n",
            "34/34 [==============================] - ETA: 0s - loss: 0.6863 - categorical_accuracy: 0.7504\n",
            "Epoch 11: saving model to model_init_2022-09-1215_46_37.656743/model-00011-0.68628-0.75038-3.98986-0.29000.h5\n",
            "34/34 [==============================] - 279s 8s/step - loss: 0.6863 - categorical_accuracy: 0.7504 - val_loss: 3.9899 - val_categorical_accuracy: 0.2900 - lr: 8.0000e-06\n",
            "Epoch 12/30\n",
            "34/34 [==============================] - ETA: 0s - loss: 0.7333 - categorical_accuracy: 0.7474\n",
            "Epoch 12: saving model to model_init_2022-09-1215_46_37.656743/model-00012-0.73327-0.74736-3.40756-0.31000.h5\n",
            "34/34 [==============================] - 272s 8s/step - loss: 0.7333 - categorical_accuracy: 0.7474 - val_loss: 3.4076 - val_categorical_accuracy: 0.3100 - lr: 8.0000e-06\n",
            "Epoch 13/30\n",
            "34/34 [==============================] - ETA: 0s - loss: 0.6753 - categorical_accuracy: 0.7451\n",
            "Epoch 13: saving model to model_init_2022-09-1215_46_37.656743/model-00013-0.67533-0.74510-2.86986-0.35000.h5\n",
            "\n",
            "Epoch 13: ReduceLROnPlateau reducing learning rate to 1.5999999959603884e-06.\n",
            "34/34 [==============================] - 271s 8s/step - loss: 0.6753 - categorical_accuracy: 0.7451 - val_loss: 2.8699 - val_categorical_accuracy: 0.3500 - lr: 8.0000e-06\n",
            "Epoch 14/30\n",
            "34/34 [==============================] - ETA: 0s - loss: 0.6898 - categorical_accuracy: 0.7549\n",
            "Epoch 14: saving model to model_init_2022-09-1215_46_37.656743/model-00014-0.68982-0.75490-2.43305-0.36000.h5\n",
            "34/34 [==============================] - 260s 8s/step - loss: 0.6898 - categorical_accuracy: 0.7549 - val_loss: 2.4331 - val_categorical_accuracy: 0.3600 - lr: 1.6000e-06\n",
            "Epoch 15/30\n",
            "34/34 [==============================] - ETA: 0s - loss: 0.7024 - categorical_accuracy: 0.7534\n",
            "Epoch 15: saving model to model_init_2022-09-1215_46_37.656743/model-00015-0.70237-0.75339-1.71236-0.45000.h5\n",
            "34/34 [==============================] - 266s 8s/step - loss: 0.7024 - categorical_accuracy: 0.7534 - val_loss: 1.7124 - val_categorical_accuracy: 0.4500 - lr: 1.6000e-06\n",
            "Epoch 16/30\n",
            "34/34 [==============================] - ETA: 0s - loss: 0.6771 - categorical_accuracy: 0.7632\n",
            "Epoch 16: saving model to model_init_2022-09-1215_46_37.656743/model-00016-0.67708-0.76320-1.44481-0.49000.h5\n",
            "34/34 [==============================] - 275s 8s/step - loss: 0.6771 - categorical_accuracy: 0.7632 - val_loss: 1.4448 - val_categorical_accuracy: 0.4900 - lr: 1.6000e-06\n",
            "Epoch 17/30\n",
            "34/34 [==============================] - ETA: 0s - loss: 0.7032 - categorical_accuracy: 0.7398\n",
            "Epoch 17: saving model to model_init_2022-09-1215_46_37.656743/model-00017-0.70318-0.73982-1.06585-0.59000.h5\n",
            "34/34 [==============================] - 274s 8s/step - loss: 0.7032 - categorical_accuracy: 0.7398 - val_loss: 1.0659 - val_categorical_accuracy: 0.5900 - lr: 1.6000e-06\n",
            "Epoch 18/30\n",
            "34/34 [==============================] - ETA: 0s - loss: 0.6035 - categorical_accuracy: 0.7790\n",
            "Epoch 18: saving model to model_init_2022-09-1215_46_37.656743/model-00018-0.60352-0.77903-1.01664-0.63000.h5\n",
            "34/34 [==============================] - 277s 8s/step - loss: 0.6035 - categorical_accuracy: 0.7790 - val_loss: 1.0166 - val_categorical_accuracy: 0.6300 - lr: 1.6000e-06\n",
            "Epoch 19/30\n",
            "34/34 [==============================] - ETA: 0s - loss: 0.6888 - categorical_accuracy: 0.7647\n",
            "Epoch 19: saving model to model_init_2022-09-1215_46_37.656743/model-00019-0.68876-0.76471-0.83537-0.72000.h5\n",
            "34/34 [==============================] - 274s 8s/step - loss: 0.6888 - categorical_accuracy: 0.7647 - val_loss: 0.8354 - val_categorical_accuracy: 0.7200 - lr: 1.6000e-06\n",
            "Epoch 20/30\n",
            "34/34 [==============================] - ETA: 0s - loss: 0.6978 - categorical_accuracy: 0.7481\n",
            "Epoch 20: saving model to model_init_2022-09-1215_46_37.656743/model-00020-0.69783-0.74811-0.68925-0.80000.h5\n",
            "34/34 [==============================] - 288s 9s/step - loss: 0.6978 - categorical_accuracy: 0.7481 - val_loss: 0.6893 - val_categorical_accuracy: 0.8000 - lr: 1.6000e-06\n",
            "Epoch 21/30\n",
            "34/34 [==============================] - ETA: 0s - loss: 0.7367 - categorical_accuracy: 0.7376\n",
            "Epoch 21: saving model to model_init_2022-09-1215_46_37.656743/model-00021-0.73669-0.73756-0.66559-0.78000.h5\n",
            "34/34 [==============================] - 273s 8s/step - loss: 0.7367 - categorical_accuracy: 0.7376 - val_loss: 0.6656 - val_categorical_accuracy: 0.7800 - lr: 1.6000e-06\n",
            "Epoch 22/30\n",
            "34/34 [==============================] - ETA: 0s - loss: 0.6456 - categorical_accuracy: 0.7692\n",
            "Epoch 22: saving model to model_init_2022-09-1215_46_37.656743/model-00022-0.64562-0.76923-0.47748-0.84000.h5\n",
            "34/34 [==============================] - 287s 9s/step - loss: 0.6456 - categorical_accuracy: 0.7692 - val_loss: 0.4775 - val_categorical_accuracy: 0.8400 - lr: 1.6000e-06\n",
            "Epoch 23/30\n",
            "34/34 [==============================] - ETA: 0s - loss: 0.6467 - categorical_accuracy: 0.7760\n",
            "Epoch 23: saving model to model_init_2022-09-1215_46_37.656743/model-00023-0.64666-0.77602-0.48720-0.83000.h5\n",
            "34/34 [==============================] - 270s 8s/step - loss: 0.6467 - categorical_accuracy: 0.7760 - val_loss: 0.4872 - val_categorical_accuracy: 0.8300 - lr: 1.6000e-06\n",
            "Epoch 24/30\n",
            "34/34 [==============================] - ETA: 0s - loss: 0.6819 - categorical_accuracy: 0.7496\n",
            "Epoch 24: saving model to model_init_2022-09-1215_46_37.656743/model-00024-0.68188-0.74962-0.73606-0.81000.h5\n",
            "34/34 [==============================] - 273s 8s/step - loss: 0.6819 - categorical_accuracy: 0.7496 - val_loss: 0.7361 - val_categorical_accuracy: 0.8100 - lr: 1.6000e-06\n",
            "Epoch 25/30\n",
            "34/34 [==============================] - ETA: 0s - loss: 0.7030 - categorical_accuracy: 0.7511\n",
            "Epoch 25: saving model to model_init_2022-09-1215_46_37.656743/model-00025-0.70304-0.75113-0.67202-0.77000.h5\n",
            "34/34 [==============================] - 262s 8s/step - loss: 0.7030 - categorical_accuracy: 0.7511 - val_loss: 0.6720 - val_categorical_accuracy: 0.7700 - lr: 1.6000e-06\n",
            "Epoch 26/30\n",
            "34/34 [==============================] - ETA: 0s - loss: 0.6503 - categorical_accuracy: 0.7534\n",
            "Epoch 26: saving model to model_init_2022-09-1215_46_37.656743/model-00026-0.65034-0.75339-0.59642-0.81000.h5\n",
            "\n",
            "Epoch 26: ReduceLROnPlateau reducing learning rate to 3.200000037395512e-07.\n",
            "34/34 [==============================] - 269s 8s/step - loss: 0.6503 - categorical_accuracy: 0.7534 - val_loss: 0.5964 - val_categorical_accuracy: 0.8100 - lr: 1.6000e-06\n",
            "Epoch 27/30\n",
            "34/34 [==============================] - ETA: 0s - loss: 0.6421 - categorical_accuracy: 0.7594\n",
            "Epoch 27: saving model to model_init_2022-09-1215_46_37.656743/model-00027-0.64210-0.75943-0.57670-0.81000.h5\n",
            "34/34 [==============================] - 272s 8s/step - loss: 0.6421 - categorical_accuracy: 0.7594 - val_loss: 0.5767 - val_categorical_accuracy: 0.8100 - lr: 3.2000e-07\n",
            "Epoch 28/30\n",
            "34/34 [==============================] - ETA: 0s - loss: 0.6385 - categorical_accuracy: 0.7700\n",
            "Epoch 28: saving model to model_init_2022-09-1215_46_37.656743/model-00028-0.63847-0.76998-0.55556-0.83000.h5\n",
            "34/34 [==============================] - 278s 8s/step - loss: 0.6385 - categorical_accuracy: 0.7700 - val_loss: 0.5556 - val_categorical_accuracy: 0.8300 - lr: 3.2000e-07\n",
            "Epoch 29/30\n",
            "34/34 [==============================] - ETA: 0s - loss: 0.6620 - categorical_accuracy: 0.7647\n",
            "Epoch 29: saving model to model_init_2022-09-1215_46_37.656743/model-00029-0.66202-0.76471-0.67235-0.79000.h5\n",
            "34/34 [==============================] - 273s 8s/step - loss: 0.6620 - categorical_accuracy: 0.7647 - val_loss: 0.6724 - val_categorical_accuracy: 0.7900 - lr: 3.2000e-07\n",
            "Epoch 30/30\n",
            "34/34 [==============================] - ETA: 0s - loss: 0.6286 - categorical_accuracy: 0.7813\n",
            "Epoch 30: saving model to model_init_2022-09-1215_46_37.656743/model-00030-0.62864-0.78130-0.59734-0.83000.h5\n",
            "\n",
            "Epoch 30: ReduceLROnPlateau reducing learning rate to 6.399999961104187e-08.\n",
            "34/34 [==============================] - 276s 8s/step - loss: 0.6286 - categorical_accuracy: 0.7813 - val_loss: 0.5973 - val_categorical_accuracy: 0.8300 - lr: 3.2000e-07\n"
          ]
        }
      ],
      "source": [
        "print(\"Total Params:\", conv_3d10_model.count_params())\n",
        "history_model10=conv_3d10.train_model(conv_3d10_model,augment_data=True)"
      ]
    },
    {
      "cell_type": "code",
      "execution_count": 53,
      "metadata": {
        "id": "DSLJV6LWmdkI",
        "colab": {
          "base_uri": "https://localhost:8080/",
          "height": 268
        },
        "outputId": "8e0461e6-2f40-44e3-f059-ce75570a3405"
      },
      "outputs": [
        {
          "output_type": "display_data",
          "data": {
            "text/plain": [
              "<Figure size 1080x288 with 2 Axes>"
            ],
            "image/png": "[encoded data removed]"
          },
          "metadata": {
            "needs_background": "light"
          }
        }
      ],
      "source": [
        "plot(history_model10)"
      ]
    },
    {
      "cell_type": "markdown",
      "metadata": {
        "id": "shsHSQtZmdkI"
      },
      "source": [
        "# Model 18 - Transfer Learning\n",
        "\n",
        "> Indented block\n",
        "\n"
      ]
    },
    {
      "cell_type": "code",
      "execution_count": 54,
      "metadata": {
        "id": "TnbMsoOUmdkJ"
      },
      "outputs": [],
      "source": [
        "from keras.applications import mobilenet"
      ]
    },
    {
      "cell_type": "code",
      "execution_count": 55,
      "metadata": {
        "id": "oIJm_8BtmdkJ",
        "colab": {
          "base_uri": "https://localhost:8080/"
        },
        "outputId": "00786962-c9ad-41a3-8b0e-a16e97725005"
      },
      "outputs": [
        {
          "output_type": "stream",
          "name": "stderr",
          "text": [
            "WARNING:tensorflow:`input_shape` is undefined or non-square, or `rows` is not in [128, 160, 192, 224]. Weights for input shape (224, 224) will be loaded as the default.\n"
          ]
        },
        {
          "output_type": "stream",
          "name": "stdout",
          "text": [
            "Downloading data from https://storage.googleapis.com/tensorflow/keras-applications/mobilenet/mobilenet_1_0_224_tf_no_top.h5\n",
            "17227776/17225924 [==============================] - 1s 0us/step\n",
            "17235968/17225924 [==============================] - 1s 0us/step\n"
          ]
        }
      ],
      "source": [
        "mobilenet_transfer = mobilenet.MobileNet(weights='imagenet', include_top=False)\n",
        "\n",
        "class RNNCNN_TL(ModelBuilderMoreAugmentation):\n",
        "    \n",
        "    def define_model(self,lstm_cells=64,dense_neurons=64,dropout=0.25):\n",
        "        \n",
        "        model = Sequential()\n",
        "        model.add(TimeDistributed(mobilenet_transfer,input_shape=(self.frames_to_sample,self.image_height,self.image_width,self.channels)))\n",
        "        \n",
        "        \n",
        "        for layer in model.layers:\n",
        "            layer.trainable = False\n",
        "        \n",
        "        \n",
        "        model.add(TimeDistributed(BatchNormalization()))\n",
        "        model.add(TimeDistributed(MaxPooling2D((2, 2))))\n",
        "        model.add(TimeDistributed(Flatten()))\n",
        "\n",
        "        model.add(LSTM(lstm_cells))\n",
        "        model.add(Dropout(dropout))\n",
        "        \n",
        "        model.add(Dense(dense_neurons,activation='relu'))\n",
        "        model.add(Dropout(dropout))\n",
        "        \n",
        "        model.add(Dense(self.num_classes, activation='softmax'))\n",
        "        \n",
        "        \n",
        "        optimiser = optimizers.adam_v2.Adam()\n",
        "        model.compile(optimizer=optimiser, loss='categorical_crossentropy', metrics=['categorical_accuracy'])\n",
        "        return model"
      ]
    },
    {
      "cell_type": "code",
      "execution_count": 57,
      "metadata": {
        "id": "eNzdTWQMmdkJ",
        "colab": {
          "base_uri": "https://localhost:8080/"
        },
        "outputId": "8b2be5fa-4e0f-45ad-835e-68e672df614c"
      },
      "outputs": [
        {
          "output_type": "stream",
          "name": "stdout",
          "text": [
            "Model: \"sequential_19\"\n",
            "_________________________________________________________________\n",
            " Layer (type)                Output Shape              Param #   \n",
            "=================================================================\n",
            " time_distributed (TimeDistr  (None, 16, 3, 3, 1024)   3228864   \n",
            " ibuted)                                                         \n",
            "                                                                 \n",
            " time_distributed_1 (TimeDis  (None, 16, 3, 3, 1024)   4096      \n",
            " tributed)                                                       \n",
            "                                                                 \n",
            " time_distributed_2 (TimeDis  (None, 16, 1, 1, 1024)   0         \n",
            " tributed)                                                       \n",
            "                                                                 \n",
            " time_distributed_3 (TimeDis  (None, 16, 1024)         0         \n",
            " tributed)                                                       \n",
            "                                                                 \n",
            " lstm (LSTM)                 (None, 128)               590336    \n",
            "                                                                 \n",
            " dropout_38 (Dropout)        (None, 128)               0         \n",
            "                                                                 \n",
            " dense_57 (Dense)            (None, 128)               16512     \n",
            "                                                                 \n",
            " dropout_39 (Dropout)        (None, 128)               0         \n",
            "                                                                 \n",
            " dense_58 (Dense)            (None, 5)                 645       \n",
            "                                                                 \n",
            "=================================================================\n",
            "Total params: 3,840,453\n",
            "Trainable params: 609,541\n",
            "Non-trainable params: 3,230,912\n",
            "_________________________________________________________________\n"
          ]
        }
      ],
      "source": [
        "rnn_cnn_tl=RNNCNN_TL()\n",
        "rnn_cnn_tl.initialize_path(project_folder)\n",
        "rnn_cnn_tl.initialize_image_properties(image_height=120,image_width=120)\n",
        "rnn_cnn_tl.initialize_hyperparams(frames_to_sample=16,batch_size=5,num_epochs=20)\n",
        "rnn_cnn_tl_model=rnn_cnn_tl.define_model(lstm_cells=128,dense_neurons=128,dropout=0.25)\n",
        "rnn_cnn_tl_model.summary()"
      ]
    },
    {
      "cell_type": "code",
      "execution_count": 58,
      "metadata": {
        "id": "2Mbcvim_mdkJ",
        "colab": {
          "base_uri": "https://localhost:8080/"
        },
        "outputId": "38fb6d92-5ea0-4294-97d4-3cdb4e9c5350"
      },
      "outputs": [
        {
          "output_type": "stream",
          "name": "stderr",
          "text": [
            "WARNING:tensorflow:`period` argument is deprecated. Please use `save_freq` to specify the frequency in number of batches seen.\n"
          ]
        },
        {
          "output_type": "stream",
          "name": "stdout",
          "text": [
            "Total Params: 3840453\n",
            "Epoch 1/20\n",
            "133/133 [==============================] - ETA: 0s - loss: 1.4286 - categorical_accuracy: 0.3891\n",
            "Epoch 1: saving model to model_init_2022-09-1218_04_21.646941/model-00001-1.42857-0.38914-1.06902-0.58000.h5\n",
            "133/133 [==============================] - 216s 2s/step - loss: 1.4286 - categorical_accuracy: 0.3891 - val_loss: 1.0690 - val_categorical_accuracy: 0.5800 - lr: 0.0010\n",
            "Epoch 2/20\n",
            "133/133 [==============================] - ETA: 0s - loss: 0.9641 - categorical_accuracy: 0.6297\n",
            "Epoch 2: saving model to model_init_2022-09-1218_04_21.646941/model-00002-0.96413-0.62971-0.81497-0.72000.h5\n",
            "133/133 [==============================] - 196s 1s/step - loss: 0.9641 - categorical_accuracy: 0.6297 - val_loss: 0.8150 - val_categorical_accuracy: 0.7200 - lr: 0.0010\n",
            "Epoch 3/20\n",
            "133/133 [==============================] - ETA: 0s - loss: 0.7319 - categorical_accuracy: 0.7081\n",
            "Epoch 3: saving model to model_init_2022-09-1218_04_21.646941/model-00003-0.73191-0.70814-0.60065-0.75000.h5\n",
            "133/133 [==============================] - 194s 1s/step - loss: 0.7319 - categorical_accuracy: 0.7081 - val_loss: 0.6007 - val_categorical_accuracy: 0.7500 - lr: 0.0010\n",
            "Epoch 4/20\n",
            "133/133 [==============================] - ETA: 0s - loss: 0.5381 - categorical_accuracy: 0.8062\n",
            "Epoch 4: saving model to model_init_2022-09-1218_04_21.646941/model-00004-0.53814-0.80618-0.66519-0.69000.h5\n",
            "133/133 [==============================] - 201s 2s/step - loss: 0.5381 - categorical_accuracy: 0.8062 - val_loss: 0.6652 - val_categorical_accuracy: 0.6900 - lr: 0.0010\n",
            "Epoch 5/20\n",
            "133/133 [==============================] - ETA: 0s - loss: 0.4640 - categorical_accuracy: 0.8198\n",
            "Epoch 5: saving model to model_init_2022-09-1218_04_21.646941/model-00005-0.46395-0.81976-0.62849-0.80000.h5\n",
            "133/133 [==============================] - 196s 1s/step - loss: 0.4640 - categorical_accuracy: 0.8198 - val_loss: 0.6285 - val_categorical_accuracy: 0.8000 - lr: 0.0010\n",
            "Epoch 6/20\n",
            "133/133 [==============================] - ETA: 0s - loss: 0.4199 - categorical_accuracy: 0.8371\n",
            "Epoch 6: saving model to model_init_2022-09-1218_04_21.646941/model-00006-0.41986-0.83710-0.73873-0.79000.h5\n",
            "133/133 [==============================] - 195s 1s/step - loss: 0.4199 - categorical_accuracy: 0.8371 - val_loss: 0.7387 - val_categorical_accuracy: 0.7900 - lr: 0.0010\n",
            "Epoch 7/20\n",
            "133/133 [==============================] - ETA: 0s - loss: 0.3057 - categorical_accuracy: 0.8952\n",
            "Epoch 7: saving model to model_init_2022-09-1218_04_21.646941/model-00007-0.30572-0.89517-0.93359-0.66000.h5\n",
            "\n",
            "Epoch 7: ReduceLROnPlateau reducing learning rate to 0.00020000000949949026.\n",
            "133/133 [==============================] - 204s 2s/step - loss: 0.3057 - categorical_accuracy: 0.8952 - val_loss: 0.9336 - val_categorical_accuracy: 0.6600 - lr: 0.0010\n",
            "Epoch 8/20\n",
            "133/133 [==============================] - ETA: 0s - loss: 0.2239 - categorical_accuracy: 0.9208\n",
            "Epoch 8: saving model to model_init_2022-09-1218_04_21.646941/model-00008-0.22391-0.92081-0.56203-0.73000.h5\n",
            "133/133 [==============================] - 200s 2s/step - loss: 0.2239 - categorical_accuracy: 0.9208 - val_loss: 0.5620 - val_categorical_accuracy: 0.7300 - lr: 2.0000e-04\n",
            "Epoch 9/20\n",
            "133/133 [==============================] - ETA: 0s - loss: 0.1717 - categorical_accuracy: 0.9412\n",
            "Epoch 9: saving model to model_init_2022-09-1218_04_21.646941/model-00009-0.17171-0.94118-0.72209-0.70000.h5\n",
            "133/133 [==============================] - 205s 2s/step - loss: 0.1717 - categorical_accuracy: 0.9412 - val_loss: 0.7221 - val_categorical_accuracy: 0.7000 - lr: 2.0000e-04\n",
            "Epoch 10/20\n",
            "133/133 [==============================] - ETA: 0s - loss: 0.1608 - categorical_accuracy: 0.9502\n",
            "Epoch 10: saving model to model_init_2022-09-1218_04_21.646941/model-00010-0.16082-0.95023-0.63512-0.72000.h5\n",
            "133/133 [==============================] - 197s 1s/step - loss: 0.1608 - categorical_accuracy: 0.9502 - val_loss: 0.6351 - val_categorical_accuracy: 0.7200 - lr: 2.0000e-04\n",
            "Epoch 11/20\n",
            "133/133 [==============================] - ETA: 0s - loss: 0.1228 - categorical_accuracy: 0.9585\n",
            "Epoch 11: saving model to model_init_2022-09-1218_04_21.646941/model-00011-0.12284-0.95852-0.83405-0.67000.h5\n",
            "133/133 [==============================] - 198s 2s/step - loss: 0.1228 - categorical_accuracy: 0.9585 - val_loss: 0.8340 - val_categorical_accuracy: 0.6700 - lr: 2.0000e-04\n",
            "Epoch 12/20\n",
            "133/133 [==============================] - ETA: 0s - loss: 0.1198 - categorical_accuracy: 0.9570\n",
            "Epoch 12: saving model to model_init_2022-09-1218_04_21.646941/model-00012-0.11984-0.95701-0.63532-0.79000.h5\n",
            "\n",
            "Epoch 12: ReduceLROnPlateau reducing learning rate to 4.0000001899898055e-05.\n",
            "133/133 [==============================] - 206s 2s/step - loss: 0.1198 - categorical_accuracy: 0.9570 - val_loss: 0.6353 - val_categorical_accuracy: 0.7900 - lr: 2.0000e-04\n",
            "Epoch 13/20\n",
            "133/133 [==============================] - ETA: 0s - loss: 0.0949 - categorical_accuracy: 0.9706\n",
            "Epoch 13: saving model to model_init_2022-09-1218_04_21.646941/model-00013-0.09488-0.97059-0.64871-0.78000.h5\n",
            "133/133 [==============================] - 202s 2s/step - loss: 0.0949 - categorical_accuracy: 0.9706 - val_loss: 0.6487 - val_categorical_accuracy: 0.7800 - lr: 4.0000e-05\n",
            "Epoch 14/20\n",
            "133/133 [==============================] - ETA: 0s - loss: 0.1213 - categorical_accuracy: 0.9615\n",
            "Epoch 14: saving model to model_init_2022-09-1218_04_21.646941/model-00014-0.12135-0.96154-0.72327-0.74000.h5\n",
            "133/133 [==============================] - 196s 1s/step - loss: 0.1213 - categorical_accuracy: 0.9615 - val_loss: 0.7233 - val_categorical_accuracy: 0.7400 - lr: 4.0000e-05\n",
            "Epoch 15/20\n",
            "133/133 [==============================] - ETA: 0s - loss: 0.1110 - categorical_accuracy: 0.9683\n",
            "Epoch 15: saving model to model_init_2022-09-1218_04_21.646941/model-00015-0.11097-0.96833-0.75851-0.74000.h5\n",
            "133/133 [==============================] - 199s 2s/step - loss: 0.1110 - categorical_accuracy: 0.9683 - val_loss: 0.7585 - val_categorical_accuracy: 0.7400 - lr: 4.0000e-05\n",
            "Epoch 16/20\n",
            "133/133 [==============================] - ETA: 0s - loss: 0.1009 - categorical_accuracy: 0.9676\n",
            "Epoch 16: saving model to model_init_2022-09-1218_04_21.646941/model-00016-0.10092-0.96757-0.67738-0.76000.h5\n",
            "\n",
            "Epoch 16: ReduceLROnPlateau reducing learning rate to 8.000000525498762e-06.\n",
            "133/133 [==============================] - 204s 2s/step - loss: 0.1009 - categorical_accuracy: 0.9676 - val_loss: 0.6774 - val_categorical_accuracy: 0.7600 - lr: 4.0000e-05\n",
            "Epoch 17/20\n",
            "133/133 [==============================] - ETA: 0s - loss: 0.0974 - categorical_accuracy: 0.9668\n",
            "Epoch 17: saving model to model_init_2022-09-1218_04_21.646941/model-00017-0.09739-0.96682-0.67690-0.75000.h5\n",
            "133/133 [==============================] - 203s 2s/step - loss: 0.0974 - categorical_accuracy: 0.9668 - val_loss: 0.6769 - val_categorical_accuracy: 0.7500 - lr: 8.0000e-06\n",
            "Epoch 18/20\n",
            "133/133 [==============================] - ETA: 0s - loss: 0.0955 - categorical_accuracy: 0.9721\n",
            "Epoch 18: saving model to model_init_2022-09-1218_04_21.646941/model-00018-0.09554-0.97210-0.76764-0.74000.h5\n",
            "133/133 [==============================] - 201s 2s/step - loss: 0.0955 - categorical_accuracy: 0.9721 - val_loss: 0.7676 - val_categorical_accuracy: 0.7400 - lr: 8.0000e-06\n",
            "Epoch 19/20\n",
            "133/133 [==============================] - ETA: 0s - loss: 0.1263 - categorical_accuracy: 0.9646\n",
            "Epoch 19: saving model to model_init_2022-09-1218_04_21.646941/model-00019-0.12625-0.96456-0.69722-0.76000.h5\n",
            "133/133 [==============================] - 202s 2s/step - loss: 0.1263 - categorical_accuracy: 0.9646 - val_loss: 0.6972 - val_categorical_accuracy: 0.7600 - lr: 8.0000e-06\n",
            "Epoch 20/20\n",
            "133/133 [==============================] - ETA: 0s - loss: 0.1108 - categorical_accuracy: 0.9593\n",
            "Epoch 20: saving model to model_init_2022-09-1218_04_21.646941/model-00020-0.11075-0.95928-0.71643-0.74000.h5\n",
            "\n",
            "Epoch 20: ReduceLROnPlateau reducing learning rate to 1.6000001778593287e-06.\n",
            "133/133 [==============================] - 204s 2s/step - loss: 0.1108 - categorical_accuracy: 0.9593 - val_loss: 0.7164 - val_categorical_accuracy: 0.7400 - lr: 8.0000e-06\n"
          ]
        }
      ],
      "source": [
        "print(\"Total Params:\", rnn_cnn_tl_model.count_params())\n",
        "history_model18=rnn_cnn_tl.train_model(rnn_cnn_tl_model,augment_data=True)"
      ]
    },
    {
      "cell_type": "code",
      "execution_count": 59,
      "metadata": {
        "id": "didW7JmhmdkK",
        "colab": {
          "base_uri": "https://localhost:8080/",
          "height": 269
        },
        "outputId": "1d093ea8-33df-4f18-b482-b2abf9de9db8"
      },
      "outputs": [
        {
          "output_type": "display_data",
          "data": {
            "text/plain": [
              "<Figure size 1080x288 with 2 Axes>"
            ],
            "image/png": "[encoded data removed]"
          },
          "metadata": {
            "needs_background": "light"
          }
        }
      ],
      "source": [
        "plot(history_model18)"
      ]
    },
    {
      "cell_type": "markdown",
      "metadata": {
        "id": "ji9v8FoBmdkK"
      },
      "source": [
        "##### We are not training the mobilenet weights and we see validation accuracy is very poor. Let's train them as well and observe if there is performance improvement"
      ]
    },
    {
      "cell_type": "markdown",
      "metadata": {
        "id": "gWAmIV9LmdkK"
      },
      "source": [
        "# Model 19 - Transfer Learning with GRU and training all weights"
      ]
    },
    {
      "cell_type": "code",
      "execution_count": 60,
      "metadata": {
        "id": "UTjpyuswmdkK",
        "colab": {
          "base_uri": "https://localhost:8080/"
        },
        "outputId": "73823490-ccaa-4a3b-a107-98959f28e21b"
      },
      "outputs": [
        {
          "output_type": "stream",
          "name": "stderr",
          "text": [
            "WARNING:tensorflow:`input_shape` is undefined or non-square, or `rows` is not in [128, 160, 192, 224]. Weights for input shape (224, 224) will be loaded as the default.\n"
          ]
        }
      ],
      "source": [
        "from keras.applications import mobilenet\n",
        "\n",
        "mobilenet_transfer = mobilenet.MobileNet(weights='imagenet', include_top=False)\n",
        "\n",
        "class RNNCNN_TL2(ModelBuilderMoreAugmentation):\n",
        "    \n",
        "    def define_model(self,gru_cells=64,dense_neurons=64,dropout=0.25):\n",
        "        \n",
        "        model = Sequential()\n",
        "        model.add(TimeDistributed(mobilenet_transfer,input_shape=(self.frames_to_sample,self.image_height,self.image_width,self.channels)))\n",
        " \n",
        "        \n",
        "        model.add(TimeDistributed(BatchNormalization()))\n",
        "        model.add(TimeDistributed(MaxPooling2D((2, 2))))\n",
        "        model.add(TimeDistributed(Flatten()))\n",
        "\n",
        "        model.add(GRU(gru_cells))\n",
        "        model.add(Dropout(dropout))\n",
        "        \n",
        "        model.add(Dense(dense_neurons,activation='relu'))\n",
        "        model.add(Dropout(dropout))\n",
        "        \n",
        "        model.add(Dense(self.num_classes, activation='softmax'))\n",
        "        \n",
        "        \n",
        "        optimiser = optimizers.adam_v2.Adam()\n",
        "        model.compile(optimizer=optimiser, loss='categorical_crossentropy', metrics=['categorical_accuracy'])\n",
        "        return model"
      ]
    },
    {
      "cell_type": "code",
      "execution_count": 61,
      "metadata": {
        "id": "tss5WjlGmdkK",
        "colab": {
          "base_uri": "https://localhost:8080/"
        },
        "outputId": "fa864957-839d-4f18-fade-a01b7054098e"
      },
      "outputs": [
        {
          "output_type": "stream",
          "name": "stdout",
          "text": [
            "Model: \"sequential_20\"\n",
            "_________________________________________________________________\n",
            " Layer (type)                Output Shape              Param #   \n",
            "=================================================================\n",
            " time_distributed_4 (TimeDis  (None, 16, 3, 3, 1024)   3228864   \n",
            " tributed)                                                       \n",
            "                                                                 \n",
            " time_distributed_5 (TimeDis  (None, 16, 3, 3, 1024)   4096      \n",
            " tributed)                                                       \n",
            "                                                                 \n",
            " time_distributed_6 (TimeDis  (None, 16, 1, 1, 1024)   0         \n",
            " tributed)                                                       \n",
            "                                                                 \n",
            " time_distributed_7 (TimeDis  (None, 16, 1024)         0         \n",
            " tributed)                                                       \n",
            "                                                                 \n",
            " gru (GRU)                   (None, 128)               443136    \n",
            "                                                                 \n",
            " dropout_40 (Dropout)        (None, 128)               0         \n",
            "                                                                 \n",
            " dense_59 (Dense)            (None, 128)               16512     \n",
            "                                                                 \n",
            " dropout_41 (Dropout)        (None, 128)               0         \n",
            "                                                                 \n",
            " dense_60 (Dense)            (None, 5)                 645       \n",
            "                                                                 \n",
            "=================================================================\n",
            "Total params: 3,693,253\n",
            "Trainable params: 3,669,317\n",
            "Non-trainable params: 23,936\n",
            "_________________________________________________________________\n"
          ]
        }
      ],
      "source": [
        "rnn_cnn_tl2=RNNCNN_TL2()\n",
        "rnn_cnn_tl2.initialize_path(project_folder)\n",
        "rnn_cnn_tl2.initialize_image_properties(image_height=120,image_width=120)\n",
        "rnn_cnn_tl2.initialize_hyperparams(frames_to_sample=16,batch_size=5,num_epochs=20)\n",
        "rnn_cnn_tl2_model=rnn_cnn_tl2.define_model(gru_cells=128,dense_neurons=128,dropout=0.25)\n",
        "rnn_cnn_tl2_model.summary()"
      ]
    },
    {
      "cell_type": "code",
      "execution_count": 62,
      "metadata": {
        "id": "rPMlTvWlmdkL",
        "colab": {
          "base_uri": "https://localhost:8080/"
        },
        "outputId": "a8f20959-591b-4e64-d98b-7a827310c60b"
      },
      "outputs": [
        {
          "output_type": "stream",
          "name": "stderr",
          "text": [
            "WARNING:tensorflow:`period` argument is deprecated. Please use `save_freq` to specify the frequency in number of batches seen.\n"
          ]
        },
        {
          "output_type": "stream",
          "name": "stdout",
          "text": [
            "Total Params: 3693253\n",
            "Epoch 1/20\n",
            "133/133 [==============================] - ETA: 0s - loss: 1.2221 - categorical_accuracy: 0.5128\n",
            "Epoch 1: saving model to model_init_2022-09-1219_11_21.997060/model-00001-1.22208-0.51282-0.73286-0.68000.h5\n",
            "133/133 [==============================] - 216s 2s/step - loss: 1.2221 - categorical_accuracy: 0.5128 - val_loss: 0.7329 - val_categorical_accuracy: 0.6800 - lr: 0.0010\n",
            "Epoch 2/20\n",
            "133/133 [==============================] - ETA: 0s - loss: 0.6072 - categorical_accuracy: 0.7715\n",
            "Epoch 2: saving model to model_init_2022-09-1219_11_21.997060/model-00002-0.60721-0.77149-0.62010-0.77000.h5\n",
            "133/133 [==============================] - 199s 2s/step - loss: 0.6072 - categorical_accuracy: 0.7715 - val_loss: 0.6201 - val_categorical_accuracy: 0.7700 - lr: 0.0010\n",
            "Epoch 3/20\n",
            "133/133 [==============================] - ETA: 0s - loss: 0.4157 - categorical_accuracy: 0.8431\n",
            "Epoch 3: saving model to model_init_2022-09-1219_11_21.997060/model-00003-0.41570-0.84314-0.28679-0.90000.h5\n",
            "133/133 [==============================] - 197s 1s/step - loss: 0.4157 - categorical_accuracy: 0.8431 - val_loss: 0.2868 - val_categorical_accuracy: 0.9000 - lr: 0.0010\n",
            "Epoch 4/20\n",
            "133/133 [==============================] - ETA: 0s - loss: 0.3574 - categorical_accuracy: 0.8771\n",
            "Epoch 4: saving model to model_init_2022-09-1219_11_21.997060/model-00004-0.35739-0.87707-0.55914-0.80000.h5\n",
            "133/133 [==============================] - 202s 2s/step - loss: 0.3574 - categorical_accuracy: 0.8771 - val_loss: 0.5591 - val_categorical_accuracy: 0.8000 - lr: 0.0010\n",
            "Epoch 5/20\n",
            "133/133 [==============================] - ETA: 0s - loss: 0.3656 - categorical_accuracy: 0.8756\n",
            "Epoch 5: saving model to model_init_2022-09-1219_11_21.997060/model-00005-0.36555-0.87557-0.40781-0.84000.h5\n",
            "133/133 [==============================] - 196s 1s/step - loss: 0.3656 - categorical_accuracy: 0.8756 - val_loss: 0.4078 - val_categorical_accuracy: 0.8400 - lr: 0.0010\n",
            "Epoch 6/20\n",
            "133/133 [==============================] - ETA: 0s - loss: 0.2035 - categorical_accuracy: 0.9268\n",
            "Epoch 6: saving model to model_init_2022-09-1219_11_21.997060/model-00006-0.20349-0.92685-0.37060-0.90000.h5\n",
            "133/133 [==============================] - 194s 1s/step - loss: 0.2035 - categorical_accuracy: 0.9268 - val_loss: 0.3706 - val_categorical_accuracy: 0.9000 - lr: 0.0010\n",
            "Epoch 7/20\n",
            "133/133 [==============================] - ETA: 0s - loss: 0.2261 - categorical_accuracy: 0.9246\n",
            "Epoch 7: saving model to model_init_2022-09-1219_11_21.997060/model-00007-0.22609-0.92459-0.41437-0.86000.h5\n",
            "\n",
            "Epoch 7: ReduceLROnPlateau reducing learning rate to 0.00020000000949949026.\n",
            "133/133 [==============================] - 197s 1s/step - loss: 0.2261 - categorical_accuracy: 0.9246 - val_loss: 0.4144 - val_categorical_accuracy: 0.8600 - lr: 0.0010\n",
            "Epoch 8/20\n",
            "133/133 [==============================] - ETA: 0s - loss: 0.0971 - categorical_accuracy: 0.9713\n",
            "Epoch 8: saving model to model_init_2022-09-1219_11_21.997060/model-00008-0.09715-0.97134-0.26616-0.93000.h5\n",
            "133/133 [==============================] - 185s 1s/step - loss: 0.0971 - categorical_accuracy: 0.9713 - val_loss: 0.2662 - val_categorical_accuracy: 0.9300 - lr: 2.0000e-04\n",
            "Epoch 9/20\n",
            "133/133 [==============================] - ETA: 0s - loss: 0.0570 - categorical_accuracy: 0.9872\n",
            "Epoch 9: saving model to model_init_2022-09-1219_11_21.997060/model-00009-0.05703-0.98718-0.20493-0.94000.h5\n",
            "133/133 [==============================] - 191s 1s/step - loss: 0.0570 - categorical_accuracy: 0.9872 - val_loss: 0.2049 - val_categorical_accuracy: 0.9400 - lr: 2.0000e-04\n",
            "Epoch 10/20\n",
            "133/133 [==============================] - ETA: 0s - loss: 0.0628 - categorical_accuracy: 0.9804\n",
            "Epoch 10: saving model to model_init_2022-09-1219_11_21.997060/model-00010-0.06278-0.98039-0.11358-0.96000.h5\n",
            "133/133 [==============================] - 187s 1s/step - loss: 0.0628 - categorical_accuracy: 0.9804 - val_loss: 0.1136 - val_categorical_accuracy: 0.9600 - lr: 2.0000e-04\n",
            "Epoch 11/20\n",
            "133/133 [==============================] - ETA: 0s - loss: 0.0326 - categorical_accuracy: 0.9910\n",
            "Epoch 11: saving model to model_init_2022-09-1219_11_21.997060/model-00011-0.03255-0.99095-0.12013-0.94000.h5\n",
            "133/133 [==============================] - 197s 1s/step - loss: 0.0326 - categorical_accuracy: 0.9910 - val_loss: 0.1201 - val_categorical_accuracy: 0.9400 - lr: 2.0000e-04\n",
            "Epoch 12/20\n",
            "133/133 [==============================] - ETA: 0s - loss: 0.0450 - categorical_accuracy: 0.9827\n",
            "Epoch 12: saving model to model_init_2022-09-1219_11_21.997060/model-00012-0.04500-0.98265-0.30894-0.95000.h5\n",
            "133/133 [==============================] - 195s 1s/step - loss: 0.0450 - categorical_accuracy: 0.9827 - val_loss: 0.3089 - val_categorical_accuracy: 0.9500 - lr: 2.0000e-04\n",
            "Epoch 13/20\n",
            "133/133 [==============================] - ETA: 0s - loss: 0.0277 - categorical_accuracy: 0.9902\n",
            "Epoch 13: saving model to model_init_2022-09-1219_11_21.997060/model-00013-0.02772-0.99020-0.20353-0.92000.h5\n",
            "133/133 [==============================] - 195s 1s/step - loss: 0.0277 - categorical_accuracy: 0.9902 - val_loss: 0.2035 - val_categorical_accuracy: 0.9200 - lr: 2.0000e-04\n",
            "Epoch 14/20\n",
            "133/133 [==============================] - ETA: 0s - loss: 0.0290 - categorical_accuracy: 0.9955\n",
            "Epoch 14: saving model to model_init_2022-09-1219_11_21.997060/model-00014-0.02900-0.99548-0.15239-0.95000.h5\n",
            "\n",
            "Epoch 14: ReduceLROnPlateau reducing learning rate to 4.0000001899898055e-05.\n",
            "133/133 [==============================] - 189s 1s/step - loss: 0.0290 - categorical_accuracy: 0.9955 - val_loss: 0.1524 - val_categorical_accuracy: 0.9500 - lr: 2.0000e-04\n",
            "Epoch 15/20\n",
            "133/133 [==============================] - ETA: 0s - loss: 0.0201 - categorical_accuracy: 0.9940\n",
            "Epoch 15: saving model to model_init_2022-09-1219_11_21.997060/model-00015-0.02010-0.99397-0.26514-0.93000.h5\n",
            "133/133 [==============================] - 191s 1s/step - loss: 0.0201 - categorical_accuracy: 0.9940 - val_loss: 0.2651 - val_categorical_accuracy: 0.9300 - lr: 4.0000e-05\n",
            "Epoch 16/20\n",
            "133/133 [==============================] - ETA: 0s - loss: 0.0235 - categorical_accuracy: 0.9940\n",
            "Epoch 16: saving model to model_init_2022-09-1219_11_21.997060/model-00016-0.02350-0.99397-0.22777-0.94000.h5\n",
            "133/133 [==============================] - 189s 1s/step - loss: 0.0235 - categorical_accuracy: 0.9940 - val_loss: 0.2278 - val_categorical_accuracy: 0.9400 - lr: 4.0000e-05\n",
            "Epoch 17/20\n",
            "133/133 [==============================] - ETA: 0s - loss: 0.0139 - categorical_accuracy: 0.9970\n",
            "Epoch 17: saving model to model_init_2022-09-1219_11_21.997060/model-00017-0.01385-0.99698-0.07765-0.97000.h5\n",
            "133/133 [==============================] - 194s 1s/step - loss: 0.0139 - categorical_accuracy: 0.9970 - val_loss: 0.0777 - val_categorical_accuracy: 0.9700 - lr: 4.0000e-05\n",
            "Epoch 18/20\n",
            "133/133 [==============================] - ETA: 0s - loss: 0.0226 - categorical_accuracy: 0.9932\n",
            "Epoch 18: saving model to model_init_2022-09-1219_11_21.997060/model-00018-0.02265-0.99321-0.26749-0.93000.h5\n",
            "133/133 [==============================] - 188s 1s/step - loss: 0.0226 - categorical_accuracy: 0.9932 - val_loss: 0.2675 - val_categorical_accuracy: 0.9300 - lr: 4.0000e-05\n",
            "Epoch 19/20\n",
            "133/133 [==============================] - ETA: 0s - loss: 0.0152 - categorical_accuracy: 0.9970\n",
            "Epoch 19: saving model to model_init_2022-09-1219_11_21.997060/model-00019-0.01523-0.99698-0.16792-0.96000.h5\n",
            "133/133 [==============================] - 197s 1s/step - loss: 0.0152 - categorical_accuracy: 0.9970 - val_loss: 0.1679 - val_categorical_accuracy: 0.9600 - lr: 4.0000e-05\n",
            "Epoch 20/20\n",
            "133/133 [==============================] - ETA: 0s - loss: 0.0129 - categorical_accuracy: 0.9962\n",
            "Epoch 20: saving model to model_init_2022-09-1219_11_21.997060/model-00020-0.01287-0.99623-0.19837-0.94000.h5\n",
            "133/133 [==============================] - 200s 2s/step - loss: 0.0129 - categorical_accuracy: 0.9962 - val_loss: 0.1984 - val_categorical_accuracy: 0.9400 - lr: 4.0000e-05\n"
          ]
        }
      ],
      "source": [
        "print(\"Total Params:\", rnn_cnn_tl2_model.count_params())\n",
        "history_model19=rnn_cnn_tl2.train_model(rnn_cnn_tl2_model,augment_data=True)"
      ]
    },
    {
      "cell_type": "code",
      "execution_count": 63,
      "metadata": {
        "id": "6K1Isn1-mdkL",
        "colab": {
          "base_uri": "https://localhost:8080/",
          "height": 265
        },
        "outputId": "dcc7cc6b-f6d2-41ad-be62-ce1927b78e30"
      },
      "outputs": [
        {
          "output_type": "display_data",
          "data": {
            "text/plain": [
              "<Figure size 1080x288 with 2 Axes>"
            ],
            "image/png": "[encoded data removed]"
          },
          "metadata": {
            "needs_background": "light"
          }
        }
      ],
      "source": [
        "plot(history_model19)"
      ]
    },
    {
      "cell_type": "markdown",
      "metadata": {
        "id": "8ekHY-DEmdkL"
      },
      "source": [
        "# Consolidated Final Models"
      ]
    },
    {
      "cell_type": "code",
      "execution_count": 5,
      "metadata": {
        "id": "VxeYwxOkmdkL"
      },
      "outputs": [],
      "source": []
    },
    {
      "cell_type": "code",
      "source": [],
      "metadata": {
        "id": "Kw7WFikBl7EM"
      },
      "execution_count": 5,
      "outputs": []
    },
    {
      "cell_type": "code",
      "execution_count": 5,
      "metadata": {
        "id": "UuYDpGVamdkL"
      },
      "outputs": [],
      "source": []
    },
    {
      "cell_type": "code",
      "source": [],
      "metadata": {
        "id": "1XZagXW8lihG"
      },
      "execution_count": 5,
      "outputs": []
    },
    {
      "cell_type": "code",
      "execution_count": 5,
      "metadata": {
        "id": "FCIiJRsJmdkL"
      },
      "outputs": [],
      "source": []
    },
    {
      "cell_type": "code",
      "execution_count": 5,
      "metadata": {
        "id": "NvKJeOgCmdkM"
      },
      "outputs": [],
      "source": []
    },
    {
      "cell_type": "code",
      "execution_count": 5,
      "metadata": {
        "id": "V4jLV3wOwJv-"
      },
      "outputs": [],
      "source": []
    }
  ],
  "metadata": {
    "accelerator": "GPU",
    "colab": {
      "machine_shape": "hm",
      "provenance": [],
      "collapsed_sections": [
        "MSMbBEcDmdj8",
        "uZkfaswjmdkF",
        "d253GKwemdkG",
        "OAuMvPa3mdkH",
        "shsHSQtZmdkI",
        "gWAmIV9LmdkK"
      ]
    },
    "gpuClass": "standard",
    "kernelspec": {
      "display_name": "Python 3 (ipykernel)",
      "language": "python",
      "name": "python3"
    },
    "language_info": {
      "codemirror_mode": {
        "name": "ipython",
        "version": 3
      },
      "file_extension": ".py",
      "mimetype": "text/x-python",
      "name": "python",
      "nbconvert_exporter": "python",
      "pygments_lexer": "ipython3",
      "version": "3.9.12"
    }
  },
  "nbformat": 4,
  "nbformat_minor": 0
}
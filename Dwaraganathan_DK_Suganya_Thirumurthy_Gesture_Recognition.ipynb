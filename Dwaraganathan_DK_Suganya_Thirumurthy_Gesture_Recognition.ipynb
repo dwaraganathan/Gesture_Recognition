{
  "cells": [
    {
      "cell_type": "markdown",
      "metadata": {
        "id": "view-in-github",
        "colab_type": "text"
      },
      "source": [
        "<a href=\"https://colab.research.google.com/github/dwaraganathan/Gesture_Recognition/blob/main/Dwaraganathan_DK_Suganya_Thirumurthy_Gesture_Recognition.ipynb\" target=\"_parent\"><img src=\"https://colab.research.google.com/assets/colab-badge.svg\" alt=\"Open In Colab\"/></a>"
      ]
    },
    {
      "cell_type": "markdown",
      "metadata": {
        "id": "E269JQgpmdjp"
      },
      "source": [
        "# Gesture Recognition\n",
        "In this group project, you are going to build a 3D Conv model that will be able to predict the 5 gestures correctly. Please import the following libraries to get started."
      ]
    },
    {
      "cell_type": "code",
      "execution_count": 1,
      "metadata": {
        "id": "PNu4CYzYmdjw"
      },
      "outputs": [],
      "source": [
        "import numpy as np\n",
        "import os\n",
        "from imageio import imread\n",
        "import datetime\n",
        "import os\n",
        "import warnings\n",
        "warnings.filterwarnings(\"ignore\")\n",
        "import abc\n",
        "from sys import getsizeof\n",
        "import cv2\n",
        "from skimage.transform import resize\n"
      ]
    },
    {
      "cell_type": "markdown",
      "metadata": {
        "id": "snbPX-KEmdjx"
      },
      "source": [
        "We set the random seed so that the results don't vary drastically."
      ]
    },
    {
      "cell_type": "code",
      "execution_count": 2,
      "metadata": {
        "id": "2O2cx8tFmdjy"
      },
      "outputs": [],
      "source": [
        "np.random.seed(30)\n",
        "import random as rn\n",
        "rn.seed(30)\n",
        "from keras import backend as K\n",
        "import tensorflow as tf\n",
        "tf.random.set_seed(30)"
      ]
    },
    {
      "cell_type": "code",
      "execution_count": 3,
      "metadata": {
        "id": "b1iMHJ5vmdjz"
      },
      "outputs": [],
      "source": [
        "import cv2\n",
        "import matplotlib.pyplot as plt\n"
      ]
    },
    {
      "cell_type": "markdown",
      "metadata": {
        "id": "cQaiDurhmdj0"
      },
      "source": [
        "In this block, you read the folder names for training and validation. You also set the `batch_size` here. Note that you set the batch size in such a way that you are able to use the GPU in full capacity. You keep increasing the batch size until the machine throws an error."
      ]
    },
    {
      "cell_type": "code",
      "execution_count": 4,
      "metadata": {
        "id": "RrN443mVmdj1"
      },
      "outputs": [],
      "source": [
        "from keras.models import Sequential, Model\n",
        "from keras.layers import Dense, GRU, Flatten, TimeDistributed, Flatten, BatchNormalization, Activation\n",
        "from keras.layers.convolutional import Conv3D, MaxPooling3D, Conv2D, MaxPooling2D\n",
        "from keras.layers.recurrent import LSTM\n",
        "from keras.callbacks import ModelCheckpoint, ReduceLROnPlateau\n",
        "from keras import optimizers\n",
        "from keras.layers import Dropout\n",
        "from keras.optimizers import adam_v2"
      ]
    },
    {
      "cell_type": "code",
      "execution_count": 5,
      "metadata": {
        "colab": {
          "base_uri": "https://localhost:8080/"
        },
        "id": "YMGq7Fe2owlw",
        "outputId": "91429e5f-08b3-4bbf-df94-0e05184e766a"
      },
      "outputs": [
        {
          "output_type": "stream",
          "name": "stdout",
          "text": [
            "Mounted at /content/gdrive\n"
          ]
        }
      ],
      "source": [
        "## If you are using the data by mounting the google drive, use the following :\n",
        "from google.colab import drive\n",
        "drive.mount('/content/gdrive')"
      ]
    },
    {
      "cell_type": "code",
      "execution_count": 6,
      "metadata": {
        "id": "vPei2gBjoywF"
      },
      "outputs": [],
      "source": [
        "#unzip the dataset\n",
        "!unzip \"/content/gdrive/MyDrive/Gesture_Recognition/Project_data.zip\" > /dev/null"
      ]
    },
    {
      "cell_type": "code",
      "execution_count": 7,
      "metadata": {
        "id": "PYrBhIn1mdj2"
      },
      "outputs": [],
      "source": [
        "project_folder='Project_data/'"
      ]
    },
    {
      "cell_type": "markdown",
      "metadata": {
        "id": "JgAjFAJLmdj3"
      },
      "source": [
        "##### Plotting"
      ]
    },
    {
      "cell_type": "code",
      "execution_count": 8,
      "metadata": {
        "id": "Ywg-00DNmdj4"
      },
      "outputs": [],
      "source": [
        "def plot(history):\n",
        "    fig, axes = plt.subplots(nrows=1, ncols=2, figsize=(15,4))\n",
        "    axes[0].plot(history.history['loss'])   \n",
        "    axes[0].plot(history.history['val_loss'])\n",
        "    axes[0].legend(['loss','val_loss'])\n",
        "\n",
        "    axes[1].plot(history.history['categorical_accuracy'])   \n",
        "    axes[1].plot(history.history['val_categorical_accuracy'])\n",
        "    axes[1].legend(['categorical_accuracy','val_categorical_accuracy'])"
      ]
    },
    {
      "cell_type": "markdown",
      "metadata": {
        "id": "dWd9AFvSmdj5"
      },
      "source": [
        "## Generator\n",
        "This is one of the most important part of the code. The overall structure of the generator has been given. In the generator, you are going to preprocess the images as you have images of 2 different dimensions as well as create a batch of video frames. You have to experiment with `img_idx`, `y`,`z` and normalization such that you get high accuracy."
      ]
    },
    {
      "cell_type": "code",
      "execution_count": 9,
      "metadata": {
        "id": "nxzKQd9Pmdj5"
      },
      "outputs": [],
      "source": [
        "class ModelBuilder(metaclass= abc.ABCMeta):\n",
        "    \n",
        "    def initialize_path(self,project_folder):\n",
        "        self.train_doc = np.random.permutation(open(project_folder + '/' + 'train.csv').readlines())\n",
        "        self.val_doc = np.random.permutation(open(project_folder + '/' + 'val.csv').readlines())\n",
        "        self.train_path = project_folder + '/' + 'train'\n",
        "        self.val_path =  project_folder + '/' + 'val'\n",
        "        self.num_train_sequences = len(self.train_doc)\n",
        "        self.num_val_sequences = len(self.val_doc)\n",
        "        \n",
        "    def initialize_image_properties(self,image_height=100,image_width=100):\n",
        "        self.image_height=image_height\n",
        "        self.image_width=image_width\n",
        "        self.channels=3\n",
        "        self.num_classes=5\n",
        "        self.total_frames=30\n",
        "          \n",
        "    def initialize_hyperparams(self,frames_to_sample=30,batch_size=20,num_epochs=20):\n",
        "        self.frames_to_sample=frames_to_sample\n",
        "        self.batch_size=batch_size\n",
        "        self.num_epochs=num_epochs\n",
        "        \n",
        "        \n",
        "    def generator(self,source_path, folder_list, augment=False):\n",
        "        img_idx = np.round(np.linspace(0,self.total_frames-1,self.frames_to_sample)).astype(int)\n",
        "        batch_size=self.batch_size\n",
        "        while True:\n",
        "            t = np.random.permutation(folder_list)\n",
        "            num_batches = len(t)//batch_size\n",
        "        \n",
        "            for batch in range(num_batches): \n",
        "                batch_data, batch_labels= self.one_batch_data(source_path,t,batch,batch_size,img_idx,augment)\n",
        "                yield batch_data, batch_labels \n",
        "\n",
        "            remaining_seq=len(t)%batch_size\n",
        "        \n",
        "            if (remaining_seq != 0):\n",
        "                batch_data, batch_labels= self.one_batch_data(source_path,t,num_batches,batch_size,img_idx,augment,remaining_seq)\n",
        "                yield batch_data, batch_labels \n",
        "    \n",
        "    \n",
        "    def one_batch_data(self,source_path,t,batch,batch_size,img_idx,augment,remaining_seq=0):\n",
        "    \n",
        "        seq_len = remaining_seq if remaining_seq else batch_size\n",
        "    \n",
        "        batch_data = np.zeros((seq_len,len(img_idx),self.image_height,self.image_width,self.channels)) \n",
        "        batch_labels = np.zeros((seq_len,self.num_classes)) \n",
        "    \n",
        "        if (augment): batch_data_aug = np.zeros((seq_len,len(img_idx),self.image_height,self.image_width,self.channels))\n",
        "\n",
        "        \n",
        "        for folder in range(seq_len): \n",
        "            imgs = os.listdir(source_path+'/'+ t[folder + (batch*batch_size)].split(';')[0]) \n",
        "            for idx,item in enumerate(img_idx): \n",
        "                image = imread(source_path+'/'+ t[folder + (batch*batch_size)].strip().split(';')[0]+'/'+imgs[item]).astype(np.float32)\n",
        "                image_resized= resize(image,(self.image_height,self.image_width,3))\n",
        "            \n",
        "\n",
        "                batch_data[folder,idx,:,:,0] = (image_resized[:,:,0])/255\n",
        "                batch_data[folder,idx,:,:,1] = (image_resized[:,:,1])/255\n",
        "                batch_data[folder,idx,:,:,2] = (image_resized[:,:,2])/255\n",
        "            \n",
        "                if (augment):\n",
        "                    shifted = cv2.warpAffine(image, \n",
        "                                             np.float32([[1, 0, np.random.randint(-30,30)],[0, 1, np.random.randint(-30,30)]]), \n",
        "                                            (image.shape[1], image.shape[0]))\n",
        "                    \n",
        "                    gray = cv2.cvtColor(shifted,cv2.COLOR_BGR2GRAY)\n",
        "\n",
        "                    x0, y0 = np.argwhere(gray > 0).min(axis=0)\n",
        "                    x1, y1 = np.argwhere(gray > 0).max(axis=0) \n",
        "                    \n",
        "                    cropped=shifted[x0:x1,y0:y1,:]\n",
        "                    \n",
        "                    image_resized=resize(cropped,(self.image_height,self.image_width,3))\n",
        "                    \n",
        "                    #shifted = cv2.warpAffine(image_resized, \n",
        "                    #                        np.float32([[1, 0, np.random.randint(-3,3)],[0, 1, np.random.randint(-3,3)]]), \n",
        "                    #                        (image_resized.shape[1], image_resized.shape[0]))\n",
        "            \n",
        "                    batch_data_aug[folder,idx,:,:,0] = (image_resized[:,:,0])/255\n",
        "                    batch_data_aug[folder,idx,:,:,1] = (image_resized[:,:,1])/255\n",
        "                    batch_data_aug[folder,idx,:,:,2] = (image_resized[:,:,2])/255\n",
        "                \n",
        "            \n",
        "            batch_labels[folder, int(t[folder + (batch*batch_size)].strip().split(';')[2])] = 1\n",
        "            \n",
        "    \n",
        "        if (augment):\n",
        "            batch_data=np.concatenate([batch_data,batch_data_aug])\n",
        "            batch_labels=np.concatenate([batch_labels,batch_labels])\n",
        "\n",
        "        \n",
        "        return(batch_data,batch_labels)\n",
        "    \n",
        "    \n",
        "    def train_model(self, model, augment_data=False):\n",
        "        train_generator = self.generator(self.train_path, self.train_doc,augment=augment_data)\n",
        "        val_generator = self.generator(self.val_path, self.val_doc)\n",
        "\n",
        "        model_name = 'model_init' + '_' + str(datetime.datetime.now()).replace(' ','').replace(':','_') + '/'\n",
        "    \n",
        "        if not os.path.exists(model_name):\n",
        "            os.mkdir(model_name)\n",
        "        \n",
        "        filepath = model_name + 'model-{epoch:05d}-{loss:.5f}-{categorical_accuracy:.5f}-{val_loss:.5f}-{val_categorical_accuracy:.5f}.h5'\n",
        "\n",
        "        checkpoint = ModelCheckpoint(filepath, monitor='val_loss', verbose=1, save_best_only=False, save_weights_only=False, mode='auto', period=1)\n",
        "        LR = ReduceLROnPlateau(monitor='val_loss', factor=0.2, verbose=1, patience=4)\n",
        "        callbacks_list = [checkpoint, LR]\n",
        "\n",
        "        if (self.num_train_sequences%self.batch_size) == 0:\n",
        "            steps_per_epoch = int(self.num_train_sequences/self.batch_size)\n",
        "        else:\n",
        "            steps_per_epoch = (self.num_train_sequences//self.batch_size) + 1\n",
        "\n",
        "        if (self.num_val_sequences%self.batch_size) == 0:\n",
        "            validation_steps = int(self.num_val_sequences/self.batch_size)\n",
        "        else:\n",
        "            validation_steps = (self.num_val_sequences//self.batch_size) + 1\n",
        "    \n",
        "        history=model.fit_generator(train_generator, steps_per_epoch=steps_per_epoch, epochs=self.num_epochs, verbose=1, \n",
        "                            callbacks=callbacks_list, validation_data=val_generator, \n",
        "                            validation_steps=validation_steps, class_weight=None, workers=1, initial_epoch=0)\n",
        "        return history\n",
        "\n",
        "        \n",
        "    @abc.abstractmethod\n",
        "    def define_model(self):\n",
        "        pass"
      ]
    },
    {
      "cell_type": "markdown",
      "metadata": {
        "id": "RXSG4d2Kmdj7"
      },
      "source": [
        "Note here that a video is represented above in the generator as (number of images, height, width, number of channels). Take this into consideration while creating the model architecture."
      ]
    },
    {
      "cell_type": "code",
      "execution_count": 9,
      "metadata": {
        "id": "Ll4cS8M2mdj8"
      },
      "outputs": [],
      "source": []
    },
    {
      "cell_type": "markdown",
      "metadata": {
        "id": "MSMbBEcDmdj8"
      },
      "source": [
        "## Model\n",
        "Here you make the model using different functionalities that Keras provides. Remember to use `Conv3D` and `MaxPooling3D` and not `Conv2D` and `Maxpooling2D` for a 3D convolution model. You would want to use `TimeDistributed` while building a Conv2D + RNN model. Also remember that the last layer is the softmax. Design the network in such a way that the model is able to give good accuracy on the least number of parameters so that it can fit in the memory of the webcam."
      ]
    },
    {
      "cell_type": "markdown",
      "metadata": {
        "id": "j_hZGeZYmdj9"
      },
      "source": [
        "## Sample Model"
      ]
    },
    {
      "cell_type": "code",
      "execution_count": 10,
      "metadata": {
        "id": "BE07MV4smdj9"
      },
      "outputs": [],
      "source": [
        "class ModelConv3D1(ModelBuilder):\n",
        "    \n",
        "    def define_model(self):\n",
        "\n",
        "        model = Sequential()\n",
        "        model.add(Conv3D(16, (3, 3, 3), padding='same',\n",
        "                 input_shape=(self.frames_to_sample,self.image_height,self.image_width,self.channels)))\n",
        "        model.add(Activation('relu'))\n",
        "        model.add(BatchNormalization())\n",
        "        model.add(MaxPooling3D(pool_size=(2, 2, 2)))\n",
        "\n",
        "        model.add(Conv3D(32, (2, 2, 2), padding='same'))\n",
        "        model.add(Activation('relu'))\n",
        "        model.add(BatchNormalization())\n",
        "        model.add(MaxPooling3D(pool_size=(2, 2, 2)))\n",
        "\n",
        "        model.add(Conv3D(64, (2, 2, 2), padding='same'))\n",
        "        model.add(Activation('relu'))\n",
        "        model.add(BatchNormalization())\n",
        "        model.add(MaxPooling3D(pool_size=(2, 2, 2)))\n",
        "\n",
        "        model.add(Conv3D(128, (2, 2, 2), padding='same'))\n",
        "        model.add(Activation('relu'))\n",
        "        model.add(BatchNormalization())\n",
        "        model.add(MaxPooling3D(pool_size=(2, 2, 2)))\n",
        "\n",
        "        model.add(Flatten())\n",
        "        model.add(Dense(128,activation='relu'))\n",
        "        model.add(BatchNormalization())\n",
        "        model.add(Dropout(0.5))\n",
        "\n",
        "        model.add(Dense(64,activation='relu'))\n",
        "        model.add(BatchNormalization())\n",
        "        model.add(Dropout(0.25))\n",
        "\n",
        "\n",
        "        model.add(Dense(self.num_classes,activation='softmax'))\n",
        "\n",
        "        optimiser = optimizers.adam_v2.Adam()\n",
        "        #optimiser = 'sgd'\n",
        "        model.compile(optimizer=optimiser, loss='categorical_crossentropy', metrics=['categorical_accuracy'])\n",
        "        return model"
      ]
    },
    {
      "cell_type": "code",
      "execution_count": 11,
      "metadata": {
        "colab": {
          "base_uri": "https://localhost:8080/"
        },
        "id": "Wq3jtblKmdj-",
        "outputId": "9f2eeaed-ad68-4b5e-8585-6ddd1d50c833"
      },
      "outputs": [
        {
          "output_type": "stream",
          "name": "stdout",
          "text": [
            "Model: \"sequential\"\n",
            "_________________________________________________________________\n",
            " Layer (type)                Output Shape              Param #   \n",
            "=================================================================\n",
            " conv3d (Conv3D)             (None, 30, 160, 160, 16)  1312      \n",
            "                                                                 \n",
            " activation (Activation)     (None, 30, 160, 160, 16)  0         \n",
            "                                                                 \n",
            " batch_normalization (BatchN  (None, 30, 160, 160, 16)  64       \n",
            " ormalization)                                                   \n",
            "                                                                 \n",
            " max_pooling3d (MaxPooling3D  (None, 15, 80, 80, 16)   0         \n",
            " )                                                               \n",
            "                                                                 \n",
            " conv3d_1 (Conv3D)           (None, 15, 80, 80, 32)    4128      \n",
            "                                                                 \n",
            " activation_1 (Activation)   (None, 15, 80, 80, 32)    0         \n",
            "                                                                 \n",
            " batch_normalization_1 (Batc  (None, 15, 80, 80, 32)   128       \n",
            " hNormalization)                                                 \n",
            "                                                                 \n",
            " max_pooling3d_1 (MaxPooling  (None, 7, 40, 40, 32)    0         \n",
            " 3D)                                                             \n",
            "                                                                 \n",
            " conv3d_2 (Conv3D)           (None, 7, 40, 40, 64)     16448     \n",
            "                                                                 \n",
            " activation_2 (Activation)   (None, 7, 40, 40, 64)     0         \n",
            "                                                                 \n",
            " batch_normalization_2 (Batc  (None, 7, 40, 40, 64)    256       \n",
            " hNormalization)                                                 \n",
            "                                                                 \n",
            " max_pooling3d_2 (MaxPooling  (None, 3, 20, 20, 64)    0         \n",
            " 3D)                                                             \n",
            "                                                                 \n",
            " conv3d_3 (Conv3D)           (None, 3, 20, 20, 128)    65664     \n",
            "                                                                 \n",
            " activation_3 (Activation)   (None, 3, 20, 20, 128)    0         \n",
            "                                                                 \n",
            " batch_normalization_3 (Batc  (None, 3, 20, 20, 128)   512       \n",
            " hNormalization)                                                 \n",
            "                                                                 \n",
            " max_pooling3d_3 (MaxPooling  (None, 1, 10, 10, 128)   0         \n",
            " 3D)                                                             \n",
            "                                                                 \n",
            " flatten (Flatten)           (None, 12800)             0         \n",
            "                                                                 \n",
            " dense (Dense)               (None, 128)               1638528   \n",
            "                                                                 \n",
            " batch_normalization_4 (Batc  (None, 128)              512       \n",
            " hNormalization)                                                 \n",
            "                                                                 \n",
            " dropout (Dropout)           (None, 128)               0         \n",
            "                                                                 \n",
            " dense_1 (Dense)             (None, 64)                8256      \n",
            "                                                                 \n",
            " batch_normalization_5 (Batc  (None, 64)               256       \n",
            " hNormalization)                                                 \n",
            "                                                                 \n",
            " dropout_1 (Dropout)         (None, 64)                0         \n",
            "                                                                 \n",
            " dense_2 (Dense)             (None, 5)                 325       \n",
            "                                                                 \n",
            "=================================================================\n",
            "Total params: 1,736,389\n",
            "Trainable params: 1,735,525\n",
            "Non-trainable params: 864\n",
            "_________________________________________________________________\n"
          ]
        }
      ],
      "source": [
        "conv_3d1=ModelConv3D1()\n",
        "conv_3d1.initialize_path(project_folder)\n",
        "conv_3d1.initialize_image_properties(image_height=160,image_width=160)\n",
        "conv_3d1.initialize_hyperparams(frames_to_sample=30,batch_size=40,num_epochs=1)\n",
        "conv_3d1_model=conv_3d1.define_model()\n",
        "conv_3d1_model.summary()"
      ]
    },
    {
      "cell_type": "markdown",
      "metadata": {
        "id": "mbuyvEH4mdj-"
      },
      "source": [
        "##### Sample Cropping### We had hit the limit on memory resources with image resolution of 160x160 with 30 frames and batch_size of 40...we get the below error\n",
        "\n",
        "ResourceExhaustedError: OOM when allocating tensor with shape[40,16,30,160,160] and type float on /job:localhost/replica:0/task:0/device:GPU:0 by allocator GPU_0_bfc"
      ]
    },
    {
      "cell_type": "markdown",
      "metadata": {
        "id": "UPvT_I1Amdj-"
      },
      "source": [
        "##### So lets trade-off between these parameters"
      ]
    },
    {
      "cell_type": "markdown",
      "metadata": {
        "id": "c06I1tSPmdj_"
      },
      "source": [
        "##### Below are the experiments to see how training time is affected by image resolution, number of images in sequence and batch size"
      ]
    },
    {
      "cell_type": "code",
      "execution_count": 13,
      "metadata": {
        "colab": {
          "base_uri": "https://localhost:8080/"
        },
        "id": "l3LknKVqmdj_",
        "outputId": "d774fc4a-7e9b-4340-e1e5-31792dd4fc3c"
      },
      "outputs": [
        {
          "output_type": "stream",
          "name": "stderr",
          "text": [
            "WARNING:tensorflow:`period` argument is deprecated. Please use `save_freq` to specify the frequency in number of batches seen.\n"
          ]
        },
        {
          "output_type": "stream",
          "name": "stdout",
          "text": [
            "Total Params: 1736389\n",
            "Epoch 1/3\n",
            "23/23 [==============================] - ETA: 0s - loss: 1.6579 - categorical_accuracy: 0.4148\n",
            "Epoch 1: saving model to model_init_2022-09-1302_54_44.034141/model-00001-1.65788-0.41478-2.56110-0.16000.h5\n",
            "23/23 [==============================] - 138s 6s/step - loss: 1.6579 - categorical_accuracy: 0.4148 - val_loss: 2.5611 - val_categorical_accuracy: 0.1600 - lr: 0.0010\n",
            "Epoch 2/3\n",
            "23/23 [==============================] - ETA: 0s - loss: 1.0660 - categorical_accuracy: 0.5988\n",
            "Epoch 2: saving model to model_init_2022-09-1302_54_44.034141/model-00002-1.06605-0.59879-4.46743-0.16000.h5\n",
            "23/23 [==============================] - 120s 5s/step - loss: 1.0660 - categorical_accuracy: 0.5988 - val_loss: 4.4674 - val_categorical_accuracy: 0.1600 - lr: 0.0010\n",
            "Epoch 3/3\n",
            "23/23 [==============================] - ETA: 0s - loss: 1.0541 - categorical_accuracy: 0.5973\n",
            "Epoch 3: saving model to model_init_2022-09-1302_54_44.034141/model-00003-1.05411-0.59729-4.70914-0.15000.h5\n",
            "23/23 [==============================] - 129s 6s/step - loss: 1.0541 - categorical_accuracy: 0.5973 - val_loss: 4.7091 - val_categorical_accuracy: 0.1500 - lr: 0.0010\n"
          ]
        },
        {
          "output_type": "execute_result",
          "data": {
            "text/plain": [
              "<keras.callbacks.History at 0x7f6b566f2210>"
            ]
          },
          "metadata": {},
          "execution_count": 13
        }
      ],
      "source": [
        "conv_3d1=ModelConv3D1()\n",
        "conv_3d1.initialize_path(project_folder)\n",
        "conv_3d1.initialize_image_properties(image_height=160,image_width=160)\n",
        "conv_3d1.initialize_hyperparams(frames_to_sample=16,batch_size=30,num_epochs=3)\n",
        "conv_3d1_model=conv_3d1.define_model()\n",
        "print(\"Total Params:\", conv_3d1_model.count_params())\n",
        "conv_3d1.train_model(conv_3d1_model)"
      ]
    },
    {
      "cell_type": "code",
      "execution_count": 14,
      "metadata": {
        "colab": {
          "base_uri": "https://localhost:8080/"
        },
        "id": "SyVGj-NZmdkA",
        "outputId": "b87b688f-1ad4-46db-a0c2-c72b9e94130f"
      },
      "outputs": [
        {
          "output_type": "stream",
          "name": "stderr",
          "text": [
            "WARNING:tensorflow:`period` argument is deprecated. Please use `save_freq` to specify the frequency in number of batches seen.\n"
          ]
        },
        {
          "output_type": "stream",
          "name": "stdout",
          "text": [
            "Total Params: 687813\n",
            "Epoch 1/2\n",
            "23/23 [==============================] - ETA: 0s - loss: 1.8017 - categorical_accuracy: 0.3861\n",
            "Epoch 1: saving model to model_init_2022-09-1303_01_16.926077/model-00001-1.80170-0.38612-2.09350-0.16000.h5\n",
            "23/23 [==============================] - 207s 9s/step - loss: 1.8017 - categorical_accuracy: 0.3861 - val_loss: 2.0935 - val_categorical_accuracy: 0.1600 - lr: 0.0010\n",
            "Epoch 2/2\n",
            "23/23 [==============================] - ETA: 0s - loss: 1.1417 - categorical_accuracy: 0.5611\n",
            "Epoch 2: saving model to model_init_2022-09-1303_01_16.926077/model-00002-1.14168-0.56109-3.73204-0.18000.h5\n",
            "23/23 [==============================] - 220s 10s/step - loss: 1.1417 - categorical_accuracy: 0.5611 - val_loss: 3.7320 - val_categorical_accuracy: 0.1800 - lr: 0.0010\n"
          ]
        },
        {
          "output_type": "execute_result",
          "data": {
            "text/plain": [
              "<keras.callbacks.History at 0x7f6b5630f890>"
            ]
          },
          "metadata": {},
          "execution_count": 14
        }
      ],
      "source": [
        "conv_3d1=ModelConv3D1()\n",
        "conv_3d1.initialize_path(project_folder)\n",
        "conv_3d1.initialize_image_properties(image_height=100,image_width=100)\n",
        "conv_3d1.initialize_hyperparams(frames_to_sample=30,batch_size=30,num_epochs=2)\n",
        "conv_3d1_model=conv_3d1.define_model()\n",
        "print(\"Total Params:\", conv_3d1_model.count_params())\n",
        "conv_3d1.train_model(conv_3d1_model)"
      ]
    },
    {
      "cell_type": "code",
      "execution_count": 15,
      "metadata": {
        "colab": {
          "base_uri": "https://localhost:8080/"
        },
        "id": "N89dqUdHmdkA",
        "outputId": "517fc8f2-cb32-44dd-f795-d0f20ab02082"
      },
      "outputs": [
        {
          "output_type": "stream",
          "name": "stderr",
          "text": [
            "WARNING:tensorflow:`period` argument is deprecated. Please use `save_freq` to specify the frequency in number of batches seen.\n"
          ]
        },
        {
          "output_type": "stream",
          "name": "stdout",
          "text": [
            "Total Params: 687813\n",
            "Epoch 1/2\n",
            "12/12 [==============================] - ETA: 0s - loss: 1.5469 - categorical_accuracy: 0.4404 \n",
            "Epoch 1: saving model to model_init_2022-09-1303_08_34.032963/model-00001-1.54689-0.44042-1.52581-0.32000.h5\n",
            "12/12 [==============================] - 212s 19s/step - loss: 1.5469 - categorical_accuracy: 0.4404 - val_loss: 1.5258 - val_categorical_accuracy: 0.3200 - lr: 0.0010\n",
            "Epoch 2/2\n",
            "12/12 [==============================] - ETA: 0s - loss: 1.0909 - categorical_accuracy: 0.5656 \n",
            "Epoch 2: saving model to model_init_2022-09-1303_08_34.032963/model-00002-1.09091-0.56561-1.76841-0.20000.h5\n",
            "12/12 [==============================] - 206s 19s/step - loss: 1.0909 - categorical_accuracy: 0.5656 - val_loss: 1.7684 - val_categorical_accuracy: 0.2000 - lr: 0.0010\n"
          ]
        },
        {
          "output_type": "execute_result",
          "data": {
            "text/plain": [
              "<keras.callbacks.History at 0x7f6b3abb5e10>"
            ]
          },
          "metadata": {},
          "execution_count": 15
        }
      ],
      "source": [
        "conv_3d1=ModelConv3D1()\n",
        "conv_3d1.initialize_path(project_folder)\n",
        "conv_3d1.initialize_image_properties(image_height=100,image_width=100)\n",
        "conv_3d1.initialize_hyperparams(frames_to_sample=30,batch_size=60,num_epochs=2)\n",
        "conv_3d1_model=conv_3d1.define_model()\n",
        "print(\"Total Params:\", conv_3d1_model.count_params())\n",
        "conv_3d1.train_model(conv_3d1_model)"
      ]
    },
    {
      "cell_type": "code",
      "execution_count": 16,
      "metadata": {
        "colab": {
          "base_uri": "https://localhost:8080/"
        },
        "id": "PVIaYkx3mdkA",
        "outputId": "3906a80e-7c74-4574-f949-5a07bb604478"
      },
      "outputs": [
        {
          "output_type": "stream",
          "name": "stderr",
          "text": [
            "WARNING:tensorflow:`period` argument is deprecated. Please use `save_freq` to specify the frequency in number of batches seen.\n"
          ]
        },
        {
          "output_type": "stream",
          "name": "stdout",
          "text": [
            "Total Params: 687813\n",
            "Epoch 1/2\n",
            "12/12 [==============================] - ETA: 0s - loss: 1.7060 - categorical_accuracy: 0.4087\n",
            "Epoch 1: saving model to model_init_2022-09-1303_16_12.508246/model-00001-1.70599-0.40875-2.01681-0.16000.h5\n",
            "12/12 [==============================] - 122s 11s/step - loss: 1.7060 - categorical_accuracy: 0.4087 - val_loss: 2.0168 - val_categorical_accuracy: 0.1600 - lr: 0.0010\n",
            "Epoch 2/2\n",
            "12/12 [==============================] - ETA: 0s - loss: 1.2505 - categorical_accuracy: 0.5294\n",
            "Epoch 2: saving model to model_init_2022-09-1303_16_12.508246/model-00002-1.25051-0.52941-3.20003-0.17000.h5\n",
            "12/12 [==============================] - 104s 9s/step - loss: 1.2505 - categorical_accuracy: 0.5294 - val_loss: 3.2000 - val_categorical_accuracy: 0.1700 - lr: 0.0010\n"
          ]
        },
        {
          "output_type": "execute_result",
          "data": {
            "text/plain": [
              "<keras.callbacks.History at 0x7f6b3aa42110>"
            ]
          },
          "metadata": {},
          "execution_count": 16
        }
      ],
      "source": [
        "conv_3d1=ModelConv3D1()\n",
        "conv_3d1.initialize_path(project_folder)\n",
        "conv_3d1.initialize_image_properties(image_height=100,image_width=100)\n",
        "conv_3d1.initialize_hyperparams(frames_to_sample=16,batch_size=60,num_epochs=2)\n",
        "conv_3d1_model=conv_3d1.define_model()\n",
        "print(\"Total Params:\", conv_3d1_model.count_params())\n",
        "conv_3d1.train_model(conv_3d1_model)"
      ]
    },
    {
      "cell_type": "code",
      "execution_count": 17,
      "metadata": {
        "colab": {
          "base_uri": "https://localhost:8080/"
        },
        "id": "IWyXWujdmdkA",
        "outputId": "4bc7d562-5a25-4ca6-cabf-76e6cf9de3af"
      },
      "outputs": [
        {
          "output_type": "stream",
          "name": "stderr",
          "text": [
            "WARNING:tensorflow:`period` argument is deprecated. Please use `save_freq` to specify the frequency in number of batches seen.\n"
          ]
        },
        {
          "output_type": "stream",
          "name": "stdout",
          "text": [
            "Total Params: 687813\n",
            "Epoch 1/2\n",
            "9/9 [==============================] - ETA: 0s - loss: 1.6153 - categorical_accuracy: 0.3801 \n",
            "Epoch 1: saving model to model_init_2022-09-1303_20_08.277412/model-00001-1.61533-0.38009-1.62473-0.16000.h5\n",
            "9/9 [==============================] - 134s 17s/step - loss: 1.6153 - categorical_accuracy: 0.3801 - val_loss: 1.6247 - val_categorical_accuracy: 0.1600 - lr: 0.0010\n",
            "Epoch 2/2\n",
            "9/9 [==============================] - ETA: 0s - loss: 1.0723 - categorical_accuracy: 0.5596 \n",
            "Epoch 2: saving model to model_init_2022-09-1303_20_08.277412/model-00002-1.07226-0.55958-1.87576-0.14000.h5\n",
            "9/9 [==============================] - 106s 13s/step - loss: 1.0723 - categorical_accuracy: 0.5596 - val_loss: 1.8758 - val_categorical_accuracy: 0.1400 - lr: 0.0010\n"
          ]
        },
        {
          "output_type": "execute_result",
          "data": {
            "text/plain": [
              "<keras.callbacks.History at 0x7f6b3a2b74d0>"
            ]
          },
          "metadata": {},
          "execution_count": 17
        }
      ],
      "source": [
        "conv_3d1=ModelConv3D1()\n",
        "conv_3d1.initialize_path(project_folder)\n",
        "conv_3d1.initialize_image_properties(image_height=100,image_width=100)\n",
        "conv_3d1.initialize_hyperparams(frames_to_sample=16,batch_size=80,num_epochs=2)\n",
        "conv_3d1_model=conv_3d1.define_model()\n",
        "print(\"Total Params:\", conv_3d1_model.count_params())\n",
        "conv_3d1.train_model(conv_3d1_model)"
      ]
    },
    {
      "cell_type": "code",
      "execution_count": 18,
      "metadata": {
        "colab": {
          "base_uri": "https://localhost:8080/"
        },
        "id": "EEafqhMZmdkB",
        "outputId": "b781ac29-2c88-42f6-ab48-a12b3030808d"
      },
      "outputs": [
        {
          "output_type": "stream",
          "name": "stderr",
          "text": [
            "WARNING:tensorflow:`period` argument is deprecated. Please use `save_freq` to specify the frequency in number of batches seen.\n"
          ]
        },
        {
          "output_type": "stream",
          "name": "stdout",
          "text": [
            "Total Params: 1736389\n",
            "Epoch 1/2\n",
            "45/45 [==============================] - ETA: 0s - loss: 1.5666 - categorical_accuracy: 0.4087\n",
            "Epoch 1: saving model to model_init_2022-09-1303_24_22.207782/model-00001-1.56656-0.40875-2.02233-0.16000.h5\n",
            "45/45 [==============================] - 237s 5s/step - loss: 1.5666 - categorical_accuracy: 0.4087 - val_loss: 2.0223 - val_categorical_accuracy: 0.1600 - lr: 0.0010\n",
            "Epoch 2/2\n",
            "45/45 [==============================] - ETA: 0s - loss: 1.2079 - categorical_accuracy: 0.5309\n",
            "Epoch 2: saving model to model_init_2022-09-1303_24_22.207782/model-00002-1.20792-0.53092-4.74930-0.15000.h5\n",
            "45/45 [==============================] - 249s 6s/step - loss: 1.2079 - categorical_accuracy: 0.5309 - val_loss: 4.7493 - val_categorical_accuracy: 0.1500 - lr: 0.0010\n"
          ]
        },
        {
          "output_type": "execute_result",
          "data": {
            "text/plain": [
              "<keras.callbacks.History at 0x7f6b2667e9d0>"
            ]
          },
          "metadata": {},
          "execution_count": 18
        }
      ],
      "source": [
        "conv_3d1=ModelConv3D1()\n",
        "conv_3d1.initialize_path(project_folder)\n",
        "conv_3d1.initialize_image_properties(image_height=160,image_width=160)\n",
        "conv_3d1.initialize_hyperparams(frames_to_sample=30,batch_size=15,num_epochs=2)\n",
        "conv_3d1_model=conv_3d1.define_model()\n",
        "print(\"Total Params:\", conv_3d1_model.count_params())\n",
        "conv_3d1.train_model(conv_3d1_model)"
      ]
    },
    {
      "cell_type": "code",
      "execution_count": 19,
      "metadata": {
        "colab": {
          "base_uri": "https://localhost:8080/"
        },
        "id": "WISFDvudmdkB",
        "outputId": "69c52cef-b51f-4206-92fe-6578702c5267"
      },
      "outputs": [
        {
          "output_type": "stream",
          "name": "stderr",
          "text": [
            "WARNING:tensorflow:`period` argument is deprecated. Please use `save_freq` to specify the frequency in number of batches seen.\n"
          ]
        },
        {
          "output_type": "stream",
          "name": "stdout",
          "text": [
            "Total Params: 1736389\n",
            "Epoch 1/2\n",
            "45/45 [==============================] - ETA: 0s - loss: 1.5412 - categorical_accuracy: 0.4344\n",
            "Epoch 1: saving model to model_init_2022-09-1303_32_32.806087/model-00001-1.54120-0.43439-6.02249-0.21000.h5\n",
            "45/45 [==============================] - 134s 3s/step - loss: 1.5412 - categorical_accuracy: 0.4344 - val_loss: 6.0225 - val_categorical_accuracy: 0.2100 - lr: 0.0010\n",
            "Epoch 2/2\n",
            "45/45 [==============================] - ETA: 0s - loss: 1.0036 - categorical_accuracy: 0.6184\n",
            "Epoch 2: saving model to model_init_2022-09-1303_32_32.806087/model-00002-1.00362-0.61840-6.84122-0.23000.h5\n",
            "45/45 [==============================] - 119s 3s/step - loss: 1.0036 - categorical_accuracy: 0.6184 - val_loss: 6.8412 - val_categorical_accuracy: 0.2300 - lr: 0.0010\n"
          ]
        },
        {
          "output_type": "execute_result",
          "data": {
            "text/plain": [
              "<keras.callbacks.History at 0x7f6b263308d0>"
            ]
          },
          "metadata": {},
          "execution_count": 19
        }
      ],
      "source": [
        "conv_3d1=ModelConv3D1()\n",
        "conv_3d1.initialize_path(project_folder)\n",
        "conv_3d1.initialize_image_properties(image_height=160,image_width=160)\n",
        "conv_3d1.initialize_hyperparams(frames_to_sample=16,batch_size=15,num_epochs=2)\n",
        "conv_3d1_model=conv_3d1.define_model()\n",
        "print(\"Total Params:\", conv_3d1_model.count_params())\n",
        "conv_3d1.train_model(conv_3d1_model)"
      ]
    },
    {
      "cell_type": "code",
      "execution_count": 20,
      "metadata": {
        "colab": {
          "base_uri": "https://localhost:8080/"
        },
        "id": "_4gsaIe1mdkB",
        "outputId": "f81d083b-e165-49d3-f3bf-1778a5b473ca"
      },
      "outputs": [
        {
          "output_type": "stream",
          "name": "stderr",
          "text": [
            "WARNING:tensorflow:`period` argument is deprecated. Please use `save_freq` to specify the frequency in number of batches seen.\n"
          ]
        },
        {
          "output_type": "stream",
          "name": "stdout",
          "text": [
            "Total Params: 687813\n",
            "Epoch 1/2\n",
            "45/45 [==============================] - ETA: 0s - loss: 1.6706 - categorical_accuracy: 0.3499\n",
            "Epoch 1: saving model to model_init_2022-09-1303_36_49.341891/model-00001-1.67065-0.34992-3.39678-0.21000.h5\n",
            "45/45 [==============================] - 125s 3s/step - loss: 1.6706 - categorical_accuracy: 0.3499 - val_loss: 3.3968 - val_categorical_accuracy: 0.2100 - lr: 0.0010\n",
            "Epoch 2/2\n",
            "45/45 [==============================] - ETA: 0s - loss: 1.1899 - categorical_accuracy: 0.5400\n",
            "Epoch 2: saving model to model_init_2022-09-1303_36_49.341891/model-00002-1.18988-0.53997-6.06801-0.23000.h5\n",
            "45/45 [==============================] - 109s 2s/step - loss: 1.1899 - categorical_accuracy: 0.5400 - val_loss: 6.0680 - val_categorical_accuracy: 0.2300 - lr: 0.0010\n"
          ]
        },
        {
          "output_type": "execute_result",
          "data": {
            "text/plain": [
              "<keras.callbacks.History at 0x7f6a2a74c490>"
            ]
          },
          "metadata": {},
          "execution_count": 20
        }
      ],
      "source": [
        "conv_3d1=ModelConv3D1()\n",
        "conv_3d1.initialize_path(project_folder)\n",
        "conv_3d1.initialize_image_properties(image_height=100,image_width=100)\n",
        "conv_3d1.initialize_hyperparams(frames_to_sample=16,batch_size=15,num_epochs=2)\n",
        "conv_3d1_model=conv_3d1.define_model()\n",
        "print(\"Total Params:\", conv_3d1_model.count_params())\n",
        "conv_3d1.train_model(conv_3d1_model)"
      ]
    },
    {
      "cell_type": "code",
      "execution_count": 21,
      "metadata": {
        "colab": {
          "base_uri": "https://localhost:8080/"
        },
        "id": "NQvd1tnpmdkB",
        "outputId": "f249c74e-f6f1-4a9b-c3c6-77a6773acbbc"
      },
      "outputs": [
        {
          "output_type": "stream",
          "name": "stderr",
          "text": [
            "WARNING:tensorflow:`period` argument is deprecated. Please use `save_freq` to specify the frequency in number of batches seen.\n"
          ]
        },
        {
          "output_type": "stream",
          "name": "stdout",
          "text": [
            "Total Params: 687813\n",
            "Epoch 1/2\n",
            "67/67 [==============================] - ETA: 0s - loss: 1.6235 - categorical_accuracy: 0.4072\n",
            "Epoch 1: saving model to model_init_2022-09-1303_41_14.229590/model-00001-1.62354-0.40724-3.35710-0.16000.h5\n",
            "67/67 [==============================] - 99s 1s/step - loss: 1.6235 - categorical_accuracy: 0.4072 - val_loss: 3.3571 - val_categorical_accuracy: 0.1600 - lr: 0.0010\n",
            "Epoch 2/2\n",
            "67/67 [==============================] - ETA: 0s - loss: 1.1864 - categorical_accuracy: 0.5535\n",
            "Epoch 2: saving model to model_init_2022-09-1303_41_14.229590/model-00002-1.18641-0.55354-6.36195-0.21000.h5\n",
            "67/67 [==============================] - 118s 2s/step - loss: 1.1864 - categorical_accuracy: 0.5535 - val_loss: 6.3619 - val_categorical_accuracy: 0.2100 - lr: 0.0010\n"
          ]
        },
        {
          "output_type": "execute_result",
          "data": {
            "text/plain": [
              "<keras.callbacks.History at 0x7f6a2a288990>"
            ]
          },
          "metadata": {},
          "execution_count": 21
        }
      ],
      "source": [
        "conv_3d1=ModelConv3D1()\n",
        "conv_3d1.initialize_path(project_folder)\n",
        "conv_3d1.initialize_image_properties(image_height=100,image_width=100)\n",
        "conv_3d1.initialize_hyperparams(frames_to_sample=16,batch_size=10,num_epochs=2)\n",
        "conv_3d1_model=conv_3d1.define_model()\n",
        "print(\"Total Params:\", conv_3d1_model.count_params())\n",
        "conv_3d1.train_model(conv_3d1_model)"
      ]
    },
    {
      "cell_type": "code",
      "execution_count": 22,
      "metadata": {
        "colab": {
          "base_uri": "https://localhost:8080/"
        },
        "id": "Pl1rGAK-mdkC",
        "outputId": "8a43a6e5-3269-48e3-ad00-6c4240879582"
      },
      "outputs": [
        {
          "output_type": "stream",
          "name": "stderr",
          "text": [
            "WARNING:tensorflow:`period` argument is deprecated. Please use `save_freq` to specify the frequency in number of batches seen.\n"
          ]
        },
        {
          "output_type": "stream",
          "name": "stdout",
          "text": [
            "Total Params: 687813\n",
            "Epoch 1/2\n",
            "67/67 [==============================] - ETA: 0s - loss: 1.6888 - categorical_accuracy: 0.3922\n",
            "Epoch 1: saving model to model_init_2022-09-1303_44_53.475778/model-00001-1.68876-0.39216-2.04264-0.34000.h5\n",
            "67/67 [==============================] - 219s 3s/step - loss: 1.6888 - categorical_accuracy: 0.3922 - val_loss: 2.0426 - val_categorical_accuracy: 0.3400 - lr: 0.0010\n",
            "Epoch 2/2\n",
            "67/67 [==============================] - ETA: 0s - loss: 1.2630 - categorical_accuracy: 0.5023\n",
            "Epoch 2: saving model to model_init_2022-09-1303_44_53.475778/model-00002-1.26295-0.50226-2.57886-0.24000.h5\n",
            "67/67 [==============================] - 234s 4s/step - loss: 1.2630 - categorical_accuracy: 0.5023 - val_loss: 2.5789 - val_categorical_accuracy: 0.2400 - lr: 0.0010\n"
          ]
        },
        {
          "output_type": "execute_result",
          "data": {
            "text/plain": [
              "<keras.callbacks.History at 0x7f6a2a292e50>"
            ]
          },
          "metadata": {},
          "execution_count": 22
        }
      ],
      "source": [
        "conv_3d1=ModelConv3D1()\n",
        "conv_3d1.initialize_path(project_folder)\n",
        "conv_3d1.initialize_image_properties(image_height=100,image_width=100)\n",
        "conv_3d1.initialize_hyperparams(frames_to_sample=30,batch_size=10,num_epochs=2)\n",
        "conv_3d1_model=conv_3d1.define_model()\n",
        "print(\"Total Params:\", conv_3d1_model.count_params())\n",
        "conv_3d1.train_model(conv_3d1_model)"
      ]
    },
    {
      "cell_type": "code",
      "execution_count": 23,
      "metadata": {
        "colab": {
          "base_uri": "https://localhost:8080/"
        },
        "id": "ojgeHnKCmdkC",
        "outputId": "98391e58-3571-40cd-da3c-a5c40c91ae3e"
      },
      "outputs": [
        {
          "output_type": "stream",
          "name": "stderr",
          "text": [
            "WARNING:tensorflow:`period` argument is deprecated. Please use `save_freq` to specify the frequency in number of batches seen.\n"
          ]
        },
        {
          "output_type": "stream",
          "name": "stdout",
          "text": [
            "Total Params: 1736389\n",
            "Epoch 1/2\n",
            "67/67 [==============================] - ETA: 0s - loss: 1.5340 - categorical_accuracy: 0.4268\n",
            "Epoch 1: saving model to model_init_2022-09-1303_52_29.320681/model-00001-1.53405-0.42685-9.67822-0.16000.h5\n",
            "67/67 [==============================] - 252s 4s/step - loss: 1.5340 - categorical_accuracy: 0.4268 - val_loss: 9.6782 - val_categorical_accuracy: 0.1600 - lr: 0.0010\n",
            "Epoch 2/2\n",
            "67/67 [==============================] - ETA: 0s - loss: 1.1866 - categorical_accuracy: 0.5626\n",
            "Epoch 2: saving model to model_init_2022-09-1303_52_29.320681/model-00002-1.18655-0.56259-7.21444-0.15000.h5\n",
            "67/67 [==============================] - 240s 4s/step - loss: 1.1866 - categorical_accuracy: 0.5626 - val_loss: 7.2144 - val_categorical_accuracy: 0.1500 - lr: 0.0010\n"
          ]
        },
        {
          "output_type": "execute_result",
          "data": {
            "text/plain": [
              "<keras.callbacks.History at 0x7f689ce214d0>"
            ]
          },
          "metadata": {},
          "execution_count": 23
        }
      ],
      "source": [
        "conv_3d1=ModelConv3D1()\n",
        "conv_3d1.initialize_path(project_folder)\n",
        "conv_3d1.initialize_image_properties(image_height=160,image_width=160)\n",
        "conv_3d1.initialize_hyperparams(frames_to_sample=30,batch_size=10,num_epochs=2)\n",
        "conv_3d1_model=conv_3d1.define_model()\n",
        "print(\"Total Params:\", conv_3d1_model.count_params())\n",
        "conv_3d1.train_model(conv_3d1_model)"
      ]
    },
    {
      "cell_type": "code",
      "execution_count": 24,
      "metadata": {
        "colab": {
          "base_uri": "https://localhost:8080/"
        },
        "id": "dfuocTsJmdkC",
        "outputId": "808d1194-f5c9-4278-92f5-0ce4f48bf3e9"
      },
      "outputs": [
        {
          "output_type": "stream",
          "name": "stderr",
          "text": [
            "WARNING:tensorflow:`period` argument is deprecated. Please use `save_freq` to specify the frequency in number of batches seen.\n"
          ]
        },
        {
          "output_type": "stream",
          "name": "stdout",
          "text": [
            "Total Params: 1736389\n",
            "Epoch 1/2\n",
            "67/67 [==============================] - ETA: 0s - loss: 1.5673 - categorical_accuracy: 0.4329\n",
            "Epoch 1: saving model to model_init_2022-09-1304_00_44.204014/model-00001-1.56733-0.43288-11.79949-0.22000.h5\n",
            "67/67 [==============================] - 125s 2s/step - loss: 1.5673 - categorical_accuracy: 0.4329 - val_loss: 11.7995 - val_categorical_accuracy: 0.2200 - lr: 0.0010\n",
            "Epoch 2/2\n",
            "67/67 [==============================] - ETA: 0s - loss: 1.1836 - categorical_accuracy: 0.5445\n",
            "Epoch 2: saving model to model_init_2022-09-1304_00_44.204014/model-00002-1.18360-0.54449-13.87461-0.22000.h5\n",
            "67/67 [==============================] - 125s 2s/step - loss: 1.1836 - categorical_accuracy: 0.5445 - val_loss: 13.8746 - val_categorical_accuracy: 0.2200 - lr: 0.0010\n"
          ]
        },
        {
          "output_type": "execute_result",
          "data": {
            "text/plain": [
              "<keras.callbacks.History at 0x7f689c1091d0>"
            ]
          },
          "metadata": {},
          "execution_count": 24
        }
      ],
      "source": [
        "conv_3d1=ModelConv3D1()\n",
        "conv_3d1.initialize_path(project_folder)\n",
        "conv_3d1.initialize_image_properties(image_height=160,image_width=160)\n",
        "conv_3d1.initialize_hyperparams(frames_to_sample=16,batch_size=10,num_epochs=2)\n",
        "conv_3d1_model=conv_3d1.define_model()\n",
        "print(\"Total Params:\", conv_3d1_model.count_params())\n",
        "conv_3d1.train_model(conv_3d1_model)"
      ]
    },
    {
      "cell_type": "code",
      "execution_count": 25,
      "metadata": {
        "colab": {
          "base_uri": "https://localhost:8080/"
        },
        "id": "t_j2ETHDmdkC",
        "outputId": "64a7b71a-32e7-46f1-e05f-4892bc7bc41e"
      },
      "outputs": [
        {
          "output_type": "stream",
          "name": "stderr",
          "text": [
            "WARNING:tensorflow:`period` argument is deprecated. Please use `save_freq` to specify the frequency in number of batches seen.\n"
          ]
        },
        {
          "output_type": "stream",
          "name": "stdout",
          "text": [
            "Total Params: 1736389\n",
            "Epoch 1/2\n",
            "17/17 [==============================] - ETA: 0s - loss: 1.5619 - categorical_accuracy: 0.3846\n",
            "Epoch 1: saving model to model_init_2022-09-1304_04_56.128738/model-00001-1.56187-0.38462-3.11180-0.16000.h5\n",
            "17/17 [==============================] - 154s 9s/step - loss: 1.5619 - categorical_accuracy: 0.3846 - val_loss: 3.1118 - val_categorical_accuracy: 0.1600 - lr: 0.0010\n",
            "Epoch 2/2\n",
            "17/17 [==============================] - ETA: 0s - loss: 0.9595 - categorical_accuracy: 0.6259\n",
            "Epoch 2: saving model to model_init_2022-09-1304_04_56.128738/model-00002-0.95954-0.62594-6.27094-0.20000.h5\n",
            "17/17 [==============================] - 160s 10s/step - loss: 0.9595 - categorical_accuracy: 0.6259 - val_loss: 6.2709 - val_categorical_accuracy: 0.2000 - lr: 0.0010\n"
          ]
        },
        {
          "output_type": "execute_result",
          "data": {
            "text/plain": [
              "<keras.callbacks.History at 0x7f66fadbc590>"
            ]
          },
          "metadata": {},
          "execution_count": 25
        }
      ],
      "source": [
        "conv_3d1=ModelConv3D1()\n",
        "conv_3d1.initialize_path(project_folder)\n",
        "conv_3d1.initialize_image_properties(image_height=160,image_width=160)\n",
        "conv_3d1.initialize_hyperparams(frames_to_sample=16,batch_size=40,num_epochs=2)\n",
        "conv_3d1_model=conv_3d1.define_model()\n",
        "print(\"Total Params:\", conv_3d1_model.count_params())\n",
        "conv_3d1.train_model(conv_3d1_model)"
      ]
    },
    {
      "cell_type": "markdown",
      "metadata": {
        "id": "AeziE-wOmdkC"
      },
      "source": [
        "##### As we see from the above experiments image resolution and number of frames in sequence have more impact on training time than batch_size"
      ]
    },
    {
      "cell_type": "markdown",
      "metadata": {
        "id": "HL0MCV9GmdkD"
      },
      "source": [
        "##### So experimentations are carried with batch size fixed around 15-40 and changing the resolution and number of image per sequence based on the device memory constraints . Models are designed such that their memory foot print is less than 50 MB which corresponds to 4.3 million parameters assuming the datatype size of parameters to be 12 bytes"
      ]
    },
    {
      "cell_type": "markdown",
      "metadata": {
        "id": "rvV-iu0VmdkD"
      },
      "source": [
        "# Model 1 - Base Model - No Data Augmentation Batch Size 40 and Epoch 15"
      ]
    },
    {
      "cell_type": "code",
      "execution_count": 26,
      "metadata": {
        "id": "bCWqk7Q6mdkD"
      },
      "outputs": [],
      "source": [
        "class ModelConv3D1(ModelBuilder):\n",
        "    \n",
        "    def define_model(self,filtersize=(3,3,3),dense_neurons=64,dropout=0.25):\n",
        "\n",
        "        model = Sequential()\n",
        "        model.add(Conv3D(16, filtersize, padding='same',\n",
        "                 input_shape=(self.frames_to_sample,self.image_height,self.image_width,self.channels)))\n",
        "        model.add(Activation('relu'))\n",
        "        model.add(BatchNormalization())\n",
        "        model.add(MaxPooling3D(pool_size=(2, 2, 2)))\n",
        "\n",
        "        model.add(Conv3D(32, filtersize, padding='same'))\n",
        "        model.add(Activation('relu'))\n",
        "        model.add(BatchNormalization())\n",
        "        model.add(MaxPooling3D(pool_size=(2, 2, 2)))\n",
        "\n",
        "        model.add(Conv3D(64, filtersize, padding='same'))\n",
        "        model.add(Activation('relu'))\n",
        "        model.add(BatchNormalization())\n",
        "        model.add(MaxPooling3D(pool_size=(2, 2, 2)))\n",
        "\n",
        "        model.add(Conv3D(128, filtersize, padding='same'))\n",
        "        model.add(Activation('relu'))\n",
        "        model.add(BatchNormalization())\n",
        "        model.add(MaxPooling3D(pool_size=(2, 2, 2)))\n",
        "\n",
        "        model.add(Flatten())\n",
        "        model.add(Dense(dense_neurons,activation='relu'))\n",
        "        model.add(BatchNormalization())\n",
        "        model.add(Dropout(dropout))\n",
        "\n",
        "        model.add(Dense(dense_neurons,activation='relu'))\n",
        "        model.add(BatchNormalization())\n",
        "        model.add(Dropout(dropout))\n",
        "\n",
        "\n",
        "        model.add(Dense(self.num_classes,activation='softmax'))\n",
        "\n",
        "        optimiser = optimizers.adam_v2.Adam()\n",
        "        model.compile(optimizer=optimiser, loss='categorical_crossentropy', metrics=['categorical_accuracy'])\n",
        "        return model"
      ]
    },
    {
      "cell_type": "code",
      "execution_count": 27,
      "metadata": {
        "colab": {
          "base_uri": "https://localhost:8080/"
        },
        "id": "TI0JFgk9mdkD",
        "outputId": "4d5297c5-5024-4c75-e5dd-2546800fc3aa"
      },
      "outputs": [
        {
          "output_type": "stream",
          "name": "stdout",
          "text": [
            "Model: \"sequential_15\"\n",
            "_________________________________________________________________\n",
            " Layer (type)                Output Shape              Param #   \n",
            "=================================================================\n",
            " conv3d_60 (Conv3D)          (None, 20, 160, 160, 16)  1312      \n",
            "                                                                 \n",
            " activation_60 (Activation)  (None, 20, 160, 160, 16)  0         \n",
            "                                                                 \n",
            " batch_normalization_90 (Bat  (None, 20, 160, 160, 16)  64       \n",
            " chNormalization)                                                \n",
            "                                                                 \n",
            " max_pooling3d_60 (MaxPoolin  (None, 10, 80, 80, 16)   0         \n",
            " g3D)                                                            \n",
            "                                                                 \n",
            " conv3d_61 (Conv3D)          (None, 10, 80, 80, 32)    13856     \n",
            "                                                                 \n",
            " activation_61 (Activation)  (None, 10, 80, 80, 32)    0         \n",
            "                                                                 \n",
            " batch_normalization_91 (Bat  (None, 10, 80, 80, 32)   128       \n",
            " chNormalization)                                                \n",
            "                                                                 \n",
            " max_pooling3d_61 (MaxPoolin  (None, 5, 40, 40, 32)    0         \n",
            " g3D)                                                            \n",
            "                                                                 \n",
            " conv3d_62 (Conv3D)          (None, 5, 40, 40, 64)     55360     \n",
            "                                                                 \n",
            " activation_62 (Activation)  (None, 5, 40, 40, 64)     0         \n",
            "                                                                 \n",
            " batch_normalization_92 (Bat  (None, 5, 40, 40, 64)    256       \n",
            " chNormalization)                                                \n",
            "                                                                 \n",
            " max_pooling3d_62 (MaxPoolin  (None, 2, 20, 20, 64)    0         \n",
            " g3D)                                                            \n",
            "                                                                 \n",
            " conv3d_63 (Conv3D)          (None, 2, 20, 20, 128)    221312    \n",
            "                                                                 \n",
            " activation_63 (Activation)  (None, 2, 20, 20, 128)    0         \n",
            "                                                                 \n",
            " batch_normalization_93 (Bat  (None, 2, 20, 20, 128)   512       \n",
            " chNormalization)                                                \n",
            "                                                                 \n",
            " max_pooling3d_63 (MaxPoolin  (None, 1, 10, 10, 128)   0         \n",
            " g3D)                                                            \n",
            "                                                                 \n",
            " flatten_15 (Flatten)        (None, 12800)             0         \n",
            "                                                                 \n",
            " dense_45 (Dense)            (None, 64)                819264    \n",
            "                                                                 \n",
            " batch_normalization_94 (Bat  (None, 64)               256       \n",
            " chNormalization)                                                \n",
            "                                                                 \n",
            " dropout_30 (Dropout)        (None, 64)                0         \n",
            "                                                                 \n",
            " dense_46 (Dense)            (None, 64)                4160      \n",
            "                                                                 \n",
            " batch_normalization_95 (Bat  (None, 64)               256       \n",
            " chNormalization)                                                \n",
            "                                                                 \n",
            " dropout_31 (Dropout)        (None, 64)                0         \n",
            "                                                                 \n",
            " dense_47 (Dense)            (None, 5)                 325       \n",
            "                                                                 \n",
            "=================================================================\n",
            "Total params: 1,117,061\n",
            "Trainable params: 1,116,325\n",
            "Non-trainable params: 736\n",
            "_________________________________________________________________\n"
          ]
        }
      ],
      "source": [
        "conv_3d1=ModelConv3D1()\n",
        "conv_3d1.initialize_path(project_folder)\n",
        "conv_3d1.initialize_image_properties(image_height=160,image_width=160)\n",
        "conv_3d1.initialize_hyperparams(frames_to_sample=20,batch_size=40,num_epochs=15)\n",
        "conv_3d1_model=conv_3d1.define_model()\n",
        "conv_3d1_model.summary()"
      ]
    },
    {
      "cell_type": "code",
      "execution_count": 28,
      "metadata": {
        "colab": {
          "base_uri": "https://localhost:8080/"
        },
        "id": "QJGwsaCImdkD",
        "outputId": "e03d3584-d2da-4568-f51a-3284dda0587e"
      },
      "outputs": [
        {
          "output_type": "stream",
          "name": "stderr",
          "text": [
            "WARNING:tensorflow:`period` argument is deprecated. Please use `save_freq` to specify the frequency in number of batches seen.\n"
          ]
        },
        {
          "output_type": "stream",
          "name": "stdout",
          "text": [
            "Total Params: 1117061\n",
            "Epoch 1/15\n",
            "17/17 [==============================] - ETA: 0s - loss: 1.7209 - categorical_accuracy: 0.3650\n",
            "Epoch 1: saving model to model_init_2022-09-1304_10_19.062912/model-00001-1.72089-0.36501-1.57059-0.33000.h5\n",
            "17/17 [==============================] - 168s 10s/step - loss: 1.7209 - categorical_accuracy: 0.3650 - val_loss: 1.5706 - val_categorical_accuracy: 0.3300 - lr: 0.0010\n",
            "Epoch 2/15\n",
            "17/17 [==============================] - ETA: 0s - loss: 0.9486 - categorical_accuracy: 0.6516\n",
            "Epoch 2: saving model to model_init_2022-09-1304_10_19.062912/model-00002-0.94856-0.65158-2.25242-0.23000.h5\n",
            "17/17 [==============================] - 168s 10s/step - loss: 0.9486 - categorical_accuracy: 0.6516 - val_loss: 2.2524 - val_categorical_accuracy: 0.2300 - lr: 0.0010\n",
            "Epoch 3/15\n",
            "17/17 [==============================] - ETA: 0s - loss: 0.6958 - categorical_accuracy: 0.7330\n",
            "Epoch 3: saving model to model_init_2022-09-1304_10_19.062912/model-00003-0.69583-0.73303-4.05286-0.22000.h5\n",
            "17/17 [==============================] - 184s 11s/step - loss: 0.6958 - categorical_accuracy: 0.7330 - val_loss: 4.0529 - val_categorical_accuracy: 0.2200 - lr: 0.0010\n",
            "Epoch 4/15\n",
            "17/17 [==============================] - ETA: 0s - loss: 0.5282 - categorical_accuracy: 0.8145\n",
            "Epoch 4: saving model to model_init_2022-09-1304_10_19.062912/model-00004-0.52818-0.81448-5.04072-0.21000.h5\n",
            "17/17 [==============================] - 170s 11s/step - loss: 0.5282 - categorical_accuracy: 0.8145 - val_loss: 5.0407 - val_categorical_accuracy: 0.2100 - lr: 0.0010\n",
            "Epoch 5/15\n",
            "17/17 [==============================] - ETA: 0s - loss: 0.4412 - categorical_accuracy: 0.8477\n",
            "Epoch 5: saving model to model_init_2022-09-1304_10_19.062912/model-00005-0.44125-0.84766-5.19123-0.21000.h5\n",
            "\n",
            "Epoch 5: ReduceLROnPlateau reducing learning rate to 0.00020000000949949026.\n",
            "17/17 [==============================] - 173s 11s/step - loss: 0.4412 - categorical_accuracy: 0.8477 - val_loss: 5.1912 - val_categorical_accuracy: 0.2100 - lr: 0.0010\n",
            "Epoch 6/15\n",
            "17/17 [==============================] - ETA: 0s - loss: 0.3112 - categorical_accuracy: 0.8944\n",
            "Epoch 6: saving model to model_init_2022-09-1304_10_19.062912/model-00006-0.31120-0.89442-6.12095-0.19000.h5\n",
            "17/17 [==============================] - 172s 11s/step - loss: 0.3112 - categorical_accuracy: 0.8944 - val_loss: 6.1210 - val_categorical_accuracy: 0.1900 - lr: 2.0000e-04\n",
            "Epoch 7/15\n",
            "17/17 [==============================] - ETA: 0s - loss: 0.2763 - categorical_accuracy: 0.9170\n",
            "Epoch 7: saving model to model_init_2022-09-1304_10_19.062912/model-00007-0.27631-0.91704-6.91201-0.21000.h5\n",
            "17/17 [==============================] - 164s 10s/step - loss: 0.2763 - categorical_accuracy: 0.9170 - val_loss: 6.9120 - val_categorical_accuracy: 0.2100 - lr: 2.0000e-04\n",
            "Epoch 8/15\n",
            "17/17 [==============================] - ETA: 0s - loss: 0.2512 - categorical_accuracy: 0.9246\n",
            "Epoch 8: saving model to model_init_2022-09-1304_10_19.062912/model-00008-0.25120-0.92459-7.08274-0.25000.h5\n",
            "17/17 [==============================] - 166s 10s/step - loss: 0.2512 - categorical_accuracy: 0.9246 - val_loss: 7.0827 - val_categorical_accuracy: 0.2500 - lr: 2.0000e-04\n",
            "Epoch 9/15\n",
            "17/17 [==============================] - ETA: 0s - loss: 0.1834 - categorical_accuracy: 0.9668\n",
            "Epoch 9: saving model to model_init_2022-09-1304_10_19.062912/model-00009-0.18339-0.96682-7.78614-0.19000.h5\n",
            "\n",
            "Epoch 9: ReduceLROnPlateau reducing learning rate to 4.0000001899898055e-05.\n",
            "17/17 [==============================] - 170s 11s/step - loss: 0.1834 - categorical_accuracy: 0.9668 - val_loss: 7.7861 - val_categorical_accuracy: 0.1900 - lr: 2.0000e-04\n",
            "Epoch 10/15\n",
            "17/17 [==============================] - ETA: 0s - loss: 0.1555 - categorical_accuracy: 0.9683\n",
            "Epoch 10: saving model to model_init_2022-09-1304_10_19.062912/model-00010-0.15553-0.96833-7.37238-0.21000.h5\n",
            "17/17 [==============================] - 167s 10s/step - loss: 0.1555 - categorical_accuracy: 0.9683 - val_loss: 7.3724 - val_categorical_accuracy: 0.2100 - lr: 4.0000e-05\n",
            "Epoch 11/15\n",
            "17/17 [==============================] - ETA: 0s - loss: 0.1533 - categorical_accuracy: 0.9744\n",
            "Epoch 11: saving model to model_init_2022-09-1304_10_19.062912/model-00011-0.15328-0.97436-7.25887-0.19000.h5\n",
            "17/17 [==============================] - 165s 10s/step - loss: 0.1533 - categorical_accuracy: 0.9744 - val_loss: 7.2589 - val_categorical_accuracy: 0.1900 - lr: 4.0000e-05\n",
            "Epoch 12/15\n",
            "17/17 [==============================] - ETA: 0s - loss: 0.1811 - categorical_accuracy: 0.9593\n",
            "Epoch 12: saving model to model_init_2022-09-1304_10_19.062912/model-00012-0.18106-0.95928-6.73393-0.20000.h5\n",
            "17/17 [==============================] - 155s 10s/step - loss: 0.1811 - categorical_accuracy: 0.9593 - val_loss: 6.7339 - val_categorical_accuracy: 0.2000 - lr: 4.0000e-05\n",
            "Epoch 13/15\n",
            "17/17 [==============================] - ETA: 0s - loss: 0.1521 - categorical_accuracy: 0.9713\n",
            "Epoch 13: saving model to model_init_2022-09-1304_10_19.062912/model-00013-0.15209-0.97134-6.25739-0.21000.h5\n",
            "\n",
            "Epoch 13: ReduceLROnPlateau reducing learning rate to 8.000000525498762e-06.\n",
            "17/17 [==============================] - 172s 11s/step - loss: 0.1521 - categorical_accuracy: 0.9713 - val_loss: 6.2574 - val_categorical_accuracy: 0.2100 - lr: 4.0000e-05\n",
            "Epoch 14/15\n",
            "17/17 [==============================] - ETA: 0s - loss: 0.1534 - categorical_accuracy: 0.9653\n",
            "Epoch 14: saving model to model_init_2022-09-1304_10_19.062912/model-00014-0.15339-0.96531-5.58262-0.25000.h5\n",
            "17/17 [==============================] - 164s 10s/step - loss: 0.1534 - categorical_accuracy: 0.9653 - val_loss: 5.5826 - val_categorical_accuracy: 0.2500 - lr: 8.0000e-06\n",
            "Epoch 15/15\n",
            "17/17 [==============================] - ETA: 0s - loss: 0.1568 - categorical_accuracy: 0.9729\n",
            "Epoch 15: saving model to model_init_2022-09-1304_10_19.062912/model-00015-0.15677-0.97285-4.65123-0.26000.h5\n",
            "17/17 [==============================] - 168s 10s/step - loss: 0.1568 - categorical_accuracy: 0.9729 - val_loss: 4.6512 - val_categorical_accuracy: 0.2600 - lr: 8.0000e-06\n"
          ]
        }
      ],
      "source": [
        "print(\"Total Params:\", conv_3d1_model.count_params())\n",
        "history_model1 = conv_3d1.train_model(conv_3d1_model)"
      ]
    },
    {
      "cell_type": "code",
      "execution_count": 29,
      "metadata": {
        "colab": {
          "base_uri": "https://localhost:8080/",
          "height": 266
        },
        "id": "kWRgKpuEmdkE",
        "outputId": "28f03007-ecf9-40e3-aa83-b610091a9019"
      },
      "outputs": [
        {
          "output_type": "display_data",
          "data": {
            "text/plain": [
              "<Figure size 1080x288 with 2 Axes>"
            ],
            "image/png": "[encoded data removed]"
          },
          "metadata": {
            "needs_background": "light"
          }
        }
      ],
      "source": [
        "plot(history_model1)"
      ]
    },
    {
      "cell_type": "markdown",
      "metadata": {
        "id": "szIpG_6pmdkE"
      },
      "source": [
        "##### Model is clearly overfitting. So we need to do data augmentation"
      ]
    },
    {
      "cell_type": "markdown",
      "metadata": {
        "id": "Ggz0LM2UmdkE"
      },
      "source": [
        "# Model 2 - Augment Data , (3,3,3) filter & 160x160 image resolution"
      ]
    },
    {
      "cell_type": "code",
      "execution_count": 30,
      "metadata": {
        "colab": {
          "base_uri": "https://localhost:8080/"
        },
        "id": "YGvnKWArmdkE",
        "outputId": "d436d1d8-4be2-48de-8812-d3b966f92474"
      },
      "outputs": [
        {
          "output_type": "stream",
          "name": "stdout",
          "text": [
            "Model: \"sequential_16\"\n",
            "_________________________________________________________________\n",
            " Layer (type)                Output Shape              Param #   \n",
            "=================================================================\n",
            " conv3d_64 (Conv3D)          (None, 20, 160, 160, 16)  1312      \n",
            "                                                                 \n",
            " activation_64 (Activation)  (None, 20, 160, 160, 16)  0         \n",
            "                                                                 \n",
            " batch_normalization_96 (Bat  (None, 20, 160, 160, 16)  64       \n",
            " chNormalization)                                                \n",
            "                                                                 \n",
            " max_pooling3d_64 (MaxPoolin  (None, 10, 80, 80, 16)   0         \n",
            " g3D)                                                            \n",
            "                                                                 \n",
            " conv3d_65 (Conv3D)          (None, 10, 80, 80, 32)    13856     \n",
            "                                                                 \n",
            " activation_65 (Activation)  (None, 10, 80, 80, 32)    0         \n",
            "                                                                 \n",
            " batch_normalization_97 (Bat  (None, 10, 80, 80, 32)   128       \n",
            " chNormalization)                                                \n",
            "                                                                 \n",
            " max_pooling3d_65 (MaxPoolin  (None, 5, 40, 40, 32)    0         \n",
            " g3D)                                                            \n",
            "                                                                 \n",
            " conv3d_66 (Conv3D)          (None, 5, 40, 40, 64)     55360     \n",
            "                                                                 \n",
            " activation_66 (Activation)  (None, 5, 40, 40, 64)     0         \n",
            "                                                                 \n",
            " batch_normalization_98 (Bat  (None, 5, 40, 40, 64)    256       \n",
            " chNormalization)                                                \n",
            "                                                                 \n",
            " max_pooling3d_66 (MaxPoolin  (None, 2, 20, 20, 64)    0         \n",
            " g3D)                                                            \n",
            "                                                                 \n",
            " conv3d_67 (Conv3D)          (None, 2, 20, 20, 128)    221312    \n",
            "                                                                 \n",
            " activation_67 (Activation)  (None, 2, 20, 20, 128)    0         \n",
            "                                                                 \n",
            " batch_normalization_99 (Bat  (None, 2, 20, 20, 128)   512       \n",
            " chNormalization)                                                \n",
            "                                                                 \n",
            " max_pooling3d_67 (MaxPoolin  (None, 1, 10, 10, 128)   0         \n",
            " g3D)                                                            \n",
            "                                                                 \n",
            " flatten_16 (Flatten)        (None, 12800)             0         \n",
            "                                                                 \n",
            " dense_48 (Dense)            (None, 256)               3277056   \n",
            "                                                                 \n",
            " batch_normalization_100 (Ba  (None, 256)              1024      \n",
            " tchNormalization)                                               \n",
            "                                                                 \n",
            " dropout_32 (Dropout)        (None, 256)               0         \n",
            "                                                                 \n",
            " dense_49 (Dense)            (None, 256)               65792     \n",
            "                                                                 \n",
            " batch_normalization_101 (Ba  (None, 256)              1024      \n",
            " tchNormalization)                                               \n",
            "                                                                 \n",
            " dropout_33 (Dropout)        (None, 256)               0         \n",
            "                                                                 \n",
            " dense_50 (Dense)            (None, 5)                 1285      \n",
            "                                                                 \n",
            "=================================================================\n",
            "Total params: 3,638,981\n",
            "Trainable params: 3,637,477\n",
            "Non-trainable params: 1,504\n",
            "_________________________________________________________________\n"
          ]
        }
      ],
      "source": [
        "conv_3d2=ModelConv3D1()\n",
        "conv_3d2.initialize_path(project_folder)\n",
        "conv_3d2.initialize_image_properties(image_height=160,image_width=160)\n",
        "conv_3d2.initialize_hyperparams(frames_to_sample=20,batch_size=20,num_epochs=25)\n",
        "conv_3d2_model=conv_3d2.define_model(dense_neurons=256,dropout=0.5)\n",
        "conv_3d2_model.summary()"
      ]
    },
    {
      "cell_type": "code",
      "execution_count": 31,
      "metadata": {
        "colab": {
          "base_uri": "https://localhost:8080/"
        },
        "id": "cKZURC91mdkE",
        "outputId": "6a636322-00fd-4ca0-94e4-d217cf59606c"
      },
      "outputs": [
        {
          "output_type": "stream",
          "name": "stderr",
          "text": [
            "WARNING:tensorflow:`period` argument is deprecated. Please use `save_freq` to specify the frequency in number of batches seen.\n"
          ]
        },
        {
          "output_type": "stream",
          "name": "stdout",
          "text": [
            "Total Params: 3638981\n",
            "Epoch 1/25\n",
            "34/34 [==============================] - ETA: 0s - loss: 1.8424 - categorical_accuracy: 0.3974\n",
            "Epoch 1: saving model to model_init_2022-09-1304_52_51.501312/model-00001-1.84245-0.39744-2.01375-0.23000.h5\n",
            "34/34 [==============================] - 296s 9s/step - loss: 1.8424 - categorical_accuracy: 0.3974 - val_loss: 2.0137 - val_categorical_accuracy: 0.2300 - lr: 0.0010\n",
            "Epoch 2/25\n",
            "34/34 [==============================] - ETA: 0s - loss: 1.3223 - categorical_accuracy: 0.5528\n",
            "Epoch 2: saving model to model_init_2022-09-1304_52_51.501312/model-00002-1.32230-0.55279-3.10758-0.16000.h5\n",
            "34/34 [==============================] - 296s 9s/step - loss: 1.3223 - categorical_accuracy: 0.5528 - val_loss: 3.1076 - val_categorical_accuracy: 0.1600 - lr: 0.0010\n",
            "Epoch 3/25\n",
            "34/34 [==============================] - ETA: 0s - loss: 1.2703 - categorical_accuracy: 0.5724\n",
            "Epoch 3: saving model to model_init_2022-09-1304_52_51.501312/model-00003-1.27030-0.57240-2.48367-0.26000.h5\n",
            "34/34 [==============================] - 294s 9s/step - loss: 1.2703 - categorical_accuracy: 0.5724 - val_loss: 2.4837 - val_categorical_accuracy: 0.2600 - lr: 0.0010\n",
            "Epoch 4/25\n",
            "34/34 [==============================] - ETA: 0s - loss: 1.0769 - categorical_accuracy: 0.6131\n",
            "Epoch 4: saving model to model_init_2022-09-1304_52_51.501312/model-00004-1.07687-0.61312-2.95309-0.40000.h5\n",
            "34/34 [==============================] - 289s 9s/step - loss: 1.0769 - categorical_accuracy: 0.6131 - val_loss: 2.9531 - val_categorical_accuracy: 0.4000 - lr: 0.0010\n",
            "Epoch 5/25\n",
            "34/34 [==============================] - ETA: 0s - loss: 0.9664 - categorical_accuracy: 0.6373\n",
            "Epoch 5: saving model to model_init_2022-09-1304_52_51.501312/model-00005-0.96642-0.63725-2.99781-0.33000.h5\n",
            "\n",
            "Epoch 5: ReduceLROnPlateau reducing learning rate to 0.00020000000949949026.\n",
            "34/34 [==============================] - 292s 9s/step - loss: 0.9664 - categorical_accuracy: 0.6373 - val_loss: 2.9978 - val_categorical_accuracy: 0.3300 - lr: 0.0010\n",
            "Epoch 6/25\n",
            "34/34 [==============================] - ETA: 0s - loss: 0.8197 - categorical_accuracy: 0.6719\n",
            "Epoch 6: saving model to model_init_2022-09-1304_52_51.501312/model-00006-0.81975-0.67195-3.50593-0.28000.h5\n",
            "34/34 [==============================] - 284s 9s/step - loss: 0.8197 - categorical_accuracy: 0.6719 - val_loss: 3.5059 - val_categorical_accuracy: 0.2800 - lr: 2.0000e-04\n",
            "Epoch 7/25\n",
            "34/34 [==============================] - ETA: 0s - loss: 0.7373 - categorical_accuracy: 0.7406\n",
            "Epoch 7: saving model to model_init_2022-09-1304_52_51.501312/model-00007-0.73732-0.74057-3.16571-0.36000.h5\n",
            "34/34 [==============================] - 288s 9s/step - loss: 0.7373 - categorical_accuracy: 0.7406 - val_loss: 3.1657 - val_categorical_accuracy: 0.3600 - lr: 2.0000e-04\n",
            "Epoch 8/25\n",
            "34/34 [==============================] - ETA: 0s - loss: 0.6996 - categorical_accuracy: 0.7345\n",
            "Epoch 8: saving model to model_init_2022-09-1304_52_51.501312/model-00008-0.69963-0.73454-3.56513-0.26000.h5\n",
            "34/34 [==============================] - 296s 9s/step - loss: 0.6996 - categorical_accuracy: 0.7345 - val_loss: 3.5651 - val_categorical_accuracy: 0.2600 - lr: 2.0000e-04\n",
            "Epoch 9/25\n",
            "34/34 [==============================] - ETA: 0s - loss: 0.7072 - categorical_accuracy: 0.7278\n",
            "Epoch 9: saving model to model_init_2022-09-1304_52_51.501312/model-00009-0.70725-0.72775-2.90001-0.39000.h5\n",
            "\n",
            "Epoch 9: ReduceLROnPlateau reducing learning rate to 4.0000001899898055e-05.\n",
            "34/34 [==============================] - 272s 8s/step - loss: 0.7072 - categorical_accuracy: 0.7278 - val_loss: 2.9000 - val_categorical_accuracy: 0.3900 - lr: 2.0000e-04\n",
            "Epoch 10/25\n",
            "34/34 [==============================] - ETA: 0s - loss: 0.6133 - categorical_accuracy: 0.7549\n",
            "Epoch 10: saving model to model_init_2022-09-1304_52_51.501312/model-00010-0.61333-0.75490-3.16558-0.33000.h5\n",
            "34/34 [==============================] - 282s 9s/step - loss: 0.6133 - categorical_accuracy: 0.7549 - val_loss: 3.1656 - val_categorical_accuracy: 0.3300 - lr: 4.0000e-05\n",
            "Epoch 11/25\n",
            "34/34 [==============================] - ETA: 0s - loss: 0.6366 - categorical_accuracy: 0.7594\n",
            "Epoch 11: saving model to model_init_2022-09-1304_52_51.501312/model-00011-0.63655-0.75943-2.88687-0.38000.h5\n",
            "34/34 [==============================] - 274s 8s/step - loss: 0.6366 - categorical_accuracy: 0.7594 - val_loss: 2.8869 - val_categorical_accuracy: 0.3800 - lr: 4.0000e-05\n",
            "Epoch 12/25\n",
            "34/34 [==============================] - ETA: 0s - loss: 0.5934 - categorical_accuracy: 0.7662\n",
            "Epoch 12: saving model to model_init_2022-09-1304_52_51.501312/model-00012-0.59343-0.76621-2.81184-0.39000.h5\n",
            "34/34 [==============================] - 276s 8s/step - loss: 0.5934 - categorical_accuracy: 0.7662 - val_loss: 2.8118 - val_categorical_accuracy: 0.3900 - lr: 4.0000e-05\n",
            "Epoch 13/25\n",
            "34/34 [==============================] - ETA: 0s - loss: 0.5898 - categorical_accuracy: 0.7745\n",
            "Epoch 13: saving model to model_init_2022-09-1304_52_51.501312/model-00013-0.58982-0.77451-2.16940-0.43000.h5\n",
            "\n",
            "Epoch 13: ReduceLROnPlateau reducing learning rate to 8.000000525498762e-06.\n",
            "34/34 [==============================] - 304s 9s/step - loss: 0.5898 - categorical_accuracy: 0.7745 - val_loss: 2.1694 - val_categorical_accuracy: 0.4300 - lr: 4.0000e-05\n",
            "Epoch 14/25\n",
            "34/34 [==============================] - ETA: 0s - loss: 0.5302 - categorical_accuracy: 0.8024\n",
            "Epoch 14: saving model to model_init_2022-09-1304_52_51.501312/model-00014-0.53021-0.80241-2.11413-0.40000.h5\n",
            "34/34 [==============================] - 297s 9s/step - loss: 0.5302 - categorical_accuracy: 0.8024 - val_loss: 2.1141 - val_categorical_accuracy: 0.4000 - lr: 8.0000e-06\n",
            "Epoch 15/25\n",
            "34/34 [==============================] - ETA: 0s - loss: 0.5845 - categorical_accuracy: 0.7821\n",
            "Epoch 15: saving model to model_init_2022-09-1304_52_51.501312/model-00015-0.58452-0.78205-1.66035-0.52000.h5\n",
            "34/34 [==============================] - 297s 9s/step - loss: 0.5845 - categorical_accuracy: 0.7821 - val_loss: 1.6604 - val_categorical_accuracy: 0.5200 - lr: 8.0000e-06\n",
            "Epoch 16/25\n",
            "34/34 [==============================] - ETA: 0s - loss: 0.5621 - categorical_accuracy: 0.7753\n",
            "Epoch 16: saving model to model_init_2022-09-1304_52_51.501312/model-00016-0.56208-0.77526-1.34297-0.57000.h5\n",
            "34/34 [==============================] - 291s 9s/step - loss: 0.5621 - categorical_accuracy: 0.7753 - val_loss: 1.3430 - val_categorical_accuracy: 0.5700 - lr: 8.0000e-06\n",
            "Epoch 17/25\n",
            "34/34 [==============================] - ETA: 0s - loss: 0.5230 - categorical_accuracy: 0.8069\n",
            "Epoch 17: saving model to model_init_2022-09-1304_52_51.501312/model-00017-0.52296-0.80694-1.03641-0.67000.h5\n",
            "34/34 [==============================] - 312s 9s/step - loss: 0.5230 - categorical_accuracy: 0.8069 - val_loss: 1.0364 - val_categorical_accuracy: 0.6700 - lr: 8.0000e-06\n",
            "Epoch 18/25\n",
            "34/34 [==============================] - ETA: 0s - loss: 0.5402 - categorical_accuracy: 0.7926\n",
            "Epoch 18: saving model to model_init_2022-09-1304_52_51.501312/model-00018-0.54024-0.79261-0.95791-0.66000.h5\n",
            "34/34 [==============================] - 298s 9s/step - loss: 0.5402 - categorical_accuracy: 0.7926 - val_loss: 0.9579 - val_categorical_accuracy: 0.6600 - lr: 8.0000e-06\n",
            "Epoch 19/25\n",
            "34/34 [==============================] - ETA: 0s - loss: 0.5130 - categorical_accuracy: 0.8017\n",
            "Epoch 19: saving model to model_init_2022-09-1304_52_51.501312/model-00019-0.51304-0.80166-1.03971-0.68000.h5\n",
            "34/34 [==============================] - 280s 8s/step - loss: 0.5130 - categorical_accuracy: 0.8017 - val_loss: 1.0397 - val_categorical_accuracy: 0.6800 - lr: 8.0000e-06\n",
            "Epoch 20/25\n",
            "34/34 [==============================] - ETA: 0s - loss: 0.5483 - categorical_accuracy: 0.7964\n",
            "Epoch 20: saving model to model_init_2022-09-1304_52_51.501312/model-00020-0.54828-0.79638-0.62915-0.78000.h5\n",
            "34/34 [==============================] - 277s 8s/step - loss: 0.5483 - categorical_accuracy: 0.7964 - val_loss: 0.6291 - val_categorical_accuracy: 0.7800 - lr: 8.0000e-06\n",
            "Epoch 21/25\n",
            "34/34 [==============================] - ETA: 0s - loss: 0.5136 - categorical_accuracy: 0.8009\n",
            "Epoch 21: saving model to model_init_2022-09-1304_52_51.501312/model-00021-0.51360-0.80090-0.69282-0.80000.h5\n",
            "34/34 [==============================] - 304s 9s/step - loss: 0.5136 - categorical_accuracy: 0.8009 - val_loss: 0.6928 - val_categorical_accuracy: 0.8000 - lr: 8.0000e-06\n",
            "Epoch 22/25\n",
            "34/34 [==============================] - ETA: 0s - loss: 0.5504 - categorical_accuracy: 0.7851\n",
            "Epoch 22: saving model to model_init_2022-09-1304_52_51.501312/model-00022-0.55039-0.78507-0.72989-0.77000.h5\n",
            "34/34 [==============================] - 297s 9s/step - loss: 0.5504 - categorical_accuracy: 0.7851 - val_loss: 0.7299 - val_categorical_accuracy: 0.7700 - lr: 8.0000e-06\n",
            "Epoch 23/25\n",
            "34/34 [==============================] - ETA: 0s - loss: 0.5328 - categorical_accuracy: 0.7941\n",
            "Epoch 23: saving model to model_init_2022-09-1304_52_51.501312/model-00023-0.53279-0.79412-0.53200-0.82000.h5\n",
            "34/34 [==============================] - 302s 9s/step - loss: 0.5328 - categorical_accuracy: 0.7941 - val_loss: 0.5320 - val_categorical_accuracy: 0.8200 - lr: 8.0000e-06\n",
            "Epoch 24/25\n",
            "34/34 [==============================] - ETA: 0s - loss: 0.5637 - categorical_accuracy: 0.7813\n",
            "Epoch 24: saving model to model_init_2022-09-1304_52_51.501312/model-00024-0.56367-0.78130-0.68067-0.78000.h5\n",
            "34/34 [==============================] - 269s 8s/step - loss: 0.5637 - categorical_accuracy: 0.7813 - val_loss: 0.6807 - val_categorical_accuracy: 0.7800 - lr: 8.0000e-06\n",
            "Epoch 25/25\n",
            "34/34 [==============================] - ETA: 0s - loss: 0.5350 - categorical_accuracy: 0.7971\n",
            "Epoch 25: saving model to model_init_2022-09-1304_52_51.501312/model-00025-0.53501-0.79713-0.63180-0.79000.h5\n",
            "34/34 [==============================] - 276s 8s/step - loss: 0.5350 - categorical_accuracy: 0.7971 - val_loss: 0.6318 - val_categorical_accuracy: 0.7900 - lr: 8.0000e-06\n"
          ]
        }
      ],
      "source": [
        "print(\"Total Params:\", conv_3d2_model.count_params())\n",
        "history_model2=conv_3d2.train_model(conv_3d2_model,augment_data=True)"
      ]
    },
    {
      "cell_type": "code",
      "execution_count": 32,
      "metadata": {
        "colab": {
          "base_uri": "https://localhost:8080/",
          "height": 265
        },
        "id": "yQejDMonmdkF",
        "outputId": "f5e81df2-de0a-4956-d311-040d9c343f81"
      },
      "outputs": [
        {
          "output_type": "display_data",
          "data": {
            "text/plain": [
              "<Figure size 1080x288 with 2 Axes>"
            ],
            "image/png": "[encoded data removed]"
          },
          "metadata": {
            "needs_background": "light"
          }
        }
      ],
      "source": [
        "plot(history_model2)"
      ]
    },
    {
      "cell_type": "markdown",
      "metadata": {
        "id": "w_vYNhzomdkF"
      },
      "source": [
        "##### Model is not overfitting and we get a best validation accuracy of 85% and training accuracy of 91%. Next we will try to reduce the filter size and image resolution and see if get better results. Moreover since we see minor oscillations  in loss, let's try lowering the learning rate to 0.0002"
      ]
    },
    {
      "cell_type": "markdown",
      "metadata": {
        "id": "uZkfaswjmdkF"
      },
      "source": [
        "# Model 3 - Reduce filter size to (2,2,2) and image res to 120 x  120"
      ]
    },
    {
      "cell_type": "code",
      "execution_count": 33,
      "metadata": {
        "id": "rA2lVMeCmdkF"
      },
      "outputs": [],
      "source": [
        "class ModelConv3D3(ModelBuilder):\n",
        "    \n",
        "    def define_model(self,filtersize=(3,3,3),dense_neurons=64,dropout=0.25):\n",
        "\n",
        "        model = Sequential()\n",
        "        model.add(Conv3D(16, filtersize, padding='same',\n",
        "                 input_shape=(self.frames_to_sample,self.image_height,self.image_width,self.channels)))\n",
        "        model.add(Activation('relu'))\n",
        "        model.add(BatchNormalization())\n",
        "        model.add(MaxPooling3D(pool_size=(2, 2, 2)))\n",
        "\n",
        "        model.add(Conv3D(32, filtersize, padding='same'))\n",
        "        model.add(Activation('relu'))\n",
        "        model.add(BatchNormalization())\n",
        "        model.add(MaxPooling3D(pool_size=(2, 2, 2)))\n",
        "\n",
        "        model.add(Conv3D(64, filtersize, padding='same'))\n",
        "        model.add(Activation('relu'))\n",
        "        model.add(BatchNormalization())\n",
        "        model.add(MaxPooling3D(pool_size=(2, 2, 2)))\n",
        "\n",
        "        model.add(Conv3D(128, filtersize, padding='same'))\n",
        "        model.add(Activation('relu'))\n",
        "        model.add(BatchNormalization())\n",
        "        model.add(MaxPooling3D(pool_size=(2, 2, 2)))\n",
        "\n",
        "        model.add(Flatten())\n",
        "        model.add(Dense(dense_neurons,activation='relu'))\n",
        "        model.add(BatchNormalization())\n",
        "        model.add(Dropout(dropout))\n",
        "\n",
        "        model.add(Dense(dense_neurons,activation='relu'))\n",
        "        model.add(BatchNormalization())\n",
        "        model.add(Dropout(dropout))\n",
        "\n",
        "\n",
        "        model.add(Dense(self.num_classes,activation='softmax'))\n",
        "\n",
        "        optimiser = optimizers.adam_v2.Adam(lr=0.0002)\n",
        "        model.compile(optimizer=optimiser, loss='categorical_crossentropy', metrics=['categorical_accuracy'])\n",
        "        return model"
      ]
    },
    {
      "cell_type": "code",
      "execution_count": 34,
      "metadata": {
        "colab": {
          "base_uri": "https://localhost:8080/"
        },
        "id": "cOM9d32KmdkF",
        "outputId": "40810807-78be-42d7-db57-737a057a9505"
      },
      "outputs": [
        {
          "output_type": "stream",
          "name": "stdout",
          "text": [
            "Model: \"sequential_17\"\n",
            "_________________________________________________________________\n",
            " Layer (type)                Output Shape              Param #   \n",
            "=================================================================\n",
            " conv3d_68 (Conv3D)          (None, 16, 120, 120, 16)  400       \n",
            "                                                                 \n",
            " activation_68 (Activation)  (None, 16, 120, 120, 16)  0         \n",
            "                                                                 \n",
            " batch_normalization_102 (Ba  (None, 16, 120, 120, 16)  64       \n",
            " tchNormalization)                                               \n",
            "                                                                 \n",
            " max_pooling3d_68 (MaxPoolin  (None, 8, 60, 60, 16)    0         \n",
            " g3D)                                                            \n",
            "                                                                 \n",
            " conv3d_69 (Conv3D)          (None, 8, 60, 60, 32)     4128      \n",
            "                                                                 \n",
            " activation_69 (Activation)  (None, 8, 60, 60, 32)     0         \n",
            "                                                                 \n",
            " batch_normalization_103 (Ba  (None, 8, 60, 60, 32)    128       \n",
            " tchNormalization)                                               \n",
            "                                                                 \n",
            " max_pooling3d_69 (MaxPoolin  (None, 4, 30, 30, 32)    0         \n",
            " g3D)                                                            \n",
            "                                                                 \n",
            " conv3d_70 (Conv3D)          (None, 4, 30, 30, 64)     16448     \n",
            "                                                                 \n",
            " activation_70 (Activation)  (None, 4, 30, 30, 64)     0         \n",
            "                                                                 \n",
            " batch_normalization_104 (Ba  (None, 4, 30, 30, 64)    256       \n",
            " tchNormalization)                                               \n",
            "                                                                 \n",
            " max_pooling3d_70 (MaxPoolin  (None, 2, 15, 15, 64)    0         \n",
            " g3D)                                                            \n",
            "                                                                 \n",
            " conv3d_71 (Conv3D)          (None, 2, 15, 15, 128)    65664     \n",
            "                                                                 \n",
            " activation_71 (Activation)  (None, 2, 15, 15, 128)    0         \n",
            "                                                                 \n",
            " batch_normalization_105 (Ba  (None, 2, 15, 15, 128)   512       \n",
            " tchNormalization)                                               \n",
            "                                                                 \n",
            " max_pooling3d_71 (MaxPoolin  (None, 1, 7, 7, 128)     0         \n",
            " g3D)                                                            \n",
            "                                                                 \n",
            " flatten_17 (Flatten)        (None, 6272)              0         \n",
            "                                                                 \n",
            " dense_51 (Dense)            (None, 256)               1605888   \n",
            "                                                                 \n",
            " batch_normalization_106 (Ba  (None, 256)              1024      \n",
            " tchNormalization)                                               \n",
            "                                                                 \n",
            " dropout_34 (Dropout)        (None, 256)               0         \n",
            "                                                                 \n",
            " dense_52 (Dense)            (None, 256)               65792     \n",
            "                                                                 \n",
            " batch_normalization_107 (Ba  (None, 256)              1024      \n",
            " tchNormalization)                                               \n",
            "                                                                 \n",
            " dropout_35 (Dropout)        (None, 256)               0         \n",
            "                                                                 \n",
            " dense_53 (Dense)            (None, 5)                 1285      \n",
            "                                                                 \n",
            "=================================================================\n",
            "Total params: 1,762,613\n",
            "Trainable params: 1,761,109\n",
            "Non-trainable params: 1,504\n",
            "_________________________________________________________________\n"
          ]
        }
      ],
      "source": [
        "conv_3d3=ModelConv3D3()\n",
        "conv_3d3.initialize_path(project_folder)\n",
        "conv_3d3.initialize_image_properties(image_height=120,image_width=120)\n",
        "conv_3d3.initialize_hyperparams(frames_to_sample=16,batch_size=30,num_epochs=30)\n",
        "conv_3d3_model=conv_3d3.define_model(filtersize=(2,2,2),dense_neurons=256,dropout=0.5)\n",
        "conv_3d3_model.summary()"
      ]
    },
    {
      "cell_type": "code",
      "execution_count": 35,
      "metadata": {
        "colab": {
          "base_uri": "https://localhost:8080/"
        },
        "id": "5eAPm1MgmdkF",
        "outputId": "11815ed9-18cc-459f-c753-c3fe33927d41"
      },
      "outputs": [
        {
          "output_type": "stream",
          "name": "stderr",
          "text": [
            "WARNING:tensorflow:`period` argument is deprecated. Please use `save_freq` to specify the frequency in number of batches seen.\n"
          ]
        },
        {
          "output_type": "stream",
          "name": "stdout",
          "text": [
            "Total Params: 1762613\n",
            "Epoch 1/30\n",
            "23/23 [==============================] - ETA: 0s - loss: 2.1237 - categorical_accuracy: 0.3137\n",
            "Epoch 1: saving model to model_init_2022-09-1306_53_42.409151/model-00001-2.12371-0.31373-1.82878-0.16000.h5\n",
            "23/23 [==============================] - 207s 9s/step - loss: 2.1237 - categorical_accuracy: 0.3137 - val_loss: 1.8288 - val_categorical_accuracy: 0.1600 - lr: 2.0000e-04\n",
            "Epoch 2/30\n",
            "23/23 [==============================] - ETA: 0s - loss: 1.4964 - categorical_accuracy: 0.4653\n",
            "Epoch 2: saving model to model_init_2022-09-1306_53_42.409151/model-00002-1.49635-0.46531-2.34256-0.22000.h5\n",
            "23/23 [==============================] - 206s 9s/step - loss: 1.4964 - categorical_accuracy: 0.4653 - val_loss: 2.3426 - val_categorical_accuracy: 0.2200 - lr: 2.0000e-04\n",
            "Epoch 3/30\n",
            "23/23 [==============================] - ETA: 0s - loss: 1.2952 - categorical_accuracy: 0.5317\n",
            "Epoch 3: saving model to model_init_2022-09-1306_53_42.409151/model-00003-1.29520-0.53167-3.14767-0.17000.h5\n",
            "23/23 [==============================] - 217s 10s/step - loss: 1.2952 - categorical_accuracy: 0.5317 - val_loss: 3.1477 - val_categorical_accuracy: 0.1700 - lr: 2.0000e-04\n",
            "Epoch 4/30\n",
            "23/23 [==============================] - ETA: 0s - loss: 1.1487 - categorical_accuracy: 0.5845\n",
            "Epoch 4: saving model to model_init_2022-09-1306_53_42.409151/model-00004-1.14871-0.58446-4.36398-0.17000.h5\n",
            "23/23 [==============================] - 201s 9s/step - loss: 1.1487 - categorical_accuracy: 0.5845 - val_loss: 4.3640 - val_categorical_accuracy: 0.1700 - lr: 2.0000e-04\n",
            "Epoch 5/30\n",
            "23/23 [==============================] - ETA: 0s - loss: 1.0316 - categorical_accuracy: 0.6184\n",
            "Epoch 5: saving model to model_init_2022-09-1306_53_42.409151/model-00005-1.03156-0.61840-5.04569-0.16000.h5\n",
            "\n",
            "Epoch 5: ReduceLROnPlateau reducing learning rate to 3.9999998989515007e-05.\n",
            "23/23 [==============================] - 205s 9s/step - loss: 1.0316 - categorical_accuracy: 0.6184 - val_loss: 5.0457 - val_categorical_accuracy: 0.1600 - lr: 2.0000e-04\n",
            "Epoch 6/30\n",
            "23/23 [==============================] - ETA: 0s - loss: 0.9524 - categorical_accuracy: 0.6478\n",
            "Epoch 6: saving model to model_init_2022-09-1306_53_42.409151/model-00006-0.95245-0.64781-5.41716-0.20000.h5\n",
            "23/23 [==============================] - 211s 10s/step - loss: 0.9524 - categorical_accuracy: 0.6478 - val_loss: 5.4172 - val_categorical_accuracy: 0.2000 - lr: 4.0000e-05\n",
            "Epoch 7/30\n",
            "23/23 [==============================] - ETA: 0s - loss: 0.9154 - categorical_accuracy: 0.6697\n",
            "Epoch 7: saving model to model_init_2022-09-1306_53_42.409151/model-00007-0.91543-0.66968-5.99484-0.20000.h5\n",
            "23/23 [==============================] - 203s 9s/step - loss: 0.9154 - categorical_accuracy: 0.6697 - val_loss: 5.9948 - val_categorical_accuracy: 0.2000 - lr: 4.0000e-05\n",
            "Epoch 8/30\n",
            "23/23 [==============================] - ETA: 0s - loss: 0.9170 - categorical_accuracy: 0.6644\n",
            "Epoch 8: saving model to model_init_2022-09-1306_53_42.409151/model-00008-0.91695-0.66440-6.75466-0.24000.h5\n",
            "23/23 [==============================] - 205s 9s/step - loss: 0.9170 - categorical_accuracy: 0.6644 - val_loss: 6.7547 - val_categorical_accuracy: 0.2400 - lr: 4.0000e-05\n",
            "Epoch 9/30\n",
            "23/23 [==============================] - ETA: 0s - loss: 0.8541 - categorical_accuracy: 0.6863\n",
            "Epoch 9: saving model to model_init_2022-09-1306_53_42.409151/model-00009-0.85412-0.68627-7.12177-0.24000.h5\n",
            "\n",
            "Epoch 9: ReduceLROnPlateau reducing learning rate to 7.999999797903002e-06.\n",
            "23/23 [==============================] - 204s 9s/step - loss: 0.8541 - categorical_accuracy: 0.6863 - val_loss: 7.1218 - val_categorical_accuracy: 0.2400 - lr: 4.0000e-05\n",
            "Epoch 10/30\n",
            "23/23 [==============================] - ETA: 0s - loss: 0.8802 - categorical_accuracy: 0.6810\n",
            "Epoch 10: saving model to model_init_2022-09-1306_53_42.409151/model-00010-0.88022-0.68100-7.61998-0.23000.h5\n",
            "23/23 [==============================] - 199s 9s/step - loss: 0.8802 - categorical_accuracy: 0.6810 - val_loss: 7.6200 - val_categorical_accuracy: 0.2300 - lr: 8.0000e-06\n",
            "Epoch 11/30\n",
            "23/23 [==============================] - ETA: 0s - loss: 0.9123 - categorical_accuracy: 0.6667\n",
            "Epoch 11: saving model to model_init_2022-09-1306_53_42.409151/model-00011-0.91227-0.66667-6.22183-0.29000.h5\n",
            "23/23 [==============================] - 210s 10s/step - loss: 0.9123 - categorical_accuracy: 0.6667 - val_loss: 6.2218 - val_categorical_accuracy: 0.2900 - lr: 8.0000e-06\n",
            "Epoch 12/30\n",
            "23/23 [==============================] - ETA: 0s - loss: 0.8628 - categorical_accuracy: 0.6953\n",
            "Epoch 12: saving model to model_init_2022-09-1306_53_42.409151/model-00012-0.86281-0.69532-6.50786-0.26000.h5\n",
            "23/23 [==============================] - 204s 9s/step - loss: 0.8628 - categorical_accuracy: 0.6953 - val_loss: 6.5079 - val_categorical_accuracy: 0.2600 - lr: 8.0000e-06\n",
            "Epoch 13/30\n",
            "23/23 [==============================] - ETA: 0s - loss: 0.8378 - categorical_accuracy: 0.6938\n",
            "Epoch 13: saving model to model_init_2022-09-1306_53_42.409151/model-00013-0.83778-0.69382-6.05078-0.27000.h5\n",
            "\n",
            "Epoch 13: ReduceLROnPlateau reducing learning rate to 1.5999999959603884e-06.\n",
            "23/23 [==============================] - 189s 9s/step - loss: 0.8378 - categorical_accuracy: 0.6938 - val_loss: 6.0508 - val_categorical_accuracy: 0.2700 - lr: 8.0000e-06\n",
            "Epoch 14/30\n",
            "23/23 [==============================] - ETA: 0s - loss: 0.8705 - categorical_accuracy: 0.6765\n",
            "Epoch 14: saving model to model_init_2022-09-1306_53_42.409151/model-00014-0.87047-0.67647-5.50431-0.27000.h5\n",
            "23/23 [==============================] - 202s 9s/step - loss: 0.8705 - categorical_accuracy: 0.6765 - val_loss: 5.5043 - val_categorical_accuracy: 0.2700 - lr: 1.6000e-06\n",
            "Epoch 15/30\n",
            "23/23 [==============================] - ETA: 0s - loss: 0.8514 - categorical_accuracy: 0.6976\n",
            "Epoch 15: saving model to model_init_2022-09-1306_53_42.409151/model-00015-0.85142-0.69759-5.06074-0.27000.h5\n",
            "23/23 [==============================] - 198s 9s/step - loss: 0.8514 - categorical_accuracy: 0.6976 - val_loss: 5.0607 - val_categorical_accuracy: 0.2700 - lr: 1.6000e-06\n",
            "Epoch 16/30\n",
            "23/23 [==============================] - ETA: 0s - loss: 0.9127 - categorical_accuracy: 0.6697\n",
            "Epoch 16: saving model to model_init_2022-09-1306_53_42.409151/model-00016-0.91269-0.66968-4.34022-0.30000.h5\n",
            "23/23 [==============================] - 201s 9s/step - loss: 0.9127 - categorical_accuracy: 0.6697 - val_loss: 4.3402 - val_categorical_accuracy: 0.3000 - lr: 1.6000e-06\n",
            "Epoch 17/30\n",
            "23/23 [==============================] - ETA: 0s - loss: 0.8759 - categorical_accuracy: 0.6689\n",
            "Epoch 17: saving model to model_init_2022-09-1306_53_42.409151/model-00017-0.87586-0.66893-3.99709-0.27000.h5\n",
            "\n",
            "Epoch 17: ReduceLROnPlateau reducing learning rate to 3.200000037395512e-07.\n",
            "23/23 [==============================] - 208s 9s/step - loss: 0.8759 - categorical_accuracy: 0.6689 - val_loss: 3.9971 - val_categorical_accuracy: 0.2700 - lr: 1.6000e-06\n",
            "Epoch 18/30\n",
            "23/23 [==============================] - ETA: 0s - loss: 0.8751 - categorical_accuracy: 0.6765\n",
            "Epoch 18: saving model to model_init_2022-09-1306_53_42.409151/model-00018-0.87510-0.67647-3.33316-0.26000.h5\n",
            "23/23 [==============================] - 209s 9s/step - loss: 0.8751 - categorical_accuracy: 0.6765 - val_loss: 3.3332 - val_categorical_accuracy: 0.2600 - lr: 3.2000e-07\n",
            "Epoch 19/30\n",
            "23/23 [==============================] - ETA: 0s - loss: 0.7937 - categorical_accuracy: 0.7112\n",
            "Epoch 19: saving model to model_init_2022-09-1306_53_42.409151/model-00019-0.79369-0.71116-3.10417-0.28000.h5\n",
            "23/23 [==============================] - 208s 9s/step - loss: 0.7937 - categorical_accuracy: 0.7112 - val_loss: 3.1042 - val_categorical_accuracy: 0.2800 - lr: 3.2000e-07\n",
            "Epoch 20/30\n",
            "23/23 [==============================] - ETA: 0s - loss: 0.8864 - categorical_accuracy: 0.6772\n",
            "Epoch 20: saving model to model_init_2022-09-1306_53_42.409151/model-00020-0.88641-0.67722-2.86287-0.26000.h5\n",
            "23/23 [==============================] - 210s 10s/step - loss: 0.8864 - categorical_accuracy: 0.6772 - val_loss: 2.8629 - val_categorical_accuracy: 0.2600 - lr: 3.2000e-07\n",
            "Epoch 21/30\n",
            "23/23 [==============================] - ETA: 0s - loss: 0.8669 - categorical_accuracy: 0.6931\n",
            "Epoch 21: saving model to model_init_2022-09-1306_53_42.409151/model-00021-0.86689-0.69306-2.60466-0.28000.h5\n",
            "\n",
            "Epoch 21: ReduceLROnPlateau reducing learning rate to 6.399999961104187e-08.\n",
            "23/23 [==============================] - 189s 9s/step - loss: 0.8669 - categorical_accuracy: 0.6931 - val_loss: 2.6047 - val_categorical_accuracy: 0.2800 - lr: 3.2000e-07\n",
            "Epoch 22/30\n",
            "23/23 [==============================] - ETA: 0s - loss: 0.8418 - categorical_accuracy: 0.6848\n",
            "Epoch 22: saving model to model_init_2022-09-1306_53_42.409151/model-00022-0.84177-0.68477-2.43245-0.33000.h5\n",
            "23/23 [==============================] - 195s 9s/step - loss: 0.8418 - categorical_accuracy: 0.6848 - val_loss: 2.4324 - val_categorical_accuracy: 0.3300 - lr: 6.4000e-08\n",
            "Epoch 23/30\n",
            "23/23 [==============================] - ETA: 0s - loss: 0.8809 - categorical_accuracy: 0.6908\n",
            "Epoch 23: saving model to model_init_2022-09-1306_53_42.409151/model-00023-0.88087-0.69080-1.97531-0.36000.h5\n",
            "23/23 [==============================] - 205s 9s/step - loss: 0.8809 - categorical_accuracy: 0.6908 - val_loss: 1.9753 - val_categorical_accuracy: 0.3600 - lr: 6.4000e-08\n",
            "Epoch 24/30\n",
            "23/23 [==============================] - ETA: 0s - loss: 0.8965 - categorical_accuracy: 0.6750\n",
            "Epoch 24: saving model to model_init_2022-09-1306_53_42.409151/model-00024-0.89650-0.67496-1.85025-0.37000.h5\n",
            "23/23 [==============================] - 198s 9s/step - loss: 0.8965 - categorical_accuracy: 0.6750 - val_loss: 1.8502 - val_categorical_accuracy: 0.3700 - lr: 6.4000e-08\n",
            "Epoch 25/30\n",
            "23/23 [==============================] - ETA: 0s - loss: 0.8524 - categorical_accuracy: 0.6765\n",
            "Epoch 25: saving model to model_init_2022-09-1306_53_42.409151/model-00025-0.85244-0.67647-1.65684-0.43000.h5\n",
            "23/23 [==============================] - 196s 9s/step - loss: 0.8524 - categorical_accuracy: 0.6765 - val_loss: 1.6568 - val_categorical_accuracy: 0.4300 - lr: 6.4000e-08\n",
            "Epoch 26/30\n",
            "23/23 [==============================] - ETA: 0s - loss: 0.8600 - categorical_accuracy: 0.6697\n",
            "Epoch 26: saving model to model_init_2022-09-1306_53_42.409151/model-00026-0.85996-0.66968-1.47087-0.48000.h5\n",
            "23/23 [==============================] - 191s 9s/step - loss: 0.8600 - categorical_accuracy: 0.6697 - val_loss: 1.4709 - val_categorical_accuracy: 0.4800 - lr: 6.4000e-08\n",
            "Epoch 27/30\n",
            "23/23 [==============================] - ETA: 0s - loss: 0.8180 - categorical_accuracy: 0.7036\n",
            "Epoch 27: saving model to model_init_2022-09-1306_53_42.409151/model-00027-0.81797-0.70362-1.24147-0.59000.h5\n",
            "23/23 [==============================] - 212s 10s/step - loss: 0.8180 - categorical_accuracy: 0.7036 - val_loss: 1.2415 - val_categorical_accuracy: 0.5900 - lr: 6.4000e-08\n",
            "Epoch 28/30\n",
            "23/23 [==============================] - ETA: 0s - loss: 0.8740 - categorical_accuracy: 0.6795\n",
            "Epoch 28: saving model to model_init_2022-09-1306_53_42.409151/model-00028-0.87396-0.67949-1.29875-0.57000.h5\n",
            "23/23 [==============================] - 189s 9s/step - loss: 0.8740 - categorical_accuracy: 0.6795 - val_loss: 1.2988 - val_categorical_accuracy: 0.5700 - lr: 6.4000e-08\n",
            "Epoch 29/30\n",
            "23/23 [==============================] - ETA: 0s - loss: 0.8685 - categorical_accuracy: 0.6855\n",
            "Epoch 29: saving model to model_init_2022-09-1306_53_42.409151/model-00029-0.86848-0.68552-1.14833-0.62000.h5\n",
            "23/23 [==============================] - 198s 9s/step - loss: 0.8685 - categorical_accuracy: 0.6855 - val_loss: 1.1483 - val_categorical_accuracy: 0.6200 - lr: 6.4000e-08\n",
            "Epoch 30/30\n",
            "23/23 [==============================] - ETA: 0s - loss: 0.8096 - categorical_accuracy: 0.7104\n",
            "Epoch 30: saving model to model_init_2022-09-1306_53_42.409151/model-00030-0.80963-0.71041-1.07989-0.62000.h5\n",
            "23/23 [==============================] - 199s 9s/step - loss: 0.8096 - categorical_accuracy: 0.7104 - val_loss: 1.0799 - val_categorical_accuracy: 0.6200 - lr: 6.4000e-08\n"
          ]
        }
      ],
      "source": [
        "print(\"Total Params:\", conv_3d3_model.count_params())\n",
        "history_model3=conv_3d3.train_model(conv_3d3_model,augment_data=True)"
      ]
    },
    {
      "cell_type": "code",
      "execution_count": 36,
      "metadata": {
        "id": "4kmiCHoBmdkG",
        "colab": {
          "base_uri": "https://localhost:8080/",
          "height": 265
        },
        "outputId": "49957032-74f6-41e7-ff78-140e533d1db6"
      },
      "outputs": [
        {
          "output_type": "display_data",
          "data": {
            "text/plain": [
              "<Figure size 1080x288 with 2 Axes>"
            ],
            "image/png": "[encoded data removed]"
          },
          "metadata": {
            "needs_background": "light"
          }
        }
      ],
      "source": [
        "plot(history_model3)"
      ]
    },
    {
      "cell_type": "markdown",
      "metadata": {
        "id": "curTVhO0mdkG"
      },
      "source": [
        "##### Model has a  best validation accuracy of 84% and training accuracy of 84% . Also we were able to reduce the parameter size by half the earlier model. Let's trying adding more layers"
      ]
    },
    {
      "cell_type": "markdown",
      "metadata": {
        "id": "d253GKwemdkG"
      },
      "source": [
        "# Model 4 - Adding more layers"
      ]
    },
    {
      "cell_type": "code",
      "execution_count": 37,
      "metadata": {
        "id": "g0sY4WRHmdkG"
      },
      "outputs": [],
      "source": [
        "class ModelConv3D4(ModelBuilder):\n",
        "    \n",
        "    def define_model(self,filtersize=(3,3,3),dense_neurons=64,dropout=0.25):\n",
        "\n",
        "        model = Sequential()\n",
        "        model.add(Conv3D(16, filtersize, padding='same',\n",
        "                 input_shape=(self.frames_to_sample,self.image_height,self.image_width,self.channels)))\n",
        "        model.add(Activation('relu'))\n",
        "        model.add(BatchNormalization())\n",
        "        \n",
        "        model.add(Conv3D(16, filtersize, padding='same',\n",
        "                 input_shape=(self.frames_to_sample,self.image_height,self.image_width,self.channels)))\n",
        "        model.add(Activation('relu'))\n",
        "        model.add(BatchNormalization())\n",
        "        \n",
        "        model.add(MaxPooling3D(pool_size=(2, 2, 2)))\n",
        "\n",
        "        model.add(Conv3D(32, filtersize, padding='same'))\n",
        "        model.add(Activation('relu'))\n",
        "        model.add(BatchNormalization())\n",
        "        \n",
        "        model.add(Conv3D(32, filtersize, padding='same'))\n",
        "        model.add(Activation('relu'))\n",
        "        model.add(BatchNormalization())\n",
        "        \n",
        "        model.add(MaxPooling3D(pool_size=(2, 2, 2)))\n",
        "\n",
        "        model.add(Conv3D(64, filtersize, padding='same'))\n",
        "        model.add(Activation('relu'))\n",
        "        model.add(BatchNormalization())\n",
        "        \n",
        "        model.add(Conv3D(64, filtersize, padding='same'))\n",
        "        model.add(Activation('relu'))\n",
        "        model.add(BatchNormalization())\n",
        "        \n",
        "        model.add(MaxPooling3D(pool_size=(2, 2, 2)))\n",
        "\n",
        "        model.add(Conv3D(128, filtersize, padding='same'))\n",
        "        model.add(Activation('relu'))\n",
        "        model.add(BatchNormalization())\n",
        "        \n",
        "        model.add(Conv3D(128, filtersize, padding='same'))\n",
        "        model.add(Activation('relu'))\n",
        "        model.add(BatchNormalization())\n",
        "        \n",
        "        model.add(MaxPooling3D(pool_size=(2, 2, 2)))\n",
        "        \n",
        "\n",
        "        model.add(Flatten())\n",
        "        model.add(Dense(dense_neurons,activation='relu'))\n",
        "        model.add(BatchNormalization())\n",
        "        model.add(Dropout(dropout))\n",
        "\n",
        "        model.add(Dense(dense_neurons,activation='relu'))\n",
        "        model.add(BatchNormalization())\n",
        "        model.add(Dropout(dropout))\n",
        "\n",
        "\n",
        "        model.add(Dense(self.num_classes,activation='softmax'))\n",
        "\n",
        "        optimiser = optimizers.adam_v2.Adam()\n",
        "        model.compile(optimizer=optimiser, loss='categorical_crossentropy', metrics=['categorical_accuracy'])\n",
        "        return model"
      ]
    },
    {
      "cell_type": "code",
      "execution_count": 38,
      "metadata": {
        "id": "qkJPiuBumdkG",
        "colab": {
          "base_uri": "https://localhost:8080/"
        },
        "outputId": "c33161c4-4b88-466b-a9f7-666a0bba9d59"
      },
      "outputs": [
        {
          "output_type": "stream",
          "name": "stdout",
          "text": [
            "Model: \"sequential_18\"\n",
            "_________________________________________________________________\n",
            " Layer (type)                Output Shape              Param #   \n",
            "=================================================================\n",
            " conv3d_72 (Conv3D)          (None, 16, 120, 120, 16)  1312      \n",
            "                                                                 \n",
            " activation_72 (Activation)  (None, 16, 120, 120, 16)  0         \n",
            "                                                                 \n",
            " batch_normalization_108 (Ba  (None, 16, 120, 120, 16)  64       \n",
            " tchNormalization)                                               \n",
            "                                                                 \n",
            " conv3d_73 (Conv3D)          (None, 16, 120, 120, 16)  6928      \n",
            "                                                                 \n",
            " activation_73 (Activation)  (None, 16, 120, 120, 16)  0         \n",
            "                                                                 \n",
            " batch_normalization_109 (Ba  (None, 16, 120, 120, 16)  64       \n",
            " tchNormalization)                                               \n",
            "                                                                 \n",
            " max_pooling3d_72 (MaxPoolin  (None, 8, 60, 60, 16)    0         \n",
            " g3D)                                                            \n",
            "                                                                 \n",
            " conv3d_74 (Conv3D)          (None, 8, 60, 60, 32)     13856     \n",
            "                                                                 \n",
            " activation_74 (Activation)  (None, 8, 60, 60, 32)     0         \n",
            "                                                                 \n",
            " batch_normalization_110 (Ba  (None, 8, 60, 60, 32)    128       \n",
            " tchNormalization)                                               \n",
            "                                                                 \n",
            " conv3d_75 (Conv3D)          (None, 8, 60, 60, 32)     27680     \n",
            "                                                                 \n",
            " activation_75 (Activation)  (None, 8, 60, 60, 32)     0         \n",
            "                                                                 \n",
            " batch_normalization_111 (Ba  (None, 8, 60, 60, 32)    128       \n",
            " tchNormalization)                                               \n",
            "                                                                 \n",
            " max_pooling3d_73 (MaxPoolin  (None, 4, 30, 30, 32)    0         \n",
            " g3D)                                                            \n",
            "                                                                 \n",
            " conv3d_76 (Conv3D)          (None, 4, 30, 30, 64)     55360     \n",
            "                                                                 \n",
            " activation_76 (Activation)  (None, 4, 30, 30, 64)     0         \n",
            "                                                                 \n",
            " batch_normalization_112 (Ba  (None, 4, 30, 30, 64)    256       \n",
            " tchNormalization)                                               \n",
            "                                                                 \n",
            " conv3d_77 (Conv3D)          (None, 4, 30, 30, 64)     110656    \n",
            "                                                                 \n",
            " activation_77 (Activation)  (None, 4, 30, 30, 64)     0         \n",
            "                                                                 \n",
            " batch_normalization_113 (Ba  (None, 4, 30, 30, 64)    256       \n",
            " tchNormalization)                                               \n",
            "                                                                 \n",
            " max_pooling3d_74 (MaxPoolin  (None, 2, 15, 15, 64)    0         \n",
            " g3D)                                                            \n",
            "                                                                 \n",
            " conv3d_78 (Conv3D)          (None, 2, 15, 15, 128)    221312    \n",
            "                                                                 \n",
            " activation_78 (Activation)  (None, 2, 15, 15, 128)    0         \n",
            "                                                                 \n",
            " batch_normalization_114 (Ba  (None, 2, 15, 15, 128)   512       \n",
            " tchNormalization)                                               \n",
            "                                                                 \n",
            " conv3d_79 (Conv3D)          (None, 2, 15, 15, 128)    442496    \n",
            "                                                                 \n",
            " activation_79 (Activation)  (None, 2, 15, 15, 128)    0         \n",
            "                                                                 \n",
            " batch_normalization_115 (Ba  (None, 2, 15, 15, 128)   512       \n",
            " tchNormalization)                                               \n",
            "                                                                 \n",
            " max_pooling3d_75 (MaxPoolin  (None, 1, 7, 7, 128)     0         \n",
            " g3D)                                                            \n",
            "                                                                 \n",
            " flatten_18 (Flatten)        (None, 6272)              0         \n",
            "                                                                 \n",
            " dense_54 (Dense)            (None, 256)               1605888   \n",
            "                                                                 \n",
            " batch_normalization_116 (Ba  (None, 256)              1024      \n",
            " tchNormalization)                                               \n",
            "                                                                 \n",
            " dropout_36 (Dropout)        (None, 256)               0         \n",
            "                                                                 \n",
            " dense_55 (Dense)            (None, 256)               65792     \n",
            "                                                                 \n",
            " batch_normalization_117 (Ba  (None, 256)              1024      \n",
            " tchNormalization)                                               \n",
            "                                                                 \n",
            " dropout_37 (Dropout)        (None, 256)               0         \n",
            "                                                                 \n",
            " dense_56 (Dense)            (None, 5)                 1285      \n",
            "                                                                 \n",
            "=================================================================\n",
            "Total params: 2,556,533\n",
            "Trainable params: 2,554,549\n",
            "Non-trainable params: 1,984\n",
            "_________________________________________________________________\n"
          ]
        }
      ],
      "source": [
        "conv_3d4=ModelConv3D4()\n",
        "conv_3d4.initialize_path(project_folder)\n",
        "conv_3d4.initialize_image_properties(image_height=120,image_width=120)\n",
        "conv_3d4.initialize_hyperparams(frames_to_sample=16,batch_size=20,num_epochs=30)\n",
        "conv_3d4_model=conv_3d4.define_model(filtersize=(3,3,3),dense_neurons=256,dropout=0.5)\n",
        "conv_3d4_model.summary()"
      ]
    },
    {
      "cell_type": "code",
      "execution_count": 39,
      "metadata": {
        "id": "E_guMpTimdkH",
        "colab": {
          "base_uri": "https://localhost:8080/"
        },
        "outputId": "fe6da250-a13f-4348-c78b-878890e9e5b9"
      },
      "outputs": [
        {
          "output_type": "stream",
          "name": "stderr",
          "text": [
            "WARNING:tensorflow:`period` argument is deprecated. Please use `save_freq` to specify the frequency in number of batches seen.\n"
          ]
        },
        {
          "output_type": "stream",
          "name": "stdout",
          "text": [
            "Total Params: 2556533\n",
            "Epoch 1/30\n",
            "34/34 [==============================] - ETA: 0s - loss: 2.0381 - categorical_accuracy: 0.3507\n",
            "Epoch 1: saving model to model_init_2022-09-1308_43_39.900736/model-00001-2.03806-0.35068-2.21789-0.21000.h5\n",
            "34/34 [==============================] - 199s 6s/step - loss: 2.0381 - categorical_accuracy: 0.3507 - val_loss: 2.2179 - val_categorical_accuracy: 0.2100 - lr: 0.0010\n",
            "Epoch 2/30\n",
            "34/34 [==============================] - ETA: 0s - loss: 1.6147 - categorical_accuracy: 0.4623\n",
            "Epoch 2: saving model to model_init_2022-09-1308_43_39.900736/model-00002-1.61468-0.46229-3.98299-0.20000.h5\n",
            "34/34 [==============================] - 197s 6s/step - loss: 1.6147 - categorical_accuracy: 0.4623 - val_loss: 3.9830 - val_categorical_accuracy: 0.2000 - lr: 0.0010\n",
            "Epoch 3/30\n",
            "34/34 [==============================] - ETA: 0s - loss: 1.3521 - categorical_accuracy: 0.5415\n",
            "Epoch 3: saving model to model_init_2022-09-1308_43_39.900736/model-00003-1.35212-0.54148-4.69118-0.22000.h5\n",
            "34/34 [==============================] - 209s 6s/step - loss: 1.3521 - categorical_accuracy: 0.5415 - val_loss: 4.6912 - val_categorical_accuracy: 0.2200 - lr: 0.0010\n",
            "Epoch 4/30\n",
            "34/34 [==============================] - ETA: 0s - loss: 1.1829 - categorical_accuracy: 0.5581\n",
            "Epoch 4: saving model to model_init_2022-09-1308_43_39.900736/model-00004-1.18291-0.55807-4.59670-0.20000.h5\n",
            "34/34 [==============================] - 212s 6s/step - loss: 1.1829 - categorical_accuracy: 0.5581 - val_loss: 4.5967 - val_categorical_accuracy: 0.2000 - lr: 0.0010\n",
            "Epoch 5/30\n",
            "34/34 [==============================] - ETA: 0s - loss: 1.1872 - categorical_accuracy: 0.5890\n",
            "Epoch 5: saving model to model_init_2022-09-1308_43_39.900736/model-00005-1.18716-0.58899-6.46761-0.22000.h5\n",
            "\n",
            "Epoch 5: ReduceLROnPlateau reducing learning rate to 0.00020000000949949026.\n",
            "34/34 [==============================] - 206s 6s/step - loss: 1.1872 - categorical_accuracy: 0.5890 - val_loss: 6.4676 - val_categorical_accuracy: 0.2200 - lr: 0.0010\n",
            "Epoch 6/30\n",
            "34/34 [==============================] - ETA: 0s - loss: 1.0751 - categorical_accuracy: 0.6169\n",
            "Epoch 6: saving model to model_init_2022-09-1308_43_39.900736/model-00006-1.07515-0.61689-3.58725-0.21000.h5\n",
            "34/34 [==============================] - 214s 6s/step - loss: 1.0751 - categorical_accuracy: 0.6169 - val_loss: 3.5873 - val_categorical_accuracy: 0.2100 - lr: 2.0000e-04\n",
            "Epoch 7/30\n",
            "34/34 [==============================] - ETA: 0s - loss: 0.9306 - categorical_accuracy: 0.6531\n",
            "Epoch 7: saving model to model_init_2022-09-1308_43_39.900736/model-00007-0.93063-0.65309-3.84917-0.21000.h5\n",
            "34/34 [==============================] - 210s 6s/step - loss: 0.9306 - categorical_accuracy: 0.6531 - val_loss: 3.8492 - val_categorical_accuracy: 0.2100 - lr: 2.0000e-04\n",
            "Epoch 8/30\n",
            "34/34 [==============================] - ETA: 0s - loss: 0.9256 - categorical_accuracy: 0.6637\n",
            "Epoch 8: saving model to model_init_2022-09-1308_43_39.900736/model-00008-0.92562-0.66365-3.43913-0.24000.h5\n",
            "34/34 [==============================] - 208s 6s/step - loss: 0.9256 - categorical_accuracy: 0.6637 - val_loss: 3.4391 - val_categorical_accuracy: 0.2400 - lr: 2.0000e-04\n",
            "Epoch 9/30\n",
            "34/34 [==============================] - ETA: 0s - loss: 0.7323 - categorical_accuracy: 0.7225\n",
            "Epoch 9: saving model to model_init_2022-09-1308_43_39.900736/model-00009-0.73228-0.72247-3.86097-0.20000.h5\n",
            "\n",
            "Epoch 9: ReduceLROnPlateau reducing learning rate to 4.0000001899898055e-05.\n",
            "34/34 [==============================] - 206s 6s/step - loss: 0.7323 - categorical_accuracy: 0.7225 - val_loss: 3.8610 - val_categorical_accuracy: 0.2000 - lr: 2.0000e-04\n",
            "Epoch 10/30\n",
            "34/34 [==============================] - ETA: 0s - loss: 0.7448 - categorical_accuracy: 0.7315\n",
            "Epoch 10: saving model to model_init_2022-09-1308_43_39.900736/model-00010-0.74479-0.73152-3.48435-0.20000.h5\n",
            "34/34 [==============================] - 203s 6s/step - loss: 0.7448 - categorical_accuracy: 0.7315 - val_loss: 3.4843 - val_categorical_accuracy: 0.2000 - lr: 4.0000e-05\n",
            "Epoch 11/30\n",
            "34/34 [==============================] - ETA: 0s - loss: 0.7308 - categorical_accuracy: 0.7308\n",
            "Epoch 11: saving model to model_init_2022-09-1308_43_39.900736/model-00011-0.73077-0.73077-3.30977-0.29000.h5\n",
            "34/34 [==============================] - 207s 6s/step - loss: 0.7308 - categorical_accuracy: 0.7308 - val_loss: 3.3098 - val_categorical_accuracy: 0.2900 - lr: 4.0000e-05\n",
            "Epoch 12/30\n",
            "34/34 [==============================] - ETA: 0s - loss: 0.7032 - categorical_accuracy: 0.7436\n",
            "Epoch 12: saving model to model_init_2022-09-1308_43_39.900736/model-00012-0.70321-0.74359-2.86648-0.35000.h5\n",
            "34/34 [==============================] - 203s 6s/step - loss: 0.7032 - categorical_accuracy: 0.7436 - val_loss: 2.8665 - val_categorical_accuracy: 0.3500 - lr: 4.0000e-05\n",
            "Epoch 13/30\n",
            "34/34 [==============================] - ETA: 0s - loss: 0.6049 - categorical_accuracy: 0.7640\n",
            "Epoch 13: saving model to model_init_2022-09-1308_43_39.900736/model-00013-0.60491-0.76395-2.59944-0.39000.h5\n",
            "\n",
            "Epoch 13: ReduceLROnPlateau reducing learning rate to 8.000000525498762e-06.\n",
            "34/34 [==============================] - 191s 6s/step - loss: 0.6049 - categorical_accuracy: 0.7640 - val_loss: 2.5994 - val_categorical_accuracy: 0.3900 - lr: 4.0000e-05\n",
            "Epoch 14/30\n",
            "34/34 [==============================] - ETA: 0s - loss: 0.6777 - categorical_accuracy: 0.7496\n",
            "Epoch 14: saving model to model_init_2022-09-1308_43_39.900736/model-00014-0.67769-0.74962-2.16767-0.42000.h5\n",
            "34/34 [==============================] - 219s 7s/step - loss: 0.6777 - categorical_accuracy: 0.7496 - val_loss: 2.1677 - val_categorical_accuracy: 0.4200 - lr: 8.0000e-06\n",
            "Epoch 15/30\n",
            "34/34 [==============================] - ETA: 0s - loss: 0.6547 - categorical_accuracy: 0.7534\n",
            "Epoch 15: saving model to model_init_2022-09-1308_43_39.900736/model-00015-0.65474-0.75339-1.89114-0.43000.h5\n",
            "34/34 [==============================] - 224s 7s/step - loss: 0.6547 - categorical_accuracy: 0.7534 - val_loss: 1.8911 - val_categorical_accuracy: 0.4300 - lr: 8.0000e-06\n",
            "Epoch 16/30\n",
            "34/34 [==============================] - ETA: 0s - loss: 0.6673 - categorical_accuracy: 0.7541\n",
            "Epoch 16: saving model to model_init_2022-09-1308_43_39.900736/model-00016-0.66734-0.75415-1.48957-0.48000.h5\n",
            "34/34 [==============================] - 202s 6s/step - loss: 0.6673 - categorical_accuracy: 0.7541 - val_loss: 1.4896 - val_categorical_accuracy: 0.4800 - lr: 8.0000e-06\n",
            "Epoch 17/30\n",
            "34/34 [==============================] - ETA: 0s - loss: 0.7035 - categorical_accuracy: 0.7391\n",
            "Epoch 17: saving model to model_init_2022-09-1308_43_39.900736/model-00017-0.70352-0.73906-1.32943-0.55000.h5\n",
            "34/34 [==============================] - 203s 6s/step - loss: 0.7035 - categorical_accuracy: 0.7391 - val_loss: 1.3294 - val_categorical_accuracy: 0.5500 - lr: 8.0000e-06\n",
            "Epoch 18/30\n",
            "34/34 [==============================] - ETA: 0s - loss: 0.6617 - categorical_accuracy: 0.7504\n",
            "Epoch 18: saving model to model_init_2022-09-1308_43_39.900736/model-00018-0.66166-0.75038-0.99685-0.59000.h5\n",
            "34/34 [==============================] - 214s 6s/step - loss: 0.6617 - categorical_accuracy: 0.7504 - val_loss: 0.9969 - val_categorical_accuracy: 0.5900 - lr: 8.0000e-06\n",
            "Epoch 19/30\n",
            "34/34 [==============================] - ETA: 0s - loss: 0.5982 - categorical_accuracy: 0.7632\n",
            "Epoch 19: saving model to model_init_2022-09-1308_43_39.900736/model-00019-0.59820-0.76320-0.71618-0.72000.h5\n",
            "34/34 [==============================] - 200s 6s/step - loss: 0.5982 - categorical_accuracy: 0.7632 - val_loss: 0.7162 - val_categorical_accuracy: 0.7200 - lr: 8.0000e-06\n",
            "Epoch 20/30\n",
            "34/34 [==============================] - ETA: 0s - loss: 0.6644 - categorical_accuracy: 0.7609\n",
            "Epoch 20: saving model to model_init_2022-09-1308_43_39.900736/model-00020-0.66439-0.76094-0.86977-0.67000.h5\n",
            "34/34 [==============================] - 202s 6s/step - loss: 0.6644 - categorical_accuracy: 0.7609 - val_loss: 0.8698 - val_categorical_accuracy: 0.6700 - lr: 8.0000e-06\n",
            "Epoch 21/30\n",
            "34/34 [==============================] - ETA: 0s - loss: 0.6500 - categorical_accuracy: 0.7647\n",
            "Epoch 21: saving model to model_init_2022-09-1308_43_39.900736/model-00021-0.65003-0.76471-0.69084-0.73000.h5\n",
            "34/34 [==============================] - 218s 7s/step - loss: 0.6500 - categorical_accuracy: 0.7647 - val_loss: 0.6908 - val_categorical_accuracy: 0.7300 - lr: 8.0000e-06\n",
            "Epoch 22/30\n",
            "34/34 [==============================] - ETA: 0s - loss: 0.6767 - categorical_accuracy: 0.7579\n",
            "Epoch 22: saving model to model_init_2022-09-1308_43_39.900736/model-00022-0.67672-0.75792-0.62452-0.71000.h5\n",
            "34/34 [==============================] - 214s 6s/step - loss: 0.6767 - categorical_accuracy: 0.7579 - val_loss: 0.6245 - val_categorical_accuracy: 0.7100 - lr: 8.0000e-06\n",
            "Epoch 23/30\n",
            "34/34 [==============================] - ETA: 0s - loss: 0.6732 - categorical_accuracy: 0.7428\n",
            "Epoch 23: saving model to model_init_2022-09-1308_43_39.900736/model-00023-0.67324-0.74284-0.66378-0.75000.h5\n",
            "34/34 [==============================] - 220s 7s/step - loss: 0.6732 - categorical_accuracy: 0.7428 - val_loss: 0.6638 - val_categorical_accuracy: 0.7500 - lr: 8.0000e-06\n",
            "Epoch 24/30\n",
            "34/34 [==============================] - ETA: 0s - loss: 0.6602 - categorical_accuracy: 0.7519\n",
            "Epoch 24: saving model to model_init_2022-09-1308_43_39.900736/model-00024-0.66018-0.75189-0.55702-0.77000.h5\n",
            "34/34 [==============================] - 221s 7s/step - loss: 0.6602 - categorical_accuracy: 0.7519 - val_loss: 0.5570 - val_categorical_accuracy: 0.7700 - lr: 8.0000e-06\n",
            "Epoch 25/30\n",
            "34/34 [==============================] - ETA: 0s - loss: 0.6480 - categorical_accuracy: 0.7579\n",
            "Epoch 25: saving model to model_init_2022-09-1308_43_39.900736/model-00025-0.64798-0.75792-0.62418-0.76000.h5\n",
            "34/34 [==============================] - 207s 6s/step - loss: 0.6480 - categorical_accuracy: 0.7579 - val_loss: 0.6242 - val_categorical_accuracy: 0.7600 - lr: 8.0000e-06\n",
            "Epoch 26/30\n",
            "34/34 [==============================] - ETA: 0s - loss: 0.6103 - categorical_accuracy: 0.7760\n",
            "Epoch 26: saving model to model_init_2022-09-1308_43_39.900736/model-00026-0.61026-0.77602-0.59449-0.76000.h5\n",
            "34/34 [==============================] - 207s 6s/step - loss: 0.6103 - categorical_accuracy: 0.7760 - val_loss: 0.5945 - val_categorical_accuracy: 0.7600 - lr: 8.0000e-06\n",
            "Epoch 27/30\n",
            "34/34 [==============================] - ETA: 0s - loss: 0.6579 - categorical_accuracy: 0.7526\n",
            "Epoch 27: saving model to model_init_2022-09-1308_43_39.900736/model-00027-0.65789-0.75264-0.61287-0.76000.h5\n",
            "34/34 [==============================] - 210s 6s/step - loss: 0.6579 - categorical_accuracy: 0.7526 - val_loss: 0.6129 - val_categorical_accuracy: 0.7600 - lr: 8.0000e-06\n",
            "Epoch 28/30\n",
            "34/34 [==============================] - ETA: 0s - loss: 0.5728 - categorical_accuracy: 0.7813\n",
            "Epoch 28: saving model to model_init_2022-09-1308_43_39.900736/model-00028-0.57275-0.78130-0.58604-0.76000.h5\n",
            "\n",
            "Epoch 28: ReduceLROnPlateau reducing learning rate to 1.6000001778593287e-06.\n",
            "34/34 [==============================] - 189s 6s/step - loss: 0.5728 - categorical_accuracy: 0.7813 - val_loss: 0.5860 - val_categorical_accuracy: 0.7600 - lr: 8.0000e-06\n",
            "Epoch 29/30\n",
            "34/34 [==============================] - ETA: 0s - loss: 0.6266 - categorical_accuracy: 0.7602\n",
            "Epoch 29: saving model to model_init_2022-09-1308_43_39.900736/model-00029-0.62665-0.76018-0.62875-0.74000.h5\n",
            "34/34 [==============================] - 197s 6s/step - loss: 0.6266 - categorical_accuracy: 0.7602 - val_loss: 0.6288 - val_categorical_accuracy: 0.7400 - lr: 1.6000e-06\n",
            "Epoch 30/30\n",
            "34/34 [==============================] - ETA: 0s - loss: 0.6299 - categorical_accuracy: 0.7670\n",
            "Epoch 30: saving model to model_init_2022-09-1308_43_39.900736/model-00030-0.62991-0.76697-0.65429-0.75000.h5\n",
            "34/34 [==============================] - 199s 6s/step - loss: 0.6299 - categorical_accuracy: 0.7670 - val_loss: 0.6543 - val_categorical_accuracy: 0.7500 - lr: 1.6000e-06\n"
          ]
        }
      ],
      "source": [
        "print(\"Total Params:\", conv_3d4_model.count_params())\n",
        "history_model4=conv_3d4.train_model(conv_3d4_model,augment_data=True)"
      ]
    },
    {
      "cell_type": "code",
      "execution_count": 40,
      "metadata": {
        "id": "dyNk7ucLmdkH",
        "colab": {
          "base_uri": "https://localhost:8080/",
          "height": 266
        },
        "outputId": "b31790ba-f103-431f-9bbe-252a78f32678"
      },
      "outputs": [
        {
          "output_type": "display_data",
          "data": {
            "text/plain": [
              "<Figure size 1080x288 with 2 Axes>"
            ],
            "image/png": "[encoded data removed]"
          },
          "metadata": {
            "needs_background": "light"
          }
        }
      ],
      "source": [
        "plot(history_model4)"
      ]
    },
    {
      "cell_type": "code",
      "execution_count": 40,
      "metadata": {
        "id": "-kEQMBOSmdkH"
      },
      "outputs": [],
      "source": []
    },
    {
      "cell_type": "markdown",
      "metadata": {
        "id": "OAuMvPa3mdkH"
      },
      "source": [
        "# More Augmentation"
      ]
    },
    {
      "cell_type": "code",
      "execution_count": 41,
      "metadata": {
        "id": "2cWCwByWIhe6"
      },
      "outputs": [],
      "source": [
        "class ModelBuilderMoreAugmentation(metaclass= abc.ABCMeta):\n",
        "    \n",
        "    def initialize_path(self,project_folder):\n",
        "        self.train_doc = np.random.permutation(open(project_folder + '/' + 'train.csv').readlines())\n",
        "        self.val_doc = np.random.permutation(open(project_folder + '/' + 'val.csv').readlines())\n",
        "        self.train_path = project_folder + '/' + 'train'\n",
        "        self.val_path =  project_folder + '/' + 'val'\n",
        "        self.num_train_sequences = len(self.train_doc)\n",
        "        self.num_val_sequences = len(self.val_doc)\n",
        "        \n",
        "    def initialize_image_properties(self,image_height=100,image_width=100):\n",
        "        self.image_height=image_height\n",
        "        self.image_width=image_width\n",
        "        self.channels=3\n",
        "        self.num_classes=5\n",
        "        self.total_frames=30\n",
        "          \n",
        "    def initialize_hyperparams(self,frames_to_sample=30,batch_size=20,num_epochs=20):\n",
        "        self.frames_to_sample=frames_to_sample\n",
        "        self.batch_size=batch_size\n",
        "        self.num_epochs=num_epochs\n",
        "        \n",
        "        \n",
        "    def generator(self,source_path, folder_list, augment=False):\n",
        "        img_idx = np.round(np.linspace(0,self.total_frames-1,self.frames_to_sample)).astype(int)\n",
        "        batch_size=self.batch_size\n",
        "        while True:\n",
        "            t = np.random.permutation(folder_list)\n",
        "            num_batches = len(t)//batch_size\n",
        "        \n",
        "            for batch in range(num_batches): \n",
        "                batch_data, batch_labels= self.one_batch_data(source_path,t,batch,batch_size,img_idx,augment)\n",
        "                yield batch_data, batch_labels \n",
        "\n",
        "            remaining_seq=len(t)%batch_size\n",
        "        \n",
        "            if (remaining_seq != 0):\n",
        "                batch_data, batch_labels= self.one_batch_data(source_path,t,num_batches,batch_size,img_idx,augment,remaining_seq)\n",
        "                yield batch_data, batch_labels \n",
        "    \n",
        "    \n",
        "    def one_batch_data(self,source_path,t,batch,batch_size,img_idx,augment,remaining_seq=0):\n",
        "    \n",
        "        seq_len = remaining_seq if remaining_seq else batch_size\n",
        "    \n",
        "        batch_data = np.zeros((seq_len,len(img_idx),self.image_height,self.image_width,self.channels)) \n",
        "        batch_labels = np.zeros((seq_len,self.num_classes)) \n",
        "    \n",
        "        if (augment): batch_data_aug = np.zeros((seq_len,len(img_idx),self.image_height,self.image_width,self.channels))\n",
        "\n",
        "        \n",
        "        for folder in range(seq_len): \n",
        "            imgs = os.listdir(source_path+'/'+ t[folder + (batch*batch_size)].split(';')[0]) \n",
        "            for idx,item in enumerate(img_idx): \n",
        "                image = imread(source_path+'/'+ t[folder + (batch*batch_size)].strip().split(';')[0]+'/'+imgs[item]).astype(np.float32)\n",
        "                image_resized=resize(image,(self.image_height,self.image_width,3))\n",
        "            \n",
        "\n",
        "                batch_data[folder,idx,:,:,0] = (image_resized[:,:,0])/255\n",
        "                batch_data[folder,idx,:,:,1] = (image_resized[:,:,1])/255\n",
        "                batch_data[folder,idx,:,:,2] = (image_resized[:,:,2])/255\n",
        "            \n",
        "                if (augment):\n",
        "                    shifted = cv2.warpAffine(image, \n",
        "                                             np.float32([[1, 0, np.random.randint(-30,30)],[0, 1, np.random.randint(-30,30)]]), \n",
        "                                            (image.shape[1], image.shape[0]))\n",
        "                    \n",
        "                    gray = cv2.cvtColor(shifted,cv2.COLOR_BGR2GRAY)\n",
        "\n",
        "                    x0, y0 = np.argwhere(gray > 0).min(axis=0)\n",
        "                    x1, y1 = np.argwhere(gray > 0).max(axis=0) \n",
        "                    \n",
        "                    cropped=shifted[x0:x1,y0:y1,:]\n",
        "                    \n",
        "                    image_resized=resize(cropped,(self.image_height,self.image_width,3))\n",
        "                    \n",
        "                    M = cv2.getRotationMatrix2D((self.image_width//2,self.image_height//2),\n",
        "                                                np.random.randint(-10,10), 1.0)\n",
        "                    rotated = cv2.warpAffine(image_resized, M, (self.image_width, self.image_height))\n",
        "                    \n",
        "                    #shifted = cv2.warpAffine(image_resized, \n",
        "                    #                        np.float32([[1, 0, np.random.randint(-3,3)],[0, 1, np.random.randint(-3,3)]]), \n",
        "                    #                        (image_resized.shape[1], image_resized.shape[0]))\n",
        "            \n",
        "                    batch_data_aug[folder,idx,:,:,0] = (rotated[:,:,0])/255\n",
        "                    batch_data_aug[folder,idx,:,:,1] = (rotated[:,:,1])/255\n",
        "                    batch_data_aug[folder,idx,:,:,2] = (rotated[:,:,2])/255\n",
        "                \n",
        "            \n",
        "            batch_labels[folder, int(t[folder + (batch*batch_size)].strip().split(';')[2])] = 1\n",
        "            \n",
        "    \n",
        "        if (augment):\n",
        "            batch_data=np.concatenate([batch_data,batch_data_aug])\n",
        "            batch_labels=np.concatenate([batch_labels,batch_labels])\n",
        "\n",
        "        \n",
        "        return(batch_data,batch_labels)\n",
        "    \n",
        "    \n",
        "    def train_model(self, model, augment_data=False):\n",
        "        train_generator = self.generator(self.train_path, self.train_doc,augment=augment_data)\n",
        "        val_generator = self.generator(self.val_path, self.val_doc)\n",
        "\n",
        "        model_name = 'model_init' + '_' + str(datetime.datetime.now()).replace(' ','').replace(':','_') + '/'\n",
        "    \n",
        "        if not os.path.exists(model_name):\n",
        "            os.mkdir(model_name)\n",
        "        \n",
        "        filepath = model_name + 'model-{epoch:05d}-{loss:.5f}-{categorical_accuracy:.5f}-{val_loss:.5f}-{val_categorical_accuracy:.5f}.h5'\n",
        "\n",
        "        checkpoint = ModelCheckpoint(filepath, monitor='val_loss', verbose=1, save_best_only=False, save_weights_only=False, mode='auto', period=1)\n",
        "        LR = ReduceLROnPlateau(monitor='val_loss', factor=0.2, verbose=1, patience=4)\n",
        "        callbacks_list = [checkpoint, LR]\n",
        "\n",
        "        if (self.num_train_sequences%self.batch_size) == 0:\n",
        "            steps_per_epoch = int(self.num_train_sequences/self.batch_size)\n",
        "        else:\n",
        "            steps_per_epoch = (self.num_train_sequences//self.batch_size) + 1\n",
        "\n",
        "        if (self.num_val_sequences%self.batch_size) == 0:\n",
        "            validation_steps = int(self.num_val_sequences/self.batch_size)\n",
        "        else:\n",
        "            validation_steps = (self.num_val_sequences//self.batch_size) + 1\n",
        "    \n",
        "        history=model.fit_generator(train_generator, steps_per_epoch=steps_per_epoch, epochs=self.num_epochs, verbose=1, \n",
        "                            callbacks=callbacks_list, validation_data=val_generator, \n",
        "                            validation_steps=validation_steps, class_weight=None, workers=1, initial_epoch=0)\n",
        "        return history\n",
        "\n",
        "        \n",
        "    @abc.abstractmethod\n",
        "    def define_model(self):\n",
        "        pass"
      ]
    },
    {
      "cell_type": "code",
      "execution_count": 42,
      "metadata": {
        "id": "mpSq9Iq-Iqft"
      },
      "outputs": [],
      "source": [
        "# Model 10 - (3,3,3) Filter & 160x160 Image resolution - similar to Model 2"
      ]
    },
    {
      "cell_type": "code",
      "execution_count": 43,
      "metadata": {
        "id": "3lbq9xqNmdkI"
      },
      "outputs": [],
      "source": [
        "class ModelConv3D10(ModelBuilderMoreAugmentation):\n",
        "    \n",
        "    def define_model(self,filtersize=(3,3,3),dense_neurons=64,dropout=0.25):\n",
        "\n",
        "        model = Sequential()\n",
        "        model.add(Conv3D(16, filtersize, padding='same',\n",
        "                 input_shape=(self.frames_to_sample,self.image_height,self.image_width,self.channels)))\n",
        "        model.add(Activation('relu'))\n",
        "        model.add(BatchNormalization())\n",
        "        model.add(MaxPooling3D(pool_size=(2, 2, 2)))\n",
        "\n",
        "        model.add(Conv3D(32, filtersize, padding='same'))\n",
        "        model.add(Activation('relu'))\n",
        "        model.add(BatchNormalization())\n",
        "        model.add(MaxPooling3D(pool_size=(2, 2, 2)))\n",
        "\n",
        "        model.add(Conv3D(64, filtersize, padding='same'))\n",
        "        model.add(Activation('relu'))\n",
        "        model.add(BatchNormalization())\n",
        "        model.add(MaxPooling3D(pool_size=(2, 2, 2)))\n",
        "\n",
        "        model.add(Conv3D(128, filtersize, padding='same'))\n",
        "        model.add(Activation('relu'))\n",
        "        model.add(BatchNormalization())\n",
        "        model.add(MaxPooling3D(pool_size=(2, 2, 2)))\n",
        "\n",
        "        model.add(Flatten())\n",
        "        model.add(Dense(dense_neurons,activation='relu'))\n",
        "        model.add(BatchNormalization())\n",
        "        model.add(Dropout(dropout))\n",
        "\n",
        "        model.add(Dense(dense_neurons,activation='relu'))\n",
        "        model.add(BatchNormalization())\n",
        "        model.add(Dropout(dropout))\n",
        "\n",
        "\n",
        "        model.add(Dense(self.num_classes,activation='softmax'))\n",
        "\n",
        "        optimiser = optimizers.adam_v2.Adam(lr=0.0002)\n",
        "        model.compile(optimizer=optimiser, loss='categorical_crossentropy', metrics=['categorical_accuracy'])\n",
        "        return model"
      ]
    },
    {
      "cell_type": "code",
      "execution_count": 44,
      "metadata": {
        "id": "hBMxhmhYmdkI",
        "colab": {
          "base_uri": "https://localhost:8080/"
        },
        "outputId": "07d7c43a-ac0d-4542-cd34-5e1ecf1bab57"
      },
      "outputs": [
        {
          "output_type": "stream",
          "name": "stdout",
          "text": [
            "Model: \"sequential_19\"\n",
            "_________________________________________________________________\n",
            " Layer (type)                Output Shape              Param #   \n",
            "=================================================================\n",
            " conv3d_80 (Conv3D)          (None, 20, 160, 160, 16)  1312      \n",
            "                                                                 \n",
            " activation_80 (Activation)  (None, 20, 160, 160, 16)  0         \n",
            "                                                                 \n",
            " batch_normalization_118 (Ba  (None, 20, 160, 160, 16)  64       \n",
            " tchNormalization)                                               \n",
            "                                                                 \n",
            " max_pooling3d_76 (MaxPoolin  (None, 10, 80, 80, 16)   0         \n",
            " g3D)                                                            \n",
            "                                                                 \n",
            " conv3d_81 (Conv3D)          (None, 10, 80, 80, 32)    13856     \n",
            "                                                                 \n",
            " activation_81 (Activation)  (None, 10, 80, 80, 32)    0         \n",
            "                                                                 \n",
            " batch_normalization_119 (Ba  (None, 10, 80, 80, 32)   128       \n",
            " tchNormalization)                                               \n",
            "                                                                 \n",
            " max_pooling3d_77 (MaxPoolin  (None, 5, 40, 40, 32)    0         \n",
            " g3D)                                                            \n",
            "                                                                 \n",
            " conv3d_82 (Conv3D)          (None, 5, 40, 40, 64)     55360     \n",
            "                                                                 \n",
            " activation_82 (Activation)  (None, 5, 40, 40, 64)     0         \n",
            "                                                                 \n",
            " batch_normalization_120 (Ba  (None, 5, 40, 40, 64)    256       \n",
            " tchNormalization)                                               \n",
            "                                                                 \n",
            " max_pooling3d_78 (MaxPoolin  (None, 2, 20, 20, 64)    0         \n",
            " g3D)                                                            \n",
            "                                                                 \n",
            " conv3d_83 (Conv3D)          (None, 2, 20, 20, 128)    221312    \n",
            "                                                                 \n",
            " activation_83 (Activation)  (None, 2, 20, 20, 128)    0         \n",
            "                                                                 \n",
            " batch_normalization_121 (Ba  (None, 2, 20, 20, 128)   512       \n",
            " tchNormalization)                                               \n",
            "                                                                 \n",
            " max_pooling3d_79 (MaxPoolin  (None, 1, 10, 10, 128)   0         \n",
            " g3D)                                                            \n",
            "                                                                 \n",
            " flatten_19 (Flatten)        (None, 12800)             0         \n",
            "                                                                 \n",
            " dense_57 (Dense)            (None, 256)               3277056   \n",
            "                                                                 \n",
            " batch_normalization_122 (Ba  (None, 256)              1024      \n",
            " tchNormalization)                                               \n",
            "                                                                 \n",
            " dropout_38 (Dropout)        (None, 256)               0         \n",
            "                                                                 \n",
            " dense_58 (Dense)            (None, 256)               65792     \n",
            "                                                                 \n",
            " batch_normalization_123 (Ba  (None, 256)              1024      \n",
            " tchNormalization)                                               \n",
            "                                                                 \n",
            " dropout_39 (Dropout)        (None, 256)               0         \n",
            "                                                                 \n",
            " dense_59 (Dense)            (None, 5)                 1285      \n",
            "                                                                 \n",
            "=================================================================\n",
            "Total params: 3,638,981\n",
            "Trainable params: 3,637,477\n",
            "Non-trainable params: 1,504\n",
            "_________________________________________________________________\n"
          ]
        }
      ],
      "source": [
        "conv_3d10=ModelConv3D10()\n",
        "conv_3d10.initialize_path(project_folder)\n",
        "conv_3d10.initialize_image_properties(image_height=160,image_width=160)\n",
        "conv_3d10.initialize_hyperparams(frames_to_sample=20,batch_size=20,num_epochs=30)\n",
        "conv_3d10_model=conv_3d10.define_model(dense_neurons=256,dropout=0.5)\n",
        "conv_3d10_model.summary()"
      ]
    },
    {
      "cell_type": "code",
      "execution_count": null,
      "metadata": {
        "id": "RcKge4mDmdkI",
        "colab": {
          "base_uri": "https://localhost:8080/"
        },
        "outputId": "c742b361-b254-4329-84b7-e0ab714b5e9f"
      },
      "outputs": [
        {
          "output_type": "stream",
          "name": "stderr",
          "text": [
            "WARNING:tensorflow:`period` argument is deprecated. Please use `save_freq` to specify the frequency in number of batches seen.\n"
          ]
        },
        {
          "output_type": "stream",
          "name": "stdout",
          "text": [
            "Total Params: 3638981\n",
            "Epoch 1/30\n",
            "34/34 [==============================] - ETA: 0s - loss: 2.0988 - categorical_accuracy: 0.3507\n",
            "Epoch 1: saving model to model_init_2022-09-1215_46_37.656743/model-00001-2.09880-0.35068-2.44534-0.16000.h5\n",
            "34/34 [==============================] - 275s 8s/step - loss: 2.0988 - categorical_accuracy: 0.3507 - val_loss: 2.4453 - val_categorical_accuracy: 0.1600 - lr: 2.0000e-04\n",
            "Epoch 2/30\n",
            "34/34 [==============================] - ETA: 0s - loss: 1.4921 - categorical_accuracy: 0.5023\n",
            "Epoch 2: saving model to model_init_2022-09-1215_46_37.656743/model-00002-1.49205-0.50226-3.79973-0.15000.h5\n",
            "34/34 [==============================] - 279s 8s/step - loss: 1.4921 - categorical_accuracy: 0.5023 - val_loss: 3.7997 - val_categorical_accuracy: 0.1500 - lr: 2.0000e-04\n",
            "Epoch 3/30\n",
            "34/34 [==============================] - ETA: 0s - loss: 1.2095 - categorical_accuracy: 0.5724\n",
            "Epoch 3: saving model to model_init_2022-09-1215_46_37.656743/model-00003-1.20950-0.57240-5.12911-0.16000.h5\n",
            "34/34 [==============================] - 266s 8s/step - loss: 1.2095 - categorical_accuracy: 0.5724 - val_loss: 5.1291 - val_categorical_accuracy: 0.1600 - lr: 2.0000e-04\n",
            "Epoch 4/30\n",
            "34/34 [==============================] - ETA: 0s - loss: 1.0729 - categorical_accuracy: 0.6357\n",
            "Epoch 4: saving model to model_init_2022-09-1215_46_37.656743/model-00004-1.07285-0.63575-5.22323-0.25000.h5\n",
            "34/34 [==============================] - 273s 8s/step - loss: 1.0729 - categorical_accuracy: 0.6357 - val_loss: 5.2232 - val_categorical_accuracy: 0.2500 - lr: 2.0000e-04\n",
            "Epoch 5/30\n",
            "34/34 [==============================] - ETA: 0s - loss: 0.9464 - categorical_accuracy: 0.6561\n",
            "Epoch 5: saving model to model_init_2022-09-1215_46_37.656743/model-00005-0.94636-0.65611-5.77775-0.23000.h5\n",
            "\n",
            "Epoch 5: ReduceLROnPlateau reducing learning rate to 3.9999998989515007e-05.\n",
            "34/34 [==============================] - 262s 8s/step - loss: 0.9464 - categorical_accuracy: 0.6561 - val_loss: 5.7777 - val_categorical_accuracy: 0.2300 - lr: 2.0000e-04\n",
            "Epoch 6/30\n",
            "34/34 [==============================] - ETA: 0s - loss: 0.8096 - categorical_accuracy: 0.7089\n",
            "Epoch 6: saving model to model_init_2022-09-1215_46_37.656743/model-00006-0.80965-0.70890-5.61190-0.27000.h5\n",
            "34/34 [==============================] - 282s 9s/step - loss: 0.8096 - categorical_accuracy: 0.7089 - val_loss: 5.6119 - val_categorical_accuracy: 0.2700 - lr: 4.0000e-05\n",
            "Epoch 7/30\n",
            "34/34 [==============================] - ETA: 0s - loss: 0.8801 - categorical_accuracy: 0.7014\n",
            "Epoch 7: saving model to model_init_2022-09-1215_46_37.656743/model-00007-0.88007-0.70136-5.56218-0.28000.h5\n",
            "34/34 [==============================] - 278s 8s/step - loss: 0.8801 - categorical_accuracy: 0.7014 - val_loss: 5.5622 - val_categorical_accuracy: 0.2800 - lr: 4.0000e-05\n",
            "Epoch 8/30\n",
            "34/34 [==============================] - ETA: 0s - loss: 0.7563 - categorical_accuracy: 0.7255\n",
            "Epoch 8: saving model to model_init_2022-09-1215_46_37.656743/model-00008-0.75628-0.72549-5.39859-0.24000.h5\n",
            "34/34 [==============================] - 271s 8s/step - loss: 0.7563 - categorical_accuracy: 0.7255 - val_loss: 5.3986 - val_categorical_accuracy: 0.2400 - lr: 4.0000e-05\n",
            "Epoch 9/30\n",
            "34/34 [==============================] - ETA: 0s - loss: 0.7198 - categorical_accuracy: 0.7428\n",
            "Epoch 9: saving model to model_init_2022-09-1215_46_37.656743/model-00009-0.71979-0.74284-4.98640-0.26000.h5\n",
            "\n",
            "Epoch 9: ReduceLROnPlateau reducing learning rate to 7.999999797903002e-06.\n",
            "34/34 [==============================] - 267s 8s/step - loss: 0.7198 - categorical_accuracy: 0.7428 - val_loss: 4.9864 - val_categorical_accuracy: 0.2600 - lr: 4.0000e-05\n",
            "Epoch 10/30\n",
            "34/34 [==============================] - ETA: 0s - loss: 0.6932 - categorical_accuracy: 0.7534\n",
            "Epoch 10: saving model to model_init_2022-09-1215_46_37.656743/model-00010-0.69321-0.75339-4.73806-0.31000.h5\n",
            "34/34 [==============================] - 274s 8s/step - loss: 0.6932 - categorical_accuracy: 0.7534 - val_loss: 4.7381 - val_categorical_accuracy: 0.3100 - lr: 8.0000e-06\n",
            "Epoch 11/30\n",
            "34/34 [==============================] - ETA: 0s - loss: 0.6863 - categorical_accuracy: 0.7504\n",
            "Epoch 11: saving model to model_init_2022-09-1215_46_37.656743/model-00011-0.68628-0.75038-3.98986-0.29000.h5\n",
            "34/34 [==============================] - 279s 8s/step - loss: 0.6863 - categorical_accuracy: 0.7504 - val_loss: 3.9899 - val_categorical_accuracy: 0.2900 - lr: 8.0000e-06\n",
            "Epoch 12/30\n",
            "34/34 [==============================] - ETA: 0s - loss: 0.7333 - categorical_accuracy: 0.7474\n",
            "Epoch 12: saving model to model_init_2022-09-1215_46_37.656743/model-00012-0.73327-0.74736-3.40756-0.31000.h5\n",
            "34/34 [==============================] - 272s 8s/step - loss: 0.7333 - categorical_accuracy: 0.7474 - val_loss: 3.4076 - val_categorical_accuracy: 0.3100 - lr: 8.0000e-06\n",
            "Epoch 13/30\n",
            "34/34 [==============================] - ETA: 0s - loss: 0.6753 - categorical_accuracy: 0.7451\n",
            "Epoch 13: saving model to model_init_2022-09-1215_46_37.656743/model-00013-0.67533-0.74510-2.86986-0.35000.h5\n",
            "\n",
            "Epoch 13: ReduceLROnPlateau reducing learning rate to 1.5999999959603884e-06.\n",
            "34/34 [==============================] - 271s 8s/step - loss: 0.6753 - categorical_accuracy: 0.7451 - val_loss: 2.8699 - val_categorical_accuracy: 0.3500 - lr: 8.0000e-06\n",
            "Epoch 14/30\n",
            "34/34 [==============================] - ETA: 0s - loss: 0.6898 - categorical_accuracy: 0.7549\n",
            "Epoch 14: saving model to model_init_2022-09-1215_46_37.656743/model-00014-0.68982-0.75490-2.43305-0.36000.h5\n",
            "34/34 [==============================] - 260s 8s/step - loss: 0.6898 - categorical_accuracy: 0.7549 - val_loss: 2.4331 - val_categorical_accuracy: 0.3600 - lr: 1.6000e-06\n",
            "Epoch 15/30\n",
            "34/34 [==============================] - ETA: 0s - loss: 0.7024 - categorical_accuracy: 0.7534\n",
            "Epoch 15: saving model to model_init_2022-09-1215_46_37.656743/model-00015-0.70237-0.75339-1.71236-0.45000.h5\n",
            "34/34 [==============================] - 266s 8s/step - loss: 0.7024 - categorical_accuracy: 0.7534 - val_loss: 1.7124 - val_categorical_accuracy: 0.4500 - lr: 1.6000e-06\n",
            "Epoch 16/30\n",
            "34/34 [==============================] - ETA: 0s - loss: 0.6771 - categorical_accuracy: 0.7632\n",
            "Epoch 16: saving model to model_init_2022-09-1215_46_37.656743/model-00016-0.67708-0.76320-1.44481-0.49000.h5\n",
            "34/34 [==============================] - 275s 8s/step - loss: 0.6771 - categorical_accuracy: 0.7632 - val_loss: 1.4448 - val_categorical_accuracy: 0.4900 - lr: 1.6000e-06\n",
            "Epoch 17/30\n",
            "34/34 [==============================] - ETA: 0s - loss: 0.7032 - categorical_accuracy: 0.7398\n",
            "Epoch 17: saving model to model_init_2022-09-1215_46_37.656743/model-00017-0.70318-0.73982-1.06585-0.59000.h5\n",
            "34/34 [==============================] - 274s 8s/step - loss: 0.7032 - categorical_accuracy: 0.7398 - val_loss: 1.0659 - val_categorical_accuracy: 0.5900 - lr: 1.6000e-06\n",
            "Epoch 18/30\n",
            "34/34 [==============================] - ETA: 0s - loss: 0.6035 - categorical_accuracy: 0.7790\n",
            "Epoch 18: saving model to model_init_2022-09-1215_46_37.656743/model-00018-0.60352-0.77903-1.01664-0.63000.h5\n",
            "34/34 [==============================] - 277s 8s/step - loss: 0.6035 - categorical_accuracy: 0.7790 - val_loss: 1.0166 - val_categorical_accuracy: 0.6300 - lr: 1.6000e-06\n",
            "Epoch 19/30\n",
            "34/34 [==============================] - ETA: 0s - loss: 0.6888 - categorical_accuracy: 0.7647\n",
            "Epoch 19: saving model to model_init_2022-09-1215_46_37.656743/model-00019-0.68876-0.76471-0.83537-0.72000.h5\n",
            "34/34 [==============================] - 274s 8s/step - loss: 0.6888 - categorical_accuracy: 0.7647 - val_loss: 0.8354 - val_categorical_accuracy: 0.7200 - lr: 1.6000e-06\n",
            "Epoch 20/30\n",
            "34/34 [==============================] - ETA: 0s - loss: 0.6978 - categorical_accuracy: 0.7481\n",
            "Epoch 20: saving model to model_init_2022-09-1215_46_37.656743/model-00020-0.69783-0.74811-0.68925-0.80000.h5\n",
            "34/34 [==============================] - 288s 9s/step - loss: 0.6978 - categorical_accuracy: 0.7481 - val_loss: 0.6893 - val_categorical_accuracy: 0.8000 - lr: 1.6000e-06\n",
            "Epoch 21/30\n",
            "34/34 [==============================] - ETA: 0s - loss: 0.7367 - categorical_accuracy: 0.7376\n",
            "Epoch 21: saving model to model_init_2022-09-1215_46_37.656743/model-00021-0.73669-0.73756-0.66559-0.78000.h5\n",
            "34/34 [==============================] - 273s 8s/step - loss: 0.7367 - categorical_accuracy: 0.7376 - val_loss: 0.6656 - val_categorical_accuracy: 0.7800 - lr: 1.6000e-06\n",
            "Epoch 22/30\n",
            "34/34 [==============================] - ETA: 0s - loss: 0.6456 - categorical_accuracy: 0.7692\n",
            "Epoch 22: saving model to model_init_2022-09-1215_46_37.656743/model-00022-0.64562-0.76923-0.47748-0.84000.h5\n",
            "34/34 [==============================] - 287s 9s/step - loss: 0.6456 - categorical_accuracy: 0.7692 - val_loss: 0.4775 - val_categorical_accuracy: 0.8400 - lr: 1.6000e-06\n",
            "Epoch 23/30\n",
            "34/34 [==============================] - ETA: 0s - loss: 0.6467 - categorical_accuracy: 0.7760\n",
            "Epoch 23: saving model to model_init_2022-09-1215_46_37.656743/model-00023-0.64666-0.77602-0.48720-0.83000.h5\n",
            "34/34 [==============================] - 270s 8s/step - loss: 0.6467 - categorical_accuracy: 0.7760 - val_loss: 0.4872 - val_categorical_accuracy: 0.8300 - lr: 1.6000e-06\n",
            "Epoch 24/30\n",
            "34/34 [==============================] - ETA: 0s - loss: 0.6819 - categorical_accuracy: 0.7496\n",
            "Epoch 24: saving model to model_init_2022-09-1215_46_37.656743/model-00024-0.68188-0.74962-0.73606-0.81000.h5\n",
            "34/34 [==============================] - 273s 8s/step - loss: 0.6819 - categorical_accuracy: 0.7496 - val_loss: 0.7361 - val_categorical_accuracy: 0.8100 - lr: 1.6000e-06\n",
            "Epoch 25/30\n",
            "34/34 [==============================] - ETA: 0s - loss: 0.7030 - categorical_accuracy: 0.7511\n",
            "Epoch 25: saving model to model_init_2022-09-1215_46_37.656743/model-00025-0.70304-0.75113-0.67202-0.77000.h5\n",
            "34/34 [==============================] - 262s 8s/step - loss: 0.7030 - categorical_accuracy: 0.7511 - val_loss: 0.6720 - val_categorical_accuracy: 0.7700 - lr: 1.6000e-06\n",
            "Epoch 26/30\n",
            "34/34 [==============================] - ETA: 0s - loss: 0.6503 - categorical_accuracy: 0.7534\n",
            "Epoch 26: saving model to model_init_2022-09-1215_46_37.656743/model-00026-0.65034-0.75339-0.59642-0.81000.h5\n",
            "\n",
            "Epoch 26: ReduceLROnPlateau reducing learning rate to 3.200000037395512e-07.\n",
            "34/34 [==============================] - 269s 8s/step - loss: 0.6503 - categorical_accuracy: 0.7534 - val_loss: 0.5964 - val_categorical_accuracy: 0.8100 - lr: 1.6000e-06\n",
            "Epoch 27/30\n",
            "34/34 [==============================] - ETA: 0s - loss: 0.6421 - categorical_accuracy: 0.7594\n",
            "Epoch 27: saving model to model_init_2022-09-1215_46_37.656743/model-00027-0.64210-0.75943-0.57670-0.81000.h5\n",
            "34/34 [==============================] - 272s 8s/step - loss: 0.6421 - categorical_accuracy: 0.7594 - val_loss: 0.5767 - val_categorical_accuracy: 0.8100 - lr: 3.2000e-07\n",
            "Epoch 28/30\n",
            "34/34 [==============================] - ETA: 0s - loss: 0.6385 - categorical_accuracy: 0.7700\n",
            "Epoch 28: saving model to model_init_2022-09-1215_46_37.656743/model-00028-0.63847-0.76998-0.55556-0.83000.h5\n",
            "34/34 [==============================] - 278s 8s/step - loss: 0.6385 - categorical_accuracy: 0.7700 - val_loss: 0.5556 - val_categorical_accuracy: 0.8300 - lr: 3.2000e-07\n",
            "Epoch 29/30\n",
            "34/34 [==============================] - ETA: 0s - loss: 0.6620 - categorical_accuracy: 0.7647\n",
            "Epoch 29: saving model to model_init_2022-09-1215_46_37.656743/model-00029-0.66202-0.76471-0.67235-0.79000.h5\n",
            "34/34 [==============================] - 273s 8s/step - loss: 0.6620 - categorical_accuracy: 0.7647 - val_loss: 0.6724 - val_categorical_accuracy: 0.7900 - lr: 3.2000e-07\n",
            "Epoch 30/30\n",
            "34/34 [==============================] - ETA: 0s - loss: 0.6286 - categorical_accuracy: 0.7813\n",
            "Epoch 30: saving model to model_init_2022-09-1215_46_37.656743/model-00030-0.62864-0.78130-0.59734-0.83000.h5\n",
            "\n",
            "Epoch 30: ReduceLROnPlateau reducing learning rate to 6.399999961104187e-08.\n",
            "34/34 [==============================] - 276s 8s/step - loss: 0.6286 - categorical_accuracy: 0.7813 - val_loss: 0.5973 - val_categorical_accuracy: 0.8300 - lr: 3.2000e-07\n"
          ]
        }
      ],
      "source": [
        "print(\"Total Params:\", conv_3d10_model.count_params())\n",
        "history_model10=conv_3d10.train_model(conv_3d10_model,augment_data=True)"
      ]
    },
    {
      "cell_type": "code",
      "execution_count": null,
      "metadata": {
        "id": "DSLJV6LWmdkI",
        "colab": {
          "base_uri": "https://localhost:8080/",
          "height": 235
        },
        "outputId": "8e0461e6-2f40-44e3-f059-ce75570a3405"
      },
      "outputs": [
        {
          "output_type": "display_data",
          "data": {
            "text/plain": [
              "<Figure size 1080x288 with 2 Axes>"
            ],
            "image/png": "[encoded data removed]"
          },
          "metadata": {
            "needs_background": "light"
          }
        }
      ],
      "source": [
        "plot(history_model10)"
      ]
    },
    {
      "cell_type": "markdown",
      "metadata": {
        "id": "shsHSQtZmdkI"
      },
      "source": [
        "# Model 5 - Transfer Learning\n",
        "\n",
        "> Indented block\n",
        "\n"
      ]
    },
    {
      "cell_type": "code",
      "execution_count": 45,
      "metadata": {
        "id": "TnbMsoOUmdkJ"
      },
      "outputs": [],
      "source": [
        "from keras.applications import mobilenet"
      ]
    },
    {
      "cell_type": "code",
      "execution_count": 46,
      "metadata": {
        "id": "oIJm_8BtmdkJ",
        "colab": {
          "base_uri": "https://localhost:8080/"
        },
        "outputId": "5904aa56-6bb2-4ca0-c8d9-96fcd88d0601"
      },
      "outputs": [
        {
          "output_type": "stream",
          "name": "stderr",
          "text": [
            "WARNING:tensorflow:`input_shape` is undefined or non-square, or `rows` is not in [128, 160, 192, 224]. Weights for input shape (224, 224) will be loaded as the default.\n"
          ]
        },
        {
          "output_type": "stream",
          "name": "stdout",
          "text": [
            "Downloading data from https://storage.googleapis.com/tensorflow/keras-applications/mobilenet/mobilenet_1_0_224_tf_no_top.h5\n",
            "17227776/17225924 [==============================] - 0s 0us/step\n",
            "17235968/17225924 [==============================] - 0s 0us/step\n"
          ]
        }
      ],
      "source": [
        "mobilenet_transfer = mobilenet.MobileNet(weights='imagenet', include_top=False)\n",
        "\n",
        "class RNNCNN_TL(ModelBuilderMoreAugmentation):\n",
        "    \n",
        "    def define_model(self,lstm_cells=64,dense_neurons=64,dropout=0.25):\n",
        "        \n",
        "        model = Sequential()\n",
        "        model.add(TimeDistributed(mobilenet_transfer,input_shape=(self.frames_to_sample,self.image_height,self.image_width,self.channels)))\n",
        "        \n",
        "        \n",
        "        for layer in model.layers:\n",
        "            layer.trainable = False\n",
        "        \n",
        "        \n",
        "        model.add(TimeDistributed(BatchNormalization()))\n",
        "        model.add(TimeDistributed(MaxPooling2D((2, 2))))\n",
        "        model.add(TimeDistributed(Flatten()))\n",
        "\n",
        "        model.add(LSTM(lstm_cells))\n",
        "        model.add(Dropout(dropout))\n",
        "        \n",
        "        model.add(Dense(dense_neurons,activation='relu'))\n",
        "        model.add(Dropout(dropout))\n",
        "        \n",
        "        model.add(Dense(self.num_classes, activation='softmax'))\n",
        "        \n",
        "        \n",
        "        optimiser = optimizers.adam_v2.Adam()\n",
        "        model.compile(optimizer=optimiser, loss='categorical_crossentropy', metrics=['categorical_accuracy'])\n",
        "        return model"
      ]
    },
    {
      "cell_type": "code",
      "execution_count": 47,
      "metadata": {
        "id": "eNzdTWQMmdkJ",
        "colab": {
          "base_uri": "https://localhost:8080/"
        },
        "outputId": "e549b7bb-a3ab-426c-b1c9-18a53783c39a"
      },
      "outputs": [
        {
          "output_type": "stream",
          "name": "stdout",
          "text": [
            "Model: \"sequential_20\"\n",
            "_________________________________________________________________\n",
            " Layer (type)                Output Shape              Param #   \n",
            "=================================================================\n",
            " time_distributed (TimeDistr  (None, 16, 3, 3, 1024)   3228864   \n",
            " ibuted)                                                         \n",
            "                                                                 \n",
            " time_distributed_1 (TimeDis  (None, 16, 3, 3, 1024)   4096      \n",
            " tributed)                                                       \n",
            "                                                                 \n",
            " time_distributed_2 (TimeDis  (None, 16, 1, 1, 1024)   0         \n",
            " tributed)                                                       \n",
            "                                                                 \n",
            " time_distributed_3 (TimeDis  (None, 16, 1024)         0         \n",
            " tributed)                                                       \n",
            "                                                                 \n",
            " lstm (LSTM)                 (None, 128)               590336    \n",
            "                                                                 \n",
            " dropout_40 (Dropout)        (None, 128)               0         \n",
            "                                                                 \n",
            " dense_60 (Dense)            (None, 128)               16512     \n",
            "                                                                 \n",
            " dropout_41 (Dropout)        (None, 128)               0         \n",
            "                                                                 \n",
            " dense_61 (Dense)            (None, 5)                 645       \n",
            "                                                                 \n",
            "=================================================================\n",
            "Total params: 3,840,453\n",
            "Trainable params: 609,541\n",
            "Non-trainable params: 3,230,912\n",
            "_________________________________________________________________\n"
          ]
        }
      ],
      "source": [
        "rnn_cnn_tl=RNNCNN_TL()\n",
        "rnn_cnn_tl.initialize_path(project_folder)\n",
        "rnn_cnn_tl.initialize_image_properties(image_height=120,image_width=120)\n",
        "rnn_cnn_tl.initialize_hyperparams(frames_to_sample=16,batch_size=5,num_epochs=20)\n",
        "rnn_cnn_tl_model=rnn_cnn_tl.define_model(lstm_cells=128,dense_neurons=128,dropout=0.25)\n",
        "rnn_cnn_tl_model.summary()"
      ]
    },
    {
      "cell_type": "code",
      "execution_count": 48,
      "metadata": {
        "id": "2Mbcvim_mdkJ",
        "colab": {
          "base_uri": "https://localhost:8080/"
        },
        "outputId": "8a7fdaf4-2c45-4144-884c-c5b5cbfdfa20"
      },
      "outputs": [
        {
          "output_type": "stream",
          "name": "stderr",
          "text": [
            "WARNING:tensorflow:`period` argument is deprecated. Please use `save_freq` to specify the frequency in number of batches seen.\n"
          ]
        },
        {
          "output_type": "stream",
          "name": "stdout",
          "text": [
            "Total Params: 3840453\n",
            "Epoch 1/20\n",
            "133/133 [==============================] - ETA: 0s - loss: 1.3786 - categorical_accuracy: 0.4201\n",
            "Epoch 1: saving model to model_init_2022-09-1311_03_08.452240/model-00001-1.37859-0.42006-0.89852-0.65000.h5\n",
            "133/133 [==============================] - 215s 2s/step - loss: 1.3786 - categorical_accuracy: 0.4201 - val_loss: 0.8985 - val_categorical_accuracy: 0.6500 - lr: 0.0010\n",
            "Epoch 2/20\n",
            "133/133 [==============================] - ETA: 0s - loss: 0.9388 - categorical_accuracy: 0.6297\n",
            "Epoch 2: saving model to model_init_2022-09-1311_03_08.452240/model-00002-0.93885-0.62971-0.73824-0.71000.h5\n",
            "133/133 [==============================] - 207s 2s/step - loss: 0.9388 - categorical_accuracy: 0.6297 - val_loss: 0.7382 - val_categorical_accuracy: 0.7100 - lr: 0.0010\n",
            "Epoch 3/20\n",
            "133/133 [==============================] - ETA: 0s - loss: 0.6651 - categorical_accuracy: 0.7496\n",
            "Epoch 3: saving model to model_init_2022-09-1311_03_08.452240/model-00003-0.66513-0.74962-0.59570-0.74000.h5\n",
            "133/133 [==============================] - 196s 1s/step - loss: 0.6651 - categorical_accuracy: 0.7496 - val_loss: 0.5957 - val_categorical_accuracy: 0.7400 - lr: 0.0010\n",
            "Epoch 4/20\n",
            "133/133 [==============================] - ETA: 0s - loss: 0.5340 - categorical_accuracy: 0.8002\n",
            "Epoch 4: saving model to model_init_2022-09-1311_03_08.452240/model-00004-0.53403-0.80015-0.59093-0.77000.h5\n",
            "133/133 [==============================] - 212s 2s/step - loss: 0.5340 - categorical_accuracy: 0.8002 - val_loss: 0.5909 - val_categorical_accuracy: 0.7700 - lr: 0.0010\n",
            "Epoch 5/20\n",
            "133/133 [==============================] - ETA: 0s - loss: 0.4766 - categorical_accuracy: 0.8258\n",
            "Epoch 5: saving model to model_init_2022-09-1311_03_08.452240/model-00005-0.47662-0.82579-0.87469-0.69000.h5\n",
            "133/133 [==============================] - 219s 2s/step - loss: 0.4766 - categorical_accuracy: 0.8258 - val_loss: 0.8747 - val_categorical_accuracy: 0.6900 - lr: 0.0010\n",
            "Epoch 6/20\n",
            "133/133 [==============================] - ETA: 0s - loss: 0.3627 - categorical_accuracy: 0.8756\n",
            "Epoch 6: saving model to model_init_2022-09-1311_03_08.452240/model-00006-0.36272-0.87557-0.69568-0.73000.h5\n",
            "133/133 [==============================] - 192s 1s/step - loss: 0.3627 - categorical_accuracy: 0.8756 - val_loss: 0.6957 - val_categorical_accuracy: 0.7300 - lr: 0.0010\n",
            "Epoch 7/20\n",
            "133/133 [==============================] - ETA: 0s - loss: 0.3027 - categorical_accuracy: 0.8937\n",
            "Epoch 7: saving model to model_init_2022-09-1311_03_08.452240/model-00007-0.30274-0.89367-0.73920-0.71000.h5\n",
            "133/133 [==============================] - 200s 2s/step - loss: 0.3027 - categorical_accuracy: 0.8937 - val_loss: 0.7392 - val_categorical_accuracy: 0.7100 - lr: 0.0010\n",
            "Epoch 8/20\n",
            "133/133 [==============================] - ETA: 0s - loss: 0.2838 - categorical_accuracy: 0.9005\n",
            "Epoch 8: saving model to model_init_2022-09-1311_03_08.452240/model-00008-0.28378-0.90045-0.57790-0.79000.h5\n",
            "133/133 [==============================] - 196s 1s/step - loss: 0.2838 - categorical_accuracy: 0.9005 - val_loss: 0.5779 - val_categorical_accuracy: 0.7900 - lr: 0.0010\n",
            "Epoch 9/20\n",
            "133/133 [==============================] - ETA: 0s - loss: 0.2749 - categorical_accuracy: 0.8989\n",
            "Epoch 9: saving model to model_init_2022-09-1311_03_08.452240/model-00009-0.27487-0.89894-0.84292-0.72000.h5\n",
            "133/133 [==============================] - 203s 2s/step - loss: 0.2749 - categorical_accuracy: 0.8989 - val_loss: 0.8429 - val_categorical_accuracy: 0.7200 - lr: 0.0010\n",
            "Epoch 10/20\n",
            "133/133 [==============================] - ETA: 0s - loss: 0.2060 - categorical_accuracy: 0.9284\n",
            "Epoch 10: saving model to model_init_2022-09-1311_03_08.452240/model-00010-0.20602-0.92836-0.77823-0.73000.h5\n",
            "133/133 [==============================] - 209s 2s/step - loss: 0.2060 - categorical_accuracy: 0.9284 - val_loss: 0.7782 - val_categorical_accuracy: 0.7300 - lr: 0.0010\n",
            "Epoch 11/20\n",
            "133/133 [==============================] - ETA: 0s - loss: 0.2317 - categorical_accuracy: 0.9268\n",
            "Epoch 11: saving model to model_init_2022-09-1311_03_08.452240/model-00011-0.23175-0.92685-0.98679-0.70000.h5\n",
            "133/133 [==============================] - 203s 2s/step - loss: 0.2317 - categorical_accuracy: 0.9268 - val_loss: 0.9868 - val_categorical_accuracy: 0.7000 - lr: 0.0010\n",
            "Epoch 12/20\n",
            "133/133 [==============================] - ETA: 0s - loss: 0.1541 - categorical_accuracy: 0.9419\n",
            "Epoch 12: saving model to model_init_2022-09-1311_03_08.452240/model-00012-0.15414-0.94193-0.79510-0.68000.h5\n",
            "\n",
            "Epoch 12: ReduceLROnPlateau reducing learning rate to 0.00020000000949949026.\n",
            "133/133 [==============================] - 196s 1s/step - loss: 0.1541 - categorical_accuracy: 0.9419 - val_loss: 0.7951 - val_categorical_accuracy: 0.6800 - lr: 0.0010\n",
            "Epoch 13/20\n",
            "133/133 [==============================] - ETA: 0s - loss: 0.1179 - categorical_accuracy: 0.9661\n",
            "Epoch 13: saving model to model_init_2022-09-1311_03_08.452240/model-00013-0.11786-0.96606-0.79870-0.73000.h5\n",
            "133/133 [==============================] - 202s 2s/step - loss: 0.1179 - categorical_accuracy: 0.9661 - val_loss: 0.7987 - val_categorical_accuracy: 0.7300 - lr: 2.0000e-04\n",
            "Epoch 14/20\n",
            "133/133 [==============================] - ETA: 0s - loss: 0.1052 - categorical_accuracy: 0.9646\n",
            "Epoch 14: saving model to model_init_2022-09-1311_03_08.452240/model-00014-0.10518-0.96456-0.62735-0.77000.h5\n",
            "133/133 [==============================] - 195s 1s/step - loss: 0.1052 - categorical_accuracy: 0.9646 - val_loss: 0.6273 - val_categorical_accuracy: 0.7700 - lr: 2.0000e-04\n",
            "Epoch 15/20\n",
            "133/133 [==============================] - ETA: 0s - loss: 0.0917 - categorical_accuracy: 0.9706\n",
            "Epoch 15: saving model to model_init_2022-09-1311_03_08.452240/model-00015-0.09172-0.97059-0.76156-0.73000.h5\n",
            "133/133 [==============================] - 192s 1s/step - loss: 0.0917 - categorical_accuracy: 0.9706 - val_loss: 0.7616 - val_categorical_accuracy: 0.7300 - lr: 2.0000e-04\n",
            "Epoch 16/20\n",
            "133/133 [==============================] - ETA: 0s - loss: 0.0815 - categorical_accuracy: 0.9751\n",
            "Epoch 16: saving model to model_init_2022-09-1311_03_08.452240/model-00016-0.08147-0.97511-0.62159-0.74000.h5\n",
            "\n",
            "Epoch 16: ReduceLROnPlateau reducing learning rate to 4.0000001899898055e-05.\n",
            "133/133 [==============================] - 198s 2s/step - loss: 0.0815 - categorical_accuracy: 0.9751 - val_loss: 0.6216 - val_categorical_accuracy: 0.7400 - lr: 2.0000e-04\n",
            "Epoch 17/20\n",
            "133/133 [==============================] - ETA: 0s - loss: 0.0826 - categorical_accuracy: 0.9721\n",
            "Epoch 17: saving model to model_init_2022-09-1311_03_08.452240/model-00017-0.08256-0.97210-0.95694-0.72000.h5\n",
            "133/133 [==============================] - 206s 2s/step - loss: 0.0826 - categorical_accuracy: 0.9721 - val_loss: 0.9569 - val_categorical_accuracy: 0.7200 - lr: 4.0000e-05\n",
            "Epoch 18/20\n",
            "133/133 [==============================] - ETA: 0s - loss: 0.0638 - categorical_accuracy: 0.9811\n",
            "Epoch 18: saving model to model_init_2022-09-1311_03_08.452240/model-00018-0.06377-0.98115-0.75382-0.71000.h5\n",
            "133/133 [==============================] - 195s 1s/step - loss: 0.0638 - categorical_accuracy: 0.9811 - val_loss: 0.7538 - val_categorical_accuracy: 0.7100 - lr: 4.0000e-05\n",
            "Epoch 19/20\n",
            "133/133 [==============================] - ETA: 0s - loss: 0.0733 - categorical_accuracy: 0.9736\n",
            "Epoch 19: saving model to model_init_2022-09-1311_03_08.452240/model-00019-0.07325-0.97360-0.81419-0.69000.h5\n",
            "133/133 [==============================] - 188s 1s/step - loss: 0.0733 - categorical_accuracy: 0.9736 - val_loss: 0.8142 - val_categorical_accuracy: 0.6900 - lr: 4.0000e-05\n",
            "Epoch 20/20\n",
            "133/133 [==============================] - ETA: 0s - loss: 0.0653 - categorical_accuracy: 0.9804\n",
            "Epoch 20: saving model to model_init_2022-09-1311_03_08.452240/model-00020-0.06526-0.98039-0.78336-0.72000.h5\n",
            "\n",
            "Epoch 20: ReduceLROnPlateau reducing learning rate to 8.000000525498762e-06.\n",
            "133/133 [==============================] - 189s 1s/step - loss: 0.0653 - categorical_accuracy: 0.9804 - val_loss: 0.7834 - val_categorical_accuracy: 0.7200 - lr: 4.0000e-05\n"
          ]
        }
      ],
      "source": [
        "print(\"Total Params:\", rnn_cnn_tl_model.count_params())\n",
        "history_model18=rnn_cnn_tl.train_model(rnn_cnn_tl_model,augment_data=True)"
      ]
    },
    {
      "cell_type": "code",
      "execution_count": 49,
      "metadata": {
        "id": "didW7JmhmdkK",
        "colab": {
          "base_uri": "https://localhost:8080/",
          "height": 266
        },
        "outputId": "29b222e1-749e-4e5f-f29d-42c3526ddb67"
      },
      "outputs": [
        {
          "output_type": "display_data",
          "data": {
            "text/plain": [
              "<Figure size 1080x288 with 2 Axes>"
            ],
            "image/png": "[encoded data removed]"
          },
          "metadata": {
            "needs_background": "light"
          }
        }
      ],
      "source": [
        "plot(history_model18)"
      ]
    },
    {
      "cell_type": "markdown",
      "metadata": {
        "id": "ji9v8FoBmdkK"
      },
      "source": [
        "##### We are not training the mobilenet weights and we see validation accuracy is very poor. Let's train them as well and observe if there is performance improvement"
      ]
    },
    {
      "cell_type": "markdown",
      "metadata": {
        "id": "gWAmIV9LmdkK"
      },
      "source": [
        "# Model 6 - Transfer Learning with GRU and training all weights"
      ]
    },
    {
      "cell_type": "code",
      "execution_count": 50,
      "metadata": {
        "id": "UTjpyuswmdkK",
        "colab": {
          "base_uri": "https://localhost:8080/"
        },
        "outputId": "7e431112-4881-4408-9299-214873a86a0f"
      },
      "outputs": [
        {
          "output_type": "stream",
          "name": "stderr",
          "text": [
            "WARNING:tensorflow:`input_shape` is undefined or non-square, or `rows` is not in [128, 160, 192, 224]. Weights for input shape (224, 224) will be loaded as the default.\n"
          ]
        }
      ],
      "source": [
        "from keras.applications import mobilenet\n",
        "\n",
        "mobilenet_transfer = mobilenet.MobileNet(weights='imagenet', include_top=False)\n",
        "\n",
        "class RNNCNN_TL2(ModelBuilderMoreAugmentation):\n",
        "    \n",
        "    def define_model(self,gru_cells=64,dense_neurons=64,dropout=0.25):\n",
        "        \n",
        "        model = Sequential()\n",
        "        model.add(TimeDistributed(mobilenet_transfer,input_shape=(self.frames_to_sample,self.image_height,self.image_width,self.channels)))\n",
        " \n",
        "        \n",
        "        model.add(TimeDistributed(BatchNormalization()))\n",
        "        model.add(TimeDistributed(MaxPooling2D((2, 2))))\n",
        "        model.add(TimeDistributed(Flatten()))\n",
        "\n",
        "        model.add(GRU(gru_cells))\n",
        "        model.add(Dropout(dropout))\n",
        "        \n",
        "        model.add(Dense(dense_neurons,activation='relu'))\n",
        "        model.add(Dropout(dropout))\n",
        "        \n",
        "        model.add(Dense(self.num_classes, activation='softmax'))\n",
        "        \n",
        "        \n",
        "        optimiser = optimizers.adam_v2.Adam()\n",
        "        model.compile(optimizer=optimiser, loss='categorical_crossentropy', metrics=['categorical_accuracy'])\n",
        "        return model"
      ]
    },
    {
      "cell_type": "code",
      "execution_count": 51,
      "metadata": {
        "id": "tss5WjlGmdkK",
        "colab": {
          "base_uri": "https://localhost:8080/"
        },
        "outputId": "1dc846cc-4a3a-4f15-fb4c-0e450ee284e3"
      },
      "outputs": [
        {
          "output_type": "stream",
          "name": "stdout",
          "text": [
            "Model: \"sequential_21\"\n",
            "_________________________________________________________________\n",
            " Layer (type)                Output Shape              Param #   \n",
            "=================================================================\n",
            " time_distributed_4 (TimeDis  (None, 16, 3, 3, 1024)   3228864   \n",
            " tributed)                                                       \n",
            "                                                                 \n",
            " time_distributed_5 (TimeDis  (None, 16, 3, 3, 1024)   4096      \n",
            " tributed)                                                       \n",
            "                                                                 \n",
            " time_distributed_6 (TimeDis  (None, 16, 1, 1, 1024)   0         \n",
            " tributed)                                                       \n",
            "                                                                 \n",
            " time_distributed_7 (TimeDis  (None, 16, 1024)         0         \n",
            " tributed)                                                       \n",
            "                                                                 \n",
            " gru (GRU)                   (None, 128)               443136    \n",
            "                                                                 \n",
            " dropout_42 (Dropout)        (None, 128)               0         \n",
            "                                                                 \n",
            " dense_62 (Dense)            (None, 128)               16512     \n",
            "                                                                 \n",
            " dropout_43 (Dropout)        (None, 128)               0         \n",
            "                                                                 \n",
            " dense_63 (Dense)            (None, 5)                 645       \n",
            "                                                                 \n",
            "=================================================================\n",
            "Total params: 3,693,253\n",
            "Trainable params: 3,669,317\n",
            "Non-trainable params: 23,936\n",
            "_________________________________________________________________\n"
          ]
        }
      ],
      "source": [
        "rnn_cnn_tl2=RNNCNN_TL2()\n",
        "rnn_cnn_tl2.initialize_path(project_folder)\n",
        "rnn_cnn_tl2.initialize_image_properties(image_height=120,image_width=120)\n",
        "rnn_cnn_tl2.initialize_hyperparams(frames_to_sample=16,batch_size=5,num_epochs=20)\n",
        "rnn_cnn_tl2_model=rnn_cnn_tl2.define_model(gru_cells=128,dense_neurons=128,dropout=0.25)\n",
        "rnn_cnn_tl2_model.summary()"
      ]
    },
    {
      "cell_type": "code",
      "execution_count": 52,
      "metadata": {
        "id": "rPMlTvWlmdkL",
        "colab": {
          "base_uri": "https://localhost:8080/"
        },
        "outputId": "b0909534-0ff1-4043-9e28-9484dac63035"
      },
      "outputs": [
        {
          "output_type": "stream",
          "name": "stderr",
          "text": [
            "WARNING:tensorflow:`period` argument is deprecated. Please use `save_freq` to specify the frequency in number of batches seen.\n"
          ]
        },
        {
          "output_type": "stream",
          "name": "stdout",
          "text": [
            "Total Params: 3693253\n",
            "Epoch 1/20\n",
            "133/133 [==============================] - ETA: 0s - loss: 1.1203 - categorical_accuracy: 0.5354\n",
            "Epoch 1: saving model to model_init_2022-09-1312_10_04.894639/model-00001-1.12030-0.53544-0.97577-0.57000.h5\n",
            "133/133 [==============================] - 219s 2s/step - loss: 1.1203 - categorical_accuracy: 0.5354 - val_loss: 0.9758 - val_categorical_accuracy: 0.5700 - lr: 0.0010\n",
            "Epoch 2/20\n",
            "133/133 [==============================] - ETA: 0s - loss: 0.5877 - categorical_accuracy: 0.7783\n",
            "Epoch 2: saving model to model_init_2022-09-1312_10_04.894639/model-00002-0.58765-0.77828-0.42044-0.83000.h5\n",
            "133/133 [==============================] - 202s 2s/step - loss: 0.5877 - categorical_accuracy: 0.7783 - val_loss: 0.4204 - val_categorical_accuracy: 0.8300 - lr: 0.0010\n",
            "Epoch 3/20\n",
            "133/133 [==============================] - ETA: 0s - loss: 0.4844 - categorical_accuracy: 0.8288\n",
            "Epoch 3: saving model to model_init_2022-09-1312_10_04.894639/model-00003-0.48444-0.82881-0.35645-0.90000.h5\n",
            "133/133 [==============================] - 199s 2s/step - loss: 0.4844 - categorical_accuracy: 0.8288 - val_loss: 0.3564 - val_categorical_accuracy: 0.9000 - lr: 0.0010\n",
            "Epoch 4/20\n",
            "133/133 [==============================] - ETA: 0s - loss: 0.2820 - categorical_accuracy: 0.9020\n",
            "Epoch 4: saving model to model_init_2022-09-1312_10_04.894639/model-00004-0.28205-0.90196-0.21761-0.93000.h5\n",
            "133/133 [==============================] - 209s 2s/step - loss: 0.2820 - categorical_accuracy: 0.9020 - val_loss: 0.2176 - val_categorical_accuracy: 0.9300 - lr: 0.0010\n",
            "Epoch 5/20\n",
            "133/133 [==============================] - ETA: 0s - loss: 0.2456 - categorical_accuracy: 0.9246\n",
            "Epoch 5: saving model to model_init_2022-09-1312_10_04.894639/model-00005-0.24560-0.92459-0.17544-0.97000.h5\n",
            "133/133 [==============================] - 208s 2s/step - loss: 0.2456 - categorical_accuracy: 0.9246 - val_loss: 0.1754 - val_categorical_accuracy: 0.9700 - lr: 0.0010\n",
            "Epoch 6/20\n",
            "133/133 [==============================] - ETA: 0s - loss: 0.3536 - categorical_accuracy: 0.8839\n",
            "Epoch 6: saving model to model_init_2022-09-1312_10_04.894639/model-00006-0.35360-0.88386-0.51509-0.85000.h5\n",
            "133/133 [==============================] - 207s 2s/step - loss: 0.3536 - categorical_accuracy: 0.8839 - val_loss: 0.5151 - val_categorical_accuracy: 0.8500 - lr: 0.0010\n",
            "Epoch 7/20\n",
            "133/133 [==============================] - ETA: 0s - loss: 0.1456 - categorical_accuracy: 0.9555\n",
            "Epoch 7: saving model to model_init_2022-09-1312_10_04.894639/model-00007-0.14563-0.95551-0.17767-0.92000.h5\n",
            "133/133 [==============================] - 205s 2s/step - loss: 0.1456 - categorical_accuracy: 0.9555 - val_loss: 0.1777 - val_categorical_accuracy: 0.9200 - lr: 0.0010\n",
            "Epoch 8/20\n",
            "133/133 [==============================] - ETA: 0s - loss: 0.2068 - categorical_accuracy: 0.9329\n",
            "Epoch 8: saving model to model_init_2022-09-1312_10_04.894639/model-00008-0.20684-0.93288-0.38714-0.89000.h5\n",
            "133/133 [==============================] - 199s 2s/step - loss: 0.2068 - categorical_accuracy: 0.9329 - val_loss: 0.3871 - val_categorical_accuracy: 0.8900 - lr: 0.0010\n",
            "Epoch 9/20\n",
            "133/133 [==============================] - ETA: 0s - loss: 0.3508 - categorical_accuracy: 0.8952\n",
            "Epoch 9: saving model to model_init_2022-09-1312_10_04.894639/model-00009-0.35079-0.89517-0.25139-0.93000.h5\n",
            "\n",
            "Epoch 9: ReduceLROnPlateau reducing learning rate to 0.00020000000949949026.\n",
            "133/133 [==============================] - 206s 2s/step - loss: 0.3508 - categorical_accuracy: 0.8952 - val_loss: 0.2514 - val_categorical_accuracy: 0.9300 - lr: 0.0010\n",
            "Epoch 10/20\n",
            "133/133 [==============================] - ETA: 0s - loss: 0.1547 - categorical_accuracy: 0.9585\n",
            "Epoch 10: saving model to model_init_2022-09-1312_10_04.894639/model-00010-0.15470-0.95852-0.09226-0.97000.h5\n",
            "133/133 [==============================] - 206s 2s/step - loss: 0.1547 - categorical_accuracy: 0.9585 - val_loss: 0.0923 - val_categorical_accuracy: 0.9700 - lr: 2.0000e-04\n",
            "Epoch 11/20\n",
            "133/133 [==============================] - ETA: 0s - loss: 0.1116 - categorical_accuracy: 0.9691\n",
            "Epoch 11: saving model to model_init_2022-09-1312_10_04.894639/model-00011-0.11160-0.96908-0.17782-0.97000.h5\n",
            "133/133 [==============================] - 203s 2s/step - loss: 0.1116 - categorical_accuracy: 0.9691 - val_loss: 0.1778 - val_categorical_accuracy: 0.9700 - lr: 2.0000e-04\n",
            "Epoch 12/20\n",
            "133/133 [==============================] - ETA: 0s - loss: 0.0567 - categorical_accuracy: 0.9842\n",
            "Epoch 12: saving model to model_init_2022-09-1312_10_04.894639/model-00012-0.05665-0.98416-0.11439-0.97000.h5\n",
            "133/133 [==============================] - 204s 2s/step - loss: 0.0567 - categorical_accuracy: 0.9842 - val_loss: 0.1144 - val_categorical_accuracy: 0.9700 - lr: 2.0000e-04\n",
            "Epoch 13/20\n",
            "133/133 [==============================] - ETA: 0s - loss: 0.0467 - categorical_accuracy: 0.9864\n",
            "Epoch 13: saving model to model_init_2022-09-1312_10_04.894639/model-00013-0.04673-0.98643-0.12571-0.95000.h5\n",
            "133/133 [==============================] - 213s 2s/step - loss: 0.0467 - categorical_accuracy: 0.9864 - val_loss: 0.1257 - val_categorical_accuracy: 0.9500 - lr: 2.0000e-04\n",
            "Epoch 14/20\n",
            "133/133 [==============================] - ETA: 0s - loss: 0.0381 - categorical_accuracy: 0.9894\n",
            "Epoch 14: saving model to model_init_2022-09-1312_10_04.894639/model-00014-0.03808-0.98944-0.11428-0.94000.h5\n",
            "\n",
            "Epoch 14: ReduceLROnPlateau reducing learning rate to 4.0000001899898055e-05.\n",
            "133/133 [==============================] - 212s 2s/step - loss: 0.0381 - categorical_accuracy: 0.9894 - val_loss: 0.1143 - val_categorical_accuracy: 0.9400 - lr: 2.0000e-04\n",
            "Epoch 15/20\n",
            "133/133 [==============================] - ETA: 0s - loss: 0.0346 - categorical_accuracy: 0.9879\n",
            "Epoch 15: saving model to model_init_2022-09-1312_10_04.894639/model-00015-0.03455-0.98793-0.14109-0.94000.h5\n",
            "133/133 [==============================] - 204s 2s/step - loss: 0.0346 - categorical_accuracy: 0.9879 - val_loss: 0.1411 - val_categorical_accuracy: 0.9400 - lr: 4.0000e-05\n",
            "Epoch 16/20\n",
            "133/133 [==============================] - ETA: 0s - loss: 0.0276 - categorical_accuracy: 0.9947\n",
            "Epoch 16: saving model to model_init_2022-09-1312_10_04.894639/model-00016-0.02759-0.99472-0.16064-0.95000.h5\n",
            "133/133 [==============================] - 212s 2s/step - loss: 0.0276 - categorical_accuracy: 0.9947 - val_loss: 0.1606 - val_categorical_accuracy: 0.9500 - lr: 4.0000e-05\n",
            "Epoch 17/20\n",
            "133/133 [==============================] - ETA: 0s - loss: 0.0384 - categorical_accuracy: 0.9879\n",
            "Epoch 17: saving model to model_init_2022-09-1312_10_04.894639/model-00017-0.03835-0.98793-0.07755-0.99000.h5\n",
            "133/133 [==============================] - 205s 2s/step - loss: 0.0384 - categorical_accuracy: 0.9879 - val_loss: 0.0775 - val_categorical_accuracy: 0.9900 - lr: 4.0000e-05\n",
            "Epoch 18/20\n",
            "133/133 [==============================] - ETA: 0s - loss: 0.0398 - categorical_accuracy: 0.9857\n",
            "Epoch 18: saving model to model_init_2022-09-1312_10_04.894639/model-00018-0.03985-0.98567-0.11754-0.97000.h5\n",
            "133/133 [==============================] - 198s 1s/step - loss: 0.0398 - categorical_accuracy: 0.9857 - val_loss: 0.1175 - val_categorical_accuracy: 0.9700 - lr: 4.0000e-05\n",
            "Epoch 19/20\n",
            "133/133 [==============================] - ETA: 0s - loss: 0.0250 - categorical_accuracy: 0.9917\n",
            "Epoch 19: saving model to model_init_2022-09-1312_10_04.894639/model-00019-0.02496-0.99170-0.11593-0.98000.h5\n",
            "133/133 [==============================] - 200s 2s/step - loss: 0.0250 - categorical_accuracy: 0.9917 - val_loss: 0.1159 - val_categorical_accuracy: 0.9800 - lr: 4.0000e-05\n",
            "Epoch 20/20\n",
            "133/133 [==============================] - ETA: 0s - loss: 0.0230 - categorical_accuracy: 0.9925\n",
            "Epoch 20: saving model to model_init_2022-09-1312_10_04.894639/model-00020-0.02304-0.99246-0.12097-0.98000.h5\n",
            "133/133 [==============================] - 195s 1s/step - loss: 0.0230 - categorical_accuracy: 0.9925 - val_loss: 0.1210 - val_categorical_accuracy: 0.9800 - lr: 4.0000e-05\n"
          ]
        }
      ],
      "source": [
        "print(\"Total Params:\", rnn_cnn_tl2_model.count_params())\n",
        "history_model19=rnn_cnn_tl2.train_model(rnn_cnn_tl2_model,augment_data=True)"
      ]
    },
    {
      "cell_type": "code",
      "execution_count": 53,
      "metadata": {
        "id": "6K1Isn1-mdkL",
        "colab": {
          "base_uri": "https://localhost:8080/",
          "height": 265
        },
        "outputId": "68fc9d65-b177-442d-fcd9-9bdb4e1fd09d"
      },
      "outputs": [
        {
          "output_type": "display_data",
          "data": {
            "text/plain": [
              "<Figure size 1080x288 with 2 Axes>"
            ],
            "image/png": "[encoded data removed]"
          },
          "metadata": {
            "needs_background": "light"
          }
        }
      ],
      "source": [
        "plot(history_model19)"
      ]
    },
    {
      "cell_type": "markdown",
      "metadata": {
        "id": "8ekHY-DEmdkL"
      },
      "source": [
        "# Consolidated Final Models"
      ]
    },
    {
      "cell_type": "code",
      "execution_count": null,
      "metadata": {
        "id": "V4jLV3wOwJv-"
      },
      "outputs": [],
      "source": []
    }
  ],
  "metadata": {
    "accelerator": "GPU",
    "colab": {
      "machine_shape": "hm",
      "provenance": [],
      "collapsed_sections": [
        "MSMbBEcDmdj8",
        "uZkfaswjmdkF",
        "d253GKwemdkG",
        "OAuMvPa3mdkH",
        "shsHSQtZmdkI",
        "gWAmIV9LmdkK"
      ],
      "include_colab_link": true
    },
    "gpuClass": "standard",
    "kernelspec": {
      "display_name": "Python 3 (ipykernel)",
      "language": "python",
      "name": "python3"
    },
    "language_info": {
      "codemirror_mode": {
        "name": "ipython",
        "version": 3
      },
      "file_extension": ".py",
      "mimetype": "text/x-python",
      "name": "python",
      "nbconvert_exporter": "python",
      "pygments_lexer": "ipython3",
      "version": "3.9.12"
    }
  },
  "nbformat": 4,
  "nbformat_minor": 0
}